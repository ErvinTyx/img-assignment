{
 "cells": [
  {
   "cell_type": "code",
   "execution_count": 1,
   "id": "4f93c38f-e59d-49c8-9619-2a9668629c26",
   "metadata": {},
   "outputs": [],
   "source": [
    "import os  # For interacting with the operating system (e.g., file paths)\n",
    "import pandas as pd  # For loading and manipulating CSV data (bounding boxes and image info)\n",
    "import yaml\n",
    "import shutil\n",
    "import numpy as np  # For numerical operations and array handling\n",
    "import cv2  # For image processing and manipulation (OpenCV library)\n",
    "import matplotlib.pyplot as plt  # For visualizing data and images (plots)\n",
    "import seaborn as sns  # For advanced data visualization (especially histograms and distributions)\n",
    "from glob import glob  # For finding all image files in a directory (using wildcard patterns)\n",
    "from sklearn.model_selection import train_test_split  # For splitting the dataset into training and testing sets\n",
    "from PIL import Image\n",
    "from ultralytics import YOLO\n",
    "\n",
    "\n",
    "import warnings\n",
    "warnings.filterwarnings(\"ignore\", \"use_inf_as_na option is deprecated\")"
   ]
  },
  {
   "cell_type": "code",
   "execution_count": 2,
   "id": "184dfddb-6a8e-4941-ba14-ad16827e1359",
   "metadata": {},
   "outputs": [],
   "source": [
    "root_dir = \"./kaggle/working/data\"\n",
    "labels_dir = \"./kaggle/working/data/labels\"\n",
    "images_dir = \"./kaggle/working/data/images\"\n",
    "\n",
    "train_data = r\"./kaggle/versions/2/data/training_images\"\n",
    "csv_data = r\"./kaggle/versions/2/data/train_solution_bounding_boxes (1).csv\"\n",
    "test_data = r\"./kaggle/versions/2/data/testing_images\""
   ]
  },
  {
   "cell_type": "code",
   "execution_count": 3,
   "id": "d86858d2-0be7-46e9-bd75-9b462bb467d9",
   "metadata": {},
   "outputs": [],
   "source": [
    "model = YOLO('yolov8n.pt')"
   ]
  },
  {
   "cell_type": "code",
   "execution_count": 4,
   "id": "8a9a1d60-b311-4a42-8669-88e5e6cfbc8e",
   "metadata": {
    "scrolled": true
   },
   "outputs": [
    {
     "name": "stdout",
     "output_type": "stream",
     "text": [
      "New https://pypi.org/project/ultralytics/8.3.185 available  Update with 'pip install -U ultralytics'\n",
      "Ultralytics 8.3.170  Python-3.12.6 torch-2.7.1+cpu CPU (Intel Core(TM) i5-10210U 1.60GHz)\n",
      "\u001b[34m\u001b[1mengine\\trainer: \u001b[0magnostic_nms=False, amp=True, augment=False, auto_augment=randaugment, batch=16, bgr=0.0, box=7.5, cache=False, cfg=None, classes=None, close_mosaic=10, cls=0.5, conf=None, copy_paste=0.0, copy_paste_mode=flip, cos_lr=False, cutmix=0.0, data=./kaggle/working/data/data.yaml, degrees=0.0, deterministic=True, device=cpu, dfl=1.5, dnn=False, dropout=0.0, dynamic=False, embed=None, epochs=10, erasing=0.4, exist_ok=False, fliplr=0.5, flipud=0.0, format=torchscript, fraction=1.0, freeze=None, half=False, hsv_h=0.015, hsv_s=0.7, hsv_v=0.4, imgsz=640, int8=False, iou=0.7, keras=False, kobj=1.0, line_width=None, lr0=0.01, lrf=0.01, mask_ratio=4, max_det=300, mixup=0.0, mode=train, model=yolov8n.pt, momentum=0.937, mosaic=1.0, multi_scale=False, name=car_detection_modelv82, nbs=64, nms=False, opset=None, optimize=False, optimizer=auto, overlap_mask=True, patience=100, perspective=0.0, plots=True, pose=12.0, pretrained=True, profile=False, project=None, rect=False, resume=False, retina_masks=False, save=True, save_conf=False, save_crop=False, save_dir=runs\\detect\\car_detection_modelv82, save_frames=False, save_json=False, save_period=-1, save_txt=False, scale=0.5, seed=0, shear=0.0, show=False, show_boxes=True, show_conf=True, show_labels=True, simplify=True, single_cls=False, source=None, split=val, stream_buffer=False, task=detect, time=None, tracker=botsort.yaml, translate=0.1, val=True, verbose=True, vid_stride=1, visualize=False, warmup_bias_lr=0.1, warmup_epochs=3.0, warmup_momentum=0.8, weight_decay=0.0005, workers=8, workspace=None\n",
      "Overriding model.yaml nc=80 with nc=1\n",
      "\n",
      "                   from  n    params  module                                       arguments                     \n",
      "  0                  -1  1       464  ultralytics.nn.modules.conv.Conv             [3, 16, 3, 2]                 \n",
      "  1                  -1  1      4672  ultralytics.nn.modules.conv.Conv             [16, 32, 3, 2]                \n",
      "  2                  -1  1      7360  ultralytics.nn.modules.block.C2f             [32, 32, 1, True]             \n",
      "  3                  -1  1     18560  ultralytics.nn.modules.conv.Conv             [32, 64, 3, 2]                \n",
      "  4                  -1  2     49664  ultralytics.nn.modules.block.C2f             [64, 64, 2, True]             \n",
      "  5                  -1  1     73984  ultralytics.nn.modules.conv.Conv             [64, 128, 3, 2]               \n",
      "  6                  -1  2    197632  ultralytics.nn.modules.block.C2f             [128, 128, 2, True]           \n",
      "  7                  -1  1    295424  ultralytics.nn.modules.conv.Conv             [128, 256, 3, 2]              \n",
      "  8                  -1  1    460288  ultralytics.nn.modules.block.C2f             [256, 256, 1, True]           \n",
      "  9                  -1  1    164608  ultralytics.nn.modules.block.SPPF            [256, 256, 5]                 \n",
      " 10                  -1  1         0  torch.nn.modules.upsampling.Upsample         [None, 2, 'nearest']          \n",
      " 11             [-1, 6]  1         0  ultralytics.nn.modules.conv.Concat           [1]                           \n",
      " 12                  -1  1    148224  ultralytics.nn.modules.block.C2f             [384, 128, 1]                 \n",
      " 13                  -1  1         0  torch.nn.modules.upsampling.Upsample         [None, 2, 'nearest']          \n",
      " 14             [-1, 4]  1         0  ultralytics.nn.modules.conv.Concat           [1]                           \n",
      " 15                  -1  1     37248  ultralytics.nn.modules.block.C2f             [192, 64, 1]                  \n",
      " 16                  -1  1     36992  ultralytics.nn.modules.conv.Conv             [64, 64, 3, 2]                \n",
      " 17            [-1, 12]  1         0  ultralytics.nn.modules.conv.Concat           [1]                           \n",
      " 18                  -1  1    123648  ultralytics.nn.modules.block.C2f             [192, 128, 1]                 \n",
      " 19                  -1  1    147712  ultralytics.nn.modules.conv.Conv             [128, 128, 3, 2]              \n",
      " 20             [-1, 9]  1         0  ultralytics.nn.modules.conv.Concat           [1]                           \n",
      " 21                  -1  1    493056  ultralytics.nn.modules.block.C2f             [384, 256, 1]                 \n",
      " 22        [15, 18, 21]  1    751507  ultralytics.nn.modules.head.Detect           [1, [64, 128, 256]]           \n",
      "Model summary: 129 layers, 3,011,043 parameters, 3,011,027 gradients, 8.2 GFLOPs\n",
      "\n",
      "Transferred 319/355 items from pretrained weights\n",
      "Freezing layer 'model.22.dfl.conv.weight'\n",
      "\u001b[34m\u001b[1mtrain: \u001b[0mFast image access  (ping: 0.10.0 ms, read: 625.8163.5 MB/s, size: 106.1 KB)\n"
     ]
    },
    {
     "name": "stderr",
     "output_type": "stream",
     "text": [
      "\u001b[34m\u001b[1mtrain: \u001b[0mScanning C:\\Users\\ervin\\Documents\\img-assignment\\kaggle\\working\\data\\labels\\train.cache\u001b[0m"
     ]
    },
    {
     "name": "stdout",
     "output_type": "stream",
     "text": [
      "\u001b[34m\u001b[1mval: \u001b[0mFast image access  (ping: 0.10.0 ms, read: 759.4100.9 MB/s, size: 103.4 KB)\n"
     ]
    },
    {
     "name": "stderr",
     "output_type": "stream",
     "text": [
      "\n",
      "c:\\Users\\ervin\\Documents\\img-assignment\\.venv\\Lib\\site-packages\\torch\\utils\\data\\dataloader.py:665: UserWarning: 'pin_memory' argument is set as true but no accelerator is found, then device pinned memory won't be used.\n",
      "  warnings.warn(warn_msg)\n",
      "\u001b[34m\u001b[1mval: \u001b[0mScanning C:\\Users\\ervin\\Documents\\img-assignment\\kaggle\\working\\data\\labels\\val.cache... \u001b[0m"
     ]
    },
    {
     "name": "stdout",
     "output_type": "stream",
     "text": [
      "Plotting labels to runs\\detect\\car_detection_modelv82\\labels.jpg... \n"
     ]
    },
    {
     "name": "stderr",
     "output_type": "stream",
     "text": [
      "\n",
      "c:\\Users\\ervin\\Documents\\img-assignment\\.venv\\Lib\\site-packages\\torch\\utils\\data\\dataloader.py:665: UserWarning: 'pin_memory' argument is set as true but no accelerator is found, then device pinned memory won't be used.\n",
      "  warnings.warn(warn_msg)\n"
     ]
    },
    {
     "name": "stdout",
     "output_type": "stream",
     "text": [
      "\u001b[34m\u001b[1moptimizer:\u001b[0m 'optimizer=auto' found, ignoring 'lr0=0.01' and 'momentum=0.937' and determining best 'optimizer', 'lr0' and 'momentum' automatically... \n",
      "\u001b[34m\u001b[1moptimizer:\u001b[0m AdamW(lr=0.002, momentum=0.9) with parameter groups 57 weight(decay=0.0), 64 weight(decay=0.0005), 63 bias(decay=0.0)\n",
      "Image sizes 640 train, 640 val\n",
      "Using 0 dataloader workers\n",
      "Logging results to \u001b[1mruns\\detect\\car_detection_modelv82\u001b[0m\n",
      "Starting training for 10 epochs...\n",
      "Closing dataloader mosaic\n",
      "\n",
      "      Epoch    GPU_mem   box_loss   cls_loss   dfl_loss  Instances       Size\n"
     ]
    },
    {
     "name": "stderr",
     "output_type": "stream",
     "text": [
      "c:\\Users\\ervin\\Documents\\img-assignment\\.venv\\Lib\\site-packages\\torch\\utils\\data\\dataloader.py:665: UserWarning: 'pin_memory' argument is set as true but no accelerator is found, then device pinned memory won't be used.\n",
      "  warnings.warn(warn_msg)\n",
      "       1/10         0G      1.507      3.146      1.161         20        640: 100%|██████████\n",
      "                 Class     Images  Instances      Box(P          R      mAP50  mAP50-95): 100%"
     ]
    },
    {
     "name": "stdout",
     "output_type": "stream",
     "text": [
      "                   all         71        119     0.0054      0.966      0.743       0.34\n"
     ]
    },
    {
     "name": "stderr",
     "output_type": "stream",
     "text": [
      "\n"
     ]
    },
    {
     "name": "stdout",
     "output_type": "stream",
     "text": [
      "\n",
      "      Epoch    GPU_mem   box_loss   cls_loss   dfl_loss  Instances       Size\n"
     ]
    },
    {
     "name": "stderr",
     "output_type": "stream",
     "text": [
      "       2/10         0G      1.328      1.885      1.105         14        640: 100%|██████████\n",
      "                 Class     Images  Instances      Box(P          R      mAP50  mAP50-95): 100%"
     ]
    },
    {
     "name": "stdout",
     "output_type": "stream",
     "text": [
      "                   all         71        119    0.00545      0.975      0.266       0.14\n"
     ]
    },
    {
     "name": "stderr",
     "output_type": "stream",
     "text": [
      "\n"
     ]
    },
    {
     "name": "stdout",
     "output_type": "stream",
     "text": [
      "\n",
      "      Epoch    GPU_mem   box_loss   cls_loss   dfl_loss  Instances       Size\n"
     ]
    },
    {
     "name": "stderr",
     "output_type": "stream",
     "text": [
      "       3/10         0G      1.348      1.764      1.139         23        640: 100%|██████████\n",
      "                 Class     Images  Instances      Box(P          R      mAP50  mAP50-95): 100%"
     ]
    },
    {
     "name": "stdout",
     "output_type": "stream",
     "text": [
      "                   all         71        119     0.0115      0.882      0.385      0.227\n"
     ]
    },
    {
     "name": "stderr",
     "output_type": "stream",
     "text": [
      "\n"
     ]
    },
    {
     "name": "stdout",
     "output_type": "stream",
     "text": [
      "\n",
      "      Epoch    GPU_mem   box_loss   cls_loss   dfl_loss  Instances       Size\n"
     ]
    },
    {
     "name": "stderr",
     "output_type": "stream",
     "text": [
      "       4/10         0G      1.296      1.591      1.179         17        640: 100%|██████████\n",
      "                 Class     Images  Instances      Box(P          R      mAP50  mAP50-95): 100%"
     ]
    },
    {
     "name": "stdout",
     "output_type": "stream",
     "text": [
      "                   all         71        119          1      0.449      0.891      0.553\n"
     ]
    },
    {
     "name": "stderr",
     "output_type": "stream",
     "text": [
      "\n"
     ]
    },
    {
     "name": "stdout",
     "output_type": "stream",
     "text": [
      "\n",
      "      Epoch    GPU_mem   box_loss   cls_loss   dfl_loss  Instances       Size\n"
     ]
    },
    {
     "name": "stderr",
     "output_type": "stream",
     "text": [
      "       5/10         0G      1.247      1.445      1.126         20        640: 100%|██████████\n",
      "                 Class     Images  Instances      Box(P          R      mAP50  mAP50-95): 100%"
     ]
    },
    {
     "name": "stdout",
     "output_type": "stream",
     "text": [
      "                   all         71        119      0.946      0.888      0.927      0.565\n"
     ]
    },
    {
     "name": "stderr",
     "output_type": "stream",
     "text": [
      "\n"
     ]
    },
    {
     "name": "stdout",
     "output_type": "stream",
     "text": [
      "\n",
      "      Epoch    GPU_mem   box_loss   cls_loss   dfl_loss  Instances       Size\n"
     ]
    },
    {
     "name": "stderr",
     "output_type": "stream",
     "text": [
      "       6/10         0G      1.283      1.391      1.136         14        640: 100%|██████████\n",
      "                 Class     Images  Instances      Box(P          R      mAP50  mAP50-95): 100%"
     ]
    },
    {
     "name": "stdout",
     "output_type": "stream",
     "text": [
      "                   all         71        119      0.966      0.857      0.932      0.562\n"
     ]
    },
    {
     "name": "stderr",
     "output_type": "stream",
     "text": [
      "\n"
     ]
    },
    {
     "name": "stdout",
     "output_type": "stream",
     "text": [
      "\n",
      "      Epoch    GPU_mem   box_loss   cls_loss   dfl_loss  Instances       Size\n"
     ]
    },
    {
     "name": "stderr",
     "output_type": "stream",
     "text": [
      "       7/10         0G      1.233      1.237      1.105         13        640: 100%|██████████\n",
      "                 Class     Images  Instances      Box(P          R      mAP50  mAP50-95): 100%"
     ]
    },
    {
     "name": "stdout",
     "output_type": "stream",
     "text": [
      "                   all         71        119      0.957      0.958      0.963      0.617\n"
     ]
    },
    {
     "name": "stderr",
     "output_type": "stream",
     "text": [
      "\n"
     ]
    },
    {
     "name": "stdout",
     "output_type": "stream",
     "text": [
      "\n",
      "      Epoch    GPU_mem   box_loss   cls_loss   dfl_loss  Instances       Size\n"
     ]
    },
    {
     "name": "stderr",
     "output_type": "stream",
     "text": [
      "       8/10         0G      1.205      1.186      1.091         12        640: 100%|██████████\n",
      "                 Class     Images  Instances      Box(P          R      mAP50  mAP50-95): 100%"
     ]
    },
    {
     "name": "stdout",
     "output_type": "stream",
     "text": [
      "                   all         71        119      0.974       0.94      0.967      0.587\n"
     ]
    },
    {
     "name": "stderr",
     "output_type": "stream",
     "text": [
      "\n"
     ]
    },
    {
     "name": "stdout",
     "output_type": "stream",
     "text": [
      "\n",
      "      Epoch    GPU_mem   box_loss   cls_loss   dfl_loss  Instances       Size\n"
     ]
    },
    {
     "name": "stderr",
     "output_type": "stream",
     "text": [
      "       9/10         0G      1.151      1.104      1.078         13        640: 100%|██████████\n",
      "                 Class     Images  Instances      Box(P          R      mAP50  mAP50-95): 100%"
     ]
    },
    {
     "name": "stdout",
     "output_type": "stream",
     "text": [
      "                   all         71        119      0.957      0.935      0.975      0.588\n"
     ]
    },
    {
     "name": "stderr",
     "output_type": "stream",
     "text": [
      "\n"
     ]
    },
    {
     "name": "stdout",
     "output_type": "stream",
     "text": [
      "\n",
      "      Epoch    GPU_mem   box_loss   cls_loss   dfl_loss  Instances       Size\n"
     ]
    },
    {
     "name": "stderr",
     "output_type": "stream",
     "text": [
      "      10/10         0G      1.127      1.058      1.057         16        640: 100%|██████████\n",
      "                 Class     Images  Instances      Box(P          R      mAP50  mAP50-95): 100%"
     ]
    },
    {
     "name": "stdout",
     "output_type": "stream",
     "text": [
      "                   all         71        119      0.981      0.933      0.981      0.627\n"
     ]
    },
    {
     "name": "stderr",
     "output_type": "stream",
     "text": [
      "\n"
     ]
    },
    {
     "name": "stdout",
     "output_type": "stream",
     "text": [
      "\n",
      "10 epochs completed in 0.504 hours.\n",
      "Optimizer stripped from runs\\detect\\car_detection_modelv82\\weights\\last.pt, 6.2MB\n",
      "Optimizer stripped from runs\\detect\\car_detection_modelv82\\weights\\best.pt, 6.2MB\n",
      "\n",
      "Validating runs\\detect\\car_detection_modelv82\\weights\\best.pt...\n",
      "Ultralytics 8.3.170  Python-3.12.6 torch-2.7.1+cpu CPU (Intel Core(TM) i5-10210U 1.60GHz)\n",
      "Model summary (fused): 72 layers, 3,005,843 parameters, 0 gradients, 8.1 GFLOPs\n"
     ]
    },
    {
     "name": "stderr",
     "output_type": "stream",
     "text": [
      "                 Class     Images  Instances      Box(P          R      mAP50  mAP50-95): 100%\n"
     ]
    },
    {
     "name": "stdout",
     "output_type": "stream",
     "text": [
      "                   all         71        119      0.981      0.933      0.981      0.625\n",
      "Speed: 2.6ms preprocess, 86.7ms inference, 0.0ms loss, 8.9ms postprocess per image\n",
      "Results saved to \u001b[1mruns\\detect\\car_detection_modelv82\u001b[0m\n"
     ]
    }
   ],
   "source": [
    "results = model.train(\n",
    "    data = './kaggle/working/data/data.yaml',\n",
    "    epochs = 10,\n",
    "    imgsz = 640,\n",
    "    batch = 16,\n",
    "    name = 'car_detection_modelv8'\n",
    ")"
   ]
  },
  {
   "cell_type": "code",
   "execution_count": 5,
   "id": "73cf8780-bcd7-4bb7-926e-8ebecdb7db46",
   "metadata": {
    "scrolled": true
   },
   "outputs": [
    {
     "name": "stdout",
     "output_type": "stream",
     "text": [
      "Ultralytics 8.3.170  Python-3.12.6 torch-2.7.1+cpu CPU (Intel Core(TM) i5-10210U 1.60GHz)\n",
      "Model summary (fused): 72 layers, 3,005,843 parameters, 0 gradients, 8.1 GFLOPs\n",
      "\u001b[34m\u001b[1mval: \u001b[0mFast image access  (ping: 0.20.0 ms, read: 214.117.2 MB/s, size: 90.7 KB)\n"
     ]
    },
    {
     "name": "stderr",
     "output_type": "stream",
     "text": [
      "\u001b[34m\u001b[1mval: \u001b[0mScanning C:\\Users\\ervin\\Documents\\img-assignment\\kaggle\\working\\data\\labels\\val.cache... \u001b[0m\n",
      "c:\\Users\\ervin\\Documents\\img-assignment\\.venv\\Lib\\site-packages\\torch\\utils\\data\\dataloader.py:665: UserWarning: 'pin_memory' argument is set as true but no accelerator is found, then device pinned memory won't be used.\n",
      "  warnings.warn(warn_msg)\n",
      "                 Class     Images  Instances      Box(P          R      mAP50  mAP50-95): 100%\n"
     ]
    },
    {
     "name": "stdout",
     "output_type": "stream",
     "text": [
      "                   all         71        119      0.981      0.933      0.981      0.625\n",
      "Speed: 1.4ms preprocess, 75.0ms inference, 0.0ms loss, 8.7ms postprocess per image\n",
      "Results saved to \u001b[1mruns\\detect\\car_detection_modelv822\u001b[0m\n",
      "ultralytics.utils.metrics.DetMetrics object with attributes:\n",
      "\n",
      "ap_class_index: array([0])\n",
      "box: ultralytics.utils.metrics.Metric object\n",
      "confusion_matrix: <ultralytics.utils.metrics.ConfusionMatrix object at 0x000002311F364C50>\n",
      "curves: ['Precision-Recall(B)', 'F1-Confidence(B)', 'Precision-Confidence(B)', 'Recall-Confidence(B)']\n",
      "curves_results: [[array([          0,    0.001001,    0.002002,    0.003003,    0.004004,    0.005005,    0.006006,    0.007007,    0.008008,    0.009009,     0.01001,    0.011011,    0.012012,    0.013013,    0.014014,    0.015015,    0.016016,    0.017017,    0.018018,    0.019019,     0.02002,    0.021021,    0.022022,    0.023023,\n",
      "          0.024024,    0.025025,    0.026026,    0.027027,    0.028028,    0.029029,     0.03003,    0.031031,    0.032032,    0.033033,    0.034034,    0.035035,    0.036036,    0.037037,    0.038038,    0.039039,     0.04004,    0.041041,    0.042042,    0.043043,    0.044044,    0.045045,    0.046046,    0.047047,\n",
      "          0.048048,    0.049049,     0.05005,    0.051051,    0.052052,    0.053053,    0.054054,    0.055055,    0.056056,    0.057057,    0.058058,    0.059059,     0.06006,    0.061061,    0.062062,    0.063063,    0.064064,    0.065065,    0.066066,    0.067067,    0.068068,    0.069069,     0.07007,    0.071071,\n",
      "          0.072072,    0.073073,    0.074074,    0.075075,    0.076076,    0.077077,    0.078078,    0.079079,     0.08008,    0.081081,    0.082082,    0.083083,    0.084084,    0.085085,    0.086086,    0.087087,    0.088088,    0.089089,     0.09009,    0.091091,    0.092092,    0.093093,    0.094094,    0.095095,\n",
      "          0.096096,    0.097097,    0.098098,    0.099099,      0.1001,      0.1011,      0.1021,      0.1031,      0.1041,     0.10511,     0.10611,     0.10711,     0.10811,     0.10911,     0.11011,     0.11111,     0.11211,     0.11311,     0.11411,     0.11512,     0.11612,     0.11712,     0.11812,     0.11912,\n",
      "           0.12012,     0.12112,     0.12212,     0.12312,     0.12412,     0.12513,     0.12613,     0.12713,     0.12813,     0.12913,     0.13013,     0.13113,     0.13213,     0.13313,     0.13413,     0.13514,     0.13614,     0.13714,     0.13814,     0.13914,     0.14014,     0.14114,     0.14214,     0.14314,\n",
      "           0.14414,     0.14515,     0.14615,     0.14715,     0.14815,     0.14915,     0.15015,     0.15115,     0.15215,     0.15315,     0.15415,     0.15516,     0.15616,     0.15716,     0.15816,     0.15916,     0.16016,     0.16116,     0.16216,     0.16316,     0.16416,     0.16517,     0.16617,     0.16717,\n",
      "           0.16817,     0.16917,     0.17017,     0.17117,     0.17217,     0.17317,     0.17417,     0.17518,     0.17618,     0.17718,     0.17818,     0.17918,     0.18018,     0.18118,     0.18218,     0.18318,     0.18418,     0.18519,     0.18619,     0.18719,     0.18819,     0.18919,     0.19019,     0.19119,\n",
      "           0.19219,     0.19319,     0.19419,      0.1952,      0.1962,      0.1972,      0.1982,      0.1992,      0.2002,      0.2012,      0.2022,      0.2032,      0.2042,     0.20521,     0.20621,     0.20721,     0.20821,     0.20921,     0.21021,     0.21121,     0.21221,     0.21321,     0.21421,     0.21522,\n",
      "           0.21622,     0.21722,     0.21822,     0.21922,     0.22022,     0.22122,     0.22222,     0.22322,     0.22422,     0.22523,     0.22623,     0.22723,     0.22823,     0.22923,     0.23023,     0.23123,     0.23223,     0.23323,     0.23423,     0.23524,     0.23624,     0.23724,     0.23824,     0.23924,\n",
      "           0.24024,     0.24124,     0.24224,     0.24324,     0.24424,     0.24525,     0.24625,     0.24725,     0.24825,     0.24925,     0.25025,     0.25125,     0.25225,     0.25325,     0.25425,     0.25526,     0.25626,     0.25726,     0.25826,     0.25926,     0.26026,     0.26126,     0.26226,     0.26326,\n",
      "           0.26426,     0.26527,     0.26627,     0.26727,     0.26827,     0.26927,     0.27027,     0.27127,     0.27227,     0.27327,     0.27427,     0.27528,     0.27628,     0.27728,     0.27828,     0.27928,     0.28028,     0.28128,     0.28228,     0.28328,     0.28428,     0.28529,     0.28629,     0.28729,\n",
      "           0.28829,     0.28929,     0.29029,     0.29129,     0.29229,     0.29329,     0.29429,      0.2953,      0.2963,      0.2973,      0.2983,      0.2993,      0.3003,      0.3013,      0.3023,      0.3033,      0.3043,     0.30531,     0.30631,     0.30731,     0.30831,     0.30931,     0.31031,     0.31131,\n",
      "           0.31231,     0.31331,     0.31431,     0.31532,     0.31632,     0.31732,     0.31832,     0.31932,     0.32032,     0.32132,     0.32232,     0.32332,     0.32432,     0.32533,     0.32633,     0.32733,     0.32833,     0.32933,     0.33033,     0.33133,     0.33233,     0.33333,     0.33433,     0.33534,\n",
      "           0.33634,     0.33734,     0.33834,     0.33934,     0.34034,     0.34134,     0.34234,     0.34334,     0.34434,     0.34535,     0.34635,     0.34735,     0.34835,     0.34935,     0.35035,     0.35135,     0.35235,     0.35335,     0.35435,     0.35536,     0.35636,     0.35736,     0.35836,     0.35936,\n",
      "           0.36036,     0.36136,     0.36236,     0.36336,     0.36436,     0.36537,     0.36637,     0.36737,     0.36837,     0.36937,     0.37037,     0.37137,     0.37237,     0.37337,     0.37437,     0.37538,     0.37638,     0.37738,     0.37838,     0.37938,     0.38038,     0.38138,     0.38238,     0.38338,\n",
      "           0.38438,     0.38539,     0.38639,     0.38739,     0.38839,     0.38939,     0.39039,     0.39139,     0.39239,     0.39339,     0.39439,      0.3954,      0.3964,      0.3974,      0.3984,      0.3994,      0.4004,      0.4014,      0.4024,      0.4034,      0.4044,     0.40541,     0.40641,     0.40741,\n",
      "           0.40841,     0.40941,     0.41041,     0.41141,     0.41241,     0.41341,     0.41441,     0.41542,     0.41642,     0.41742,     0.41842,     0.41942,     0.42042,     0.42142,     0.42242,     0.42342,     0.42442,     0.42543,     0.42643,     0.42743,     0.42843,     0.42943,     0.43043,     0.43143,\n",
      "           0.43243,     0.43343,     0.43443,     0.43544,     0.43644,     0.43744,     0.43844,     0.43944,     0.44044,     0.44144,     0.44244,     0.44344,     0.44444,     0.44545,     0.44645,     0.44745,     0.44845,     0.44945,     0.45045,     0.45145,     0.45245,     0.45345,     0.45445,     0.45546,\n",
      "           0.45646,     0.45746,     0.45846,     0.45946,     0.46046,     0.46146,     0.46246,     0.46346,     0.46446,     0.46547,     0.46647,     0.46747,     0.46847,     0.46947,     0.47047,     0.47147,     0.47247,     0.47347,     0.47447,     0.47548,     0.47648,     0.47748,     0.47848,     0.47948,\n",
      "           0.48048,     0.48148,     0.48248,     0.48348,     0.48448,     0.48549,     0.48649,     0.48749,     0.48849,     0.48949,     0.49049,     0.49149,     0.49249,     0.49349,     0.49449,      0.4955,      0.4965,      0.4975,      0.4985,      0.4995,      0.5005,      0.5015,      0.5025,      0.5035,\n",
      "            0.5045,     0.50551,     0.50651,     0.50751,     0.50851,     0.50951,     0.51051,     0.51151,     0.51251,     0.51351,     0.51451,     0.51552,     0.51652,     0.51752,     0.51852,     0.51952,     0.52052,     0.52152,     0.52252,     0.52352,     0.52452,     0.52553,     0.52653,     0.52753,\n",
      "           0.52853,     0.52953,     0.53053,     0.53153,     0.53253,     0.53353,     0.53453,     0.53554,     0.53654,     0.53754,     0.53854,     0.53954,     0.54054,     0.54154,     0.54254,     0.54354,     0.54454,     0.54555,     0.54655,     0.54755,     0.54855,     0.54955,     0.55055,     0.55155,\n",
      "           0.55255,     0.55355,     0.55455,     0.55556,     0.55656,     0.55756,     0.55856,     0.55956,     0.56056,     0.56156,     0.56256,     0.56356,     0.56456,     0.56557,     0.56657,     0.56757,     0.56857,     0.56957,     0.57057,     0.57157,     0.57257,     0.57357,     0.57457,     0.57558,\n",
      "           0.57658,     0.57758,     0.57858,     0.57958,     0.58058,     0.58158,     0.58258,     0.58358,     0.58458,     0.58559,     0.58659,     0.58759,     0.58859,     0.58959,     0.59059,     0.59159,     0.59259,     0.59359,     0.59459,      0.5956,      0.5966,      0.5976,      0.5986,      0.5996,\n",
      "            0.6006,      0.6016,      0.6026,      0.6036,      0.6046,     0.60561,     0.60661,     0.60761,     0.60861,     0.60961,     0.61061,     0.61161,     0.61261,     0.61361,     0.61461,     0.61562,     0.61662,     0.61762,     0.61862,     0.61962,     0.62062,     0.62162,     0.62262,     0.62362,\n",
      "           0.62462,     0.62563,     0.62663,     0.62763,     0.62863,     0.62963,     0.63063,     0.63163,     0.63263,     0.63363,     0.63463,     0.63564,     0.63664,     0.63764,     0.63864,     0.63964,     0.64064,     0.64164,     0.64264,     0.64364,     0.64464,     0.64565,     0.64665,     0.64765,\n",
      "           0.64865,     0.64965,     0.65065,     0.65165,     0.65265,     0.65365,     0.65465,     0.65566,     0.65666,     0.65766,     0.65866,     0.65966,     0.66066,     0.66166,     0.66266,     0.66366,     0.66466,     0.66567,     0.66667,     0.66767,     0.66867,     0.66967,     0.67067,     0.67167,\n",
      "           0.67267,     0.67367,     0.67467,     0.67568,     0.67668,     0.67768,     0.67868,     0.67968,     0.68068,     0.68168,     0.68268,     0.68368,     0.68468,     0.68569,     0.68669,     0.68769,     0.68869,     0.68969,     0.69069,     0.69169,     0.69269,     0.69369,     0.69469,      0.6957,\n",
      "            0.6967,      0.6977,      0.6987,      0.6997,      0.7007,      0.7017,      0.7027,      0.7037,      0.7047,     0.70571,     0.70671,     0.70771,     0.70871,     0.70971,     0.71071,     0.71171,     0.71271,     0.71371,     0.71471,     0.71572,     0.71672,     0.71772,     0.71872,     0.71972,\n",
      "           0.72072,     0.72172,     0.72272,     0.72372,     0.72472,     0.72573,     0.72673,     0.72773,     0.72873,     0.72973,     0.73073,     0.73173,     0.73273,     0.73373,     0.73473,     0.73574,     0.73674,     0.73774,     0.73874,     0.73974,     0.74074,     0.74174,     0.74274,     0.74374,\n",
      "           0.74474,     0.74575,     0.74675,     0.74775,     0.74875,     0.74975,     0.75075,     0.75175,     0.75275,     0.75375,     0.75475,     0.75576,     0.75676,     0.75776,     0.75876,     0.75976,     0.76076,     0.76176,     0.76276,     0.76376,     0.76476,     0.76577,     0.76677,     0.76777,\n",
      "           0.76877,     0.76977,     0.77077,     0.77177,     0.77277,     0.77377,     0.77477,     0.77578,     0.77678,     0.77778,     0.77878,     0.77978,     0.78078,     0.78178,     0.78278,     0.78378,     0.78478,     0.78579,     0.78679,     0.78779,     0.78879,     0.78979,     0.79079,     0.79179,\n",
      "           0.79279,     0.79379,     0.79479,      0.7958,      0.7968,      0.7978,      0.7988,      0.7998,      0.8008,      0.8018,      0.8028,      0.8038,      0.8048,     0.80581,     0.80681,     0.80781,     0.80881,     0.80981,     0.81081,     0.81181,     0.81281,     0.81381,     0.81481,     0.81582,\n",
      "           0.81682,     0.81782,     0.81882,     0.81982,     0.82082,     0.82182,     0.82282,     0.82382,     0.82482,     0.82583,     0.82683,     0.82783,     0.82883,     0.82983,     0.83083,     0.83183,     0.83283,     0.83383,     0.83483,     0.83584,     0.83684,     0.83784,     0.83884,     0.83984,\n",
      "           0.84084,     0.84184,     0.84284,     0.84384,     0.84484,     0.84585,     0.84685,     0.84785,     0.84885,     0.84985,     0.85085,     0.85185,     0.85285,     0.85385,     0.85485,     0.85586,     0.85686,     0.85786,     0.85886,     0.85986,     0.86086,     0.86186,     0.86286,     0.86386,\n",
      "           0.86486,     0.86587,     0.86687,     0.86787,     0.86887,     0.86987,     0.87087,     0.87187,     0.87287,     0.87387,     0.87487,     0.87588,     0.87688,     0.87788,     0.87888,     0.87988,     0.88088,     0.88188,     0.88288,     0.88388,     0.88488,     0.88589,     0.88689,     0.88789,\n",
      "           0.88889,     0.88989,     0.89089,     0.89189,     0.89289,     0.89389,     0.89489,      0.8959,      0.8969,      0.8979,      0.8989,      0.8999,      0.9009,      0.9019,      0.9029,      0.9039,      0.9049,     0.90591,     0.90691,     0.90791,     0.90891,     0.90991,     0.91091,     0.91191,\n",
      "           0.91291,     0.91391,     0.91491,     0.91592,     0.91692,     0.91792,     0.91892,     0.91992,     0.92092,     0.92192,     0.92292,     0.92392,     0.92492,     0.92593,     0.92693,     0.92793,     0.92893,     0.92993,     0.93093,     0.93193,     0.93293,     0.93393,     0.93493,     0.93594,\n",
      "           0.93694,     0.93794,     0.93894,     0.93994,     0.94094,     0.94194,     0.94294,     0.94394,     0.94494,     0.94595,     0.94695,     0.94795,     0.94895,     0.94995,     0.95095,     0.95195,     0.95295,     0.95395,     0.95495,     0.95596,     0.95696,     0.95796,     0.95896,     0.95996,\n",
      "           0.96096,     0.96196,     0.96296,     0.96396,     0.96496,     0.96597,     0.96697,     0.96797,     0.96897,     0.96997,     0.97097,     0.97197,     0.97297,     0.97397,     0.97497,     0.97598,     0.97698,     0.97798,     0.97898,     0.97998,     0.98098,     0.98198,     0.98298,     0.98398,\n",
      "           0.98498,     0.98599,     0.98699,     0.98799,     0.98899,     0.98999,     0.99099,     0.99199,     0.99299,     0.99399,     0.99499,       0.996,       0.997,       0.998,       0.999,           1]), array([[          1,           1,           1,           1,           1,           1,           1,           1,           1,           1,           1,           1,           1,           1,           1,           1,           1,           1,           1,           1,           1,           1,           1,\n",
      "                  1,           1,           1,           1,           1,           1,           1,           1,           1,           1,           1,           1,           1,           1,           1,           1,           1,           1,           1,           1,           1,           1,           1,\n",
      "                  1,           1,           1,           1,           1,           1,           1,           1,           1,           1,           1,           1,           1,           1,           1,           1,           1,           1,           1,           1,           1,           1,           1,\n",
      "                  1,           1,           1,           1,           1,           1,           1,           1,           1,           1,           1,           1,           1,           1,           1,           1,           1,           1,           1,           1,           1,           1,           1,\n",
      "                  1,           1,           1,           1,           1,           1,           1,           1,           1,           1,           1,           1,           1,           1,           1,           1,           1,           1,           1,           1,           1,           1,           1,\n",
      "                  1,           1,           1,           1,           1,           1,           1,           1,           1,           1,           1,           1,           1,           1,           1,           1,           1,           1,           1,           1,           1,           1,           1,\n",
      "                  1,           1,           1,           1,           1,           1,           1,           1,           1,           1,           1,           1,           1,           1,           1,           1,           1,           1,           1,           1,           1,           1,           1,\n",
      "                  1,           1,           1,           1,           1,           1,           1,           1,           1,           1,           1,           1,           1,           1,           1,           1,           1,           1,           1,           1,           1,           1,           1,\n",
      "                  1,           1,           1,           1,           1,           1,           1,           1,           1,           1,           1,           1,           1,           1,           1,           1,           1,           1,           1,           1,           1,           1,           1,\n",
      "                  1,           1,           1,           1,           1,           1,           1,           1,           1,           1,           1,           1,           1,           1,           1,           1,           1,           1,           1,           1,           1,           1,           1,\n",
      "                  1,           1,           1,           1,           1,           1,           1,           1,           1,           1,           1,           1,           1,           1,           1,           1,           1,           1,           1,           1,           1,           1,           1,\n",
      "                  1,           1,           1,           1,           1,           1,           1,           1,           1,           1,           1,           1,           1,           1,           1,           1,           1,           1,           1,           1,           1,           1,           1,\n",
      "                  1,           1,           1,           1,           1,           1,           1,           1,           1,           1,           1,           1,           1,           1,           1,           1,           1,           1,           1,           1,           1,           1,           1,\n",
      "                  1,           1,           1,           1,           1,           1,           1,           1,           1,           1,           1,           1,           1,           1,           1,           1,           1,           1,           1,           1,           1,           1,           1,\n",
      "                  1,           1,           1,           1,           1,           1,           1,           1,           1,           1,           1,           1,           1,           1,           1,           1,           1,           1,           1,           1,           1,           1,           1,\n",
      "                  1,           1,           1,           1,           1,           1,           1,           1,           1,           1,           1,           1,           1,           1,           1,           1,           1,           1,           1,           1,           1,           1,           1,\n",
      "                  1,           1,           1,           1,           1,           1,           1,           1,           1,           1,           1,           1,           1,           1,           1,           1,           1,           1,           1,           1,           1,           1,           1,\n",
      "                  1,           1,           1,           1,           1,           1,           1,           1,           1,           1,           1,           1,           1,           1,           1,           1,           1,           1,           1,           1,           1,           1,           1,\n",
      "                  1,           1,           1,           1,           1,           1,           1,           1,           1,           1,           1,           1,           1,           1,           1,           1,           1,           1,           1,           1,           1,           1,           1,\n",
      "                  1,           1,           1,           1,           1,           1,           1,           1,           1,           1,           1,           1,           1,           1,           1,           1,           1,           1,           1,           1,           1,           1,           1,\n",
      "                  1,           1,     0.99029,     0.99029,     0.99029,     0.99029,     0.99029,     0.99029,     0.99029,     0.99029,     0.99029,     0.99029,     0.99029,     0.99029,     0.99029,     0.99029,     0.99029,     0.99029,     0.99029,     0.99029,     0.99029,     0.99029,     0.99029,\n",
      "            0.99029,     0.99029,     0.99029,     0.99029,     0.99029,     0.99029,     0.99029,     0.99029,     0.99029,     0.99029,     0.99029,     0.99029,     0.99029,     0.99029,     0.99029,     0.99029,     0.99029,     0.99029,     0.99029,     0.99029,     0.99029,     0.99029,     0.99029,\n",
      "            0.99029,     0.99029,     0.99029,     0.99029,     0.99029,     0.99029,     0.99029,     0.99029,     0.99029,     0.99029,     0.99029,     0.99029,     0.99029,     0.99029,     0.99029,     0.99029,     0.99029,     0.99029,     0.99029,     0.99029,     0.99029,     0.99029,     0.99029,\n",
      "            0.99029,     0.99029,     0.99029,     0.99029,     0.99029,     0.99029,     0.99029,     0.99029,     0.99029,     0.99029,     0.99029,     0.99029,     0.99029,     0.99029,     0.99029,     0.99029,     0.99029,     0.99029,     0.99029,     0.99029,     0.99029,     0.99029,     0.99029,\n",
      "            0.99029,     0.99029,     0.99029,     0.99029,     0.99029,     0.99029,     0.99029,     0.99029,     0.99029,     0.99029,     0.99029,     0.99029,     0.99029,     0.99029,     0.99029,     0.99029,     0.99029,     0.99029,     0.99029,     0.99029,     0.99029,     0.99029,     0.99029,\n",
      "            0.99029,     0.99029,     0.99029,     0.99029,     0.99029,     0.99029,     0.99029,     0.99029,     0.99029,     0.99029,     0.99029,     0.99029,     0.99029,     0.99029,     0.99029,     0.99029,     0.99029,     0.99029,     0.99029,     0.99029,     0.99029,     0.99029,     0.99029,\n",
      "            0.99029,     0.99029,     0.99029,     0.99029,     0.99029,     0.99029,     0.99029,     0.99029,     0.99029,     0.99029,     0.99029,     0.99029,     0.99029,     0.99029,     0.99029,     0.99029,     0.99029,     0.99029,     0.99029,     0.99029,     0.99029,     0.99029,     0.99029,\n",
      "            0.99029,     0.99029,     0.99029,     0.99029,     0.99029,     0.99029,     0.99029,     0.99029,     0.99029,     0.99029,     0.99029,     0.99029,     0.99029,     0.99029,     0.99029,     0.99029,     0.99029,     0.99029,     0.99029,     0.99029,     0.99029,     0.99029,     0.99029,\n",
      "            0.99029,     0.99029,     0.99029,     0.99029,     0.99029,     0.99029,     0.99029,     0.99029,     0.99029,     0.99029,     0.99029,     0.99029,     0.99029,     0.99029,     0.99029,     0.99029,     0.99029,     0.99029,     0.99029,     0.99029,     0.99029,     0.99029,     0.99029,\n",
      "            0.99029,     0.99029,     0.99029,     0.99029,     0.99029,     0.99029,     0.99029,     0.99029,     0.99029,     0.99029,     0.99029,     0.99029,     0.99029,     0.99029,     0.99029,     0.99029,     0.99029,     0.99029,     0.99029,     0.99029,     0.99029,     0.99029,     0.99029,\n",
      "            0.99029,     0.99029,     0.99029,     0.99029,     0.99029,     0.99029,     0.99029,     0.99029,     0.99029,     0.99029,     0.99029,     0.99029,     0.99029,     0.99029,     0.99029,     0.99029,     0.99029,     0.99029,     0.99029,     0.99029,     0.99029,     0.99029,     0.99029,\n",
      "            0.99029,     0.99029,     0.99029,     0.99029,     0.99029,     0.99029,     0.99029,     0.99029,     0.99029,     0.99029,     0.99029,     0.99029,     0.99029,     0.99029,     0.99029,     0.99029,     0.99029,     0.99029,     0.99029,     0.99029,     0.99029,     0.99029,     0.99029,\n",
      "            0.99029,     0.99029,     0.99029,     0.99029,     0.99029,     0.99029,     0.99029,     0.99029,     0.99029,     0.99029,     0.99029,     0.99029,     0.99029,     0.99029,     0.99029,     0.99029,     0.99029,     0.99029,     0.99029,     0.99029,     0.99029,     0.99029,     0.99029,\n",
      "            0.99029,     0.99029,     0.99029,     0.99029,     0.99029,     0.99029,     0.99029,     0.99029,     0.99029,     0.99029,     0.99029,     0.99029,     0.99029,     0.99029,     0.99029,     0.99029,     0.99029,     0.99029,     0.99029,     0.99029,     0.99029,     0.99029,     0.99029,\n",
      "            0.99029,     0.99029,     0.99029,     0.99029,     0.99029,     0.99029,     0.99029,     0.99029,     0.99029,     0.99029,     0.99029,     0.99029,     0.99029,     0.99029,     0.99029,     0.99029,     0.99029,     0.99029,     0.99029,     0.99029,     0.99029,     0.99029,     0.99029,\n",
      "            0.99029,     0.99029,     0.99029,     0.99029,     0.99029,     0.99029,     0.99029,     0.99029,     0.99029,     0.99029,     0.99029,     0.99029,     0.99029,     0.99029,     0.99029,     0.99029,     0.99029,     0.99029,     0.99029,     0.99029,     0.99029,     0.99029,     0.99029,\n",
      "            0.99029,     0.99029,     0.99029,     0.99029,     0.99029,     0.99029,     0.99029,     0.99029,     0.99029,     0.99029,     0.99029,     0.99029,     0.99029,     0.99029,     0.99029,     0.99029,     0.99029,     0.99029,     0.99029,     0.99029,     0.99029,     0.99029,     0.99029,\n",
      "            0.99029,     0.99029,     0.99029,     0.99029,     0.99029,     0.99029,      0.9823,      0.9823,      0.9823,      0.9823,      0.9823,      0.9823,      0.9823,      0.9823,      0.9823,      0.9823,      0.9823,      0.9823,      0.9823,      0.9823,      0.9823,      0.9823,      0.9823,\n",
      "             0.9823,      0.9823,      0.9823,      0.9823,      0.9823,      0.9823,      0.9823,      0.9823,      0.9823,      0.9823,      0.9823,      0.9823,      0.9823,      0.9823,      0.9823,      0.9823,      0.9823,      0.9823,      0.9823,      0.9823,      0.9823,      0.9823,      0.9823,\n",
      "             0.9823,      0.9823,      0.9823,      0.9823,      0.9823,      0.9823,      0.9823,      0.9823,      0.9823,      0.9823,      0.9823,      0.9823,      0.9823,      0.9823,      0.9823,      0.9823,      0.9823,      0.9823,      0.9823,      0.9823,      0.9823,      0.9823,      0.9823,\n",
      "             0.9823,      0.9823,      0.9823,      0.9823,      0.9823,      0.9823,      0.9823,      0.9823,      0.9823,      0.9823,      0.9823,      0.9823,     0.97391,     0.97391,     0.97391,     0.97391,     0.97391,     0.97391,     0.97391,     0.97391,     0.97391,        0.95,        0.95,\n",
      "               0.95,        0.95,        0.95,        0.95,        0.95,        0.95,        0.95,        0.95,        0.95,        0.95,        0.95,        0.95,        0.95,        0.95,        0.95,     0.92742,     0.92742,     0.92742,     0.92742,     0.92742,     0.92742,     0.92742,     0.92742,\n",
      "            0.87218,     0.87218,     0.87218,     0.87218,     0.87218,     0.87218,     0.87218,     0.87218,     0.84173,     0.84173,     0.84173,     0.84173,     0.84173,     0.84173,     0.84173,     0.84173,     0.84173,     0.51528,     0.51528,     0.51528,     0.51528,     0.51528,     0.51528,\n",
      "            0.51528,     0.51528,   0.0052793,   0.0046194,   0.0039595,   0.0032995,   0.0026396,   0.0019797,   0.0013198,  0.00065991,           0]]), 'Recall', 'Precision'], [array([          0,    0.001001,    0.002002,    0.003003,    0.004004,    0.005005,    0.006006,    0.007007,    0.008008,    0.009009,     0.01001,    0.011011,    0.012012,    0.013013,    0.014014,    0.015015,    0.016016,    0.017017,    0.018018,    0.019019,     0.02002,    0.021021,    0.022022,    0.023023,\n",
      "          0.024024,    0.025025,    0.026026,    0.027027,    0.028028,    0.029029,     0.03003,    0.031031,    0.032032,    0.033033,    0.034034,    0.035035,    0.036036,    0.037037,    0.038038,    0.039039,     0.04004,    0.041041,    0.042042,    0.043043,    0.044044,    0.045045,    0.046046,    0.047047,\n",
      "          0.048048,    0.049049,     0.05005,    0.051051,    0.052052,    0.053053,    0.054054,    0.055055,    0.056056,    0.057057,    0.058058,    0.059059,     0.06006,    0.061061,    0.062062,    0.063063,    0.064064,    0.065065,    0.066066,    0.067067,    0.068068,    0.069069,     0.07007,    0.071071,\n",
      "          0.072072,    0.073073,    0.074074,    0.075075,    0.076076,    0.077077,    0.078078,    0.079079,     0.08008,    0.081081,    0.082082,    0.083083,    0.084084,    0.085085,    0.086086,    0.087087,    0.088088,    0.089089,     0.09009,    0.091091,    0.092092,    0.093093,    0.094094,    0.095095,\n",
      "          0.096096,    0.097097,    0.098098,    0.099099,      0.1001,      0.1011,      0.1021,      0.1031,      0.1041,     0.10511,     0.10611,     0.10711,     0.10811,     0.10911,     0.11011,     0.11111,     0.11211,     0.11311,     0.11411,     0.11512,     0.11612,     0.11712,     0.11812,     0.11912,\n",
      "           0.12012,     0.12112,     0.12212,     0.12312,     0.12412,     0.12513,     0.12613,     0.12713,     0.12813,     0.12913,     0.13013,     0.13113,     0.13213,     0.13313,     0.13413,     0.13514,     0.13614,     0.13714,     0.13814,     0.13914,     0.14014,     0.14114,     0.14214,     0.14314,\n",
      "           0.14414,     0.14515,     0.14615,     0.14715,     0.14815,     0.14915,     0.15015,     0.15115,     0.15215,     0.15315,     0.15415,     0.15516,     0.15616,     0.15716,     0.15816,     0.15916,     0.16016,     0.16116,     0.16216,     0.16316,     0.16416,     0.16517,     0.16617,     0.16717,\n",
      "           0.16817,     0.16917,     0.17017,     0.17117,     0.17217,     0.17317,     0.17417,     0.17518,     0.17618,     0.17718,     0.17818,     0.17918,     0.18018,     0.18118,     0.18218,     0.18318,     0.18418,     0.18519,     0.18619,     0.18719,     0.18819,     0.18919,     0.19019,     0.19119,\n",
      "           0.19219,     0.19319,     0.19419,      0.1952,      0.1962,      0.1972,      0.1982,      0.1992,      0.2002,      0.2012,      0.2022,      0.2032,      0.2042,     0.20521,     0.20621,     0.20721,     0.20821,     0.20921,     0.21021,     0.21121,     0.21221,     0.21321,     0.21421,     0.21522,\n",
      "           0.21622,     0.21722,     0.21822,     0.21922,     0.22022,     0.22122,     0.22222,     0.22322,     0.22422,     0.22523,     0.22623,     0.22723,     0.22823,     0.22923,     0.23023,     0.23123,     0.23223,     0.23323,     0.23423,     0.23524,     0.23624,     0.23724,     0.23824,     0.23924,\n",
      "           0.24024,     0.24124,     0.24224,     0.24324,     0.24424,     0.24525,     0.24625,     0.24725,     0.24825,     0.24925,     0.25025,     0.25125,     0.25225,     0.25325,     0.25425,     0.25526,     0.25626,     0.25726,     0.25826,     0.25926,     0.26026,     0.26126,     0.26226,     0.26326,\n",
      "           0.26426,     0.26527,     0.26627,     0.26727,     0.26827,     0.26927,     0.27027,     0.27127,     0.27227,     0.27327,     0.27427,     0.27528,     0.27628,     0.27728,     0.27828,     0.27928,     0.28028,     0.28128,     0.28228,     0.28328,     0.28428,     0.28529,     0.28629,     0.28729,\n",
      "           0.28829,     0.28929,     0.29029,     0.29129,     0.29229,     0.29329,     0.29429,      0.2953,      0.2963,      0.2973,      0.2983,      0.2993,      0.3003,      0.3013,      0.3023,      0.3033,      0.3043,     0.30531,     0.30631,     0.30731,     0.30831,     0.30931,     0.31031,     0.31131,\n",
      "           0.31231,     0.31331,     0.31431,     0.31532,     0.31632,     0.31732,     0.31832,     0.31932,     0.32032,     0.32132,     0.32232,     0.32332,     0.32432,     0.32533,     0.32633,     0.32733,     0.32833,     0.32933,     0.33033,     0.33133,     0.33233,     0.33333,     0.33433,     0.33534,\n",
      "           0.33634,     0.33734,     0.33834,     0.33934,     0.34034,     0.34134,     0.34234,     0.34334,     0.34434,     0.34535,     0.34635,     0.34735,     0.34835,     0.34935,     0.35035,     0.35135,     0.35235,     0.35335,     0.35435,     0.35536,     0.35636,     0.35736,     0.35836,     0.35936,\n",
      "           0.36036,     0.36136,     0.36236,     0.36336,     0.36436,     0.36537,     0.36637,     0.36737,     0.36837,     0.36937,     0.37037,     0.37137,     0.37237,     0.37337,     0.37437,     0.37538,     0.37638,     0.37738,     0.37838,     0.37938,     0.38038,     0.38138,     0.38238,     0.38338,\n",
      "           0.38438,     0.38539,     0.38639,     0.38739,     0.38839,     0.38939,     0.39039,     0.39139,     0.39239,     0.39339,     0.39439,      0.3954,      0.3964,      0.3974,      0.3984,      0.3994,      0.4004,      0.4014,      0.4024,      0.4034,      0.4044,     0.40541,     0.40641,     0.40741,\n",
      "           0.40841,     0.40941,     0.41041,     0.41141,     0.41241,     0.41341,     0.41441,     0.41542,     0.41642,     0.41742,     0.41842,     0.41942,     0.42042,     0.42142,     0.42242,     0.42342,     0.42442,     0.42543,     0.42643,     0.42743,     0.42843,     0.42943,     0.43043,     0.43143,\n",
      "           0.43243,     0.43343,     0.43443,     0.43544,     0.43644,     0.43744,     0.43844,     0.43944,     0.44044,     0.44144,     0.44244,     0.44344,     0.44444,     0.44545,     0.44645,     0.44745,     0.44845,     0.44945,     0.45045,     0.45145,     0.45245,     0.45345,     0.45445,     0.45546,\n",
      "           0.45646,     0.45746,     0.45846,     0.45946,     0.46046,     0.46146,     0.46246,     0.46346,     0.46446,     0.46547,     0.46647,     0.46747,     0.46847,     0.46947,     0.47047,     0.47147,     0.47247,     0.47347,     0.47447,     0.47548,     0.47648,     0.47748,     0.47848,     0.47948,\n",
      "           0.48048,     0.48148,     0.48248,     0.48348,     0.48448,     0.48549,     0.48649,     0.48749,     0.48849,     0.48949,     0.49049,     0.49149,     0.49249,     0.49349,     0.49449,      0.4955,      0.4965,      0.4975,      0.4985,      0.4995,      0.5005,      0.5015,      0.5025,      0.5035,\n",
      "            0.5045,     0.50551,     0.50651,     0.50751,     0.50851,     0.50951,     0.51051,     0.51151,     0.51251,     0.51351,     0.51451,     0.51552,     0.51652,     0.51752,     0.51852,     0.51952,     0.52052,     0.52152,     0.52252,     0.52352,     0.52452,     0.52553,     0.52653,     0.52753,\n",
      "           0.52853,     0.52953,     0.53053,     0.53153,     0.53253,     0.53353,     0.53453,     0.53554,     0.53654,     0.53754,     0.53854,     0.53954,     0.54054,     0.54154,     0.54254,     0.54354,     0.54454,     0.54555,     0.54655,     0.54755,     0.54855,     0.54955,     0.55055,     0.55155,\n",
      "           0.55255,     0.55355,     0.55455,     0.55556,     0.55656,     0.55756,     0.55856,     0.55956,     0.56056,     0.56156,     0.56256,     0.56356,     0.56456,     0.56557,     0.56657,     0.56757,     0.56857,     0.56957,     0.57057,     0.57157,     0.57257,     0.57357,     0.57457,     0.57558,\n",
      "           0.57658,     0.57758,     0.57858,     0.57958,     0.58058,     0.58158,     0.58258,     0.58358,     0.58458,     0.58559,     0.58659,     0.58759,     0.58859,     0.58959,     0.59059,     0.59159,     0.59259,     0.59359,     0.59459,      0.5956,      0.5966,      0.5976,      0.5986,      0.5996,\n",
      "            0.6006,      0.6016,      0.6026,      0.6036,      0.6046,     0.60561,     0.60661,     0.60761,     0.60861,     0.60961,     0.61061,     0.61161,     0.61261,     0.61361,     0.61461,     0.61562,     0.61662,     0.61762,     0.61862,     0.61962,     0.62062,     0.62162,     0.62262,     0.62362,\n",
      "           0.62462,     0.62563,     0.62663,     0.62763,     0.62863,     0.62963,     0.63063,     0.63163,     0.63263,     0.63363,     0.63463,     0.63564,     0.63664,     0.63764,     0.63864,     0.63964,     0.64064,     0.64164,     0.64264,     0.64364,     0.64464,     0.64565,     0.64665,     0.64765,\n",
      "           0.64865,     0.64965,     0.65065,     0.65165,     0.65265,     0.65365,     0.65465,     0.65566,     0.65666,     0.65766,     0.65866,     0.65966,     0.66066,     0.66166,     0.66266,     0.66366,     0.66466,     0.66567,     0.66667,     0.66767,     0.66867,     0.66967,     0.67067,     0.67167,\n",
      "           0.67267,     0.67367,     0.67467,     0.67568,     0.67668,     0.67768,     0.67868,     0.67968,     0.68068,     0.68168,     0.68268,     0.68368,     0.68468,     0.68569,     0.68669,     0.68769,     0.68869,     0.68969,     0.69069,     0.69169,     0.69269,     0.69369,     0.69469,      0.6957,\n",
      "            0.6967,      0.6977,      0.6987,      0.6997,      0.7007,      0.7017,      0.7027,      0.7037,      0.7047,     0.70571,     0.70671,     0.70771,     0.70871,     0.70971,     0.71071,     0.71171,     0.71271,     0.71371,     0.71471,     0.71572,     0.71672,     0.71772,     0.71872,     0.71972,\n",
      "           0.72072,     0.72172,     0.72272,     0.72372,     0.72472,     0.72573,     0.72673,     0.72773,     0.72873,     0.72973,     0.73073,     0.73173,     0.73273,     0.73373,     0.73473,     0.73574,     0.73674,     0.73774,     0.73874,     0.73974,     0.74074,     0.74174,     0.74274,     0.74374,\n",
      "           0.74474,     0.74575,     0.74675,     0.74775,     0.74875,     0.74975,     0.75075,     0.75175,     0.75275,     0.75375,     0.75475,     0.75576,     0.75676,     0.75776,     0.75876,     0.75976,     0.76076,     0.76176,     0.76276,     0.76376,     0.76476,     0.76577,     0.76677,     0.76777,\n",
      "           0.76877,     0.76977,     0.77077,     0.77177,     0.77277,     0.77377,     0.77477,     0.77578,     0.77678,     0.77778,     0.77878,     0.77978,     0.78078,     0.78178,     0.78278,     0.78378,     0.78478,     0.78579,     0.78679,     0.78779,     0.78879,     0.78979,     0.79079,     0.79179,\n",
      "           0.79279,     0.79379,     0.79479,      0.7958,      0.7968,      0.7978,      0.7988,      0.7998,      0.8008,      0.8018,      0.8028,      0.8038,      0.8048,     0.80581,     0.80681,     0.80781,     0.80881,     0.80981,     0.81081,     0.81181,     0.81281,     0.81381,     0.81481,     0.81582,\n",
      "           0.81682,     0.81782,     0.81882,     0.81982,     0.82082,     0.82182,     0.82282,     0.82382,     0.82482,     0.82583,     0.82683,     0.82783,     0.82883,     0.82983,     0.83083,     0.83183,     0.83283,     0.83383,     0.83483,     0.83584,     0.83684,     0.83784,     0.83884,     0.83984,\n",
      "           0.84084,     0.84184,     0.84284,     0.84384,     0.84484,     0.84585,     0.84685,     0.84785,     0.84885,     0.84985,     0.85085,     0.85185,     0.85285,     0.85385,     0.85485,     0.85586,     0.85686,     0.85786,     0.85886,     0.85986,     0.86086,     0.86186,     0.86286,     0.86386,\n",
      "           0.86486,     0.86587,     0.86687,     0.86787,     0.86887,     0.86987,     0.87087,     0.87187,     0.87287,     0.87387,     0.87487,     0.87588,     0.87688,     0.87788,     0.87888,     0.87988,     0.88088,     0.88188,     0.88288,     0.88388,     0.88488,     0.88589,     0.88689,     0.88789,\n",
      "           0.88889,     0.88989,     0.89089,     0.89189,     0.89289,     0.89389,     0.89489,      0.8959,      0.8969,      0.8979,      0.8989,      0.8999,      0.9009,      0.9019,      0.9029,      0.9039,      0.9049,     0.90591,     0.90691,     0.90791,     0.90891,     0.90991,     0.91091,     0.91191,\n",
      "           0.91291,     0.91391,     0.91491,     0.91592,     0.91692,     0.91792,     0.91892,     0.91992,     0.92092,     0.92192,     0.92292,     0.92392,     0.92492,     0.92593,     0.92693,     0.92793,     0.92893,     0.92993,     0.93093,     0.93193,     0.93293,     0.93393,     0.93493,     0.93594,\n",
      "           0.93694,     0.93794,     0.93894,     0.93994,     0.94094,     0.94194,     0.94294,     0.94394,     0.94494,     0.94595,     0.94695,     0.94795,     0.94895,     0.94995,     0.95095,     0.95195,     0.95295,     0.95395,     0.95495,     0.95596,     0.95696,     0.95796,     0.95896,     0.95996,\n",
      "           0.96096,     0.96196,     0.96296,     0.96396,     0.96496,     0.96597,     0.96697,     0.96797,     0.96897,     0.96997,     0.97097,     0.97197,     0.97297,     0.97397,     0.97497,     0.97598,     0.97698,     0.97798,     0.97898,     0.97998,     0.98098,     0.98198,     0.98298,     0.98398,\n",
      "           0.98498,     0.98599,     0.98699,     0.98799,     0.98899,     0.98999,     0.99099,     0.99199,     0.99299,     0.99399,     0.99499,       0.996,       0.997,       0.998,       0.999,           1]), array([[   0.011018,    0.011018,    0.019099,    0.024782,    0.025433,    0.034401,    0.070536,     0.13669,     0.19858,     0.66417,     0.68931,     0.71355,     0.73037,     0.74262,     0.75843,     0.77189,     0.79345,     0.80429,      0.8092,     0.81717,     0.82094,     0.82725,      0.8335,\n",
      "            0.84023,     0.85206,     0.85924,     0.86174,     0.86341,     0.87003,     0.87229,     0.88041,     0.88325,     0.88854,      0.8939,     0.89559,     0.89679,     0.89734,     0.89788,     0.89843,     0.89898,     0.89953,     0.90148,     0.90467,     0.90612,     0.90612,     0.90401,\n",
      "            0.90293,     0.90346,     0.90399,     0.90452,     0.90505,     0.90557,      0.9061,     0.90705,     0.90817,     0.90928,     0.91078,     0.91261,     0.91425,     0.91574,     0.91715,     0.91817,     0.91919,      0.9202,     0.91986,      0.9185,     0.91714,     0.91676,     0.91782,\n",
      "            0.91886,     0.91991,     0.92035,     0.92073,     0.92111,     0.92149,     0.92187,     0.92225,     0.92263,     0.92301,     0.92339,     0.92378,     0.92418,     0.92458,     0.92499,     0.92539,     0.92579,      0.9262,      0.9266,       0.927,      0.9274,     0.92813,     0.92888,\n",
      "            0.92963,     0.93038,     0.93112,     0.93211,      0.9331,      0.9341,     0.93512,     0.93634,     0.93755,     0.93875,     0.93916,     0.93956,     0.93995,     0.94034,     0.94073,     0.94113,     0.94152,     0.94191,      0.9423,     0.94272,     0.94328,     0.94384,      0.9444,\n",
      "            0.94495,     0.94551,     0.94607,     0.94648,     0.94636,     0.94623,     0.94611,     0.94599,     0.94587,     0.94575,     0.94563,     0.94551,     0.94539,     0.94527,     0.94515,     0.94503,      0.9449,     0.94478,     0.94466,     0.94454,     0.94442,      0.9443,     0.94418,\n",
      "            0.94406,     0.94394,     0.94381,     0.94369,     0.94357,     0.94345,     0.94333,     0.94321,     0.94309,     0.94296,     0.94284,     0.94272,      0.9426,     0.94248,     0.94236,     0.94224,     0.94223,      0.9425,     0.94278,     0.94306,     0.94333,     0.94361,     0.94389,\n",
      "            0.94416,     0.94444,     0.94471,     0.94499,     0.94527,     0.94554,     0.94582,     0.94607,      0.9462,     0.94633,     0.94645,     0.94658,      0.9467,     0.94683,     0.94696,     0.94708,     0.94721,     0.94734,     0.94746,     0.94759,     0.94771,     0.94784,     0.94797,\n",
      "            0.94809,     0.94822,     0.94834,     0.94847,     0.94859,     0.94872,     0.94885,     0.94897,      0.9491,     0.94922,     0.94935,     0.94947,      0.9496,     0.94973,     0.94985,     0.94998,     0.95025,     0.95057,     0.95088,     0.95119,     0.95151,     0.95182,     0.95213,\n",
      "            0.95245,     0.95276,     0.95307,     0.95338,     0.95369,     0.95395,      0.9537,     0.95345,      0.9532,     0.95295,      0.9527,     0.95245,      0.9522,     0.95195,      0.9517,     0.95145,      0.9512,     0.95095,      0.9507,     0.95045,      0.9502,     0.94995,      0.9497,\n",
      "             0.9495,     0.94935,      0.9492,     0.94905,     0.94889,     0.94874,     0.94859,     0.94844,     0.94829,     0.94814,     0.94799,     0.94784,     0.94768,     0.94753,     0.94738,     0.94723,     0.94708,     0.94693,     0.94677,     0.94662,     0.94647,     0.94632,     0.94617,\n",
      "            0.94602,     0.94586,     0.94571,     0.94556,     0.94541,     0.94526,      0.9452,     0.94539,     0.94558,     0.94577,     0.94595,     0.94614,     0.94633,     0.94652,      0.9467,     0.94689,     0.94708,     0.94727,     0.94745,     0.94764,     0.94783,     0.94801,      0.9482,\n",
      "            0.94839,     0.94857,     0.94876,     0.94895,     0.94913,     0.94925,     0.94936,     0.94947,     0.94959,      0.9497,     0.94981,     0.94992,     0.95003,     0.95014,     0.95025,     0.95036,     0.95048,     0.95059,      0.9507,     0.95081,     0.95092,     0.95103,     0.95114,\n",
      "            0.95125,     0.95136,     0.95147,     0.95159,      0.9517,     0.95181,     0.95192,     0.95203,     0.95214,     0.95225,     0.95236,     0.95247,     0.95258,     0.95269,      0.9528,     0.95291,     0.95302,     0.95313,     0.95335,     0.95368,     0.95401,     0.95435,     0.95468,\n",
      "            0.95501,     0.95534,     0.95567,       0.956,     0.95633,     0.95665,     0.95698,     0.95715,     0.95633,     0.95551,     0.95469,     0.95387,     0.95305,     0.95282,     0.95285,     0.95289,     0.95293,     0.95297,       0.953,     0.95304,     0.95308,     0.95312,     0.95315,\n",
      "            0.95319,     0.95323,     0.95327,     0.95331,     0.95334,     0.95338,     0.95342,     0.95346,     0.95349,     0.95353,     0.95357,     0.95361,     0.95364,     0.95368,     0.95372,     0.95376,     0.95379,     0.95383,     0.95387,     0.95391,     0.95394,     0.95398,     0.95402,\n",
      "            0.95406,     0.95409,     0.95413,     0.95417,     0.95421,     0.95424,     0.95428,     0.95432,     0.95436,     0.95439,     0.95443,     0.95447,     0.95451,     0.95454,     0.95458,     0.95462,     0.95466,     0.95469,     0.95473,     0.95477,     0.95481,     0.95484,     0.95488,\n",
      "            0.95492,     0.95496,     0.95499,     0.95503,     0.95507,     0.95511,     0.95514,     0.95518,     0.95522,     0.95526,     0.95529,     0.95533,     0.95537,     0.95541,     0.95544,     0.95548,     0.95552,     0.95556,     0.95559,     0.95563,     0.95567,     0.95571,     0.95574,\n",
      "            0.95578,     0.95582,     0.95586,     0.95589,     0.95593,     0.95597,     0.95601,     0.95604,     0.95608,     0.95612,     0.95616,     0.95619,     0.95623,     0.95627,      0.9563,     0.95634,     0.95638,     0.95642,     0.95645,     0.95649,     0.95653,     0.95657,      0.9566,\n",
      "            0.95664,     0.95668,     0.95672,     0.95675,     0.95679,     0.95683,     0.95687,     0.95688,      0.9568,     0.95672,     0.95664,     0.95656,     0.95648,      0.9564,     0.95632,     0.95624,     0.95616,     0.95608,       0.956,     0.95592,     0.95584,     0.95576,     0.95568,\n",
      "             0.9556,     0.95552,     0.95544,     0.95536,     0.95528,      0.9552,     0.95512,     0.95504,     0.95496,     0.95488,      0.9548,     0.95472,     0.95464,     0.95456,     0.95448,      0.9544,     0.95432,     0.95424,     0.95416,     0.95408,       0.954,     0.95392,     0.95384,\n",
      "            0.95376,     0.95368,      0.9536,     0.95352,     0.95344,     0.95336,     0.95328,      0.9532,     0.95312,     0.95304,     0.95296,     0.95288,      0.9528,     0.95271,     0.95263,     0.95255,     0.95247,     0.95239,     0.95226,     0.95211,     0.95196,     0.95181,     0.95167,\n",
      "            0.95152,     0.95137,     0.95122,     0.95108,     0.95093,     0.95078,     0.95063,     0.95049,     0.95034,     0.95019,     0.95004,     0.94989,     0.94975,      0.9496,     0.94945,      0.9493,     0.94915,     0.94901,     0.94886,     0.94871,     0.94856,     0.94841,     0.94827,\n",
      "            0.94812,     0.94797,     0.94782,      0.9476,     0.94739,     0.94717,     0.94695,     0.94674,     0.94652,      0.9463,     0.94609,     0.94587,     0.94565,     0.94544,     0.94522,       0.945,     0.94479,     0.94457,     0.94435,     0.94414,     0.94392,      0.9437,     0.94348,\n",
      "            0.94327,     0.93829,     0.93696,     0.93563,     0.93429,     0.93363,     0.93323,     0.93283,     0.93243,     0.93203,     0.93162,     0.93122,     0.93082,     0.93042,     0.93001,     0.92961,      0.9292,     0.92415,     0.92382,     0.92349,     0.92317,     0.92284,     0.92252,\n",
      "            0.92219,     0.92186,     0.92153,     0.92121,     0.92088,     0.92055,     0.92022,     0.91989,     0.91961,     0.91945,      0.9193,     0.91915,       0.919,     0.91884,     0.91869,     0.91854,     0.91838,     0.91823,     0.91808,     0.91792,     0.91777,     0.91762,     0.91746,\n",
      "            0.91731,     0.91716,       0.917,     0.91685,      0.9167,     0.91654,     0.91639,     0.91623,     0.91608,     0.91593,     0.91577,     0.91562,     0.91547,     0.91531,     0.91516,       0.915,     0.91485,     0.91495,     0.91518,     0.91541,     0.91564,     0.91587,      0.9161,\n",
      "            0.91633,     0.91656,     0.91679,     0.91702,     0.91725,     0.91748,     0.91771,     0.91794,     0.91817,      0.9184,     0.91862,     0.91885,      0.9187,      0.9184,     0.91809,     0.91778,     0.91748,     0.91717,     0.91687,     0.91656,     0.91625,     0.91594,     0.91564,\n",
      "            0.91533,     0.91502,     0.91472,     0.91441,      0.9141,     0.91337,     0.91251,     0.91165,     0.91079,     0.90992,     0.90908,     0.90883,     0.90857,     0.90832,     0.90807,     0.90781,     0.90756,      0.9073,     0.90705,      0.9068,     0.90654,     0.90629,     0.90603,\n",
      "            0.90578,     0.90552,     0.90527,     0.90501,     0.90476,      0.9045,     0.90425,     0.90326,     0.90144,     0.89962,     0.89825,     0.89708,     0.89591,     0.89473,     0.89339,     0.89181,     0.89023,     0.88818,     0.88376,     0.88044,     0.87787,     0.87633,     0.87479,\n",
      "            0.87324,     0.86513,     0.85897,     0.85643,     0.85553,     0.85463,     0.85373,     0.85283,     0.85192,     0.84851,     0.84498,     0.84244,     0.83481,     0.83314,     0.83148,      0.8298,     0.82808,     0.82632,     0.82456,     0.82315,     0.82224,     0.82134,     0.82042,\n",
      "            0.81951,      0.8186,     0.81739,     0.81073,     0.80546,     0.80424,     0.80303,     0.80181,     0.80059,     0.79703,     0.79334,       0.792,     0.79066,     0.78931,     0.78796,     0.78462,     0.78152,     0.78033,     0.77913,     0.77792,     0.77672,     0.77551,     0.77353,\n",
      "            0.77155,     0.76956,     0.76515,     0.76163,     0.75929,     0.75694,     0.75531,     0.75384,     0.75238,     0.75091,     0.74862,     0.74497,     0.74018,     0.73485,     0.73005,     0.72764,     0.72523,     0.72242,     0.71836,     0.70961,     0.70856,     0.70751,     0.70645,\n",
      "             0.7054,     0.70434,     0.70328,     0.70038,      0.6952,     0.68946,     0.68777,     0.68687,     0.68596,     0.68506,     0.68415,     0.68325,     0.68234,     0.68143,     0.67891,     0.67615,     0.67045,     0.65884,     0.65768,     0.65652,     0.65535,     0.65419,     0.65302,\n",
      "            0.65184,     0.64864,     0.64509,     0.64256,     0.64043,      0.6383,     0.63581,     0.62991,     0.62969,     0.63113,     0.62998,     0.62306,     0.61935,     0.61144,     0.58816,     0.58207,     0.57778,     0.56369,     0.55347,     0.54546,     0.52357,     0.50706,     0.49775,\n",
      "            0.48919,      0.4832,     0.47874,      0.4743,     0.47204,     0.46977,      0.4675,     0.46522,       0.461,      0.4559,     0.45246,      0.4496,     0.44674,     0.43972,     0.42792,     0.41271,     0.40661,     0.39921,     0.38073,     0.37445,     0.35522,     0.33462,     0.33084,\n",
      "            0.32704,      0.3214,     0.31082,     0.30693,     0.30303,     0.28987,     0.26928,     0.26111,     0.24707,     0.23976,     0.22634,      0.2114,       0.207,     0.20323,     0.19945,     0.19409,     0.18574,     0.18002,     0.17543,     0.17082,     0.16696,     0.16349,        0.16,\n",
      "             0.1565,     0.15044,     0.14249,     0.13798,     0.13453,     0.13106,     0.12757,     0.12343,     0.11873,     0.11401,     0.10679,    0.087469,    0.064678,    0.063983,    0.063288,    0.062592,    0.061895,    0.061198,    0.060501,    0.059803,    0.059105,    0.058406,    0.057706,\n",
      "           0.057006,    0.056306,    0.055605,    0.054904,    0.054202,    0.053499,    0.052796,    0.052093,    0.051389,    0.050684,    0.049979,    0.049274,    0.047449,    0.045449,    0.043445,    0.041436,    0.039424,    0.037407,    0.035386,    0.033362,    0.032394,    0.031612,     0.03083,\n",
      "           0.030047,    0.029264,     0.02848,    0.027695,     0.02691,    0.026124,    0.025337,     0.02455,    0.023762,    0.022974,    0.022184,    0.021395,    0.020604,    0.019813,    0.019022,     0.01823,    0.017437,           0,           0,           0,           0,           0,           0,\n",
      "                  0,           0,           0,           0,           0,           0,           0,           0,           0,           0,           0,           0,           0,           0,           0,           0,           0,           0,           0,           0,           0,           0,           0,\n",
      "                  0,           0,           0,           0,           0,           0,           0,           0,           0,           0,           0,           0,           0,           0,           0,           0,           0,           0,           0,           0,           0,           0,           0,\n",
      "                  0,           0,           0,           0,           0,           0,           0,           0,           0,           0,           0,           0,           0,           0,           0,           0,           0,           0,           0,           0,           0,           0,           0,\n",
      "                  0,           0,           0,           0,           0,           0,           0,           0,           0,           0,           0]]), 'Confidence', 'F1'], [array([          0,    0.001001,    0.002002,    0.003003,    0.004004,    0.005005,    0.006006,    0.007007,    0.008008,    0.009009,     0.01001,    0.011011,    0.012012,    0.013013,    0.014014,    0.015015,    0.016016,    0.017017,    0.018018,    0.019019,     0.02002,    0.021021,    0.022022,    0.023023,\n",
      "          0.024024,    0.025025,    0.026026,    0.027027,    0.028028,    0.029029,     0.03003,    0.031031,    0.032032,    0.033033,    0.034034,    0.035035,    0.036036,    0.037037,    0.038038,    0.039039,     0.04004,    0.041041,    0.042042,    0.043043,    0.044044,    0.045045,    0.046046,    0.047047,\n",
      "          0.048048,    0.049049,     0.05005,    0.051051,    0.052052,    0.053053,    0.054054,    0.055055,    0.056056,    0.057057,    0.058058,    0.059059,     0.06006,    0.061061,    0.062062,    0.063063,    0.064064,    0.065065,    0.066066,    0.067067,    0.068068,    0.069069,     0.07007,    0.071071,\n",
      "          0.072072,    0.073073,    0.074074,    0.075075,    0.076076,    0.077077,    0.078078,    0.079079,     0.08008,    0.081081,    0.082082,    0.083083,    0.084084,    0.085085,    0.086086,    0.087087,    0.088088,    0.089089,     0.09009,    0.091091,    0.092092,    0.093093,    0.094094,    0.095095,\n",
      "          0.096096,    0.097097,    0.098098,    0.099099,      0.1001,      0.1011,      0.1021,      0.1031,      0.1041,     0.10511,     0.10611,     0.10711,     0.10811,     0.10911,     0.11011,     0.11111,     0.11211,     0.11311,     0.11411,     0.11512,     0.11612,     0.11712,     0.11812,     0.11912,\n",
      "           0.12012,     0.12112,     0.12212,     0.12312,     0.12412,     0.12513,     0.12613,     0.12713,     0.12813,     0.12913,     0.13013,     0.13113,     0.13213,     0.13313,     0.13413,     0.13514,     0.13614,     0.13714,     0.13814,     0.13914,     0.14014,     0.14114,     0.14214,     0.14314,\n",
      "           0.14414,     0.14515,     0.14615,     0.14715,     0.14815,     0.14915,     0.15015,     0.15115,     0.15215,     0.15315,     0.15415,     0.15516,     0.15616,     0.15716,     0.15816,     0.15916,     0.16016,     0.16116,     0.16216,     0.16316,     0.16416,     0.16517,     0.16617,     0.16717,\n",
      "           0.16817,     0.16917,     0.17017,     0.17117,     0.17217,     0.17317,     0.17417,     0.17518,     0.17618,     0.17718,     0.17818,     0.17918,     0.18018,     0.18118,     0.18218,     0.18318,     0.18418,     0.18519,     0.18619,     0.18719,     0.18819,     0.18919,     0.19019,     0.19119,\n",
      "           0.19219,     0.19319,     0.19419,      0.1952,      0.1962,      0.1972,      0.1982,      0.1992,      0.2002,      0.2012,      0.2022,      0.2032,      0.2042,     0.20521,     0.20621,     0.20721,     0.20821,     0.20921,     0.21021,     0.21121,     0.21221,     0.21321,     0.21421,     0.21522,\n",
      "           0.21622,     0.21722,     0.21822,     0.21922,     0.22022,     0.22122,     0.22222,     0.22322,     0.22422,     0.22523,     0.22623,     0.22723,     0.22823,     0.22923,     0.23023,     0.23123,     0.23223,     0.23323,     0.23423,     0.23524,     0.23624,     0.23724,     0.23824,     0.23924,\n",
      "           0.24024,     0.24124,     0.24224,     0.24324,     0.24424,     0.24525,     0.24625,     0.24725,     0.24825,     0.24925,     0.25025,     0.25125,     0.25225,     0.25325,     0.25425,     0.25526,     0.25626,     0.25726,     0.25826,     0.25926,     0.26026,     0.26126,     0.26226,     0.26326,\n",
      "           0.26426,     0.26527,     0.26627,     0.26727,     0.26827,     0.26927,     0.27027,     0.27127,     0.27227,     0.27327,     0.27427,     0.27528,     0.27628,     0.27728,     0.27828,     0.27928,     0.28028,     0.28128,     0.28228,     0.28328,     0.28428,     0.28529,     0.28629,     0.28729,\n",
      "           0.28829,     0.28929,     0.29029,     0.29129,     0.29229,     0.29329,     0.29429,      0.2953,      0.2963,      0.2973,      0.2983,      0.2993,      0.3003,      0.3013,      0.3023,      0.3033,      0.3043,     0.30531,     0.30631,     0.30731,     0.30831,     0.30931,     0.31031,     0.31131,\n",
      "           0.31231,     0.31331,     0.31431,     0.31532,     0.31632,     0.31732,     0.31832,     0.31932,     0.32032,     0.32132,     0.32232,     0.32332,     0.32432,     0.32533,     0.32633,     0.32733,     0.32833,     0.32933,     0.33033,     0.33133,     0.33233,     0.33333,     0.33433,     0.33534,\n",
      "           0.33634,     0.33734,     0.33834,     0.33934,     0.34034,     0.34134,     0.34234,     0.34334,     0.34434,     0.34535,     0.34635,     0.34735,     0.34835,     0.34935,     0.35035,     0.35135,     0.35235,     0.35335,     0.35435,     0.35536,     0.35636,     0.35736,     0.35836,     0.35936,\n",
      "           0.36036,     0.36136,     0.36236,     0.36336,     0.36436,     0.36537,     0.36637,     0.36737,     0.36837,     0.36937,     0.37037,     0.37137,     0.37237,     0.37337,     0.37437,     0.37538,     0.37638,     0.37738,     0.37838,     0.37938,     0.38038,     0.38138,     0.38238,     0.38338,\n",
      "           0.38438,     0.38539,     0.38639,     0.38739,     0.38839,     0.38939,     0.39039,     0.39139,     0.39239,     0.39339,     0.39439,      0.3954,      0.3964,      0.3974,      0.3984,      0.3994,      0.4004,      0.4014,      0.4024,      0.4034,      0.4044,     0.40541,     0.40641,     0.40741,\n",
      "           0.40841,     0.40941,     0.41041,     0.41141,     0.41241,     0.41341,     0.41441,     0.41542,     0.41642,     0.41742,     0.41842,     0.41942,     0.42042,     0.42142,     0.42242,     0.42342,     0.42442,     0.42543,     0.42643,     0.42743,     0.42843,     0.42943,     0.43043,     0.43143,\n",
      "           0.43243,     0.43343,     0.43443,     0.43544,     0.43644,     0.43744,     0.43844,     0.43944,     0.44044,     0.44144,     0.44244,     0.44344,     0.44444,     0.44545,     0.44645,     0.44745,     0.44845,     0.44945,     0.45045,     0.45145,     0.45245,     0.45345,     0.45445,     0.45546,\n",
      "           0.45646,     0.45746,     0.45846,     0.45946,     0.46046,     0.46146,     0.46246,     0.46346,     0.46446,     0.46547,     0.46647,     0.46747,     0.46847,     0.46947,     0.47047,     0.47147,     0.47247,     0.47347,     0.47447,     0.47548,     0.47648,     0.47748,     0.47848,     0.47948,\n",
      "           0.48048,     0.48148,     0.48248,     0.48348,     0.48448,     0.48549,     0.48649,     0.48749,     0.48849,     0.48949,     0.49049,     0.49149,     0.49249,     0.49349,     0.49449,      0.4955,      0.4965,      0.4975,      0.4985,      0.4995,      0.5005,      0.5015,      0.5025,      0.5035,\n",
      "            0.5045,     0.50551,     0.50651,     0.50751,     0.50851,     0.50951,     0.51051,     0.51151,     0.51251,     0.51351,     0.51451,     0.51552,     0.51652,     0.51752,     0.51852,     0.51952,     0.52052,     0.52152,     0.52252,     0.52352,     0.52452,     0.52553,     0.52653,     0.52753,\n",
      "           0.52853,     0.52953,     0.53053,     0.53153,     0.53253,     0.53353,     0.53453,     0.53554,     0.53654,     0.53754,     0.53854,     0.53954,     0.54054,     0.54154,     0.54254,     0.54354,     0.54454,     0.54555,     0.54655,     0.54755,     0.54855,     0.54955,     0.55055,     0.55155,\n",
      "           0.55255,     0.55355,     0.55455,     0.55556,     0.55656,     0.55756,     0.55856,     0.55956,     0.56056,     0.56156,     0.56256,     0.56356,     0.56456,     0.56557,     0.56657,     0.56757,     0.56857,     0.56957,     0.57057,     0.57157,     0.57257,     0.57357,     0.57457,     0.57558,\n",
      "           0.57658,     0.57758,     0.57858,     0.57958,     0.58058,     0.58158,     0.58258,     0.58358,     0.58458,     0.58559,     0.58659,     0.58759,     0.58859,     0.58959,     0.59059,     0.59159,     0.59259,     0.59359,     0.59459,      0.5956,      0.5966,      0.5976,      0.5986,      0.5996,\n",
      "            0.6006,      0.6016,      0.6026,      0.6036,      0.6046,     0.60561,     0.60661,     0.60761,     0.60861,     0.60961,     0.61061,     0.61161,     0.61261,     0.61361,     0.61461,     0.61562,     0.61662,     0.61762,     0.61862,     0.61962,     0.62062,     0.62162,     0.62262,     0.62362,\n",
      "           0.62462,     0.62563,     0.62663,     0.62763,     0.62863,     0.62963,     0.63063,     0.63163,     0.63263,     0.63363,     0.63463,     0.63564,     0.63664,     0.63764,     0.63864,     0.63964,     0.64064,     0.64164,     0.64264,     0.64364,     0.64464,     0.64565,     0.64665,     0.64765,\n",
      "           0.64865,     0.64965,     0.65065,     0.65165,     0.65265,     0.65365,     0.65465,     0.65566,     0.65666,     0.65766,     0.65866,     0.65966,     0.66066,     0.66166,     0.66266,     0.66366,     0.66466,     0.66567,     0.66667,     0.66767,     0.66867,     0.66967,     0.67067,     0.67167,\n",
      "           0.67267,     0.67367,     0.67467,     0.67568,     0.67668,     0.67768,     0.67868,     0.67968,     0.68068,     0.68168,     0.68268,     0.68368,     0.68468,     0.68569,     0.68669,     0.68769,     0.68869,     0.68969,     0.69069,     0.69169,     0.69269,     0.69369,     0.69469,      0.6957,\n",
      "            0.6967,      0.6977,      0.6987,      0.6997,      0.7007,      0.7017,      0.7027,      0.7037,      0.7047,     0.70571,     0.70671,     0.70771,     0.70871,     0.70971,     0.71071,     0.71171,     0.71271,     0.71371,     0.71471,     0.71572,     0.71672,     0.71772,     0.71872,     0.71972,\n",
      "           0.72072,     0.72172,     0.72272,     0.72372,     0.72472,     0.72573,     0.72673,     0.72773,     0.72873,     0.72973,     0.73073,     0.73173,     0.73273,     0.73373,     0.73473,     0.73574,     0.73674,     0.73774,     0.73874,     0.73974,     0.74074,     0.74174,     0.74274,     0.74374,\n",
      "           0.74474,     0.74575,     0.74675,     0.74775,     0.74875,     0.74975,     0.75075,     0.75175,     0.75275,     0.75375,     0.75475,     0.75576,     0.75676,     0.75776,     0.75876,     0.75976,     0.76076,     0.76176,     0.76276,     0.76376,     0.76476,     0.76577,     0.76677,     0.76777,\n",
      "           0.76877,     0.76977,     0.77077,     0.77177,     0.77277,     0.77377,     0.77477,     0.77578,     0.77678,     0.77778,     0.77878,     0.77978,     0.78078,     0.78178,     0.78278,     0.78378,     0.78478,     0.78579,     0.78679,     0.78779,     0.78879,     0.78979,     0.79079,     0.79179,\n",
      "           0.79279,     0.79379,     0.79479,      0.7958,      0.7968,      0.7978,      0.7988,      0.7998,      0.8008,      0.8018,      0.8028,      0.8038,      0.8048,     0.80581,     0.80681,     0.80781,     0.80881,     0.80981,     0.81081,     0.81181,     0.81281,     0.81381,     0.81481,     0.81582,\n",
      "           0.81682,     0.81782,     0.81882,     0.81982,     0.82082,     0.82182,     0.82282,     0.82382,     0.82482,     0.82583,     0.82683,     0.82783,     0.82883,     0.82983,     0.83083,     0.83183,     0.83283,     0.83383,     0.83483,     0.83584,     0.83684,     0.83784,     0.83884,     0.83984,\n",
      "           0.84084,     0.84184,     0.84284,     0.84384,     0.84484,     0.84585,     0.84685,     0.84785,     0.84885,     0.84985,     0.85085,     0.85185,     0.85285,     0.85385,     0.85485,     0.85586,     0.85686,     0.85786,     0.85886,     0.85986,     0.86086,     0.86186,     0.86286,     0.86386,\n",
      "           0.86486,     0.86587,     0.86687,     0.86787,     0.86887,     0.86987,     0.87087,     0.87187,     0.87287,     0.87387,     0.87487,     0.87588,     0.87688,     0.87788,     0.87888,     0.87988,     0.88088,     0.88188,     0.88288,     0.88388,     0.88488,     0.88589,     0.88689,     0.88789,\n",
      "           0.88889,     0.88989,     0.89089,     0.89189,     0.89289,     0.89389,     0.89489,      0.8959,      0.8969,      0.8979,      0.8989,      0.8999,      0.9009,      0.9019,      0.9029,      0.9039,      0.9049,     0.90591,     0.90691,     0.90791,     0.90891,     0.90991,     0.91091,     0.91191,\n",
      "           0.91291,     0.91391,     0.91491,     0.91592,     0.91692,     0.91792,     0.91892,     0.91992,     0.92092,     0.92192,     0.92292,     0.92392,     0.92492,     0.92593,     0.92693,     0.92793,     0.92893,     0.92993,     0.93093,     0.93193,     0.93293,     0.93393,     0.93493,     0.93594,\n",
      "           0.93694,     0.93794,     0.93894,     0.93994,     0.94094,     0.94194,     0.94294,     0.94394,     0.94494,     0.94595,     0.94695,     0.94795,     0.94895,     0.94995,     0.95095,     0.95195,     0.95295,     0.95395,     0.95495,     0.95596,     0.95696,     0.95796,     0.95896,     0.95996,\n",
      "           0.96096,     0.96196,     0.96296,     0.96396,     0.96496,     0.96597,     0.96697,     0.96797,     0.96897,     0.96997,     0.97097,     0.97197,     0.97297,     0.97397,     0.97497,     0.97598,     0.97698,     0.97798,     0.97898,     0.97998,     0.98098,     0.98198,     0.98298,     0.98398,\n",
      "           0.98498,     0.98599,     0.98699,     0.98799,     0.98899,     0.98999,     0.99099,     0.99199,     0.99299,     0.99399,     0.99499,       0.996,       0.997,       0.998,       0.999,           1]), array([[  0.0055399,   0.0055399,   0.0096424,    0.012548,    0.012882,    0.017504,    0.036568,    0.073406,     0.11034,      0.4993,     0.53068,     0.55998,     0.58097,     0.59663,     0.61731,     0.63534,     0.66509,     0.68047,     0.68752,     0.69911,     0.70465,       0.714,     0.72337,\n",
      "            0.73356,     0.75179,     0.76304,     0.76699,     0.76965,     0.78023,     0.78387,     0.79709,     0.80175,     0.81052,     0.81948,     0.82232,     0.82434,     0.82527,      0.8262,     0.82712,     0.82805,     0.82898,     0.83231,     0.83776,     0.84025,      0.8415,     0.84093,\n",
      "            0.84094,     0.84186,     0.84278,      0.8437,     0.84461,     0.84553,     0.84645,     0.84811,     0.85007,     0.85202,     0.85466,     0.85789,     0.86078,     0.86343,     0.86595,     0.86777,     0.86958,      0.8714,     0.87201,      0.8717,     0.87139,     0.87199,     0.87389,\n",
      "             0.8758,      0.8777,      0.8785,     0.87919,     0.87989,     0.88058,     0.88128,     0.88198,     0.88267,     0.88337,     0.88406,     0.88477,     0.88551,     0.88625,     0.88699,     0.88773,     0.88847,     0.88921,     0.88995,      0.8907,     0.89144,     0.89279,     0.89418,\n",
      "            0.89557,     0.89695,     0.89834,     0.90017,     0.90204,      0.9039,     0.90582,      0.9081,     0.91038,     0.91266,     0.91343,     0.91417,     0.91492,     0.91566,     0.91641,     0.91715,      0.9179,     0.91864,     0.91939,     0.92019,     0.92125,     0.92232,     0.92338,\n",
      "            0.92445,     0.92552,     0.92658,     0.92742,      0.9274,     0.92738,     0.92737,     0.92735,     0.92733,     0.92732,      0.9273,     0.92728,     0.92727,     0.92725,     0.92724,     0.92722,      0.9272,     0.92719,     0.92717,     0.92715,     0.92714,     0.92712,      0.9271,\n",
      "            0.92709,     0.92707,     0.92705,     0.92704,     0.92702,     0.92701,     0.92699,     0.92697,     0.92696,     0.92694,     0.92692,     0.92691,     0.92689,     0.92687,     0.92686,     0.92684,     0.92698,     0.92752,     0.92805,     0.92859,     0.92913,     0.92966,      0.9302,\n",
      "            0.93074,     0.93127,     0.93181,     0.93234,     0.93288,     0.93342,     0.93395,     0.93446,      0.9347,     0.93495,      0.9352,     0.93544,     0.93569,     0.93594,     0.93618,     0.93643,     0.93668,     0.93692,     0.93717,     0.93742,     0.93766,     0.93791,     0.93816,\n",
      "             0.9384,     0.93865,      0.9389,     0.93914,     0.93939,     0.93964,     0.93988,     0.94013,     0.94038,     0.94062,     0.94087,     0.94112,     0.94136,     0.94161,     0.94186,      0.9421,     0.94265,     0.94327,     0.94388,      0.9445,     0.94512,     0.94574,     0.94636,\n",
      "            0.94697,     0.94759,     0.94821,     0.94883,     0.94944,        0.95,     0.94997,     0.94995,     0.94993,      0.9499,     0.94988,     0.94985,     0.94983,     0.94981,     0.94978,     0.94976,     0.94973,     0.94971,     0.94969,     0.94966,     0.94964,     0.94961,     0.94959,\n",
      "            0.94957,     0.94956,     0.94954,     0.94953,     0.94951,      0.9495,     0.94948,     0.94947,     0.94946,     0.94944,     0.94943,     0.94941,      0.9494,     0.94938,     0.94937,     0.94935,     0.94934,     0.94932,     0.94931,     0.94929,     0.94928,     0.94927,     0.94925,\n",
      "            0.94924,     0.94922,     0.94921,     0.94919,     0.94918,     0.94916,     0.94926,     0.94964,     0.95002,      0.9504,     0.95078,     0.95116,     0.95154,     0.95192,      0.9523,     0.95268,     0.95305,     0.95343,     0.95381,     0.95419,     0.95457,     0.95495,     0.95533,\n",
      "            0.95571,     0.95609,     0.95647,     0.95685,     0.95722,     0.95747,     0.95769,     0.95792,     0.95815,     0.95837,      0.9586,     0.95883,     0.95905,     0.95928,     0.95951,     0.95973,     0.95996,     0.96019,     0.96041,     0.96064,     0.96087,     0.96109,     0.96132,\n",
      "            0.96155,     0.96177,       0.962,     0.96223,     0.96245,     0.96268,     0.96291,     0.96313,     0.96336,     0.96359,     0.96381,     0.96404,     0.96427,     0.96449,     0.96472,     0.96495,     0.96517,      0.9654,     0.96585,     0.96653,     0.96721,     0.96789,     0.96857,\n",
      "            0.96925,     0.96993,     0.97061,     0.97129,     0.97197,     0.97265,     0.97333,     0.97391,     0.97387,     0.97382,     0.97378,     0.97374,      0.9737,     0.97374,     0.97382,      0.9739,     0.97397,     0.97405,     0.97413,     0.97421,     0.97429,     0.97437,     0.97445,\n",
      "            0.97453,      0.9746,     0.97468,     0.97476,     0.97484,     0.97492,       0.975,     0.97508,     0.97515,     0.97523,     0.97531,     0.97539,     0.97547,     0.97555,     0.97563,     0.97571,     0.97578,     0.97586,     0.97594,     0.97602,      0.9761,     0.97618,     0.97626,\n",
      "            0.97633,     0.97641,     0.97649,     0.97657,     0.97665,     0.97673,     0.97681,     0.97689,     0.97696,     0.97704,     0.97712,      0.9772,     0.97728,     0.97736,     0.97744,     0.97751,     0.97759,     0.97767,     0.97775,     0.97783,     0.97791,     0.97799,     0.97807,\n",
      "            0.97814,     0.97822,      0.9783,     0.97838,     0.97846,     0.97854,     0.97862,     0.97869,     0.97877,     0.97885,     0.97893,     0.97901,     0.97909,     0.97917,     0.97925,     0.97932,      0.9794,     0.97948,     0.97956,     0.97964,     0.97972,      0.9798,     0.97987,\n",
      "            0.97995,     0.98003,     0.98011,     0.98019,     0.98027,     0.98035,     0.98043,      0.9805,     0.98058,     0.98066,     0.98074,     0.98082,      0.9809,     0.98098,     0.98105,     0.98113,     0.98121,     0.98129,     0.98137,     0.98145,     0.98153,     0.98161,     0.98168,\n",
      "            0.98176,     0.98184,     0.98192,       0.982,     0.98208,     0.98216,     0.98223,      0.9823,      0.9823,     0.98229,     0.98229,     0.98229,     0.98229,     0.98228,     0.98228,     0.98228,     0.98228,     0.98227,     0.98227,     0.98227,     0.98226,     0.98226,     0.98226,\n",
      "            0.98226,     0.98225,     0.98225,     0.98225,     0.98224,     0.98224,     0.98224,     0.98224,     0.98223,     0.98223,     0.98223,     0.98222,     0.98222,     0.98222,     0.98222,     0.98221,     0.98221,     0.98221,     0.98221,      0.9822,      0.9822,      0.9822,     0.98219,\n",
      "            0.98219,     0.98219,     0.98219,     0.98218,     0.98218,     0.98218,     0.98217,     0.98217,     0.98217,     0.98217,     0.98216,     0.98216,     0.98216,     0.98215,     0.98215,     0.98215,     0.98215,     0.98214,     0.98214,     0.98213,     0.98213,     0.98212,     0.98212,\n",
      "            0.98211,     0.98211,      0.9821,      0.9821,     0.98209,     0.98209,     0.98208,     0.98208,     0.98207,     0.98207,     0.98206,     0.98205,     0.98205,     0.98204,     0.98204,     0.98203,     0.98203,     0.98202,     0.98202,     0.98201,     0.98201,       0.982,       0.982,\n",
      "            0.98199,     0.98199,     0.98198,     0.98197,     0.98197,     0.98196,     0.98195,     0.98194,     0.98194,     0.98193,     0.98192,     0.98191,      0.9819,      0.9819,     0.98189,     0.98188,     0.98187,     0.98187,     0.98186,     0.98185,     0.98184,     0.98183,     0.98183,\n",
      "            0.98182,     0.98164,     0.98159,     0.98154,     0.98149,     0.98147,     0.98146,     0.98144,     0.98143,     0.98141,      0.9814,     0.98138,     0.98137,     0.98135,     0.98134,     0.98132,     0.98131,     0.98112,     0.98111,      0.9811,     0.98108,     0.98107,     0.98106,\n",
      "            0.98105,     0.98104,     0.98102,     0.98101,       0.981,     0.98099,     0.98097,     0.98096,     0.98095,     0.98095,     0.98094,     0.98093,     0.98093,     0.98092,     0.98092,     0.98091,      0.9809,      0.9809,     0.98089,     0.98089,     0.98088,     0.98088,     0.98087,\n",
      "            0.98086,     0.98086,     0.98085,     0.98085,     0.98084,     0.98083,     0.98083,     0.98082,     0.98082,     0.98081,     0.98081,      0.9808,     0.98079,     0.98079,     0.98078,     0.98078,     0.98077,     0.98112,     0.98165,     0.98218,     0.98271,     0.98324,     0.98377,\n",
      "            0.98431,     0.98484,     0.98537,      0.9859,     0.98643,     0.98696,     0.98749,     0.98802,     0.98855,     0.98908,     0.98961,     0.99014,     0.99029,     0.99028,     0.99028,     0.99027,     0.99026,     0.99026,     0.99025,     0.99025,     0.99024,     0.99023,     0.99023,\n",
      "            0.99022,     0.99022,     0.99021,      0.9902,      0.9902,     0.99018,     0.99017,     0.99015,     0.99013,     0.99012,      0.9901,     0.99009,     0.99009,     0.99008,     0.99008,     0.99007,     0.99007,     0.99006,     0.99006,     0.99005,     0.99005,     0.99004,     0.99004,\n",
      "            0.99003,     0.99003,     0.99002,     0.99002,     0.99001,     0.99001,        0.99,     0.98998,     0.98995,     0.98991,     0.98988,     0.98986,     0.98983,     0.98981,     0.98978,     0.98975,     0.98972,     0.98968,     0.98958,     0.98951,     0.98946,     0.98943,     0.98939,\n",
      "            0.98936,     0.98919,     0.98905,     0.98899,     0.98897,     0.98895,     0.98893,     0.98891,     0.98889,     0.98882,     0.98874,     0.98868,      0.9885,     0.98846,     0.98842,     0.98838,     0.98834,      0.9883,     0.98826,     0.98823,      0.9882,     0.98818,     0.98816,\n",
      "            0.98814,     0.98812,     0.98809,     0.98792,     0.98779,     0.98776,     0.98773,      0.9877,     0.98767,     0.98758,     0.98748,     0.98745,     0.98741,     0.98738,     0.98734,     0.98726,     0.98717,     0.98714,     0.98711,     0.98708,     0.98705,     0.98701,     0.98696,\n",
      "             0.9869,     0.98685,     0.98673,     0.98663,     0.98657,      0.9865,     0.98645,     0.98641,     0.98637,     0.98633,     0.98626,     0.98616,     0.98601,     0.98586,     0.98571,     0.98564,     0.98556,     0.98548,     0.98535,     0.98507,     0.98504,       0.985,     0.98497,\n",
      "            0.98494,      0.9849,     0.98487,     0.98477,      0.9846,     0.98441,     0.98435,     0.98432,     0.98429,     0.98426,     0.98422,     0.98419,     0.98416,     0.98413,     0.98404,     0.98395,     0.98374,     0.98332,     0.98328,     0.98323,     0.98319,     0.98314,      0.9831,\n",
      "            0.98306,     0.98293,      0.9828,      0.9827,     0.98262,     0.98253,     0.98243,      0.9822,     0.98765,     0.99475,           1,           1,           1,           1,           1,           1,           1,           1,           1,           1,           1,           1,           1,\n",
      "                  1,           1,           1,           1,           1,           1,           1,           1,           1,           1,           1,           1,           1,           1,           1,           1,           1,           1,           1,           1,           1,           1,           1,\n",
      "                  1,           1,           1,           1,           1,           1,           1,           1,           1,           1,           1,           1,           1,           1,           1,           1,           1,           1,           1,           1,           1,           1,           1,\n",
      "                  1,           1,           1,           1,           1,           1,           1,           1,           1,           1,           1,           1,           1,           1,           1,           1,           1,           1,           1,           1,           1,           1,           1,\n",
      "                  1,           1,           1,           1,           1,           1,           1,           1,           1,           1,           1,           1,           1,           1,           1,           1,           1,           1,           1,           1,           1,           1,           1,\n",
      "                  1,           1,           1,           1,           1,           1,           1,           1,           1,           1,           1,           1,           1,           1,           1,           1,           1,           1,           1,           1,           1,           1,           1,\n",
      "                  1,           1,           1,           1,           1,           1,           1,           1,           1,           1,           1,           1,           1,           1,           1,           1,           1,           1,           1,           1,           1,           1,           1,\n",
      "                  1,           1,           1,           1,           1,           1,           1,           1,           1,           1,           1,           1,           1,           1,           1,           1,           1,           1,           1,           1,           1,           1,           1,\n",
      "                  1,           1,           1,           1,           1,           1,           1,           1,           1,           1,           1,           1,           1,           1,           1,           1,           1,           1,           1,           1,           1,           1,           1,\n",
      "                  1,           1,           1,           1,           1,           1,           1,           1,           1,           1,           1]]), 'Confidence', 'Precision'], [array([          0,    0.001001,    0.002002,    0.003003,    0.004004,    0.005005,    0.006006,    0.007007,    0.008008,    0.009009,     0.01001,    0.011011,    0.012012,    0.013013,    0.014014,    0.015015,    0.016016,    0.017017,    0.018018,    0.019019,     0.02002,    0.021021,    0.022022,    0.023023,\n",
      "          0.024024,    0.025025,    0.026026,    0.027027,    0.028028,    0.029029,     0.03003,    0.031031,    0.032032,    0.033033,    0.034034,    0.035035,    0.036036,    0.037037,    0.038038,    0.039039,     0.04004,    0.041041,    0.042042,    0.043043,    0.044044,    0.045045,    0.046046,    0.047047,\n",
      "          0.048048,    0.049049,     0.05005,    0.051051,    0.052052,    0.053053,    0.054054,    0.055055,    0.056056,    0.057057,    0.058058,    0.059059,     0.06006,    0.061061,    0.062062,    0.063063,    0.064064,    0.065065,    0.066066,    0.067067,    0.068068,    0.069069,     0.07007,    0.071071,\n",
      "          0.072072,    0.073073,    0.074074,    0.075075,    0.076076,    0.077077,    0.078078,    0.079079,     0.08008,    0.081081,    0.082082,    0.083083,    0.084084,    0.085085,    0.086086,    0.087087,    0.088088,    0.089089,     0.09009,    0.091091,    0.092092,    0.093093,    0.094094,    0.095095,\n",
      "          0.096096,    0.097097,    0.098098,    0.099099,      0.1001,      0.1011,      0.1021,      0.1031,      0.1041,     0.10511,     0.10611,     0.10711,     0.10811,     0.10911,     0.11011,     0.11111,     0.11211,     0.11311,     0.11411,     0.11512,     0.11612,     0.11712,     0.11812,     0.11912,\n",
      "           0.12012,     0.12112,     0.12212,     0.12312,     0.12412,     0.12513,     0.12613,     0.12713,     0.12813,     0.12913,     0.13013,     0.13113,     0.13213,     0.13313,     0.13413,     0.13514,     0.13614,     0.13714,     0.13814,     0.13914,     0.14014,     0.14114,     0.14214,     0.14314,\n",
      "           0.14414,     0.14515,     0.14615,     0.14715,     0.14815,     0.14915,     0.15015,     0.15115,     0.15215,     0.15315,     0.15415,     0.15516,     0.15616,     0.15716,     0.15816,     0.15916,     0.16016,     0.16116,     0.16216,     0.16316,     0.16416,     0.16517,     0.16617,     0.16717,\n",
      "           0.16817,     0.16917,     0.17017,     0.17117,     0.17217,     0.17317,     0.17417,     0.17518,     0.17618,     0.17718,     0.17818,     0.17918,     0.18018,     0.18118,     0.18218,     0.18318,     0.18418,     0.18519,     0.18619,     0.18719,     0.18819,     0.18919,     0.19019,     0.19119,\n",
      "           0.19219,     0.19319,     0.19419,      0.1952,      0.1962,      0.1972,      0.1982,      0.1992,      0.2002,      0.2012,      0.2022,      0.2032,      0.2042,     0.20521,     0.20621,     0.20721,     0.20821,     0.20921,     0.21021,     0.21121,     0.21221,     0.21321,     0.21421,     0.21522,\n",
      "           0.21622,     0.21722,     0.21822,     0.21922,     0.22022,     0.22122,     0.22222,     0.22322,     0.22422,     0.22523,     0.22623,     0.22723,     0.22823,     0.22923,     0.23023,     0.23123,     0.23223,     0.23323,     0.23423,     0.23524,     0.23624,     0.23724,     0.23824,     0.23924,\n",
      "           0.24024,     0.24124,     0.24224,     0.24324,     0.24424,     0.24525,     0.24625,     0.24725,     0.24825,     0.24925,     0.25025,     0.25125,     0.25225,     0.25325,     0.25425,     0.25526,     0.25626,     0.25726,     0.25826,     0.25926,     0.26026,     0.26126,     0.26226,     0.26326,\n",
      "           0.26426,     0.26527,     0.26627,     0.26727,     0.26827,     0.26927,     0.27027,     0.27127,     0.27227,     0.27327,     0.27427,     0.27528,     0.27628,     0.27728,     0.27828,     0.27928,     0.28028,     0.28128,     0.28228,     0.28328,     0.28428,     0.28529,     0.28629,     0.28729,\n",
      "           0.28829,     0.28929,     0.29029,     0.29129,     0.29229,     0.29329,     0.29429,      0.2953,      0.2963,      0.2973,      0.2983,      0.2993,      0.3003,      0.3013,      0.3023,      0.3033,      0.3043,     0.30531,     0.30631,     0.30731,     0.30831,     0.30931,     0.31031,     0.31131,\n",
      "           0.31231,     0.31331,     0.31431,     0.31532,     0.31632,     0.31732,     0.31832,     0.31932,     0.32032,     0.32132,     0.32232,     0.32332,     0.32432,     0.32533,     0.32633,     0.32733,     0.32833,     0.32933,     0.33033,     0.33133,     0.33233,     0.33333,     0.33433,     0.33534,\n",
      "           0.33634,     0.33734,     0.33834,     0.33934,     0.34034,     0.34134,     0.34234,     0.34334,     0.34434,     0.34535,     0.34635,     0.34735,     0.34835,     0.34935,     0.35035,     0.35135,     0.35235,     0.35335,     0.35435,     0.35536,     0.35636,     0.35736,     0.35836,     0.35936,\n",
      "           0.36036,     0.36136,     0.36236,     0.36336,     0.36436,     0.36537,     0.36637,     0.36737,     0.36837,     0.36937,     0.37037,     0.37137,     0.37237,     0.37337,     0.37437,     0.37538,     0.37638,     0.37738,     0.37838,     0.37938,     0.38038,     0.38138,     0.38238,     0.38338,\n",
      "           0.38438,     0.38539,     0.38639,     0.38739,     0.38839,     0.38939,     0.39039,     0.39139,     0.39239,     0.39339,     0.39439,      0.3954,      0.3964,      0.3974,      0.3984,      0.3994,      0.4004,      0.4014,      0.4024,      0.4034,      0.4044,     0.40541,     0.40641,     0.40741,\n",
      "           0.40841,     0.40941,     0.41041,     0.41141,     0.41241,     0.41341,     0.41441,     0.41542,     0.41642,     0.41742,     0.41842,     0.41942,     0.42042,     0.42142,     0.42242,     0.42342,     0.42442,     0.42543,     0.42643,     0.42743,     0.42843,     0.42943,     0.43043,     0.43143,\n",
      "           0.43243,     0.43343,     0.43443,     0.43544,     0.43644,     0.43744,     0.43844,     0.43944,     0.44044,     0.44144,     0.44244,     0.44344,     0.44444,     0.44545,     0.44645,     0.44745,     0.44845,     0.44945,     0.45045,     0.45145,     0.45245,     0.45345,     0.45445,     0.45546,\n",
      "           0.45646,     0.45746,     0.45846,     0.45946,     0.46046,     0.46146,     0.46246,     0.46346,     0.46446,     0.46547,     0.46647,     0.46747,     0.46847,     0.46947,     0.47047,     0.47147,     0.47247,     0.47347,     0.47447,     0.47548,     0.47648,     0.47748,     0.47848,     0.47948,\n",
      "           0.48048,     0.48148,     0.48248,     0.48348,     0.48448,     0.48549,     0.48649,     0.48749,     0.48849,     0.48949,     0.49049,     0.49149,     0.49249,     0.49349,     0.49449,      0.4955,      0.4965,      0.4975,      0.4985,      0.4995,      0.5005,      0.5015,      0.5025,      0.5035,\n",
      "            0.5045,     0.50551,     0.50651,     0.50751,     0.50851,     0.50951,     0.51051,     0.51151,     0.51251,     0.51351,     0.51451,     0.51552,     0.51652,     0.51752,     0.51852,     0.51952,     0.52052,     0.52152,     0.52252,     0.52352,     0.52452,     0.52553,     0.52653,     0.52753,\n",
      "           0.52853,     0.52953,     0.53053,     0.53153,     0.53253,     0.53353,     0.53453,     0.53554,     0.53654,     0.53754,     0.53854,     0.53954,     0.54054,     0.54154,     0.54254,     0.54354,     0.54454,     0.54555,     0.54655,     0.54755,     0.54855,     0.54955,     0.55055,     0.55155,\n",
      "           0.55255,     0.55355,     0.55455,     0.55556,     0.55656,     0.55756,     0.55856,     0.55956,     0.56056,     0.56156,     0.56256,     0.56356,     0.56456,     0.56557,     0.56657,     0.56757,     0.56857,     0.56957,     0.57057,     0.57157,     0.57257,     0.57357,     0.57457,     0.57558,\n",
      "           0.57658,     0.57758,     0.57858,     0.57958,     0.58058,     0.58158,     0.58258,     0.58358,     0.58458,     0.58559,     0.58659,     0.58759,     0.58859,     0.58959,     0.59059,     0.59159,     0.59259,     0.59359,     0.59459,      0.5956,      0.5966,      0.5976,      0.5986,      0.5996,\n",
      "            0.6006,      0.6016,      0.6026,      0.6036,      0.6046,     0.60561,     0.60661,     0.60761,     0.60861,     0.60961,     0.61061,     0.61161,     0.61261,     0.61361,     0.61461,     0.61562,     0.61662,     0.61762,     0.61862,     0.61962,     0.62062,     0.62162,     0.62262,     0.62362,\n",
      "           0.62462,     0.62563,     0.62663,     0.62763,     0.62863,     0.62963,     0.63063,     0.63163,     0.63263,     0.63363,     0.63463,     0.63564,     0.63664,     0.63764,     0.63864,     0.63964,     0.64064,     0.64164,     0.64264,     0.64364,     0.64464,     0.64565,     0.64665,     0.64765,\n",
      "           0.64865,     0.64965,     0.65065,     0.65165,     0.65265,     0.65365,     0.65465,     0.65566,     0.65666,     0.65766,     0.65866,     0.65966,     0.66066,     0.66166,     0.66266,     0.66366,     0.66466,     0.66567,     0.66667,     0.66767,     0.66867,     0.66967,     0.67067,     0.67167,\n",
      "           0.67267,     0.67367,     0.67467,     0.67568,     0.67668,     0.67768,     0.67868,     0.67968,     0.68068,     0.68168,     0.68268,     0.68368,     0.68468,     0.68569,     0.68669,     0.68769,     0.68869,     0.68969,     0.69069,     0.69169,     0.69269,     0.69369,     0.69469,      0.6957,\n",
      "            0.6967,      0.6977,      0.6987,      0.6997,      0.7007,      0.7017,      0.7027,      0.7037,      0.7047,     0.70571,     0.70671,     0.70771,     0.70871,     0.70971,     0.71071,     0.71171,     0.71271,     0.71371,     0.71471,     0.71572,     0.71672,     0.71772,     0.71872,     0.71972,\n",
      "           0.72072,     0.72172,     0.72272,     0.72372,     0.72472,     0.72573,     0.72673,     0.72773,     0.72873,     0.72973,     0.73073,     0.73173,     0.73273,     0.73373,     0.73473,     0.73574,     0.73674,     0.73774,     0.73874,     0.73974,     0.74074,     0.74174,     0.74274,     0.74374,\n",
      "           0.74474,     0.74575,     0.74675,     0.74775,     0.74875,     0.74975,     0.75075,     0.75175,     0.75275,     0.75375,     0.75475,     0.75576,     0.75676,     0.75776,     0.75876,     0.75976,     0.76076,     0.76176,     0.76276,     0.76376,     0.76476,     0.76577,     0.76677,     0.76777,\n",
      "           0.76877,     0.76977,     0.77077,     0.77177,     0.77277,     0.77377,     0.77477,     0.77578,     0.77678,     0.77778,     0.77878,     0.77978,     0.78078,     0.78178,     0.78278,     0.78378,     0.78478,     0.78579,     0.78679,     0.78779,     0.78879,     0.78979,     0.79079,     0.79179,\n",
      "           0.79279,     0.79379,     0.79479,      0.7958,      0.7968,      0.7978,      0.7988,      0.7998,      0.8008,      0.8018,      0.8028,      0.8038,      0.8048,     0.80581,     0.80681,     0.80781,     0.80881,     0.80981,     0.81081,     0.81181,     0.81281,     0.81381,     0.81481,     0.81582,\n",
      "           0.81682,     0.81782,     0.81882,     0.81982,     0.82082,     0.82182,     0.82282,     0.82382,     0.82482,     0.82583,     0.82683,     0.82783,     0.82883,     0.82983,     0.83083,     0.83183,     0.83283,     0.83383,     0.83483,     0.83584,     0.83684,     0.83784,     0.83884,     0.83984,\n",
      "           0.84084,     0.84184,     0.84284,     0.84384,     0.84484,     0.84585,     0.84685,     0.84785,     0.84885,     0.84985,     0.85085,     0.85185,     0.85285,     0.85385,     0.85485,     0.85586,     0.85686,     0.85786,     0.85886,     0.85986,     0.86086,     0.86186,     0.86286,     0.86386,\n",
      "           0.86486,     0.86587,     0.86687,     0.86787,     0.86887,     0.86987,     0.87087,     0.87187,     0.87287,     0.87387,     0.87487,     0.87588,     0.87688,     0.87788,     0.87888,     0.87988,     0.88088,     0.88188,     0.88288,     0.88388,     0.88488,     0.88589,     0.88689,     0.88789,\n",
      "           0.88889,     0.88989,     0.89089,     0.89189,     0.89289,     0.89389,     0.89489,      0.8959,      0.8969,      0.8979,      0.8989,      0.8999,      0.9009,      0.9019,      0.9029,      0.9039,      0.9049,     0.90591,     0.90691,     0.90791,     0.90891,     0.90991,     0.91091,     0.91191,\n",
      "           0.91291,     0.91391,     0.91491,     0.91592,     0.91692,     0.91792,     0.91892,     0.91992,     0.92092,     0.92192,     0.92292,     0.92392,     0.92492,     0.92593,     0.92693,     0.92793,     0.92893,     0.92993,     0.93093,     0.93193,     0.93293,     0.93393,     0.93493,     0.93594,\n",
      "           0.93694,     0.93794,     0.93894,     0.93994,     0.94094,     0.94194,     0.94294,     0.94394,     0.94494,     0.94595,     0.94695,     0.94795,     0.94895,     0.94995,     0.95095,     0.95195,     0.95295,     0.95395,     0.95495,     0.95596,     0.95696,     0.95796,     0.95896,     0.95996,\n",
      "           0.96096,     0.96196,     0.96296,     0.96396,     0.96496,     0.96597,     0.96697,     0.96797,     0.96897,     0.96997,     0.97097,     0.97197,     0.97297,     0.97397,     0.97497,     0.97598,     0.97698,     0.97798,     0.97898,     0.97998,     0.98098,     0.98198,     0.98298,     0.98398,\n",
      "           0.98498,     0.98599,     0.98699,     0.98799,     0.98899,     0.98999,     0.99099,     0.99199,     0.99299,     0.99399,     0.99499,       0.996,       0.997,       0.998,       0.999,           1]), array([[     0.9916,      0.9916,      0.9916,      0.9916,      0.9916,      0.9916,      0.9916,      0.9916,      0.9916,      0.9916,     0.98319,     0.98319,     0.98319,     0.98319,     0.98319,     0.98319,     0.98319,     0.98319,     0.98319,     0.98319,     0.98319,     0.98319,     0.98319,\n",
      "            0.98319,     0.98319,     0.98319,     0.98319,     0.98319,     0.98319,     0.98319,     0.98319,     0.98319,     0.98319,     0.98319,     0.98319,     0.98319,     0.98319,     0.98319,     0.98319,     0.98319,     0.98319,     0.98319,     0.98319,     0.98319,      0.9815,     0.97733,\n",
      "            0.97479,     0.97479,     0.97479,     0.97479,     0.97479,     0.97479,     0.97479,     0.97479,     0.97479,     0.97479,     0.97479,     0.97479,     0.97479,     0.97479,     0.97479,     0.97479,     0.97479,     0.97479,     0.97328,     0.97062,     0.96796,     0.96639,     0.96639,\n",
      "            0.96639,     0.96639,     0.96639,     0.96639,     0.96639,     0.96639,     0.96639,     0.96639,     0.96639,     0.96639,     0.96639,     0.96639,     0.96639,     0.96639,     0.96639,     0.96639,     0.96639,     0.96639,     0.96639,     0.96639,     0.96639,     0.96639,     0.96639,\n",
      "            0.96639,     0.96639,     0.96639,     0.96639,     0.96639,     0.96639,     0.96639,     0.96639,     0.96639,     0.96639,     0.96639,     0.96639,     0.96639,     0.96639,     0.96639,     0.96639,     0.96639,     0.96639,     0.96639,     0.96639,     0.96639,     0.96639,     0.96639,\n",
      "            0.96639,     0.96639,     0.96639,     0.96634,      0.9661,     0.96587,     0.96563,      0.9654,     0.96517,     0.96493,      0.9647,     0.96447,     0.96423,       0.964,     0.96376,     0.96353,      0.9633,     0.96306,     0.96283,     0.96259,     0.96236,     0.96213,     0.96189,\n",
      "            0.96166,     0.96142,     0.96119,     0.96096,     0.96072,     0.96049,     0.96026,     0.96002,     0.95979,     0.95955,     0.95932,     0.95909,     0.95885,     0.95862,     0.95838,     0.95815,     0.95798,     0.95798,     0.95798,     0.95798,     0.95798,     0.95798,     0.95798,\n",
      "            0.95798,     0.95798,     0.95798,     0.95798,     0.95798,     0.95798,     0.95798,     0.95798,     0.95798,     0.95798,     0.95798,     0.95798,     0.95798,     0.95798,     0.95798,     0.95798,     0.95798,     0.95798,     0.95798,     0.95798,     0.95798,     0.95798,     0.95798,\n",
      "            0.95798,     0.95798,     0.95798,     0.95798,     0.95798,     0.95798,     0.95798,     0.95798,     0.95798,     0.95798,     0.95798,     0.95798,     0.95798,     0.95798,     0.95798,     0.95798,     0.95798,     0.95798,     0.95798,     0.95798,     0.95798,     0.95798,     0.95798,\n",
      "            0.95798,     0.95798,     0.95798,     0.95798,     0.95798,     0.95793,     0.95746,     0.95698,      0.9565,     0.95602,     0.95554,     0.95506,     0.95459,     0.95411,     0.95363,     0.95315,     0.95267,     0.95219,     0.95171,     0.95124,     0.95076,     0.95028,      0.9498,\n",
      "            0.94943,     0.94914,     0.94885,     0.94856,     0.94828,     0.94799,      0.9477,     0.94741,     0.94713,     0.94684,     0.94655,     0.94626,     0.94598,     0.94569,      0.9454,     0.94512,     0.94483,     0.94454,     0.94425,     0.94397,     0.94368,     0.94339,      0.9431,\n",
      "            0.94282,     0.94253,     0.94224,     0.94195,     0.94167,     0.94138,     0.94118,     0.94118,     0.94118,     0.94118,     0.94118,     0.94118,     0.94118,     0.94118,     0.94118,     0.94118,     0.94118,     0.94118,     0.94118,     0.94118,     0.94118,     0.94118,     0.94118,\n",
      "            0.94118,     0.94118,     0.94118,     0.94118,     0.94118,     0.94118,     0.94118,     0.94118,     0.94118,     0.94118,     0.94118,     0.94118,     0.94118,     0.94118,     0.94118,     0.94118,     0.94118,     0.94118,     0.94118,     0.94118,     0.94118,     0.94118,     0.94118,\n",
      "            0.94118,     0.94118,     0.94118,     0.94118,     0.94118,     0.94118,     0.94118,     0.94118,     0.94118,     0.94118,     0.94118,     0.94118,     0.94118,     0.94118,     0.94118,     0.94118,     0.94118,     0.94118,     0.94118,     0.94118,     0.94118,     0.94118,     0.94118,\n",
      "            0.94118,     0.94118,     0.94118,     0.94118,     0.94118,     0.94118,     0.94118,     0.94096,     0.93942,     0.93788,     0.93633,     0.93479,     0.93325,     0.93277,     0.93277,     0.93277,     0.93277,     0.93277,     0.93277,     0.93277,     0.93277,     0.93277,     0.93277,\n",
      "            0.93277,     0.93277,     0.93277,     0.93277,     0.93277,     0.93277,     0.93277,     0.93277,     0.93277,     0.93277,     0.93277,     0.93277,     0.93277,     0.93277,     0.93277,     0.93277,     0.93277,     0.93277,     0.93277,     0.93277,     0.93277,     0.93277,     0.93277,\n",
      "            0.93277,     0.93277,     0.93277,     0.93277,     0.93277,     0.93277,     0.93277,     0.93277,     0.93277,     0.93277,     0.93277,     0.93277,     0.93277,     0.93277,     0.93277,     0.93277,     0.93277,     0.93277,     0.93277,     0.93277,     0.93277,     0.93277,     0.93277,\n",
      "            0.93277,     0.93277,     0.93277,     0.93277,     0.93277,     0.93277,     0.93277,     0.93277,     0.93277,     0.93277,     0.93277,     0.93277,     0.93277,     0.93277,     0.93277,     0.93277,     0.93277,     0.93277,     0.93277,     0.93277,     0.93277,     0.93277,     0.93277,\n",
      "            0.93277,     0.93277,     0.93277,     0.93277,     0.93277,     0.93277,     0.93277,     0.93277,     0.93277,     0.93277,     0.93277,     0.93277,     0.93277,     0.93277,     0.93277,     0.93277,     0.93277,     0.93277,     0.93277,     0.93277,     0.93277,     0.93277,     0.93277,\n",
      "            0.93277,     0.93277,     0.93277,     0.93277,     0.93277,     0.93277,     0.93277,     0.93275,      0.9326,     0.93245,      0.9323,     0.93215,       0.932,     0.93185,      0.9317,     0.93156,     0.93141,     0.93126,     0.93111,     0.93096,     0.93081,     0.93066,     0.93051,\n",
      "            0.93036,     0.93021,     0.93006,     0.92991,     0.92976,     0.92962,     0.92947,     0.92932,     0.92917,     0.92902,     0.92887,     0.92872,     0.92857,     0.92842,     0.92827,     0.92812,     0.92797,     0.92782,     0.92767,     0.92753,     0.92738,     0.92723,     0.92708,\n",
      "            0.92693,     0.92678,     0.92663,     0.92648,     0.92633,     0.92618,     0.92603,     0.92588,     0.92573,     0.92559,     0.92544,     0.92529,     0.92514,     0.92499,     0.92484,     0.92469,     0.92454,     0.92439,     0.92414,     0.92386,     0.92359,     0.92332,     0.92305,\n",
      "            0.92277,      0.9225,     0.92223,     0.92195,     0.92168,     0.92141,     0.92114,     0.92086,     0.92059,     0.92032,     0.92005,     0.91977,      0.9195,     0.91923,     0.91896,     0.91868,     0.91841,     0.91814,     0.91786,     0.91759,     0.91732,     0.91705,     0.91677,\n",
      "             0.9165,     0.91623,     0.91595,     0.91555,     0.91516,     0.91476,     0.91436,     0.91397,     0.91357,     0.91318,     0.91278,     0.91238,     0.91199,     0.91159,     0.91119,      0.9108,      0.9104,        0.91,     0.90961,     0.90921,     0.90881,     0.90842,     0.90802,\n",
      "            0.90763,     0.89861,     0.89621,     0.89382,     0.89142,     0.89024,     0.88952,      0.8888,     0.88809,     0.88737,     0.88665,     0.88594,     0.88522,      0.8845,     0.88379,     0.88307,     0.88235,     0.87343,     0.87285,     0.87228,     0.87171,     0.87114,     0.87056,\n",
      "            0.86999,     0.86942,     0.86885,     0.86827,      0.8677,     0.86713,     0.86656,     0.86598,     0.86548,     0.86522,     0.86495,     0.86469,     0.86442,     0.86415,     0.86389,     0.86362,     0.86335,     0.86309,     0.86282,     0.86256,     0.86229,     0.86202,     0.86176,\n",
      "            0.86149,     0.86122,     0.86096,     0.86069,     0.86043,     0.86016,     0.85989,     0.85963,     0.85936,     0.85909,     0.85883,     0.85856,      0.8583,     0.85803,     0.85776,      0.8575,     0.85723,     0.85714,     0.85714,     0.85714,     0.85714,     0.85714,     0.85714,\n",
      "            0.85714,     0.85714,     0.85714,     0.85714,     0.85714,     0.85714,     0.85714,     0.85714,     0.85714,     0.85714,     0.85714,     0.85714,     0.85677,     0.85624,     0.85571,     0.85519,     0.85466,     0.85413,     0.85361,     0.85308,     0.85255,     0.85202,      0.8515,\n",
      "            0.85097,     0.85044,     0.84992,     0.84939,     0.84886,     0.84762,     0.84615,     0.84468,     0.84321,     0.84175,     0.84032,     0.83989,     0.83946,     0.83903,      0.8386,     0.83817,     0.83774,     0.83731,     0.83688,     0.83646,     0.83603,      0.8356,     0.83517,\n",
      "            0.83474,     0.83431,     0.83388,     0.83345,     0.83302,     0.83259,     0.83216,     0.83051,     0.82747,     0.82442,     0.82215,     0.82021,     0.81826,     0.81631,     0.81411,     0.81151,     0.80891,     0.80557,     0.79838,     0.79303,     0.78889,     0.78644,     0.78398,\n",
      "            0.78152,     0.76872,     0.75912,      0.7552,     0.75382,     0.75243,     0.75105,     0.74966,     0.74828,     0.74307,     0.73772,     0.73388,     0.72247,     0.72001,     0.71754,     0.71507,     0.71253,     0.70996,     0.70739,     0.70533,     0.70401,     0.70269,     0.70137,\n",
      "            0.70005,     0.69873,     0.69699,     0.68743,     0.67995,     0.67823,     0.67652,     0.67481,     0.67309,     0.66811,     0.66299,     0.66114,     0.65929,     0.65743,     0.65558,     0.65101,     0.64679,     0.64516,     0.64353,     0.64191,     0.64028,     0.63866,       0.636,\n",
      "            0.63334,     0.63069,     0.62484,      0.6202,     0.61712,     0.61405,     0.61192,     0.61002,     0.60812,     0.60622,     0.60326,     0.59858,     0.59247,     0.58572,     0.57969,     0.57669,      0.5737,     0.57021,     0.56522,     0.55454,     0.55327,       0.552,     0.55072,\n",
      "            0.54945,     0.54818,     0.54691,     0.54344,     0.53728,     0.53051,     0.52853,     0.52747,     0.52642,     0.52536,      0.5243,     0.52325,     0.52219,     0.52114,     0.51822,     0.51504,     0.50851,     0.49538,     0.49408,     0.49278,     0.49147,     0.49017,     0.48887,\n",
      "            0.48757,     0.48402,     0.48012,     0.47734,     0.47501,     0.47269,     0.46999,     0.46362,     0.46218,     0.46218,     0.45983,      0.4525,     0.44859,     0.44034,     0.41659,      0.4105,     0.40625,     0.39246,     0.38262,       0.375,     0.35462,     0.33964,     0.33133,\n",
      "            0.32379,     0.31857,      0.3147,     0.31088,     0.30894,       0.307,     0.30506,     0.30312,     0.29955,     0.29526,     0.29237,     0.28999,     0.28761,     0.28182,      0.2722,     0.26001,     0.25519,     0.24938,     0.23512,     0.23035,     0.21597,     0.20093,     0.19821,\n",
      "            0.19549,     0.19147,     0.18401,     0.18129,     0.17857,      0.1695,     0.15559,     0.15016,     0.14095,     0.13621,     0.12761,     0.11819,     0.11545,     0.11311,     0.11077,     0.10747,     0.10238,    0.098912,     0.09615,    0.093388,    0.091084,    0.089021,    0.086957,\n",
      "           0.084893,    0.081336,    0.076711,    0.074105,    0.072114,    0.070123,    0.068132,    0.065774,    0.063111,    0.060449,    0.056405,    0.045735,     0.03342,    0.033049,    0.032678,    0.032307,    0.031936,    0.031565,    0.031194,    0.030823,    0.030452,    0.030081,     0.02971,\n",
      "            0.02934,    0.028969,    0.028598,    0.028227,    0.027856,    0.027485,    0.027114,    0.026743,    0.026372,    0.026001,     0.02563,    0.025259,    0.024301,    0.023253,    0.022205,    0.021156,    0.020108,     0.01906,    0.018012,    0.016964,    0.016464,     0.01606,    0.015656,\n",
      "           0.015253,    0.014849,    0.014446,    0.014042,    0.013638,    0.013235,    0.012831,    0.012427,    0.012024,     0.01162,    0.011217,    0.010813,    0.010409,    0.010006,   0.0096022,   0.0091986,    0.008795,           0,           0,           0,           0,           0,           0,\n",
      "                  0,           0,           0,           0,           0,           0,           0,           0,           0,           0,           0,           0,           0,           0,           0,           0,           0,           0,           0,           0,           0,           0,           0,\n",
      "                  0,           0,           0,           0,           0,           0,           0,           0,           0,           0,           0,           0,           0,           0,           0,           0,           0,           0,           0,           0,           0,           0,           0,\n",
      "                  0,           0,           0,           0,           0,           0,           0,           0,           0,           0,           0,           0,           0,           0,           0,           0,           0,           0,           0,           0,           0,           0,           0,\n",
      "                  0,           0,           0,           0,           0,           0,           0,           0,           0,           0,           0]]), 'Confidence', 'Recall']]\n",
      "fitness: np.float64(0.6609451807644462)\n",
      "keys: ['metrics/precision(B)', 'metrics/recall(B)', 'metrics/mAP50(B)', 'metrics/mAP50-95(B)']\n",
      "maps: array([    0.62543])\n",
      "names: {0: 'car'}\n",
      "nt_per_class: array([119])\n",
      "nt_per_image: array([71])\n",
      "results_dict: {'metrics/precision(B)': np.float64(0.9808973956639548), 'metrics/recall(B)': np.float64(0.9327731092436975), 'metrics/mAP50(B)': np.float64(0.9806028961389156), 'metrics/mAP50-95(B)': np.float64(0.6254276568339495), 'fitness': np.float64(0.6609451807644462)}\n",
      "save_dir: WindowsPath('runs/detect/car_detection_modelv822')\n",
      "speed: {'preprocess': 1.3549943662799475, 'inference': 74.97169295787847, 'loss': 0.0004000000739273366, 'postprocess': 8.69825211282685}\n",
      "stats: {'tp': [], 'conf': [], 'pred_cls': [], 'target_cls': [], 'target_img': []}\n",
      "task: 'detect'\n"
     ]
    }
   ],
   "source": [
    "# Evaluate the model on the validation set\n",
    "metrics = model.val()\n",
    "print(metrics)"
   ]
  },
  {
   "cell_type": "code",
   "execution_count": 6,
   "id": "d83bbb64-84d5-489f-a4bf-799d1b4b8de5",
   "metadata": {},
   "outputs": [
    {
     "name": "stdout",
     "output_type": "stream",
     "text": [
      "\n",
      "image 1/1 C:\\Users\\ervin\\Documents\\img-assignment\\kaggle\\versions\\2\\data\\testing_images\\vid_5_26620.jpg: 384x640 1 car, 165.3ms\n",
      "Speed: 4.6ms preprocess, 165.3ms inference, 3.1ms postprocess per image at shape (1, 3, 384, 640)\n"
     ]
    }
   ],
   "source": [
    "test_image_path = os.path.join(test_data, 'vid_5_26620.jpg')\n",
    "results = model(test_image_path)\n",
    "\n",
    "results[0].show()"
   ]
  },
  {
   "cell_type": "code",
   "execution_count": 7,
   "id": "a776685f-d9cf-48e9-a700-6f5b4a9de3bc",
   "metadata": {},
   "outputs": [
    {
     "name": "stdout",
     "output_type": "stream",
     "text": [
      "\n",
      "image 1/1 C:\\Users\\ervin\\Documents\\img-assignment\\kaggle\\versions\\2\\data\\testing_images\\vid_5_26660.jpg: 384x640 1 car, 124.2ms\n",
      "Speed: 4.3ms preprocess, 124.2ms inference, 2.3ms postprocess per image at shape (1, 3, 384, 640)\n",
      "\n",
      "image 1/1 C:\\Users\\ervin\\Documents\\img-assignment\\kaggle\\versions\\2\\data\\testing_images\\vid_5_28580.jpg: 384x640 (no detections), 148.4ms\n",
      "Speed: 5.1ms preprocess, 148.4ms inference, 1.6ms postprocess per image at shape (1, 3, 384, 640)\n",
      "\n",
      "image 1/1 C:\\Users\\ervin\\Documents\\img-assignment\\kaggle\\versions\\2\\data\\testing_images\\vid_5_31260.jpg: 384x640 (no detections), 213.5ms\n",
      "Speed: 10.2ms preprocess, 213.5ms inference, 1.5ms postprocess per image at shape (1, 3, 384, 640)\n",
      "\n",
      "image 1/1 C:\\Users\\ervin\\Documents\\img-assignment\\kaggle\\versions\\2\\data\\testing_images\\vid_5_25180.jpg: 384x640 (no detections), 380.1ms\n",
      "Speed: 9.7ms preprocess, 380.1ms inference, 2.0ms postprocess per image at shape (1, 3, 384, 640)\n",
      "\n",
      "image 1/1 C:\\Users\\ervin\\Documents\\img-assignment\\kaggle\\versions\\2\\data\\testing_images\\vid_5_27920.jpg: 384x640 1 car, 415.5ms\n",
      "Speed: 15.2ms preprocess, 415.5ms inference, 3.1ms postprocess per image at shape (1, 3, 384, 640)\n",
      "\n",
      "image 1/1 C:\\Users\\ervin\\Documents\\img-assignment\\kaggle\\versions\\2\\data\\testing_images\\vid_5_25140.jpg: 384x640 (no detections), 329.3ms\n",
      "Speed: 50.5ms preprocess, 329.3ms inference, 1.5ms postprocess per image at shape (1, 3, 384, 640)\n",
      "\n",
      "image 1/1 C:\\Users\\ervin\\Documents\\img-assignment\\kaggle\\versions\\2\\data\\testing_images\\vid_5_26640.jpg: 384x640 3 cars, 251.2ms\n",
      "Speed: 9.0ms preprocess, 251.2ms inference, 4.6ms postprocess per image at shape (1, 3, 384, 640)\n",
      "\n",
      "image 1/1 C:\\Users\\ervin\\Documents\\img-assignment\\kaggle\\versions\\2\\data\\testing_images\\vid_5_440.jpg: 384x640 1 car, 271.2ms\n",
      "Speed: 14.4ms preprocess, 271.2ms inference, 2.9ms postprocess per image at shape (1, 3, 384, 640)\n",
      "\n",
      "image 1/1 C:\\Users\\ervin\\Documents\\img-assignment\\kaggle\\versions\\2\\data\\testing_images\\vid_5_31560.jpg: 384x640 1 car, 278.6ms\n",
      "Speed: 16.0ms preprocess, 278.6ms inference, 2.8ms postprocess per image at shape (1, 3, 384, 640)\n",
      "\n",
      "image 1/1 C:\\Users\\ervin\\Documents\\img-assignment\\kaggle\\versions\\2\\data\\testing_images\\vid_5_27500.jpg: 384x640 1 car, 284.8ms\n",
      "Speed: 6.9ms preprocess, 284.8ms inference, 4.0ms postprocess per image at shape (1, 3, 384, 640)\n",
      "\n",
      "image 1/1 C:\\Users\\ervin\\Documents\\img-assignment\\kaggle\\versions\\2\\data\\testing_images\\vid_5_30640.jpg: 384x640 1 car, 255.8ms\n",
      "Speed: 12.2ms preprocess, 255.8ms inference, 2.7ms postprocess per image at shape (1, 3, 384, 640)\n",
      "\n",
      "image 1/1 C:\\Users\\ervin\\Documents\\img-assignment\\kaggle\\versions\\2\\data\\testing_images\\vid_5_26700.jpg: 384x640 2 cars, 314.6ms\n",
      "Speed: 14.6ms preprocess, 314.6ms inference, 4.7ms postprocess per image at shape (1, 3, 384, 640)\n",
      "\n",
      "image 1/1 C:\\Users\\ervin\\Documents\\img-assignment\\kaggle\\versions\\2\\data\\testing_images\\vid_5_28680.jpg: 384x640 (no detections), 256.8ms\n",
      "Speed: 12.4ms preprocess, 256.8ms inference, 1.6ms postprocess per image at shape (1, 3, 384, 640)\n",
      "\n",
      "image 1/1 C:\\Users\\ervin\\Documents\\img-assignment\\kaggle\\versions\\2\\data\\testing_images\\vid_5_29100.jpg: 384x640 (no detections), 347.2ms\n",
      "Speed: 69.6ms preprocess, 347.2ms inference, 1.7ms postprocess per image at shape (1, 3, 384, 640)\n",
      "\n",
      "image 1/1 C:\\Users\\ervin\\Documents\\img-assignment\\kaggle\\versions\\2\\data\\testing_images\\vid_5_25220.jpg: 384x640 (no detections), 261.0ms\n",
      "Speed: 10.6ms preprocess, 261.0ms inference, 1.4ms postprocess per image at shape (1, 3, 384, 640)\n",
      "\n",
      "image 1/1 C:\\Users\\ervin\\Documents\\img-assignment\\kaggle\\versions\\2\\data\\testing_images\\vid_5_27780.jpg: 384x640 (no detections), 419.2ms\n",
      "Speed: 13.9ms preprocess, 419.2ms inference, 1.7ms postprocess per image at shape (1, 3, 384, 640)\n",
      "\n",
      "image 1/1 C:\\Users\\ervin\\Documents\\img-assignment\\kaggle\\versions\\2\\data\\testing_images\\vid_5_28440.jpg: 384x640 1 car, 324.7ms\n",
      "Speed: 55.6ms preprocess, 324.7ms inference, 2.2ms postprocess per image at shape (1, 3, 384, 640)\n",
      "\n",
      "image 1/1 C:\\Users\\ervin\\Documents\\img-assignment\\kaggle\\versions\\2\\data\\testing_images\\vid_5_27960.jpg: 384x640 (no detections), 368.4ms\n",
      "Speed: 31.4ms preprocess, 368.4ms inference, 2.7ms postprocess per image at shape (1, 3, 384, 640)\n",
      "\n",
      "image 1/1 C:\\Users\\ervin\\Documents\\img-assignment\\kaggle\\versions\\2\\data\\testing_images\\vid_5_26800.jpg: 384x640 3 cars, 289.3ms\n",
      "Speed: 17.9ms preprocess, 289.3ms inference, 2.4ms postprocess per image at shape (1, 3, 384, 640)\n",
      "\n",
      "image 1/1 C:\\Users\\ervin\\Documents\\img-assignment\\kaggle\\versions\\2\\data\\testing_images\\vid_5_26740.jpg: 384x640 3 cars, 325.4ms\n",
      "Speed: 41.8ms preprocess, 325.4ms inference, 3.2ms postprocess per image at shape (1, 3, 384, 640)\n",
      "\n",
      "image 1/1 C:\\Users\\ervin\\Documents\\img-assignment\\kaggle\\versions\\2\\data\\testing_images\\vid_5_27840.jpg: 384x640 1 car, 306.5ms\n",
      "Speed: 20.1ms preprocess, 306.5ms inference, 2.2ms postprocess per image at shape (1, 3, 384, 640)\n",
      "\n",
      "image 1/1 C:\\Users\\ervin\\Documents\\img-assignment\\kaggle\\versions\\2\\data\\testing_images\\vid_5_31600.jpg: 384x640 2 cars, 377.5ms\n",
      "Speed: 62.4ms preprocess, 377.5ms inference, 5.9ms postprocess per image at shape (1, 3, 384, 640)\n",
      "\n",
      "image 1/1 C:\\Users\\ervin\\Documents\\img-assignment\\kaggle\\versions\\2\\data\\testing_images\\vid_5_28700.jpg: 384x640 (no detections), 505.7ms\n",
      "Speed: 7.9ms preprocess, 505.7ms inference, 2.5ms postprocess per image at shape (1, 3, 384, 640)\n",
      "\n",
      "image 1/1 C:\\Users\\ervin\\Documents\\img-assignment\\kaggle\\versions\\2\\data\\testing_images\\vid_5_27460.jpg: 384x640 3 cars, 364.1ms\n",
      "Speed: 17.9ms preprocess, 364.1ms inference, 4.9ms postprocess per image at shape (1, 3, 384, 640)\n",
      "\n",
      "image 1/1 C:\\Users\\ervin\\Documents\\img-assignment\\kaggle\\versions\\2\\data\\testing_images\\vid_5_29520.jpg: 384x640 (no detections), 593.7ms\n",
      "Speed: 6.8ms preprocess, 593.7ms inference, 1.5ms postprocess per image at shape (1, 3, 384, 640)\n",
      "\n",
      "image 1/1 C:\\Users\\ervin\\Documents\\img-assignment\\kaggle\\versions\\2\\data\\testing_images\\vid_5_30760.jpg: 384x640 1 car, 330.0ms\n",
      "Speed: 8.5ms preprocess, 330.0ms inference, 3.2ms postprocess per image at shape (1, 3, 384, 640)\n",
      "\n",
      "image 1/1 C:\\Users\\ervin\\Documents\\img-assignment\\kaggle\\versions\\2\\data\\testing_images\\vid_5_28500.jpg: 384x640 1 car, 393.3ms\n",
      "Speed: 12.8ms preprocess, 393.3ms inference, 5.1ms postprocess per image at shape (1, 3, 384, 640)\n",
      "\n",
      "image 1/1 C:\\Users\\ervin\\Documents\\img-assignment\\kaggle\\versions\\2\\data\\testing_images\\vid_5_26820.jpg: 384x640 2 cars, 464.4ms\n",
      "Speed: 15.7ms preprocess, 464.4ms inference, 2.6ms postprocess per image at shape (1, 3, 384, 640)\n",
      "\n",
      "image 1/1 C:\\Users\\ervin\\Documents\\img-assignment\\kaggle\\versions\\2\\data\\testing_images\\vid_5_31120.jpg: 384x640 2 cars, 520.0ms\n",
      "Speed: 18.5ms preprocess, 520.0ms inference, 2.5ms postprocess per image at shape (1, 3, 384, 640)\n",
      "\n",
      "image 1/1 C:\\Users\\ervin\\Documents\\img-assignment\\kaggle\\versions\\2\\data\\testing_images\\vid_5_28040.jpg: 384x640 (no detections), 426.8ms\n",
      "Speed: 10.7ms preprocess, 426.8ms inference, 9.3ms postprocess per image at shape (1, 3, 384, 640)\n"
     ]
    }
   ],
   "source": [
    "# Get a list of all image filenames in the test directory\n",
    "test_images = glob(f'{test_data}/*.jpg')\n",
    "\n",
    "# Select 30 random image paths from the test data\n",
    "random_test_images = np.random.choice(test_images, size=30, replace=False)\n",
    "\n",
    "# Function to display images with predictions\n",
    "def plot_predictions(image_paths, model):\n",
    "    for img_path in image_paths:\n",
    "        # Perform inference\n",
    "        results = model(img_path)\n",
    "\n",
    "        # Display the results\n",
    "        results[0].show()\n",
    "\n",
    "# Plot predictions on the random test images\n",
    "plot_predictions(random_test_images, model)"
   ]
  },
  {
   "cell_type": "code",
   "execution_count": 8,
   "id": "8c2245c1-7ee6-4a5d-9e86-843f5936b388",
   "metadata": {},
   "outputs": [
    {
     "name": "stdout",
     "output_type": "stream",
     "text": [
      "Ultralytics 8.3.170  Python-3.12.6 torch-2.7.1+cpu CPU (Intel Core(TM) i5-10210U 1.60GHz)\n",
      "\n",
      "\u001b[34m\u001b[1mPyTorch:\u001b[0m starting from 'runs\\detect\\car_detection_modelv82\\weights\\best.pt' with input shape (1, 3, 640, 640) BCHW and output shape(s) (1, 5, 8400) (5.9 MB)\n",
      "\n",
      "\u001b[34m\u001b[1mTorchScript:\u001b[0m starting export with torch 2.7.1+cpu...\n",
      "\u001b[34m\u001b[1mTorchScript:\u001b[0m export success  7.2s, saved as 'runs\\detect\\car_detection_modelv82\\weights\\best.torchscript' (11.9 MB)\n",
      "\n",
      "Export complete (9.0s)\n",
      "Results saved to \u001b[1mC:\\Users\\ervin\\Documents\\img-assignment\\runs\\detect\\car_detection_modelv82\\weights\u001b[0m\n",
      "Predict:         yolo predict task=detect model=runs\\detect\\car_detection_modelv82\\weights\\best.torchscript imgsz=640  \n",
      "Validate:        yolo val task=detect model=runs\\detect\\car_detection_modelv82\\weights\\best.torchscript imgsz=640 data=./kaggle/working/data/data.yaml  \n",
      "Visualize:       https://netron.app\n"
     ]
    },
    {
     "data": {
      "text/plain": [
       "'runs\\\\detect\\\\car_detection_modelv82\\\\weights\\\\best.torchscript'"
      ]
     },
     "execution_count": 8,
     "metadata": {},
     "output_type": "execute_result"
    }
   ],
   "source": [
    "model.export()"
   ]
  }
 ],
 "metadata": {
  "kernelspec": {
   "display_name": "Python 3 (ipykernel)",
   "language": "python",
   "name": "python3"
  },
  "language_info": {
   "codemirror_mode": {
    "name": "ipython",
    "version": 3
   },
   "file_extension": ".py",
   "mimetype": "text/x-python",
   "name": "python",
   "nbconvert_exporter": "python",
   "pygments_lexer": "ipython3",
   "version": "3.12.6"
  }
 },
 "nbformat": 4,
 "nbformat_minor": 5
}
