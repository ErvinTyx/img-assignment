{
 "cells": [
  {
   "cell_type": "code",
   "execution_count": 1,
   "id": "3eb81977-625f-414c-a09f-0f12b0ce9a48",
   "metadata": {},
   "outputs": [],
   "source": [
    "import os  # For interacting with the operating system (e.g., file paths)\n",
    "import pandas as pd  # For loading and manipulating CSV data (bounding boxes and image info)\n",
    "import yaml\n",
    "import shutil\n",
    "import numpy as np  # For numerical operations and array handling\n",
    "import cv2  # For image processing and manipulation (OpenCV library)\n",
    "import matplotlib.pyplot as plt  # For visualizing data and images (plots)\n",
    "import seaborn as sns  # For advanced data visualization (especially histograms and distributions)\n",
    "from glob import glob  # For finding all image files in a directory (using wildcard patterns)\n",
    "from sklearn.model_selection import train_test_split  # For splitting the dataset into training and testing sets\n",
    "from PIL import Image\n",
    "from ultralytics import YOLO\n",
    "\n",
    "\n",
    "import warnings\n",
    "warnings.filterwarnings(\"ignore\", \"use_inf_as_na option is deprecated\")"
   ]
  },
  {
   "cell_type": "code",
   "execution_count": 2,
   "id": "1021d6b1-846c-4fa3-b00a-b4f8555ec92d",
   "metadata": {},
   "outputs": [],
   "source": [
    "root_dir = \"./kaggle/working/data\"\n",
    "labels_dir = \"./kaggle/working/data/labels\"\n",
    "images_dir = \"./kaggle/working/data/images\"\n",
    "\n",
    "train_data = r\"./kaggle/versions/2/data/training_images\"\n",
    "csv_data = r\"./kaggle/versions/2/data/train_solution_bounding_boxes (1).csv\"\n",
    "test_data = r\"./kaggle/versions/2/data/testing_images\""
   ]
  },
  {
   "cell_type": "code",
   "execution_count": 4,
   "id": "1bf110b1-a610-4670-b151-eb829ca64b88",
   "metadata": {},
   "outputs": [
    {
     "name": "stdout",
     "output_type": "stream",
     "text": [
      "Downloading https://github.com/ultralytics/assets/releases/download/v8.3.0/yolov10n.pt to 'yolov10n.pt'...\n"
     ]
    },
    {
     "name": "stderr",
     "output_type": "stream",
     "text": [
      "100%|████████████████████████████████████████████████████████████████████████████████████████████████████████████| 5.59M/5.59M [00:00<00:00, 54.1MB/s]\n"
     ]
    }
   ],
   "source": [
    "model = YOLO('yolov10n.pt')"
   ]
  },
  {
   "cell_type": "code",
   "execution_count": 5,
   "id": "269d2999-db62-4399-8a4a-b5524628670b",
   "metadata": {
    "scrolled": true
   },
   "outputs": [
    {
     "name": "stdout",
     "output_type": "stream",
     "text": [
      "New https://pypi.org/project/ultralytics/8.3.184 available  Update with 'pip install -U ultralytics'\n",
      "Ultralytics 8.3.170  Python-3.12.6 torch-2.7.1+cpu CPU (Intel Core(TM) i5-10210U 1.60GHz)\n",
      "\u001b[34m\u001b[1mengine\\trainer: \u001b[0magnostic_nms=False, amp=True, augment=False, auto_augment=randaugment, batch=16, bgr=0.0, box=7.5, cache=False, cfg=None, classes=None, close_mosaic=10, cls=0.5, conf=None, copy_paste=0.0, copy_paste_mode=flip, cos_lr=False, cutmix=0.0, data=./kaggle/working/data/data.yaml, degrees=0.0, deterministic=True, device=cpu, dfl=1.5, dnn=False, dropout=0.0, dynamic=False, embed=None, epochs=10, erasing=0.4, exist_ok=False, fliplr=0.5, flipud=0.0, format=torchscript, fraction=1.0, freeze=None, half=False, hsv_h=0.015, hsv_s=0.7, hsv_v=0.4, imgsz=640, int8=False, iou=0.7, keras=False, kobj=1.0, line_width=None, lr0=0.01, lrf=0.01, mask_ratio=4, max_det=300, mixup=0.0, mode=train, model=yolov10n.pt, momentum=0.937, mosaic=1.0, multi_scale=False, name=car_detection_modelv10, nbs=64, nms=False, opset=None, optimize=False, optimizer=auto, overlap_mask=True, patience=100, perspective=0.0, plots=True, pose=12.0, pretrained=True, profile=False, project=None, rect=False, resume=False, retina_masks=False, save=True, save_conf=False, save_crop=False, save_dir=runs\\detect\\car_detection_modelv10, save_frames=False, save_json=False, save_period=-1, save_txt=False, scale=0.5, seed=0, shear=0.0, show=False, show_boxes=True, show_conf=True, show_labels=True, simplify=True, single_cls=False, source=None, split=val, stream_buffer=False, task=detect, time=None, tracker=botsort.yaml, translate=0.1, val=True, verbose=True, vid_stride=1, visualize=False, warmup_bias_lr=0.1, warmup_epochs=3.0, warmup_momentum=0.8, weight_decay=0.0005, workers=8, workspace=None\n",
      "Overriding model.yaml nc=80 with nc=1\n",
      "\n",
      "                   from  n    params  module                                       arguments                     \n",
      "  0                  -1  1       464  ultralytics.nn.modules.conv.Conv             [3, 16, 3, 2]                 \n",
      "  1                  -1  1      4672  ultralytics.nn.modules.conv.Conv             [16, 32, 3, 2]                \n",
      "  2                  -1  1      7360  ultralytics.nn.modules.block.C2f             [32, 32, 1, True]             \n",
      "  3                  -1  1     18560  ultralytics.nn.modules.conv.Conv             [32, 64, 3, 2]                \n",
      "  4                  -1  2     49664  ultralytics.nn.modules.block.C2f             [64, 64, 2, True]             \n",
      "  5                  -1  1      9856  ultralytics.nn.modules.block.SCDown          [64, 128, 3, 2]               \n",
      "  6                  -1  2    197632  ultralytics.nn.modules.block.C2f             [128, 128, 2, True]           \n",
      "  7                  -1  1     36096  ultralytics.nn.modules.block.SCDown          [128, 256, 3, 2]              \n",
      "  8                  -1  1    460288  ultralytics.nn.modules.block.C2f             [256, 256, 1, True]           \n",
      "  9                  -1  1    164608  ultralytics.nn.modules.block.SPPF            [256, 256, 5]                 \n",
      " 10                  -1  1    249728  ultralytics.nn.modules.block.PSA             [256, 256]                    \n",
      " 11                  -1  1         0  torch.nn.modules.upsampling.Upsample         [None, 2, 'nearest']          \n",
      " 12             [-1, 6]  1         0  ultralytics.nn.modules.conv.Concat           [1]                           \n",
      " 13                  -1  1    148224  ultralytics.nn.modules.block.C2f             [384, 128, 1]                 \n",
      " 14                  -1  1         0  torch.nn.modules.upsampling.Upsample         [None, 2, 'nearest']          \n",
      " 15             [-1, 4]  1         0  ultralytics.nn.modules.conv.Concat           [1]                           \n",
      " 16                  -1  1     37248  ultralytics.nn.modules.block.C2f             [192, 64, 1]                  \n",
      " 17                  -1  1     36992  ultralytics.nn.modules.conv.Conv             [64, 64, 3, 2]                \n",
      " 18            [-1, 13]  1         0  ultralytics.nn.modules.conv.Concat           [1]                           \n",
      " 19                  -1  1    123648  ultralytics.nn.modules.block.C2f             [192, 128, 1]                 \n",
      " 20                  -1  1     18048  ultralytics.nn.modules.block.SCDown          [128, 128, 3, 2]              \n",
      " 21            [-1, 10]  1         0  ultralytics.nn.modules.conv.Concat           [1]                           \n",
      " 22                  -1  1    282624  ultralytics.nn.modules.block.C2fCIB          [384, 256, 1, True, True]     \n",
      " 23        [16, 19, 22]  1    861718  ultralytics.nn.modules.head.v10Detect        [1, [64, 128, 256]]           \n",
      "YOLOv10n summary: 223 layers, 2,707,430 parameters, 2,707,414 gradients, 8.4 GFLOPs\n",
      "\n",
      "Transferred 493/595 items from pretrained weights\n",
      "Freezing layer 'model.23.dfl.conv.weight'\n",
      "\u001b[34m\u001b[1mtrain: \u001b[0mFast image access  (ping: 0.10.0 ms, read: 152.616.2 MB/s, size: 106.1 KB)\n"
     ]
    },
    {
     "name": "stderr",
     "output_type": "stream",
     "text": [
      "\u001b[34m\u001b[1mtrain: \u001b[0mScanning C:\\Users\\ervin\\Documents\\img-assignment\\kaggle\\working\\data\\labels\\train.cache... 284 images, 0 backgrounds, 0 corrupt: 100%|█████████\u001b[0m"
     ]
    },
    {
     "name": "stdout",
     "output_type": "stream",
     "text": [
      "\u001b[34m\u001b[1mval: \u001b[0mFast image access  (ping: 0.10.0 ms, read: 142.334.3 MB/s, size: 103.4 KB)\n"
     ]
    },
    {
     "name": "stderr",
     "output_type": "stream",
     "text": [
      "\n",
      "c:\\Users\\ervin\\Documents\\img-assignment\\.venv\\Lib\\site-packages\\torch\\utils\\data\\dataloader.py:665: UserWarning: 'pin_memory' argument is set as true but no accelerator is found, then device pinned memory won't be used.\n",
      "  warnings.warn(warn_msg)\n",
      "\u001b[34m\u001b[1mval: \u001b[0mScanning C:\\Users\\ervin\\Documents\\img-assignment\\kaggle\\working\\data\\labels\\val.cache... 71 images, 0 backgrounds, 0 corrupt: 100%|██████████| 71\u001b[0m"
     ]
    },
    {
     "name": "stdout",
     "output_type": "stream",
     "text": [
      "Plotting labels to runs\\detect\\car_detection_modelv10\\labels.jpg... \n"
     ]
    },
    {
     "name": "stderr",
     "output_type": "stream",
     "text": [
      "\n",
      "c:\\Users\\ervin\\Documents\\img-assignment\\.venv\\Lib\\site-packages\\torch\\utils\\data\\dataloader.py:665: UserWarning: 'pin_memory' argument is set as true but no accelerator is found, then device pinned memory won't be used.\n",
      "  warnings.warn(warn_msg)\n"
     ]
    },
    {
     "name": "stdout",
     "output_type": "stream",
     "text": [
      "\u001b[34m\u001b[1moptimizer:\u001b[0m 'optimizer=auto' found, ignoring 'lr0=0.01' and 'momentum=0.937' and determining best 'optimizer', 'lr0' and 'momentum' automatically... \n",
      "\u001b[34m\u001b[1moptimizer:\u001b[0m AdamW(lr=0.002, momentum=0.9) with parameter groups 95 weight(decay=0.0), 108 weight(decay=0.0005), 107 bias(decay=0.0)\n",
      "Image sizes 640 train, 640 val\n",
      "Using 0 dataloader workers\n",
      "Logging results to \u001b[1mruns\\detect\\car_detection_modelv10\u001b[0m\n",
      "Starting training for 10 epochs...\n",
      "Closing dataloader mosaic\n",
      "\n",
      "      Epoch    GPU_mem   box_loss   cls_loss   dfl_loss  Instances       Size\n"
     ]
    },
    {
     "name": "stderr",
     "output_type": "stream",
     "text": [
      "c:\\Users\\ervin\\Documents\\img-assignment\\.venv\\Lib\\site-packages\\torch\\utils\\data\\dataloader.py:665: UserWarning: 'pin_memory' argument is set as true but no accelerator is found, then device pinned memory won't be used.\n",
      "  warnings.warn(warn_msg)\n",
      "       1/10         0G      2.982      11.17      2.275         20        640: 100%|██████████| 18/18 [04:36<00:00, 15.36s/it]\n",
      "                 Class     Images  Instances      Box(P          R      mAP50  mAP50-95): 100%|██████████| 3/3 [00:12<00:00,  4.24s/it]"
     ]
    },
    {
     "name": "stdout",
     "output_type": "stream",
     "text": [
      "                   all         71        119    0.00526      0.941      0.199     0.0857\n"
     ]
    },
    {
     "name": "stderr",
     "output_type": "stream",
     "text": [
      "\n"
     ]
    },
    {
     "name": "stdout",
     "output_type": "stream",
     "text": [
      "\n",
      "      Epoch    GPU_mem   box_loss   cls_loss   dfl_loss  Instances       Size\n"
     ]
    },
    {
     "name": "stderr",
     "output_type": "stream",
     "text": [
      "       2/10         0G      2.598      9.205      2.186         14        640: 100%|██████████| 18/18 [03:16<00:00, 10.89s/it]\n",
      "                 Class     Images  Instances      Box(P          R      mAP50  mAP50-95): 100%|██████████| 3/3 [00:08<00:00,  2.80s/it]"
     ]
    },
    {
     "name": "stdout",
     "output_type": "stream",
     "text": [
      "                   all         71        119    0.00535      0.958     0.0424     0.0209\n"
     ]
    },
    {
     "name": "stderr",
     "output_type": "stream",
     "text": [
      "\n"
     ]
    },
    {
     "name": "stdout",
     "output_type": "stream",
     "text": [
      "\n",
      "      Epoch    GPU_mem   box_loss   cls_loss   dfl_loss  Instances       Size\n"
     ]
    },
    {
     "name": "stderr",
     "output_type": "stream",
     "text": [
      "       3/10         0G       2.71      8.249      2.247         23        640: 100%|██████████| 18/18 [03:11<00:00, 10.67s/it]\n",
      "                 Class     Images  Instances      Box(P          R      mAP50  mAP50-95): 100%|██████████| 3/3 [00:08<00:00,  2.90s/it]"
     ]
    },
    {
     "name": "stdout",
     "output_type": "stream",
     "text": [
      "                   all         71        119     0.0054      0.966     0.0704     0.0199\n"
     ]
    },
    {
     "name": "stderr",
     "output_type": "stream",
     "text": [
      "\n"
     ]
    },
    {
     "name": "stdout",
     "output_type": "stream",
     "text": [
      "\n",
      "      Epoch    GPU_mem   box_loss   cls_loss   dfl_loss  Instances       Size\n"
     ]
    },
    {
     "name": "stderr",
     "output_type": "stream",
     "text": [
      "       4/10         0G      2.695      7.586      2.293         17        640: 100%|██████████| 18/18 [03:05<00:00, 10.31s/it]\n",
      "                 Class     Images  Instances      Box(P          R      mAP50  mAP50-95): 100%|██████████| 3/3 [00:08<00:00,  2.86s/it]"
     ]
    },
    {
     "name": "stdout",
     "output_type": "stream",
     "text": [
      "                   all         71        119          1      0.351      0.737      0.456\n"
     ]
    },
    {
     "name": "stderr",
     "output_type": "stream",
     "text": [
      "\n"
     ]
    },
    {
     "name": "stdout",
     "output_type": "stream",
     "text": [
      "\n",
      "      Epoch    GPU_mem   box_loss   cls_loss   dfl_loss  Instances       Size\n"
     ]
    },
    {
     "name": "stderr",
     "output_type": "stream",
     "text": [
      "       5/10         0G      2.681      6.583      2.272         20        640: 100%|██████████| 18/18 [03:01<00:00, 10.08s/it]\n",
      "                 Class     Images  Instances      Box(P          R      mAP50  mAP50-95): 100%|██████████| 3/3 [00:08<00:00,  2.80s/it]"
     ]
    },
    {
     "name": "stdout",
     "output_type": "stream",
     "text": [
      "                   all         71        119       0.78      0.447      0.717      0.411\n"
     ]
    },
    {
     "name": "stderr",
     "output_type": "stream",
     "text": [
      "\n"
     ]
    },
    {
     "name": "stdout",
     "output_type": "stream",
     "text": [
      "\n",
      "      Epoch    GPU_mem   box_loss   cls_loss   dfl_loss  Instances       Size\n"
     ]
    },
    {
     "name": "stderr",
     "output_type": "stream",
     "text": [
      "       6/10         0G      2.583      6.041      2.195         14        640: 100%|██████████| 18/18 [03:00<00:00, 10.05s/it]\n",
      "                 Class     Images  Instances      Box(P          R      mAP50  mAP50-95): 100%|██████████| 3/3 [00:08<00:00,  2.80s/it]"
     ]
    },
    {
     "name": "stdout",
     "output_type": "stream",
     "text": [
      "                   all         71        119      0.828      0.686      0.821      0.469\n"
     ]
    },
    {
     "name": "stderr",
     "output_type": "stream",
     "text": [
      "\n"
     ]
    },
    {
     "name": "stdout",
     "output_type": "stream",
     "text": [
      "\n",
      "      Epoch    GPU_mem   box_loss   cls_loss   dfl_loss  Instances       Size\n"
     ]
    },
    {
     "name": "stderr",
     "output_type": "stream",
     "text": [
      "       7/10         0G      2.492      5.682      2.181         13        640: 100%|██████████| 18/18 [02:54<00:00,  9.70s/it]\n",
      "                 Class     Images  Instances      Box(P          R      mAP50  mAP50-95): 100%|██████████| 3/3 [00:08<00:00,  2.82s/it]"
     ]
    },
    {
     "name": "stdout",
     "output_type": "stream",
     "text": [
      "                   all         71        119      0.889      0.739      0.861      0.527\n"
     ]
    },
    {
     "name": "stderr",
     "output_type": "stream",
     "text": [
      "\n"
     ]
    },
    {
     "name": "stdout",
     "output_type": "stream",
     "text": [
      "\n",
      "      Epoch    GPU_mem   box_loss   cls_loss   dfl_loss  Instances       Size\n"
     ]
    },
    {
     "name": "stderr",
     "output_type": "stream",
     "text": [
      "       8/10         0G       2.57      5.399      2.231         12        640: 100%|██████████| 18/18 [06:56<00:00, 23.16s/it]\n",
      "                 Class     Images  Instances      Box(P          R      mAP50  mAP50-95): 100%|██████████| 3/3 [00:17<00:00,  5.95s/it]"
     ]
    },
    {
     "name": "stdout",
     "output_type": "stream",
     "text": [
      "                   all         71        119      0.815      0.812      0.887       0.55\n"
     ]
    },
    {
     "name": "stderr",
     "output_type": "stream",
     "text": [
      "\n"
     ]
    },
    {
     "name": "stdout",
     "output_type": "stream",
     "text": [
      "\n",
      "      Epoch    GPU_mem   box_loss   cls_loss   dfl_loss  Instances       Size\n"
     ]
    },
    {
     "name": "stderr",
     "output_type": "stream",
     "text": [
      "       9/10         0G      2.448      5.212      2.205         13        640: 100%|██████████| 18/18 [07:10<00:00, 23.92s/it]\n",
      "                 Class     Images  Instances      Box(P          R      mAP50  mAP50-95): 100%|██████████| 3/3 [00:18<00:00,  6.24s/it]"
     ]
    },
    {
     "name": "stdout",
     "output_type": "stream",
     "text": [
      "                   all         71        119      0.866      0.832      0.903      0.571\n"
     ]
    },
    {
     "name": "stderr",
     "output_type": "stream",
     "text": [
      "\n"
     ]
    },
    {
     "name": "stdout",
     "output_type": "stream",
     "text": [
      "\n",
      "      Epoch    GPU_mem   box_loss   cls_loss   dfl_loss  Instances       Size\n"
     ]
    },
    {
     "name": "stderr",
     "output_type": "stream",
     "text": [
      "      10/10         0G      2.394        4.8      2.113         16        640: 100%|██████████| 18/18 [06:54<00:00, 23.01s/it]\n",
      "                 Class     Images  Instances      Box(P          R      mAP50  mAP50-95): 100%|██████████| 3/3 [00:12<00:00,  4.31s/it]"
     ]
    },
    {
     "name": "stdout",
     "output_type": "stream",
     "text": [
      "                   all         71        119       0.94      0.832      0.909      0.578\n"
     ]
    },
    {
     "name": "stderr",
     "output_type": "stream",
     "text": [
      "\n"
     ]
    },
    {
     "name": "stdout",
     "output_type": "stream",
     "text": [
      "\n",
      "10 epochs completed in 0.771 hours.\n",
      "Optimizer stripped from runs\\detect\\car_detection_modelv10\\weights\\last.pt, 5.7MB\n",
      "Optimizer stripped from runs\\detect\\car_detection_modelv10\\weights\\best.pt, 5.7MB\n",
      "\n",
      "Validating runs\\detect\\car_detection_modelv10\\weights\\best.pt...\n",
      "Ultralytics 8.3.170  Python-3.12.6 torch-2.7.1+cpu CPU (Intel Core(TM) i5-10210U 1.60GHz)\n",
      "YOLOv10n summary (fused): 102 layers, 2,265,363 parameters, 0 gradients, 6.5 GFLOPs\n"
     ]
    },
    {
     "name": "stderr",
     "output_type": "stream",
     "text": [
      "                 Class     Images  Instances      Box(P          R      mAP50  mAP50-95): 100%|██████████| 3/3 [00:08<00:00,  2.75s/it]\n"
     ]
    },
    {
     "name": "stdout",
     "output_type": "stream",
     "text": [
      "                   all         71        119      0.939      0.832      0.909      0.578\n",
      "Speed: 2.5ms preprocess, 94.0ms inference, 0.0ms loss, 0.2ms postprocess per image\n",
      "Results saved to \u001b[1mruns\\detect\\car_detection_modelv10\u001b[0m\n"
     ]
    }
   ],
   "source": [
    "results = model.train(\n",
    "    data = './kaggle/working/data/data.yaml',\n",
    "    epochs = 10,\n",
    "    imgsz = 640,\n",
    "    batch = 16,\n",
    "    name = 'car_detection_modelv10'\n",
    ")"
   ]
  },
  {
   "cell_type": "code",
   "execution_count": 6,
   "id": "fd60d224-593c-4f66-9626-0fea75d87c2b",
   "metadata": {
    "collapsed": true,
    "jupyter": {
     "outputs_hidden": true
    }
   },
   "outputs": [
    {
     "name": "stdout",
     "output_type": "stream",
     "text": [
      "Ultralytics 8.3.170  Python-3.12.6 torch-2.7.1+cpu CPU (Intel Core(TM) i5-10210U 1.60GHz)\n",
      "YOLOv10n summary (fused): 102 layers, 2,265,363 parameters, 0 gradients, 6.5 GFLOPs\n",
      "\u001b[34m\u001b[1mval: \u001b[0mFast image access  (ping: 0.20.0 ms, read: 215.951.7 MB/s, size: 90.7 KB)\n"
     ]
    },
    {
     "name": "stderr",
     "output_type": "stream",
     "text": [
      "\u001b[34m\u001b[1mval: \u001b[0mScanning C:\\Users\\ervin\\Documents\\img-assignment\\kaggle\\working\\data\\labels\\val.cache... 71 images, 0 backgrounds, 0 corrupt: 100%|██████████| 71\u001b[0m\n",
      "c:\\Users\\ervin\\Documents\\img-assignment\\.venv\\Lib\\site-packages\\torch\\utils\\data\\dataloader.py:665: UserWarning: 'pin_memory' argument is set as true but no accelerator is found, then device pinned memory won't be used.\n",
      "  warnings.warn(warn_msg)\n",
      "                 Class     Images  Instances      Box(P          R      mAP50  mAP50-95): 100%|██████████| 5/5 [00:07<00:00,  1.43s/it]\n"
     ]
    },
    {
     "name": "stdout",
     "output_type": "stream",
     "text": [
      "                   all         71        119      0.939      0.832      0.909      0.578\n",
      "Speed: 1.8ms preprocess, 79.6ms inference, 0.0ms loss, 0.2ms postprocess per image\n",
      "Results saved to \u001b[1mruns\\detect\\car_detection_modelv102\u001b[0m\n",
      "ultralytics.utils.metrics.DetMetrics object with attributes:\n",
      "\n",
      "ap_class_index: array([0])\n",
      "box: ultralytics.utils.metrics.Metric object\n",
      "confusion_matrix: <ultralytics.utils.metrics.ConfusionMatrix object at 0x000001E7113C2EA0>\n",
      "curves: ['Precision-Recall(B)', 'F1-Confidence(B)', 'Precision-Confidence(B)', 'Recall-Confidence(B)']\n",
      "curves_results: [[array([          0,    0.001001,    0.002002,    0.003003,    0.004004,    0.005005,    0.006006,    0.007007,    0.008008,    0.009009,     0.01001,    0.011011,    0.012012,    0.013013,    0.014014,    0.015015,    0.016016,    0.017017,    0.018018,    0.019019,     0.02002,    0.021021,    0.022022,    0.023023,\n",
      "          0.024024,    0.025025,    0.026026,    0.027027,    0.028028,    0.029029,     0.03003,    0.031031,    0.032032,    0.033033,    0.034034,    0.035035,    0.036036,    0.037037,    0.038038,    0.039039,     0.04004,    0.041041,    0.042042,    0.043043,    0.044044,    0.045045,    0.046046,    0.047047,\n",
      "          0.048048,    0.049049,     0.05005,    0.051051,    0.052052,    0.053053,    0.054054,    0.055055,    0.056056,    0.057057,    0.058058,    0.059059,     0.06006,    0.061061,    0.062062,    0.063063,    0.064064,    0.065065,    0.066066,    0.067067,    0.068068,    0.069069,     0.07007,    0.071071,\n",
      "          0.072072,    0.073073,    0.074074,    0.075075,    0.076076,    0.077077,    0.078078,    0.079079,     0.08008,    0.081081,    0.082082,    0.083083,    0.084084,    0.085085,    0.086086,    0.087087,    0.088088,    0.089089,     0.09009,    0.091091,    0.092092,    0.093093,    0.094094,    0.095095,\n",
      "          0.096096,    0.097097,    0.098098,    0.099099,      0.1001,      0.1011,      0.1021,      0.1031,      0.1041,     0.10511,     0.10611,     0.10711,     0.10811,     0.10911,     0.11011,     0.11111,     0.11211,     0.11311,     0.11411,     0.11512,     0.11612,     0.11712,     0.11812,     0.11912,\n",
      "           0.12012,     0.12112,     0.12212,     0.12312,     0.12412,     0.12513,     0.12613,     0.12713,     0.12813,     0.12913,     0.13013,     0.13113,     0.13213,     0.13313,     0.13413,     0.13514,     0.13614,     0.13714,     0.13814,     0.13914,     0.14014,     0.14114,     0.14214,     0.14314,\n",
      "           0.14414,     0.14515,     0.14615,     0.14715,     0.14815,     0.14915,     0.15015,     0.15115,     0.15215,     0.15315,     0.15415,     0.15516,     0.15616,     0.15716,     0.15816,     0.15916,     0.16016,     0.16116,     0.16216,     0.16316,     0.16416,     0.16517,     0.16617,     0.16717,\n",
      "           0.16817,     0.16917,     0.17017,     0.17117,     0.17217,     0.17317,     0.17417,     0.17518,     0.17618,     0.17718,     0.17818,     0.17918,     0.18018,     0.18118,     0.18218,     0.18318,     0.18418,     0.18519,     0.18619,     0.18719,     0.18819,     0.18919,     0.19019,     0.19119,\n",
      "           0.19219,     0.19319,     0.19419,      0.1952,      0.1962,      0.1972,      0.1982,      0.1992,      0.2002,      0.2012,      0.2022,      0.2032,      0.2042,     0.20521,     0.20621,     0.20721,     0.20821,     0.20921,     0.21021,     0.21121,     0.21221,     0.21321,     0.21421,     0.21522,\n",
      "           0.21622,     0.21722,     0.21822,     0.21922,     0.22022,     0.22122,     0.22222,     0.22322,     0.22422,     0.22523,     0.22623,     0.22723,     0.22823,     0.22923,     0.23023,     0.23123,     0.23223,     0.23323,     0.23423,     0.23524,     0.23624,     0.23724,     0.23824,     0.23924,\n",
      "           0.24024,     0.24124,     0.24224,     0.24324,     0.24424,     0.24525,     0.24625,     0.24725,     0.24825,     0.24925,     0.25025,     0.25125,     0.25225,     0.25325,     0.25425,     0.25526,     0.25626,     0.25726,     0.25826,     0.25926,     0.26026,     0.26126,     0.26226,     0.26326,\n",
      "           0.26426,     0.26527,     0.26627,     0.26727,     0.26827,     0.26927,     0.27027,     0.27127,     0.27227,     0.27327,     0.27427,     0.27528,     0.27628,     0.27728,     0.27828,     0.27928,     0.28028,     0.28128,     0.28228,     0.28328,     0.28428,     0.28529,     0.28629,     0.28729,\n",
      "           0.28829,     0.28929,     0.29029,     0.29129,     0.29229,     0.29329,     0.29429,      0.2953,      0.2963,      0.2973,      0.2983,      0.2993,      0.3003,      0.3013,      0.3023,      0.3033,      0.3043,     0.30531,     0.30631,     0.30731,     0.30831,     0.30931,     0.31031,     0.31131,\n",
      "           0.31231,     0.31331,     0.31431,     0.31532,     0.31632,     0.31732,     0.31832,     0.31932,     0.32032,     0.32132,     0.32232,     0.32332,     0.32432,     0.32533,     0.32633,     0.32733,     0.32833,     0.32933,     0.33033,     0.33133,     0.33233,     0.33333,     0.33433,     0.33534,\n",
      "           0.33634,     0.33734,     0.33834,     0.33934,     0.34034,     0.34134,     0.34234,     0.34334,     0.34434,     0.34535,     0.34635,     0.34735,     0.34835,     0.34935,     0.35035,     0.35135,     0.35235,     0.35335,     0.35435,     0.35536,     0.35636,     0.35736,     0.35836,     0.35936,\n",
      "           0.36036,     0.36136,     0.36236,     0.36336,     0.36436,     0.36537,     0.36637,     0.36737,     0.36837,     0.36937,     0.37037,     0.37137,     0.37237,     0.37337,     0.37437,     0.37538,     0.37638,     0.37738,     0.37838,     0.37938,     0.38038,     0.38138,     0.38238,     0.38338,\n",
      "           0.38438,     0.38539,     0.38639,     0.38739,     0.38839,     0.38939,     0.39039,     0.39139,     0.39239,     0.39339,     0.39439,      0.3954,      0.3964,      0.3974,      0.3984,      0.3994,      0.4004,      0.4014,      0.4024,      0.4034,      0.4044,     0.40541,     0.40641,     0.40741,\n",
      "           0.40841,     0.40941,     0.41041,     0.41141,     0.41241,     0.41341,     0.41441,     0.41542,     0.41642,     0.41742,     0.41842,     0.41942,     0.42042,     0.42142,     0.42242,     0.42342,     0.42442,     0.42543,     0.42643,     0.42743,     0.42843,     0.42943,     0.43043,     0.43143,\n",
      "           0.43243,     0.43343,     0.43443,     0.43544,     0.43644,     0.43744,     0.43844,     0.43944,     0.44044,     0.44144,     0.44244,     0.44344,     0.44444,     0.44545,     0.44645,     0.44745,     0.44845,     0.44945,     0.45045,     0.45145,     0.45245,     0.45345,     0.45445,     0.45546,\n",
      "           0.45646,     0.45746,     0.45846,     0.45946,     0.46046,     0.46146,     0.46246,     0.46346,     0.46446,     0.46547,     0.46647,     0.46747,     0.46847,     0.46947,     0.47047,     0.47147,     0.47247,     0.47347,     0.47447,     0.47548,     0.47648,     0.47748,     0.47848,     0.47948,\n",
      "           0.48048,     0.48148,     0.48248,     0.48348,     0.48448,     0.48549,     0.48649,     0.48749,     0.48849,     0.48949,     0.49049,     0.49149,     0.49249,     0.49349,     0.49449,      0.4955,      0.4965,      0.4975,      0.4985,      0.4995,      0.5005,      0.5015,      0.5025,      0.5035,\n",
      "            0.5045,     0.50551,     0.50651,     0.50751,     0.50851,     0.50951,     0.51051,     0.51151,     0.51251,     0.51351,     0.51451,     0.51552,     0.51652,     0.51752,     0.51852,     0.51952,     0.52052,     0.52152,     0.52252,     0.52352,     0.52452,     0.52553,     0.52653,     0.52753,\n",
      "           0.52853,     0.52953,     0.53053,     0.53153,     0.53253,     0.53353,     0.53453,     0.53554,     0.53654,     0.53754,     0.53854,     0.53954,     0.54054,     0.54154,     0.54254,     0.54354,     0.54454,     0.54555,     0.54655,     0.54755,     0.54855,     0.54955,     0.55055,     0.55155,\n",
      "           0.55255,     0.55355,     0.55455,     0.55556,     0.55656,     0.55756,     0.55856,     0.55956,     0.56056,     0.56156,     0.56256,     0.56356,     0.56456,     0.56557,     0.56657,     0.56757,     0.56857,     0.56957,     0.57057,     0.57157,     0.57257,     0.57357,     0.57457,     0.57558,\n",
      "           0.57658,     0.57758,     0.57858,     0.57958,     0.58058,     0.58158,     0.58258,     0.58358,     0.58458,     0.58559,     0.58659,     0.58759,     0.58859,     0.58959,     0.59059,     0.59159,     0.59259,     0.59359,     0.59459,      0.5956,      0.5966,      0.5976,      0.5986,      0.5996,\n",
      "            0.6006,      0.6016,      0.6026,      0.6036,      0.6046,     0.60561,     0.60661,     0.60761,     0.60861,     0.60961,     0.61061,     0.61161,     0.61261,     0.61361,     0.61461,     0.61562,     0.61662,     0.61762,     0.61862,     0.61962,     0.62062,     0.62162,     0.62262,     0.62362,\n",
      "           0.62462,     0.62563,     0.62663,     0.62763,     0.62863,     0.62963,     0.63063,     0.63163,     0.63263,     0.63363,     0.63463,     0.63564,     0.63664,     0.63764,     0.63864,     0.63964,     0.64064,     0.64164,     0.64264,     0.64364,     0.64464,     0.64565,     0.64665,     0.64765,\n",
      "           0.64865,     0.64965,     0.65065,     0.65165,     0.65265,     0.65365,     0.65465,     0.65566,     0.65666,     0.65766,     0.65866,     0.65966,     0.66066,     0.66166,     0.66266,     0.66366,     0.66466,     0.66567,     0.66667,     0.66767,     0.66867,     0.66967,     0.67067,     0.67167,\n",
      "           0.67267,     0.67367,     0.67467,     0.67568,     0.67668,     0.67768,     0.67868,     0.67968,     0.68068,     0.68168,     0.68268,     0.68368,     0.68468,     0.68569,     0.68669,     0.68769,     0.68869,     0.68969,     0.69069,     0.69169,     0.69269,     0.69369,     0.69469,      0.6957,\n",
      "            0.6967,      0.6977,      0.6987,      0.6997,      0.7007,      0.7017,      0.7027,      0.7037,      0.7047,     0.70571,     0.70671,     0.70771,     0.70871,     0.70971,     0.71071,     0.71171,     0.71271,     0.71371,     0.71471,     0.71572,     0.71672,     0.71772,     0.71872,     0.71972,\n",
      "           0.72072,     0.72172,     0.72272,     0.72372,     0.72472,     0.72573,     0.72673,     0.72773,     0.72873,     0.72973,     0.73073,     0.73173,     0.73273,     0.73373,     0.73473,     0.73574,     0.73674,     0.73774,     0.73874,     0.73974,     0.74074,     0.74174,     0.74274,     0.74374,\n",
      "           0.74474,     0.74575,     0.74675,     0.74775,     0.74875,     0.74975,     0.75075,     0.75175,     0.75275,     0.75375,     0.75475,     0.75576,     0.75676,     0.75776,     0.75876,     0.75976,     0.76076,     0.76176,     0.76276,     0.76376,     0.76476,     0.76577,     0.76677,     0.76777,\n",
      "           0.76877,     0.76977,     0.77077,     0.77177,     0.77277,     0.77377,     0.77477,     0.77578,     0.77678,     0.77778,     0.77878,     0.77978,     0.78078,     0.78178,     0.78278,     0.78378,     0.78478,     0.78579,     0.78679,     0.78779,     0.78879,     0.78979,     0.79079,     0.79179,\n",
      "           0.79279,     0.79379,     0.79479,      0.7958,      0.7968,      0.7978,      0.7988,      0.7998,      0.8008,      0.8018,      0.8028,      0.8038,      0.8048,     0.80581,     0.80681,     0.80781,     0.80881,     0.80981,     0.81081,     0.81181,     0.81281,     0.81381,     0.81481,     0.81582,\n",
      "           0.81682,     0.81782,     0.81882,     0.81982,     0.82082,     0.82182,     0.82282,     0.82382,     0.82482,     0.82583,     0.82683,     0.82783,     0.82883,     0.82983,     0.83083,     0.83183,     0.83283,     0.83383,     0.83483,     0.83584,     0.83684,     0.83784,     0.83884,     0.83984,\n",
      "           0.84084,     0.84184,     0.84284,     0.84384,     0.84484,     0.84585,     0.84685,     0.84785,     0.84885,     0.84985,     0.85085,     0.85185,     0.85285,     0.85385,     0.85485,     0.85586,     0.85686,     0.85786,     0.85886,     0.85986,     0.86086,     0.86186,     0.86286,     0.86386,\n",
      "           0.86486,     0.86587,     0.86687,     0.86787,     0.86887,     0.86987,     0.87087,     0.87187,     0.87287,     0.87387,     0.87487,     0.87588,     0.87688,     0.87788,     0.87888,     0.87988,     0.88088,     0.88188,     0.88288,     0.88388,     0.88488,     0.88589,     0.88689,     0.88789,\n",
      "           0.88889,     0.88989,     0.89089,     0.89189,     0.89289,     0.89389,     0.89489,      0.8959,      0.8969,      0.8979,      0.8989,      0.8999,      0.9009,      0.9019,      0.9029,      0.9039,      0.9049,     0.90591,     0.90691,     0.90791,     0.90891,     0.90991,     0.91091,     0.91191,\n",
      "           0.91291,     0.91391,     0.91491,     0.91592,     0.91692,     0.91792,     0.91892,     0.91992,     0.92092,     0.92192,     0.92292,     0.92392,     0.92492,     0.92593,     0.92693,     0.92793,     0.92893,     0.92993,     0.93093,     0.93193,     0.93293,     0.93393,     0.93493,     0.93594,\n",
      "           0.93694,     0.93794,     0.93894,     0.93994,     0.94094,     0.94194,     0.94294,     0.94394,     0.94494,     0.94595,     0.94695,     0.94795,     0.94895,     0.94995,     0.95095,     0.95195,     0.95295,     0.95395,     0.95495,     0.95596,     0.95696,     0.95796,     0.95896,     0.95996,\n",
      "           0.96096,     0.96196,     0.96296,     0.96396,     0.96496,     0.96597,     0.96697,     0.96797,     0.96897,     0.96997,     0.97097,     0.97197,     0.97297,     0.97397,     0.97497,     0.97598,     0.97698,     0.97798,     0.97898,     0.97998,     0.98098,     0.98198,     0.98298,     0.98398,\n",
      "           0.98498,     0.98599,     0.98699,     0.98799,     0.98899,     0.98999,     0.99099,     0.99199,     0.99299,     0.99399,     0.99499,       0.996,       0.997,       0.998,       0.999,           1]), array([[          1,           1,           1,           1,           1,           1,           1,           1,           1,           1,           1,           1,           1,           1,           1,           1,           1,           1,           1,           1,           1,           1,           1,\n",
      "                  1,           1,           1,           1,           1,           1,           1,           1,           1,           1,           1,           1,           1,           1,           1,           1,           1,           1,           1,           1,           1,           1,           1,\n",
      "                  1,           1,           1,           1,           1,           1,           1,           1,           1,           1,           1,           1,           1,           1,           1,           1,           1,           1,           1,           1,           1,           1,           1,\n",
      "                  1,           1,           1,           1,           1,           1,           1,           1,           1,           1,           1,           1,           1,           1,           1,           1,           1,           1,           1,           1,           1,           1,           1,\n",
      "                  1,           1,           1,           1,           1,           1,           1,           1,           1,           1,           1,           1,           1,           1,           1,           1,           1,           1,           1,           1,           1,           1,           1,\n",
      "                  1,           1,           1,           1,           1,           1,           1,           1,           1,           1,           1,           1,           1,           1,           1,           1,           1,           1,           1,           1,           1,           1,           1,\n",
      "                  1,           1,           1,           1,           1,           1,           1,           1,           1,           1,           1,           1,           1,           1,           1,           1,           1,           1,           1,           1,           1,           1,           1,\n",
      "                  1,           1,           1,           1,           1,           1,           1,           1,           1,           1,           1,           1,           1,           1,           1,           1,           1,           1,           1,           1,           1,           1,           1,\n",
      "                  1,           1,           1,           1,           1,           1,           1,           1,           1,           1,           1,           1,           1,           1,           1,           1,           1,           1,           1,           1,           1,           1,           1,\n",
      "                  1,           1,           1,           1,           1,           1,           1,           1,           1,           1,           1,           1,           1,           1,           1,           1,           1,           1,           1,           1,           1,           1,           1,\n",
      "                  1,           1,           1,           1,           1,           1,           1,           1,           1,           1,           1,           1,           1,           1,           1,           1,           1,           1,           1,           1,           1,           1,           1,\n",
      "                  1,           1,           1,           1,           1,           1,           1,           1,           1,           1,           1,           1,           1,           1,           1,           1,           1,           1,           1,           1,           1,           1,           1,\n",
      "                  1,           1,           1,           1,           1,           1,           1,           1,           1,           1,           1,           1,           1,           1,           1,           1,           1,           1,           1,           1,           1,           1,           1,\n",
      "                  1,           1,           1,           1,           1,           1,           1,           1,           1,           1,           1,           1,           1,           1,           1,           1,           1,           1,           1,           1,           1,           1,           1,\n",
      "                  1,           1,           1,           1,           1,           1,           1,           1,           1,           1,           1,           1,           1,           1,           1,           1,           1,           1,           1,           1,           1,           1,           1,\n",
      "                  1,           1,           1,           1,           1,           1,           1,           1,           1,           1,           1,           1,           1,           1,           1,           1,           1,           1,           1,           1,           1,           1,           1,\n",
      "                  1,           1,           1,           1,           1,           1,           1,           1,           1,           1,           1,           1,           1,           1,           1,           1,           1,           1,           1,           1,           1,           1,           1,\n",
      "                  1,           1,           1,           1,           1,           1,           1,           1,           1,           1,           1,           1,           1,           1,           1,           1,           1,           1,           1,           1,           1,           1,           1,\n",
      "                  1,           1,           1,           1,           1,           1,           1,           1,           1,           1,           1,           1,           1,           1,           1,           1,           1,           1,           1,           1,           1,           1,           1,\n",
      "                  1,           1,           1,           1,           1,           1,           1,           1,           1,           1,           1,           1,           1,           1,           1,           1,           1,           1,           1,           1,           1,           1,           1,\n",
      "                  1,           1,           1,           1,           1,           1,           1,           1,           1,           1,           1,           1,           1,           1,           1,           1,           1,           1,           1,           1,           1,           1,           1,\n",
      "                  1,           1,           1,           1,      0.9863,      0.9863,      0.9863,      0.9863,      0.9863,      0.9863,      0.9863,      0.9863,      0.9863,      0.9863,      0.9863,      0.9863,      0.9863,      0.9863,      0.9863,      0.9863,      0.9863,      0.9863,      0.9863,\n",
      "             0.9863,      0.9863,      0.9863,      0.9863,      0.9863,      0.9863,      0.9863,      0.9863,      0.9863,      0.9863,      0.9863,      0.9863,      0.9863,      0.9863,      0.9863,      0.9863,      0.9863,      0.9863,      0.9863,      0.9863,      0.9863,      0.9863,      0.9863,\n",
      "             0.9863,      0.9863,      0.9863,      0.9863,      0.9863,      0.9863,      0.9863,      0.9863,      0.9863,      0.9863,      0.9863,      0.9863,      0.9863,      0.9863,      0.9863,      0.9863,      0.9863,      0.9863,      0.9863,      0.9863,      0.9863,      0.9863,      0.9863,\n",
      "             0.9863,      0.9863,      0.9863,      0.9863,      0.9863,      0.9863,      0.9863,      0.9863,      0.9863,      0.9863,      0.9863,      0.9863,      0.9863,      0.9863,      0.9863,      0.9863,      0.9863,      0.9863,      0.9863,      0.9863,      0.9863,      0.9863,      0.9863,\n",
      "             0.9863,      0.9863,      0.9863,      0.9863,      0.9863,      0.9863,      0.9863,      0.9863,      0.9863,      0.9863,      0.9863,      0.9863,      0.9863,      0.9863,      0.9863,      0.9863,      0.9863,      0.9863,      0.9863,      0.9863,      0.9863,      0.9863,      0.9863,\n",
      "             0.9863,      0.9863,      0.9863,      0.9863,      0.9863,      0.9863,      0.9863,     0.97778,     0.97778,     0.97778,     0.97778,     0.97778,     0.97778,     0.97778,     0.97778,     0.97778,     0.97778,     0.97778,     0.97778,     0.97778,     0.97778,     0.97778,     0.97778,\n",
      "            0.97778,     0.97778,     0.97778,     0.97778,     0.97778,     0.97778,     0.97778,     0.97778,     0.97778,     0.97778,     0.97778,     0.97778,     0.97778,     0.97778,     0.97778,     0.97778,     0.97778,     0.97778,     0.97778,     0.97778,     0.97778,     0.97778,     0.97778,\n",
      "            0.97778,     0.97778,     0.97778,     0.97778,     0.97778,     0.97778,     0.97778,     0.97778,     0.97778,     0.97778,     0.97778,     0.97778,     0.97778,     0.97778,     0.97778,     0.97778,     0.97778,     0.97778,     0.97778,     0.97778,     0.97778,     0.97778,     0.97778,\n",
      "            0.97778,     0.97778,     0.97778,     0.97778,     0.97778,     0.97778,     0.97778,     0.97778,     0.97778,     0.97778,     0.97778,     0.97778,     0.97778,     0.97778,     0.97778,     0.97778,     0.97778,     0.97778,     0.97778,     0.97778,     0.97778,     0.97778,     0.97778,\n",
      "            0.97778,     0.97778,     0.97778,     0.97778,     0.97778,     0.97778,     0.97778,     0.97778,     0.97778,     0.97778,     0.97778,     0.97778,     0.97778,     0.97778,     0.97778,     0.97778,     0.97778,     0.97778,     0.97778,     0.97778,     0.97778,     0.97778,     0.97778,\n",
      "            0.97778,     0.97778,     0.97778,     0.97778,     0.97778,     0.97778,     0.97778,     0.97778,     0.97778,     0.97778,     0.97778,     0.97778,     0.97778,     0.97778,     0.97778,     0.97778,     0.97778,     0.97778,     0.97778,     0.97778,     0.97778,     0.97778,     0.97778,\n",
      "            0.97778,     0.97778,     0.97778,     0.96809,     0.96809,     0.96809,     0.96809,     0.96809,     0.96809,     0.96809,     0.96809,     0.96809,     0.96809,     0.96809,     0.96809,     0.96809,     0.96809,     0.96809,     0.96809,     0.96809,     0.96809,     0.96809,     0.96809,\n",
      "            0.96809,     0.96809,     0.96809,     0.96809,     0.96809,     0.94949,     0.94949,     0.94949,     0.94949,     0.94949,     0.94949,     0.94949,     0.94949,     0.94949,     0.94949,     0.94949,     0.94949,     0.94949,     0.94949,     0.94949,     0.94949,     0.94949,     0.94949,\n",
      "            0.94949,     0.94949,     0.94949,     0.94949,     0.94949,     0.94949,     0.94949,     0.94949,     0.94286,     0.94286,     0.94286,     0.94286,     0.94286,     0.94286,     0.94286,     0.94286,     0.94286,     0.94286,     0.94286,     0.94286,     0.94286,     0.94286,     0.94286,\n",
      "            0.94286,     0.94286,     0.94286,     0.94286,     0.94286,     0.94286,     0.94286,     0.94286,     0.94286,     0.94286,     0.94286,     0.94286,     0.94286,     0.94286,     0.94286,     0.94286,     0.94286,     0.94286,     0.94286,     0.94286,     0.94286,     0.94286,     0.94286,\n",
      "            0.94286,     0.94286,     0.94286,     0.94286,     0.92593,     0.92593,     0.92593,     0.92593,     0.92593,     0.92593,     0.92593,     0.92593,     0.90179,     0.90179,     0.90179,     0.90179,     0.90179,     0.90179,     0.90179,     0.90179,     0.88696,     0.88696,     0.88696,\n",
      "            0.88696,     0.88696,     0.88696,     0.88696,     0.88696,     0.88696,     0.88034,     0.88034,     0.88034,     0.88034,     0.88034,     0.88034,     0.88034,     0.88034,     0.87395,     0.87395,     0.87395,     0.87395,     0.87395,     0.87395,     0.87395,     0.87395,     0.87395,\n",
      "            0.82031,     0.82031,     0.82031,     0.82031,     0.82031,     0.82031,     0.82031,     0.82031,     0.79104,     0.79104,     0.79104,     0.79104,     0.79104,     0.79104,     0.79104,     0.79104,     0.76978,     0.76978,     0.76978,     0.76978,     0.76978,     0.76978,     0.76978,\n",
      "            0.76978,     0.76978,     0.74483,     0.74483,     0.74483,     0.74483,     0.74483,     0.74483,     0.74483,     0.74483,     0.66463,     0.66463,     0.66463,     0.66463,     0.66463,     0.66463,     0.66463,     0.66463,     0.66463,     0.64706,     0.64706,     0.64706,     0.64706,\n",
      "            0.64706,     0.64706,     0.64706,     0.64706,      0.6236,      0.6236,      0.6236,      0.6236,      0.6236,      0.6236,      0.6236,      0.6236,     0.45161,     0.45161,     0.45161,     0.45161,     0.45161,     0.45161,     0.45161,     0.45161,     0.45161,      0.2574,      0.2574,\n",
      "             0.2574,      0.2574,      0.2574,      0.2574,      0.2574,      0.2574,   0.0060196,   0.0060196,   0.0060196,   0.0060196,   0.0060196,   0.0060196,   0.0060196,   0.0060196,   0.0060196,   0.0059712,   0.0059712,   0.0059712,   0.0059712,   0.0059712,   0.0059712,   0.0059712,   0.0059712,\n",
      "          0.0059271,   0.0059271,   0.0059271,   0.0059271,   0.0059271,   0.0059271,   0.0059271,   0.0059271,   0.0059172,   0.0059172,   0.0059172,   0.0059172,   0.0059172,   0.0059172,   0.0059172,   0.0059172,   0.0059172,   0.0052345,   0.0049074,   0.0045802,   0.0042531,   0.0039259,   0.0035987,\n",
      "          0.0032716,   0.0029444,   0.0026173,   0.0022901,   0.0019629,   0.0016358,   0.0013086,  0.00098147,  0.00065432,  0.00032716,           0]]), 'Recall', 'Precision'], [array([          0,    0.001001,    0.002002,    0.003003,    0.004004,    0.005005,    0.006006,    0.007007,    0.008008,    0.009009,     0.01001,    0.011011,    0.012012,    0.013013,    0.014014,    0.015015,    0.016016,    0.017017,    0.018018,    0.019019,     0.02002,    0.021021,    0.022022,    0.023023,\n",
      "          0.024024,    0.025025,    0.026026,    0.027027,    0.028028,    0.029029,     0.03003,    0.031031,    0.032032,    0.033033,    0.034034,    0.035035,    0.036036,    0.037037,    0.038038,    0.039039,     0.04004,    0.041041,    0.042042,    0.043043,    0.044044,    0.045045,    0.046046,    0.047047,\n",
      "          0.048048,    0.049049,     0.05005,    0.051051,    0.052052,    0.053053,    0.054054,    0.055055,    0.056056,    0.057057,    0.058058,    0.059059,     0.06006,    0.061061,    0.062062,    0.063063,    0.064064,    0.065065,    0.066066,    0.067067,    0.068068,    0.069069,     0.07007,    0.071071,\n",
      "          0.072072,    0.073073,    0.074074,    0.075075,    0.076076,    0.077077,    0.078078,    0.079079,     0.08008,    0.081081,    0.082082,    0.083083,    0.084084,    0.085085,    0.086086,    0.087087,    0.088088,    0.089089,     0.09009,    0.091091,    0.092092,    0.093093,    0.094094,    0.095095,\n",
      "          0.096096,    0.097097,    0.098098,    0.099099,      0.1001,      0.1011,      0.1021,      0.1031,      0.1041,     0.10511,     0.10611,     0.10711,     0.10811,     0.10911,     0.11011,     0.11111,     0.11211,     0.11311,     0.11411,     0.11512,     0.11612,     0.11712,     0.11812,     0.11912,\n",
      "           0.12012,     0.12112,     0.12212,     0.12312,     0.12412,     0.12513,     0.12613,     0.12713,     0.12813,     0.12913,     0.13013,     0.13113,     0.13213,     0.13313,     0.13413,     0.13514,     0.13614,     0.13714,     0.13814,     0.13914,     0.14014,     0.14114,     0.14214,     0.14314,\n",
      "           0.14414,     0.14515,     0.14615,     0.14715,     0.14815,     0.14915,     0.15015,     0.15115,     0.15215,     0.15315,     0.15415,     0.15516,     0.15616,     0.15716,     0.15816,     0.15916,     0.16016,     0.16116,     0.16216,     0.16316,     0.16416,     0.16517,     0.16617,     0.16717,\n",
      "           0.16817,     0.16917,     0.17017,     0.17117,     0.17217,     0.17317,     0.17417,     0.17518,     0.17618,     0.17718,     0.17818,     0.17918,     0.18018,     0.18118,     0.18218,     0.18318,     0.18418,     0.18519,     0.18619,     0.18719,     0.18819,     0.18919,     0.19019,     0.19119,\n",
      "           0.19219,     0.19319,     0.19419,      0.1952,      0.1962,      0.1972,      0.1982,      0.1992,      0.2002,      0.2012,      0.2022,      0.2032,      0.2042,     0.20521,     0.20621,     0.20721,     0.20821,     0.20921,     0.21021,     0.21121,     0.21221,     0.21321,     0.21421,     0.21522,\n",
      "           0.21622,     0.21722,     0.21822,     0.21922,     0.22022,     0.22122,     0.22222,     0.22322,     0.22422,     0.22523,     0.22623,     0.22723,     0.22823,     0.22923,     0.23023,     0.23123,     0.23223,     0.23323,     0.23423,     0.23524,     0.23624,     0.23724,     0.23824,     0.23924,\n",
      "           0.24024,     0.24124,     0.24224,     0.24324,     0.24424,     0.24525,     0.24625,     0.24725,     0.24825,     0.24925,     0.25025,     0.25125,     0.25225,     0.25325,     0.25425,     0.25526,     0.25626,     0.25726,     0.25826,     0.25926,     0.26026,     0.26126,     0.26226,     0.26326,\n",
      "           0.26426,     0.26527,     0.26627,     0.26727,     0.26827,     0.26927,     0.27027,     0.27127,     0.27227,     0.27327,     0.27427,     0.27528,     0.27628,     0.27728,     0.27828,     0.27928,     0.28028,     0.28128,     0.28228,     0.28328,     0.28428,     0.28529,     0.28629,     0.28729,\n",
      "           0.28829,     0.28929,     0.29029,     0.29129,     0.29229,     0.29329,     0.29429,      0.2953,      0.2963,      0.2973,      0.2983,      0.2993,      0.3003,      0.3013,      0.3023,      0.3033,      0.3043,     0.30531,     0.30631,     0.30731,     0.30831,     0.30931,     0.31031,     0.31131,\n",
      "           0.31231,     0.31331,     0.31431,     0.31532,     0.31632,     0.31732,     0.31832,     0.31932,     0.32032,     0.32132,     0.32232,     0.32332,     0.32432,     0.32533,     0.32633,     0.32733,     0.32833,     0.32933,     0.33033,     0.33133,     0.33233,     0.33333,     0.33433,     0.33534,\n",
      "           0.33634,     0.33734,     0.33834,     0.33934,     0.34034,     0.34134,     0.34234,     0.34334,     0.34434,     0.34535,     0.34635,     0.34735,     0.34835,     0.34935,     0.35035,     0.35135,     0.35235,     0.35335,     0.35435,     0.35536,     0.35636,     0.35736,     0.35836,     0.35936,\n",
      "           0.36036,     0.36136,     0.36236,     0.36336,     0.36436,     0.36537,     0.36637,     0.36737,     0.36837,     0.36937,     0.37037,     0.37137,     0.37237,     0.37337,     0.37437,     0.37538,     0.37638,     0.37738,     0.37838,     0.37938,     0.38038,     0.38138,     0.38238,     0.38338,\n",
      "           0.38438,     0.38539,     0.38639,     0.38739,     0.38839,     0.38939,     0.39039,     0.39139,     0.39239,     0.39339,     0.39439,      0.3954,      0.3964,      0.3974,      0.3984,      0.3994,      0.4004,      0.4014,      0.4024,      0.4034,      0.4044,     0.40541,     0.40641,     0.40741,\n",
      "           0.40841,     0.40941,     0.41041,     0.41141,     0.41241,     0.41341,     0.41441,     0.41542,     0.41642,     0.41742,     0.41842,     0.41942,     0.42042,     0.42142,     0.42242,     0.42342,     0.42442,     0.42543,     0.42643,     0.42743,     0.42843,     0.42943,     0.43043,     0.43143,\n",
      "           0.43243,     0.43343,     0.43443,     0.43544,     0.43644,     0.43744,     0.43844,     0.43944,     0.44044,     0.44144,     0.44244,     0.44344,     0.44444,     0.44545,     0.44645,     0.44745,     0.44845,     0.44945,     0.45045,     0.45145,     0.45245,     0.45345,     0.45445,     0.45546,\n",
      "           0.45646,     0.45746,     0.45846,     0.45946,     0.46046,     0.46146,     0.46246,     0.46346,     0.46446,     0.46547,     0.46647,     0.46747,     0.46847,     0.46947,     0.47047,     0.47147,     0.47247,     0.47347,     0.47447,     0.47548,     0.47648,     0.47748,     0.47848,     0.47948,\n",
      "           0.48048,     0.48148,     0.48248,     0.48348,     0.48448,     0.48549,     0.48649,     0.48749,     0.48849,     0.48949,     0.49049,     0.49149,     0.49249,     0.49349,     0.49449,      0.4955,      0.4965,      0.4975,      0.4985,      0.4995,      0.5005,      0.5015,      0.5025,      0.5035,\n",
      "            0.5045,     0.50551,     0.50651,     0.50751,     0.50851,     0.50951,     0.51051,     0.51151,     0.51251,     0.51351,     0.51451,     0.51552,     0.51652,     0.51752,     0.51852,     0.51952,     0.52052,     0.52152,     0.52252,     0.52352,     0.52452,     0.52553,     0.52653,     0.52753,\n",
      "           0.52853,     0.52953,     0.53053,     0.53153,     0.53253,     0.53353,     0.53453,     0.53554,     0.53654,     0.53754,     0.53854,     0.53954,     0.54054,     0.54154,     0.54254,     0.54354,     0.54454,     0.54555,     0.54655,     0.54755,     0.54855,     0.54955,     0.55055,     0.55155,\n",
      "           0.55255,     0.55355,     0.55455,     0.55556,     0.55656,     0.55756,     0.55856,     0.55956,     0.56056,     0.56156,     0.56256,     0.56356,     0.56456,     0.56557,     0.56657,     0.56757,     0.56857,     0.56957,     0.57057,     0.57157,     0.57257,     0.57357,     0.57457,     0.57558,\n",
      "           0.57658,     0.57758,     0.57858,     0.57958,     0.58058,     0.58158,     0.58258,     0.58358,     0.58458,     0.58559,     0.58659,     0.58759,     0.58859,     0.58959,     0.59059,     0.59159,     0.59259,     0.59359,     0.59459,      0.5956,      0.5966,      0.5976,      0.5986,      0.5996,\n",
      "            0.6006,      0.6016,      0.6026,      0.6036,      0.6046,     0.60561,     0.60661,     0.60761,     0.60861,     0.60961,     0.61061,     0.61161,     0.61261,     0.61361,     0.61461,     0.61562,     0.61662,     0.61762,     0.61862,     0.61962,     0.62062,     0.62162,     0.62262,     0.62362,\n",
      "           0.62462,     0.62563,     0.62663,     0.62763,     0.62863,     0.62963,     0.63063,     0.63163,     0.63263,     0.63363,     0.63463,     0.63564,     0.63664,     0.63764,     0.63864,     0.63964,     0.64064,     0.64164,     0.64264,     0.64364,     0.64464,     0.64565,     0.64665,     0.64765,\n",
      "           0.64865,     0.64965,     0.65065,     0.65165,     0.65265,     0.65365,     0.65465,     0.65566,     0.65666,     0.65766,     0.65866,     0.65966,     0.66066,     0.66166,     0.66266,     0.66366,     0.66466,     0.66567,     0.66667,     0.66767,     0.66867,     0.66967,     0.67067,     0.67167,\n",
      "           0.67267,     0.67367,     0.67467,     0.67568,     0.67668,     0.67768,     0.67868,     0.67968,     0.68068,     0.68168,     0.68268,     0.68368,     0.68468,     0.68569,     0.68669,     0.68769,     0.68869,     0.68969,     0.69069,     0.69169,     0.69269,     0.69369,     0.69469,      0.6957,\n",
      "            0.6967,      0.6977,      0.6987,      0.6997,      0.7007,      0.7017,      0.7027,      0.7037,      0.7047,     0.70571,     0.70671,     0.70771,     0.70871,     0.70971,     0.71071,     0.71171,     0.71271,     0.71371,     0.71471,     0.71572,     0.71672,     0.71772,     0.71872,     0.71972,\n",
      "           0.72072,     0.72172,     0.72272,     0.72372,     0.72472,     0.72573,     0.72673,     0.72773,     0.72873,     0.72973,     0.73073,     0.73173,     0.73273,     0.73373,     0.73473,     0.73574,     0.73674,     0.73774,     0.73874,     0.73974,     0.74074,     0.74174,     0.74274,     0.74374,\n",
      "           0.74474,     0.74575,     0.74675,     0.74775,     0.74875,     0.74975,     0.75075,     0.75175,     0.75275,     0.75375,     0.75475,     0.75576,     0.75676,     0.75776,     0.75876,     0.75976,     0.76076,     0.76176,     0.76276,     0.76376,     0.76476,     0.76577,     0.76677,     0.76777,\n",
      "           0.76877,     0.76977,     0.77077,     0.77177,     0.77277,     0.77377,     0.77477,     0.77578,     0.77678,     0.77778,     0.77878,     0.77978,     0.78078,     0.78178,     0.78278,     0.78378,     0.78478,     0.78579,     0.78679,     0.78779,     0.78879,     0.78979,     0.79079,     0.79179,\n",
      "           0.79279,     0.79379,     0.79479,      0.7958,      0.7968,      0.7978,      0.7988,      0.7998,      0.8008,      0.8018,      0.8028,      0.8038,      0.8048,     0.80581,     0.80681,     0.80781,     0.80881,     0.80981,     0.81081,     0.81181,     0.81281,     0.81381,     0.81481,     0.81582,\n",
      "           0.81682,     0.81782,     0.81882,     0.81982,     0.82082,     0.82182,     0.82282,     0.82382,     0.82482,     0.82583,     0.82683,     0.82783,     0.82883,     0.82983,     0.83083,     0.83183,     0.83283,     0.83383,     0.83483,     0.83584,     0.83684,     0.83784,     0.83884,     0.83984,\n",
      "           0.84084,     0.84184,     0.84284,     0.84384,     0.84484,     0.84585,     0.84685,     0.84785,     0.84885,     0.84985,     0.85085,     0.85185,     0.85285,     0.85385,     0.85485,     0.85586,     0.85686,     0.85786,     0.85886,     0.85986,     0.86086,     0.86186,     0.86286,     0.86386,\n",
      "           0.86486,     0.86587,     0.86687,     0.86787,     0.86887,     0.86987,     0.87087,     0.87187,     0.87287,     0.87387,     0.87487,     0.87588,     0.87688,     0.87788,     0.87888,     0.87988,     0.88088,     0.88188,     0.88288,     0.88388,     0.88488,     0.88589,     0.88689,     0.88789,\n",
      "           0.88889,     0.88989,     0.89089,     0.89189,     0.89289,     0.89389,     0.89489,      0.8959,      0.8969,      0.8979,      0.8989,      0.8999,      0.9009,      0.9019,      0.9029,      0.9039,      0.9049,     0.90591,     0.90691,     0.90791,     0.90891,     0.90991,     0.91091,     0.91191,\n",
      "           0.91291,     0.91391,     0.91491,     0.91592,     0.91692,     0.91792,     0.91892,     0.91992,     0.92092,     0.92192,     0.92292,     0.92392,     0.92492,     0.92593,     0.92693,     0.92793,     0.92893,     0.92993,     0.93093,     0.93193,     0.93293,     0.93393,     0.93493,     0.93594,\n",
      "           0.93694,     0.93794,     0.93894,     0.93994,     0.94094,     0.94194,     0.94294,     0.94394,     0.94494,     0.94595,     0.94695,     0.94795,     0.94895,     0.94995,     0.95095,     0.95195,     0.95295,     0.95395,     0.95495,     0.95596,     0.95696,     0.95796,     0.95896,     0.95996,\n",
      "           0.96096,     0.96196,     0.96296,     0.96396,     0.96496,     0.96597,     0.96697,     0.96797,     0.96897,     0.96997,     0.97097,     0.97197,     0.97297,     0.97397,     0.97497,     0.97598,     0.97698,     0.97798,     0.97898,     0.97998,     0.98098,     0.98198,     0.98298,     0.98398,\n",
      "           0.98498,     0.98599,     0.98699,     0.98799,     0.98899,     0.98999,     0.99099,     0.99199,     0.99299,     0.99399,     0.99499,       0.996,       0.997,       0.998,       0.999,           1]), array([[   0.010925,    0.010925,    0.010925,    0.011808,    0.012438,     0.02328,     0.04748,     0.13521,     0.34609,     0.38479,     0.40335,     0.42387,     0.43511,     0.45009,     0.46501,     0.47473,     0.48772,     0.50409,     0.51507,     0.52313,     0.53308,     0.53943,     0.54807,\n",
      "            0.55734,     0.56111,     0.57182,     0.57983,     0.59302,     0.59995,     0.60906,     0.60919,      0.6146,      0.6221,     0.62347,      0.6343,      0.6387,     0.64304,     0.64921,      0.6515,     0.65317,     0.65493,     0.65688,     0.65791,     0.66172,     0.66599,     0.67311,\n",
      "            0.67473,     0.67754,      0.6784,     0.68014,     0.68383,     0.68692,     0.68957,     0.69466,     0.69691,      0.6991,     0.70422,     0.70734,      0.7094,     0.70999,     0.71059,     0.71118,     0.71203,     0.71327,     0.71643,       0.718,     0.72052,     0.72647,     0.72768,\n",
      "            0.72945,     0.73149,     0.73295,     0.73356,     0.73417,     0.73479,     0.73532,     0.73577,     0.73621,     0.73666,     0.73711,     0.73804,     0.74429,     0.74639,     0.74341,     0.74461,     0.74581,      0.7475,     0.75156,     0.75295,     0.75677,     0.75887,     0.76115,\n",
      "            0.75985,     0.75854,     0.75723,      0.7601,     0.76311,     0.76672,     0.76853,     0.76981,      0.7688,      0.7663,     0.76879,     0.76957,     0.77036,     0.77114,     0.77289,     0.77471,     0.77589,     0.77702,     0.77757,     0.77813,     0.77868,     0.77923,     0.77978,\n",
      "            0.78121,     0.78263,     0.78333,     0.78403,     0.78472,     0.78542,     0.78862,     0.78952,     0.79041,     0.79126,     0.79174,     0.79221,     0.79268,     0.79316,     0.79363,      0.7941,     0.79552,     0.79696,     0.79772,     0.79843,     0.79914,     0.79985,      0.8007,\n",
      "            0.80158,     0.80246,     0.80327,       0.804,     0.80472,     0.80544,     0.80666,     0.80926,     0.81205,     0.81264,     0.81323,     0.81382,     0.81441,     0.81499,     0.81461,     0.81747,     0.82039,     0.82229,     0.82373,     0.82484,     0.82594,     0.82696,     0.82794,\n",
      "            0.82892,     0.82915,     0.82846,     0.82777,     0.82709,      0.8264,     0.82571,     0.82502,     0.82539,     0.82598,     0.82657,     0.82715,     0.82774,     0.82884,     0.83089,     0.83249,     0.83394,      0.8349,     0.83541,     0.83591,     0.83641,      0.8369,      0.8374,\n",
      "             0.8379,     0.83493,      0.8335,     0.83382,     0.83414,     0.83446,     0.83477,     0.83509,     0.83541,     0.83573,     0.83605,     0.83637,     0.83669,     0.83703,     0.83738,     0.83773,     0.83808,     0.83843,     0.83878,     0.83913,     0.83947,     0.83982,     0.84016,\n",
      "            0.84049,     0.84082,     0.84115,     0.84148,     0.84181,     0.84214,     0.84246,     0.84279,     0.84312,       0.844,      0.8467,     0.84737,     0.84798,     0.84859,      0.8492,     0.84981,      0.8494,     0.84714,     0.84562,     0.84594,     0.84626,     0.84657,     0.84689,\n",
      "            0.84721,     0.84752,     0.84784,     0.84816,     0.84847,     0.84879,     0.84923,     0.84987,     0.85051,     0.85115,     0.85179,     0.85243,     0.85287,      0.8533,     0.85373,     0.85416,     0.85459,     0.85502,     0.85545,     0.85587,     0.85614,     0.85635,     0.85657,\n",
      "            0.85678,       0.857,     0.85721,     0.85743,     0.85764,     0.85786,     0.85807,     0.85828,      0.8585,     0.85871,     0.85893,     0.85914,     0.85936,     0.86001,     0.86166,     0.86324,      0.8644,     0.86555,     0.86668,     0.86704,     0.86741,     0.86777,     0.86814,\n",
      "             0.8685,     0.86886,     0.86923,     0.86959,     0.86995,     0.87032,     0.87079,     0.87127,     0.87174,     0.87221,     0.87268,     0.87315,     0.87362,     0.87382,     0.87337,     0.87292,     0.87248,     0.87203,     0.87158,     0.87113,     0.87068,     0.87023,     0.86978,\n",
      "            0.86933,     0.86958,     0.87012,     0.87066,      0.8712,     0.87173,     0.87227,     0.87281,     0.87252,     0.87211,      0.8717,     0.87128,     0.87087,     0.87046,     0.87004,     0.86963,     0.86921,      0.8688,     0.86838,     0.86818,     0.86849,     0.86881,     0.86912,\n",
      "            0.86944,     0.86975,     0.87007,     0.87038,      0.8707,     0.87101,     0.87133,     0.87164,     0.87058,     0.86822,     0.86714,     0.86755,     0.86796,     0.86836,     0.86877,     0.86917,     0.86958,     0.86999,     0.87039,      0.8709,     0.87173,     0.87255,     0.87337,\n",
      "            0.87419,      0.8737,     0.87257,     0.87144,     0.87031,     0.86971,     0.87013,     0.87055,     0.87097,     0.87139,     0.87181,     0.87223,     0.87265,     0.87307,     0.87345,     0.87376,     0.87407,     0.87438,     0.87469,       0.875,      0.8753,     0.87561,     0.87592,\n",
      "            0.87623,     0.87653,     0.87684,     0.87715,     0.87762,     0.87812,     0.87862,     0.87912,     0.87961,     0.88011,     0.88061,     0.88068,     0.87685,     0.87649,     0.87696,     0.87743,      0.8779,     0.87837,     0.87884,     0.87931,     0.87978,     0.88032,     0.88093,\n",
      "            0.88154,     0.88215,     0.88276,     0.88337,      0.8839,     0.88352,     0.88314,     0.88276,     0.88238,       0.882,     0.88162,     0.88124,     0.88086,     0.88047,     0.88009,     0.87971,     0.87933,     0.87895,     0.87871,     0.87848,     0.87825,     0.87803,      0.8778,\n",
      "            0.87757,     0.87734,     0.87711,     0.87688,     0.87666,     0.87643,      0.8762,     0.87597,     0.87574,     0.87551,     0.87528,     0.87505,     0.87482,     0.87459,     0.87437,     0.87414,     0.87391,     0.87373,     0.87356,     0.87339,     0.87322,     0.87305,     0.87289,\n",
      "            0.87272,     0.87255,     0.87238,     0.87221,     0.87204,     0.87187,      0.8717,     0.87153,     0.87136,      0.8712,     0.87103,     0.87086,     0.87069,     0.87052,     0.87035,     0.87018,     0.87001,     0.86984,     0.86967,      0.8695,     0.86933,     0.86916,     0.86899,\n",
      "            0.86882,     0.86856,     0.86826,     0.86797,     0.86767,     0.86738,     0.86708,     0.86679,     0.86649,      0.8662,      0.8659,     0.86561,     0.86531,     0.86501,     0.86472,     0.86442,     0.86412,     0.86383,     0.86239,      0.8589,     0.85922,     0.86011,       0.861,\n",
      "            0.86188,     0.86189,     0.86072,     0.85956,     0.85839,     0.85721,      0.8561,     0.85499,     0.85388,     0.85277,     0.85146,     0.84928,     0.84709,     0.84803,     0.85008,     0.85073,     0.85106,     0.85138,      0.8517,     0.85203,     0.85235,     0.85267,     0.85299,\n",
      "            0.85332,     0.85364,     0.85396,     0.85428,     0.85299,     0.84964,     0.84233,     0.83988,     0.83866,     0.84069,     0.84119,     0.83813,      0.8357,     0.83395,      0.8322,      0.8307,     0.82988,     0.82906,     0.82824,     0.82742,      0.8266,     0.82577,       0.825,\n",
      "             0.8243,     0.82361,     0.82291,     0.82222,     0.82152,     0.82082,     0.82013,     0.81894,     0.81425,     0.80995,      0.8061,     0.80264,     0.80133,     0.80052,     0.79971,     0.79891,      0.7981,     0.79729,     0.79647,     0.79571,     0.79501,     0.79431,     0.79361,\n",
      "            0.79291,      0.7922,      0.7915,      0.7908,     0.79009,     0.78649,     0.78376,     0.78333,      0.7829,     0.78246,     0.78203,     0.78159,     0.78116,     0.78073,     0.78029,     0.77986,     0.77942,     0.77898,     0.77855,     0.77811,     0.77153,     0.77096,     0.77039,\n",
      "            0.76982,     0.76925,     0.76868,     0.76811,     0.76754,     0.76697,     0.76639,     0.76582,     0.76516,      0.7637,     0.76223,     0.76076,     0.75929,     0.75838,     0.75762,     0.75686,     0.75609,     0.75533,     0.75457,      0.7538,     0.75304,     0.75229,     0.75159,\n",
      "            0.75088,     0.75017,     0.74946,     0.74875,     0.74804,     0.74733,     0.74662,     0.74985,     0.74873,     0.74761,     0.74649,     0.74536,     0.74423,     0.74334,     0.74298,     0.74262,     0.74226,      0.7419,     0.74153,     0.74117,     0.74081,     0.74045,     0.74008,\n",
      "            0.73972,     0.73936,     0.73899,     0.73863,     0.73827,      0.7379,     0.73754,     0.73717,     0.73669,     0.73508,     0.73346,     0.73184,     0.73022,     0.72791,     0.72557,     0.72335,     0.72265,     0.72195,     0.72125,     0.72055,     0.71985,     0.71915,     0.71844,\n",
      "            0.71774,     0.71703,      0.7143,     0.70953,     0.70899,     0.70846,     0.70793,     0.70739,     0.70686,     0.70632,     0.70579,     0.70525,     0.70472,     0.70418,     0.70364,      0.7031,     0.70214,     0.69989,     0.69763,     0.69557,     0.69491,     0.69425,     0.69359,\n",
      "            0.69292,     0.69226,     0.69159,     0.69093,     0.69026,      0.6896,     0.68893,     0.68821,      0.6874,     0.68659,     0.68578,     0.68497,     0.68416,     0.68335,     0.68254,     0.68172,     0.68075,     0.67962,     0.67848,     0.67735,     0.67621,     0.67507,     0.67369,\n",
      "            0.66974,     0.66576,     0.66172,     0.65836,     0.65611,     0.65386,     0.65239,     0.65343,     0.65114,     0.64884,     0.64604,     0.64277,     0.63992,     0.63938,     0.63884,     0.63829,     0.63775,     0.63721,     0.63667,     0.63613,     0.63558,     0.63504,     0.63449,\n",
      "            0.63395,     0.63341,     0.63286,     0.63231,     0.62975,     0.62653,     0.62418,     0.62384,     0.62351,     0.62318,     0.62284,     0.62251,     0.62218,     0.62184,     0.62151,     0.62117,     0.62084,      0.6205,     0.62017,     0.61984,      0.6195,     0.61916,     0.61883,\n",
      "            0.61849,     0.61816,     0.61782,     0.61749,     0.61715,     0.61681,     0.61648,     0.61564,     0.61409,     0.61254,     0.61099,     0.60943,     0.60802,     0.60722,     0.60641,     0.60561,      0.6048,     0.60399,     0.60318,     0.60237,     0.60156,     0.60075,     0.59547,\n",
      "            0.57462,     0.57297,     0.57131,     0.56965,     0.56799,     0.56632,     0.56472,     0.56312,     0.56152,     0.55991,      0.5583,     0.55698,      0.5559,     0.55482,     0.55374,     0.55265,     0.55157,     0.55048,     0.54939,     0.54859,     0.54815,     0.54772,     0.54728,\n",
      "            0.54685,     0.54641,     0.54597,     0.54554,      0.5451,     0.54466,     0.54423,     0.54379,     0.54335,     0.54291,     0.54248,     0.54204,      0.5416,     0.54116,     0.54072,     0.54028,     0.53982,     0.53917,     0.53851,     0.53785,      0.5372,     0.53654,     0.53588,\n",
      "            0.53522,     0.53457,     0.53391,     0.53325,     0.53258,     0.53192,     0.53126,     0.53051,     0.52962,     0.52873,     0.52784,     0.52695,     0.52605,     0.52516,     0.52426,     0.52337,     0.52247,     0.52152,     0.52031,      0.5191,     0.51789,     0.51667,     0.51546,\n",
      "            0.51424,     0.51302,     0.51174,     0.51041,     0.50907,     0.50774,      0.5064,     0.50506,     0.50372,     0.49326,     0.49245,     0.49163,     0.49081,     0.48999,     0.48917,     0.48835,     0.48753,     0.48671,     0.48588,     0.48506,     0.48423,     0.48227,     0.48003,\n",
      "            0.47779,     0.47554,     0.47314,     0.47058,     0.46801,     0.46543,     0.45453,     0.44792,     0.44385,      0.4426,     0.44136,     0.44011,     0.43885,      0.4376,     0.43634,     0.43509,     0.43053,     0.42337,     0.42233,     0.42129,     0.42024,      0.4192,     0.41815,\n",
      "            0.41711,     0.41606,       0.415,     0.41395,     0.41262,     0.41088,     0.40914,     0.40739,     0.40565,     0.40389,     0.40184,     0.39911,     0.39637,     0.39362,     0.38998,     0.38482,     0.38066,      0.3795,     0.37835,     0.37719,     0.37603,     0.37487,      0.3737,\n",
      "            0.37254,     0.37137,      0.3702,     0.36044,     0.35043,     0.34315,     0.33697,     0.33078,     0.32456,     0.32321,      0.3224,     0.32159,     0.32078,     0.31997,     0.31915,     0.31834,     0.31752,     0.31671,     0.31589,     0.31507,     0.31426,     0.31344,     0.31262,\n",
      "            0.29427,     0.27955,     0.26244,     0.25559,     0.24893,     0.24325,     0.23753,     0.22413,     0.21977,     0.21556,     0.21134,     0.20026,     0.19448,     0.19112,     0.18775,     0.18436,     0.18091,     0.17741,      0.1739,     0.17038,     0.15362,     0.14858,     0.14352,\n",
      "            0.13802,     0.13196,     0.12594,     0.12391,     0.12186,     0.11982,     0.11777,     0.11571,     0.11365,     0.11158,     0.10649,     0.10047,    0.095238,    0.092326,    0.089405,    0.086476,    0.083537,    0.080575,     0.07688,    0.073171,    0.069448,     0.06571,    0.059054,\n",
      "           0.051715,    0.047297,    0.044422,    0.041537,    0.038645,    0.035743,    0.032825,    0.029796,    0.026758,     0.02371,    0.020653,    0.017586,           0,           0,           0,           0,           0,           0,           0,           0,           0,           0,           0,\n",
      "                  0,           0,           0,           0,           0,           0,           0,           0,           0,           0,           0]]), 'Confidence', 'F1'], [array([          0,    0.001001,    0.002002,    0.003003,    0.004004,    0.005005,    0.006006,    0.007007,    0.008008,    0.009009,     0.01001,    0.011011,    0.012012,    0.013013,    0.014014,    0.015015,    0.016016,    0.017017,    0.018018,    0.019019,     0.02002,    0.021021,    0.022022,    0.023023,\n",
      "          0.024024,    0.025025,    0.026026,    0.027027,    0.028028,    0.029029,     0.03003,    0.031031,    0.032032,    0.033033,    0.034034,    0.035035,    0.036036,    0.037037,    0.038038,    0.039039,     0.04004,    0.041041,    0.042042,    0.043043,    0.044044,    0.045045,    0.046046,    0.047047,\n",
      "          0.048048,    0.049049,     0.05005,    0.051051,    0.052052,    0.053053,    0.054054,    0.055055,    0.056056,    0.057057,    0.058058,    0.059059,     0.06006,    0.061061,    0.062062,    0.063063,    0.064064,    0.065065,    0.066066,    0.067067,    0.068068,    0.069069,     0.07007,    0.071071,\n",
      "          0.072072,    0.073073,    0.074074,    0.075075,    0.076076,    0.077077,    0.078078,    0.079079,     0.08008,    0.081081,    0.082082,    0.083083,    0.084084,    0.085085,    0.086086,    0.087087,    0.088088,    0.089089,     0.09009,    0.091091,    0.092092,    0.093093,    0.094094,    0.095095,\n",
      "          0.096096,    0.097097,    0.098098,    0.099099,      0.1001,      0.1011,      0.1021,      0.1031,      0.1041,     0.10511,     0.10611,     0.10711,     0.10811,     0.10911,     0.11011,     0.11111,     0.11211,     0.11311,     0.11411,     0.11512,     0.11612,     0.11712,     0.11812,     0.11912,\n",
      "           0.12012,     0.12112,     0.12212,     0.12312,     0.12412,     0.12513,     0.12613,     0.12713,     0.12813,     0.12913,     0.13013,     0.13113,     0.13213,     0.13313,     0.13413,     0.13514,     0.13614,     0.13714,     0.13814,     0.13914,     0.14014,     0.14114,     0.14214,     0.14314,\n",
      "           0.14414,     0.14515,     0.14615,     0.14715,     0.14815,     0.14915,     0.15015,     0.15115,     0.15215,     0.15315,     0.15415,     0.15516,     0.15616,     0.15716,     0.15816,     0.15916,     0.16016,     0.16116,     0.16216,     0.16316,     0.16416,     0.16517,     0.16617,     0.16717,\n",
      "           0.16817,     0.16917,     0.17017,     0.17117,     0.17217,     0.17317,     0.17417,     0.17518,     0.17618,     0.17718,     0.17818,     0.17918,     0.18018,     0.18118,     0.18218,     0.18318,     0.18418,     0.18519,     0.18619,     0.18719,     0.18819,     0.18919,     0.19019,     0.19119,\n",
      "           0.19219,     0.19319,     0.19419,      0.1952,      0.1962,      0.1972,      0.1982,      0.1992,      0.2002,      0.2012,      0.2022,      0.2032,      0.2042,     0.20521,     0.20621,     0.20721,     0.20821,     0.20921,     0.21021,     0.21121,     0.21221,     0.21321,     0.21421,     0.21522,\n",
      "           0.21622,     0.21722,     0.21822,     0.21922,     0.22022,     0.22122,     0.22222,     0.22322,     0.22422,     0.22523,     0.22623,     0.22723,     0.22823,     0.22923,     0.23023,     0.23123,     0.23223,     0.23323,     0.23423,     0.23524,     0.23624,     0.23724,     0.23824,     0.23924,\n",
      "           0.24024,     0.24124,     0.24224,     0.24324,     0.24424,     0.24525,     0.24625,     0.24725,     0.24825,     0.24925,     0.25025,     0.25125,     0.25225,     0.25325,     0.25425,     0.25526,     0.25626,     0.25726,     0.25826,     0.25926,     0.26026,     0.26126,     0.26226,     0.26326,\n",
      "           0.26426,     0.26527,     0.26627,     0.26727,     0.26827,     0.26927,     0.27027,     0.27127,     0.27227,     0.27327,     0.27427,     0.27528,     0.27628,     0.27728,     0.27828,     0.27928,     0.28028,     0.28128,     0.28228,     0.28328,     0.28428,     0.28529,     0.28629,     0.28729,\n",
      "           0.28829,     0.28929,     0.29029,     0.29129,     0.29229,     0.29329,     0.29429,      0.2953,      0.2963,      0.2973,      0.2983,      0.2993,      0.3003,      0.3013,      0.3023,      0.3033,      0.3043,     0.30531,     0.30631,     0.30731,     0.30831,     0.30931,     0.31031,     0.31131,\n",
      "           0.31231,     0.31331,     0.31431,     0.31532,     0.31632,     0.31732,     0.31832,     0.31932,     0.32032,     0.32132,     0.32232,     0.32332,     0.32432,     0.32533,     0.32633,     0.32733,     0.32833,     0.32933,     0.33033,     0.33133,     0.33233,     0.33333,     0.33433,     0.33534,\n",
      "           0.33634,     0.33734,     0.33834,     0.33934,     0.34034,     0.34134,     0.34234,     0.34334,     0.34434,     0.34535,     0.34635,     0.34735,     0.34835,     0.34935,     0.35035,     0.35135,     0.35235,     0.35335,     0.35435,     0.35536,     0.35636,     0.35736,     0.35836,     0.35936,\n",
      "           0.36036,     0.36136,     0.36236,     0.36336,     0.36436,     0.36537,     0.36637,     0.36737,     0.36837,     0.36937,     0.37037,     0.37137,     0.37237,     0.37337,     0.37437,     0.37538,     0.37638,     0.37738,     0.37838,     0.37938,     0.38038,     0.38138,     0.38238,     0.38338,\n",
      "           0.38438,     0.38539,     0.38639,     0.38739,     0.38839,     0.38939,     0.39039,     0.39139,     0.39239,     0.39339,     0.39439,      0.3954,      0.3964,      0.3974,      0.3984,      0.3994,      0.4004,      0.4014,      0.4024,      0.4034,      0.4044,     0.40541,     0.40641,     0.40741,\n",
      "           0.40841,     0.40941,     0.41041,     0.41141,     0.41241,     0.41341,     0.41441,     0.41542,     0.41642,     0.41742,     0.41842,     0.41942,     0.42042,     0.42142,     0.42242,     0.42342,     0.42442,     0.42543,     0.42643,     0.42743,     0.42843,     0.42943,     0.43043,     0.43143,\n",
      "           0.43243,     0.43343,     0.43443,     0.43544,     0.43644,     0.43744,     0.43844,     0.43944,     0.44044,     0.44144,     0.44244,     0.44344,     0.44444,     0.44545,     0.44645,     0.44745,     0.44845,     0.44945,     0.45045,     0.45145,     0.45245,     0.45345,     0.45445,     0.45546,\n",
      "           0.45646,     0.45746,     0.45846,     0.45946,     0.46046,     0.46146,     0.46246,     0.46346,     0.46446,     0.46547,     0.46647,     0.46747,     0.46847,     0.46947,     0.47047,     0.47147,     0.47247,     0.47347,     0.47447,     0.47548,     0.47648,     0.47748,     0.47848,     0.47948,\n",
      "           0.48048,     0.48148,     0.48248,     0.48348,     0.48448,     0.48549,     0.48649,     0.48749,     0.48849,     0.48949,     0.49049,     0.49149,     0.49249,     0.49349,     0.49449,      0.4955,      0.4965,      0.4975,      0.4985,      0.4995,      0.5005,      0.5015,      0.5025,      0.5035,\n",
      "            0.5045,     0.50551,     0.50651,     0.50751,     0.50851,     0.50951,     0.51051,     0.51151,     0.51251,     0.51351,     0.51451,     0.51552,     0.51652,     0.51752,     0.51852,     0.51952,     0.52052,     0.52152,     0.52252,     0.52352,     0.52452,     0.52553,     0.52653,     0.52753,\n",
      "           0.52853,     0.52953,     0.53053,     0.53153,     0.53253,     0.53353,     0.53453,     0.53554,     0.53654,     0.53754,     0.53854,     0.53954,     0.54054,     0.54154,     0.54254,     0.54354,     0.54454,     0.54555,     0.54655,     0.54755,     0.54855,     0.54955,     0.55055,     0.55155,\n",
      "           0.55255,     0.55355,     0.55455,     0.55556,     0.55656,     0.55756,     0.55856,     0.55956,     0.56056,     0.56156,     0.56256,     0.56356,     0.56456,     0.56557,     0.56657,     0.56757,     0.56857,     0.56957,     0.57057,     0.57157,     0.57257,     0.57357,     0.57457,     0.57558,\n",
      "           0.57658,     0.57758,     0.57858,     0.57958,     0.58058,     0.58158,     0.58258,     0.58358,     0.58458,     0.58559,     0.58659,     0.58759,     0.58859,     0.58959,     0.59059,     0.59159,     0.59259,     0.59359,     0.59459,      0.5956,      0.5966,      0.5976,      0.5986,      0.5996,\n",
      "            0.6006,      0.6016,      0.6026,      0.6036,      0.6046,     0.60561,     0.60661,     0.60761,     0.60861,     0.60961,     0.61061,     0.61161,     0.61261,     0.61361,     0.61461,     0.61562,     0.61662,     0.61762,     0.61862,     0.61962,     0.62062,     0.62162,     0.62262,     0.62362,\n",
      "           0.62462,     0.62563,     0.62663,     0.62763,     0.62863,     0.62963,     0.63063,     0.63163,     0.63263,     0.63363,     0.63463,     0.63564,     0.63664,     0.63764,     0.63864,     0.63964,     0.64064,     0.64164,     0.64264,     0.64364,     0.64464,     0.64565,     0.64665,     0.64765,\n",
      "           0.64865,     0.64965,     0.65065,     0.65165,     0.65265,     0.65365,     0.65465,     0.65566,     0.65666,     0.65766,     0.65866,     0.65966,     0.66066,     0.66166,     0.66266,     0.66366,     0.66466,     0.66567,     0.66667,     0.66767,     0.66867,     0.66967,     0.67067,     0.67167,\n",
      "           0.67267,     0.67367,     0.67467,     0.67568,     0.67668,     0.67768,     0.67868,     0.67968,     0.68068,     0.68168,     0.68268,     0.68368,     0.68468,     0.68569,     0.68669,     0.68769,     0.68869,     0.68969,     0.69069,     0.69169,     0.69269,     0.69369,     0.69469,      0.6957,\n",
      "            0.6967,      0.6977,      0.6987,      0.6997,      0.7007,      0.7017,      0.7027,      0.7037,      0.7047,     0.70571,     0.70671,     0.70771,     0.70871,     0.70971,     0.71071,     0.71171,     0.71271,     0.71371,     0.71471,     0.71572,     0.71672,     0.71772,     0.71872,     0.71972,\n",
      "           0.72072,     0.72172,     0.72272,     0.72372,     0.72472,     0.72573,     0.72673,     0.72773,     0.72873,     0.72973,     0.73073,     0.73173,     0.73273,     0.73373,     0.73473,     0.73574,     0.73674,     0.73774,     0.73874,     0.73974,     0.74074,     0.74174,     0.74274,     0.74374,\n",
      "           0.74474,     0.74575,     0.74675,     0.74775,     0.74875,     0.74975,     0.75075,     0.75175,     0.75275,     0.75375,     0.75475,     0.75576,     0.75676,     0.75776,     0.75876,     0.75976,     0.76076,     0.76176,     0.76276,     0.76376,     0.76476,     0.76577,     0.76677,     0.76777,\n",
      "           0.76877,     0.76977,     0.77077,     0.77177,     0.77277,     0.77377,     0.77477,     0.77578,     0.77678,     0.77778,     0.77878,     0.77978,     0.78078,     0.78178,     0.78278,     0.78378,     0.78478,     0.78579,     0.78679,     0.78779,     0.78879,     0.78979,     0.79079,     0.79179,\n",
      "           0.79279,     0.79379,     0.79479,      0.7958,      0.7968,      0.7978,      0.7988,      0.7998,      0.8008,      0.8018,      0.8028,      0.8038,      0.8048,     0.80581,     0.80681,     0.80781,     0.80881,     0.80981,     0.81081,     0.81181,     0.81281,     0.81381,     0.81481,     0.81582,\n",
      "           0.81682,     0.81782,     0.81882,     0.81982,     0.82082,     0.82182,     0.82282,     0.82382,     0.82482,     0.82583,     0.82683,     0.82783,     0.82883,     0.82983,     0.83083,     0.83183,     0.83283,     0.83383,     0.83483,     0.83584,     0.83684,     0.83784,     0.83884,     0.83984,\n",
      "           0.84084,     0.84184,     0.84284,     0.84384,     0.84484,     0.84585,     0.84685,     0.84785,     0.84885,     0.84985,     0.85085,     0.85185,     0.85285,     0.85385,     0.85485,     0.85586,     0.85686,     0.85786,     0.85886,     0.85986,     0.86086,     0.86186,     0.86286,     0.86386,\n",
      "           0.86486,     0.86587,     0.86687,     0.86787,     0.86887,     0.86987,     0.87087,     0.87187,     0.87287,     0.87387,     0.87487,     0.87588,     0.87688,     0.87788,     0.87888,     0.87988,     0.88088,     0.88188,     0.88288,     0.88388,     0.88488,     0.88589,     0.88689,     0.88789,\n",
      "           0.88889,     0.88989,     0.89089,     0.89189,     0.89289,     0.89389,     0.89489,      0.8959,      0.8969,      0.8979,      0.8989,      0.8999,      0.9009,      0.9019,      0.9029,      0.9039,      0.9049,     0.90591,     0.90691,     0.90791,     0.90891,     0.90991,     0.91091,     0.91191,\n",
      "           0.91291,     0.91391,     0.91491,     0.91592,     0.91692,     0.91792,     0.91892,     0.91992,     0.92092,     0.92192,     0.92292,     0.92392,     0.92492,     0.92593,     0.92693,     0.92793,     0.92893,     0.92993,     0.93093,     0.93193,     0.93293,     0.93393,     0.93493,     0.93594,\n",
      "           0.93694,     0.93794,     0.93894,     0.93994,     0.94094,     0.94194,     0.94294,     0.94394,     0.94494,     0.94595,     0.94695,     0.94795,     0.94895,     0.94995,     0.95095,     0.95195,     0.95295,     0.95395,     0.95495,     0.95596,     0.95696,     0.95796,     0.95896,     0.95996,\n",
      "           0.96096,     0.96196,     0.96296,     0.96396,     0.96496,     0.96597,     0.96697,     0.96797,     0.96897,     0.96997,     0.97097,     0.97197,     0.97297,     0.97397,     0.97497,     0.97598,     0.97698,     0.97798,     0.97898,     0.97998,     0.98098,     0.98198,     0.98298,     0.98398,\n",
      "           0.98498,     0.98599,     0.98699,     0.98799,     0.98899,     0.98999,     0.99099,     0.99199,     0.99299,     0.99399,     0.99499,       0.996,       0.997,       0.998,       0.999,           1]), array([[   0.005493,    0.005493,    0.005493,   0.0059407,     0.00626,    0.011784,    0.024349,    0.072785,     0.21161,     0.24128,     0.25668,     0.27353,     0.28296,     0.29577,     0.30878,     0.31742,     0.32914,     0.34423,     0.35455,     0.36223,     0.37184,     0.37806,      0.3866,\n",
      "            0.39589,      0.3997,     0.41066,     0.41897,     0.43289,     0.44032,      0.4502,     0.45229,     0.45828,     0.46667,     0.46821,     0.48053,      0.4856,     0.49064,     0.49786,     0.50055,     0.50253,     0.50462,     0.50693,     0.50816,     0.51273,     0.51787,     0.52654,\n",
      "            0.52852,     0.53197,     0.53304,     0.53519,     0.53977,     0.54363,     0.54697,      0.5534,     0.55626,     0.55905,     0.56562,     0.56967,     0.57234,     0.57311,     0.57389,     0.57466,     0.57578,     0.57739,     0.58155,     0.58362,     0.58696,     0.59489,     0.59652,\n",
      "             0.5989,     0.60166,     0.60364,     0.60447,      0.6053,     0.60613,     0.60685,     0.60746,     0.60808,     0.60869,      0.6093,     0.61057,     0.61917,     0.62305,     0.62171,     0.62338,     0.62507,     0.62744,     0.63318,     0.63516,     0.64062,     0.64363,     0.64701,\n",
      "            0.64638,     0.64575,     0.64511,     0.64956,     0.65398,     0.65929,     0.66197,     0.66388,     0.66392,     0.66274,     0.66682,       0.668,     0.66919,     0.67037,     0.67303,     0.67579,     0.67759,     0.67931,     0.68016,       0.681,     0.68184,     0.68269,     0.68353,\n",
      "            0.68575,     0.68794,     0.68902,     0.69009,     0.69117,     0.69225,     0.69724,     0.69865,     0.70005,     0.70138,     0.70213,     0.70287,     0.70362,     0.70437,     0.70511,     0.70586,      0.7081,     0.71038,     0.71159,     0.71273,     0.71386,       0.715,     0.71635,\n",
      "            0.71776,     0.71917,     0.72048,     0.72164,     0.72281,     0.72398,     0.72595,     0.73016,     0.73473,      0.7357,     0.73666,     0.73763,      0.7386,     0.73956,     0.74342,     0.74939,     0.75431,     0.75753,     0.75997,     0.76186,     0.76375,      0.7655,     0.76718,\n",
      "            0.76886,     0.76967,     0.76942,     0.76917,     0.76892,     0.76866,     0.76841,     0.76816,     0.76896,     0.76998,     0.77101,     0.77203,     0.77305,     0.77496,     0.77856,     0.78137,     0.78394,     0.78564,     0.78653,     0.78742,     0.78831,     0.78919,     0.79008,\n",
      "            0.79097,     0.79002,     0.78977,     0.79034,     0.79092,     0.79149,     0.79206,     0.79264,     0.79321,     0.79379,     0.79436,     0.79493,     0.79551,     0.79614,     0.79678,     0.79741,     0.79804,     0.79867,      0.7993,     0.79994,     0.80057,      0.8012,     0.80182,\n",
      "            0.80242,     0.80302,     0.80362,     0.80422,     0.80482,     0.80543,     0.80603,     0.80663,     0.80723,     0.80884,     0.81382,     0.81506,     0.81619,     0.81732,     0.81845,     0.81958,     0.82007,     0.81938,     0.81907,     0.81967,     0.82026,     0.82086,     0.82146,\n",
      "            0.82205,     0.82265,     0.82325,     0.82384,     0.82444,     0.82503,     0.82587,     0.82709,      0.8283,     0.82952,     0.83073,     0.83195,     0.83279,     0.83361,     0.83443,     0.83525,     0.83607,     0.83689,     0.83771,     0.83853,     0.83903,     0.83945,     0.83986,\n",
      "            0.84028,     0.84069,      0.8411,     0.84152,     0.84193,     0.84234,     0.84276,     0.84317,     0.84359,       0.844,     0.84441,     0.84483,     0.84524,     0.84651,     0.84971,     0.85279,     0.85505,     0.85732,     0.85953,     0.86025,     0.86097,     0.86168,      0.8624,\n",
      "            0.86312,     0.86384,     0.86456,     0.86527,     0.86599,     0.86672,     0.86766,      0.8686,     0.86954,     0.87047,     0.87141,     0.87235,     0.87329,     0.87392,     0.87382,     0.87372,     0.87362,     0.87352,     0.87342,     0.87331,     0.87321,     0.87311,     0.87301,\n",
      "            0.87291,     0.87364,     0.87474,     0.87583,     0.87692,     0.87801,      0.8791,     0.88019,     0.88026,     0.88018,     0.88009,        0.88,     0.87991,     0.87982,     0.87973,     0.87964,     0.87955,     0.87946,     0.87937,      0.8795,     0.88014,     0.88079,     0.88144,\n",
      "            0.88209,     0.88274,     0.88339,     0.88404,     0.88469,     0.88534,     0.88599,     0.88664,     0.88671,     0.88622,     0.88636,     0.88721,     0.88806,     0.88892,     0.88977,     0.89062,     0.89147,     0.89232,     0.89317,     0.89425,     0.89599,     0.89773,     0.89947,\n",
      "            0.90121,     0.90165,     0.90144,     0.90124,     0.90103,     0.90121,     0.90212,     0.90302,     0.90393,     0.90483,     0.90573,     0.90664,     0.90754,     0.90845,     0.90928,     0.90995,     0.91062,      0.9113,     0.91197,     0.91264,     0.91331,     0.91398,     0.91465,\n",
      "            0.91532,     0.91599,     0.91666,     0.91733,     0.91836,     0.91946,     0.92055,     0.92165,     0.92275,     0.92384,     0.92494,     0.92587,     0.92534,     0.92608,     0.92714,     0.92819,     0.92925,      0.9303,     0.93135,     0.93241,     0.93346,     0.93469,     0.93607,\n",
      "            0.93745,     0.93883,     0.94021,     0.94159,     0.94285,     0.94281,     0.94277,     0.94273,     0.94269,     0.94264,      0.9426,     0.94256,     0.94252,     0.94248,     0.94244,     0.94239,     0.94235,     0.94231,     0.94228,     0.94226,     0.94223,     0.94221,     0.94218,\n",
      "            0.94216,     0.94213,     0.94211,     0.94208,     0.94206,     0.94203,       0.942,     0.94198,     0.94195,     0.94193,      0.9419,     0.94188,     0.94185,     0.94183,      0.9418,     0.94178,     0.94175,     0.94173,     0.94171,     0.94169,     0.94167,     0.94166,     0.94164,\n",
      "            0.94162,      0.9416,     0.94158,     0.94156,     0.94154,     0.94152,      0.9415,     0.94148,     0.94147,     0.94145,     0.94143,     0.94141,     0.94139,     0.94137,     0.94135,     0.94133,     0.94131,      0.9413,     0.94128,     0.94126,     0.94124,     0.94122,      0.9412,\n",
      "            0.94118,     0.94115,     0.94112,     0.94108,     0.94105,     0.94102,     0.94098,     0.94095,     0.94092,     0.94088,     0.94085,     0.94082,     0.94078,     0.94075,     0.94072,     0.94068,     0.94065,     0.94062,     0.94045,     0.94005,     0.94186,       0.944,     0.94613,\n",
      "            0.94827,     0.94945,     0.94933,     0.94922,      0.9491,     0.94899,     0.94888,     0.94877,     0.94865,     0.94854,     0.94841,     0.94819,     0.94798,     0.95173,     0.95692,     0.95856,     0.95939,     0.96021,     0.96103,     0.96186,     0.96268,     0.96351,     0.96433,\n",
      "            0.96515,     0.96598,      0.9668,     0.96762,     0.96799,     0.96778,     0.96731,     0.96715,     0.96853,     0.97397,     0.97774,      0.9776,     0.97749,     0.97741,     0.97733,     0.97726,     0.97722,     0.97719,     0.97715,     0.97711,     0.97707,     0.97704,       0.977,\n",
      "            0.97697,     0.97694,      0.9769,     0.97687,     0.97684,     0.97681,     0.97677,     0.97672,      0.9765,     0.97629,      0.9761,     0.97594,     0.97587,     0.97583,     0.97579,     0.97575,     0.97571,     0.97567,     0.97563,     0.97559,     0.97556,     0.97552,     0.97549,\n",
      "            0.97545,     0.97542,     0.97538,     0.97535,     0.97531,     0.97513,     0.97499,     0.97497,     0.97495,     0.97492,      0.9749,     0.97488,     0.97486,     0.97484,     0.97481,     0.97479,     0.97477,     0.97475,     0.97472,      0.9747,     0.97436,     0.97433,      0.9743,\n",
      "            0.97427,     0.97424,      0.9742,     0.97417,     0.97414,     0.97411,     0.97408,     0.97405,     0.97402,     0.97394,     0.97386,     0.97378,      0.9737,     0.97365,     0.97361,     0.97357,     0.97353,     0.97348,     0.97344,      0.9734,     0.97336,     0.97332,     0.97328,\n",
      "            0.97324,      0.9732,     0.97316,     0.97312,     0.97308,     0.97304,       0.973,      0.9863,     0.98626,     0.98623,      0.9862,     0.98617,     0.98613,     0.98611,      0.9861,     0.98609,     0.98608,     0.98606,     0.98605,     0.98604,     0.98603,     0.98602,     0.98601,\n",
      "              0.986,     0.98599,     0.98598,     0.98597,     0.98596,     0.98595,     0.98594,     0.98593,     0.98591,     0.98586,     0.98581,     0.98576,     0.98572,     0.98565,     0.98557,     0.98551,     0.98548,     0.98546,     0.98544,     0.98542,      0.9854,     0.98537,     0.98535,\n",
      "            0.98533,     0.98531,     0.98522,     0.98507,     0.98505,     0.98503,     0.98502,       0.985,     0.98498,     0.98497,     0.98495,     0.98493,     0.98491,      0.9849,     0.98488,     0.98486,     0.98483,     0.98476,     0.98468,     0.98461,     0.98459,     0.98457,     0.98455,\n",
      "            0.98452,      0.9845,     0.98448,     0.98446,     0.98443,     0.98441,     0.98439,     0.98436,     0.98434,     0.98431,     0.98428,     0.98425,     0.98422,      0.9842,     0.98417,     0.98414,     0.98411,     0.98407,     0.98403,     0.98399,     0.98395,     0.98391,     0.98386,\n",
      "            0.98372,     0.98357,     0.98342,      0.9833,     0.98322,     0.98313,     0.98629,           1,           1,           1,           1,           1,           1,           1,           1,           1,           1,           1,           1,           1,           1,           1,           1,\n",
      "                  1,           1,           1,           1,           1,           1,           1,           1,           1,           1,           1,           1,           1,           1,           1,           1,           1,           1,           1,           1,           1,           1,           1,\n",
      "                  1,           1,           1,           1,           1,           1,           1,           1,           1,           1,           1,           1,           1,           1,           1,           1,           1,           1,           1,           1,           1,           1,           1,\n",
      "                  1,           1,           1,           1,           1,           1,           1,           1,           1,           1,           1,           1,           1,           1,           1,           1,           1,           1,           1,           1,           1,           1,           1,\n",
      "                  1,           1,           1,           1,           1,           1,           1,           1,           1,           1,           1,           1,           1,           1,           1,           1,           1,           1,           1,           1,           1,           1,           1,\n",
      "                  1,           1,           1,           1,           1,           1,           1,           1,           1,           1,           1,           1,           1,           1,           1,           1,           1,           1,           1,           1,           1,           1,           1,\n",
      "                  1,           1,           1,           1,           1,           1,           1,           1,           1,           1,           1,           1,           1,           1,           1,           1,           1,           1,           1,           1,           1,           1,           1,\n",
      "                  1,           1,           1,           1,           1,           1,           1,           1,           1,           1,           1,           1,           1,           1,           1,           1,           1,           1,           1,           1,           1,           1,           1,\n",
      "                  1,           1,           1,           1,           1,           1,           1,           1,           1,           1,           1,           1,           1,           1,           1,           1,           1,           1,           1,           1,           1,           1,           1,\n",
      "                  1,           1,           1,           1,           1,           1,           1,           1,           1,           1,           1,           1,           1,           1,           1,           1,           1,           1,           1,           1,           1,           1,           1,\n",
      "                  1,           1,           1,           1,           1,           1,           1,           1,           1,           1,           1,           1,           1,           1,           1,           1,           1,           1,           1,           1,           1,           1,           1,\n",
      "                  1,           1,           1,           1,           1,           1,           1,           1,           1,           1,           1,           1,           1,           1,           1,           1,           1,           1,           1,           1,           1,           1,           1,\n",
      "                  1,           1,           1,           1,           1,           1,           1,           1,           1,           1,           1,           1,           1,           1,           1,           1,           1,           1,           1,           1,           1,           1,           1,\n",
      "                  1,           1,           1,           1,           1,           1,           1,           1,           1,           1,           1]]), 'Confidence', 'Precision'], [array([          0,    0.001001,    0.002002,    0.003003,    0.004004,    0.005005,    0.006006,    0.007007,    0.008008,    0.009009,     0.01001,    0.011011,    0.012012,    0.013013,    0.014014,    0.015015,    0.016016,    0.017017,    0.018018,    0.019019,     0.02002,    0.021021,    0.022022,    0.023023,\n",
      "          0.024024,    0.025025,    0.026026,    0.027027,    0.028028,    0.029029,     0.03003,    0.031031,    0.032032,    0.033033,    0.034034,    0.035035,    0.036036,    0.037037,    0.038038,    0.039039,     0.04004,    0.041041,    0.042042,    0.043043,    0.044044,    0.045045,    0.046046,    0.047047,\n",
      "          0.048048,    0.049049,     0.05005,    0.051051,    0.052052,    0.053053,    0.054054,    0.055055,    0.056056,    0.057057,    0.058058,    0.059059,     0.06006,    0.061061,    0.062062,    0.063063,    0.064064,    0.065065,    0.066066,    0.067067,    0.068068,    0.069069,     0.07007,    0.071071,\n",
      "          0.072072,    0.073073,    0.074074,    0.075075,    0.076076,    0.077077,    0.078078,    0.079079,     0.08008,    0.081081,    0.082082,    0.083083,    0.084084,    0.085085,    0.086086,    0.087087,    0.088088,    0.089089,     0.09009,    0.091091,    0.092092,    0.093093,    0.094094,    0.095095,\n",
      "          0.096096,    0.097097,    0.098098,    0.099099,      0.1001,      0.1011,      0.1021,      0.1031,      0.1041,     0.10511,     0.10611,     0.10711,     0.10811,     0.10911,     0.11011,     0.11111,     0.11211,     0.11311,     0.11411,     0.11512,     0.11612,     0.11712,     0.11812,     0.11912,\n",
      "           0.12012,     0.12112,     0.12212,     0.12312,     0.12412,     0.12513,     0.12613,     0.12713,     0.12813,     0.12913,     0.13013,     0.13113,     0.13213,     0.13313,     0.13413,     0.13514,     0.13614,     0.13714,     0.13814,     0.13914,     0.14014,     0.14114,     0.14214,     0.14314,\n",
      "           0.14414,     0.14515,     0.14615,     0.14715,     0.14815,     0.14915,     0.15015,     0.15115,     0.15215,     0.15315,     0.15415,     0.15516,     0.15616,     0.15716,     0.15816,     0.15916,     0.16016,     0.16116,     0.16216,     0.16316,     0.16416,     0.16517,     0.16617,     0.16717,\n",
      "           0.16817,     0.16917,     0.17017,     0.17117,     0.17217,     0.17317,     0.17417,     0.17518,     0.17618,     0.17718,     0.17818,     0.17918,     0.18018,     0.18118,     0.18218,     0.18318,     0.18418,     0.18519,     0.18619,     0.18719,     0.18819,     0.18919,     0.19019,     0.19119,\n",
      "           0.19219,     0.19319,     0.19419,      0.1952,      0.1962,      0.1972,      0.1982,      0.1992,      0.2002,      0.2012,      0.2022,      0.2032,      0.2042,     0.20521,     0.20621,     0.20721,     0.20821,     0.20921,     0.21021,     0.21121,     0.21221,     0.21321,     0.21421,     0.21522,\n",
      "           0.21622,     0.21722,     0.21822,     0.21922,     0.22022,     0.22122,     0.22222,     0.22322,     0.22422,     0.22523,     0.22623,     0.22723,     0.22823,     0.22923,     0.23023,     0.23123,     0.23223,     0.23323,     0.23423,     0.23524,     0.23624,     0.23724,     0.23824,     0.23924,\n",
      "           0.24024,     0.24124,     0.24224,     0.24324,     0.24424,     0.24525,     0.24625,     0.24725,     0.24825,     0.24925,     0.25025,     0.25125,     0.25225,     0.25325,     0.25425,     0.25526,     0.25626,     0.25726,     0.25826,     0.25926,     0.26026,     0.26126,     0.26226,     0.26326,\n",
      "           0.26426,     0.26527,     0.26627,     0.26727,     0.26827,     0.26927,     0.27027,     0.27127,     0.27227,     0.27327,     0.27427,     0.27528,     0.27628,     0.27728,     0.27828,     0.27928,     0.28028,     0.28128,     0.28228,     0.28328,     0.28428,     0.28529,     0.28629,     0.28729,\n",
      "           0.28829,     0.28929,     0.29029,     0.29129,     0.29229,     0.29329,     0.29429,      0.2953,      0.2963,      0.2973,      0.2983,      0.2993,      0.3003,      0.3013,      0.3023,      0.3033,      0.3043,     0.30531,     0.30631,     0.30731,     0.30831,     0.30931,     0.31031,     0.31131,\n",
      "           0.31231,     0.31331,     0.31431,     0.31532,     0.31632,     0.31732,     0.31832,     0.31932,     0.32032,     0.32132,     0.32232,     0.32332,     0.32432,     0.32533,     0.32633,     0.32733,     0.32833,     0.32933,     0.33033,     0.33133,     0.33233,     0.33333,     0.33433,     0.33534,\n",
      "           0.33634,     0.33734,     0.33834,     0.33934,     0.34034,     0.34134,     0.34234,     0.34334,     0.34434,     0.34535,     0.34635,     0.34735,     0.34835,     0.34935,     0.35035,     0.35135,     0.35235,     0.35335,     0.35435,     0.35536,     0.35636,     0.35736,     0.35836,     0.35936,\n",
      "           0.36036,     0.36136,     0.36236,     0.36336,     0.36436,     0.36537,     0.36637,     0.36737,     0.36837,     0.36937,     0.37037,     0.37137,     0.37237,     0.37337,     0.37437,     0.37538,     0.37638,     0.37738,     0.37838,     0.37938,     0.38038,     0.38138,     0.38238,     0.38338,\n",
      "           0.38438,     0.38539,     0.38639,     0.38739,     0.38839,     0.38939,     0.39039,     0.39139,     0.39239,     0.39339,     0.39439,      0.3954,      0.3964,      0.3974,      0.3984,      0.3994,      0.4004,      0.4014,      0.4024,      0.4034,      0.4044,     0.40541,     0.40641,     0.40741,\n",
      "           0.40841,     0.40941,     0.41041,     0.41141,     0.41241,     0.41341,     0.41441,     0.41542,     0.41642,     0.41742,     0.41842,     0.41942,     0.42042,     0.42142,     0.42242,     0.42342,     0.42442,     0.42543,     0.42643,     0.42743,     0.42843,     0.42943,     0.43043,     0.43143,\n",
      "           0.43243,     0.43343,     0.43443,     0.43544,     0.43644,     0.43744,     0.43844,     0.43944,     0.44044,     0.44144,     0.44244,     0.44344,     0.44444,     0.44545,     0.44645,     0.44745,     0.44845,     0.44945,     0.45045,     0.45145,     0.45245,     0.45345,     0.45445,     0.45546,\n",
      "           0.45646,     0.45746,     0.45846,     0.45946,     0.46046,     0.46146,     0.46246,     0.46346,     0.46446,     0.46547,     0.46647,     0.46747,     0.46847,     0.46947,     0.47047,     0.47147,     0.47247,     0.47347,     0.47447,     0.47548,     0.47648,     0.47748,     0.47848,     0.47948,\n",
      "           0.48048,     0.48148,     0.48248,     0.48348,     0.48448,     0.48549,     0.48649,     0.48749,     0.48849,     0.48949,     0.49049,     0.49149,     0.49249,     0.49349,     0.49449,      0.4955,      0.4965,      0.4975,      0.4985,      0.4995,      0.5005,      0.5015,      0.5025,      0.5035,\n",
      "            0.5045,     0.50551,     0.50651,     0.50751,     0.50851,     0.50951,     0.51051,     0.51151,     0.51251,     0.51351,     0.51451,     0.51552,     0.51652,     0.51752,     0.51852,     0.51952,     0.52052,     0.52152,     0.52252,     0.52352,     0.52452,     0.52553,     0.52653,     0.52753,\n",
      "           0.52853,     0.52953,     0.53053,     0.53153,     0.53253,     0.53353,     0.53453,     0.53554,     0.53654,     0.53754,     0.53854,     0.53954,     0.54054,     0.54154,     0.54254,     0.54354,     0.54454,     0.54555,     0.54655,     0.54755,     0.54855,     0.54955,     0.55055,     0.55155,\n",
      "           0.55255,     0.55355,     0.55455,     0.55556,     0.55656,     0.55756,     0.55856,     0.55956,     0.56056,     0.56156,     0.56256,     0.56356,     0.56456,     0.56557,     0.56657,     0.56757,     0.56857,     0.56957,     0.57057,     0.57157,     0.57257,     0.57357,     0.57457,     0.57558,\n",
      "           0.57658,     0.57758,     0.57858,     0.57958,     0.58058,     0.58158,     0.58258,     0.58358,     0.58458,     0.58559,     0.58659,     0.58759,     0.58859,     0.58959,     0.59059,     0.59159,     0.59259,     0.59359,     0.59459,      0.5956,      0.5966,      0.5976,      0.5986,      0.5996,\n",
      "            0.6006,      0.6016,      0.6026,      0.6036,      0.6046,     0.60561,     0.60661,     0.60761,     0.60861,     0.60961,     0.61061,     0.61161,     0.61261,     0.61361,     0.61461,     0.61562,     0.61662,     0.61762,     0.61862,     0.61962,     0.62062,     0.62162,     0.62262,     0.62362,\n",
      "           0.62462,     0.62563,     0.62663,     0.62763,     0.62863,     0.62963,     0.63063,     0.63163,     0.63263,     0.63363,     0.63463,     0.63564,     0.63664,     0.63764,     0.63864,     0.63964,     0.64064,     0.64164,     0.64264,     0.64364,     0.64464,     0.64565,     0.64665,     0.64765,\n",
      "           0.64865,     0.64965,     0.65065,     0.65165,     0.65265,     0.65365,     0.65465,     0.65566,     0.65666,     0.65766,     0.65866,     0.65966,     0.66066,     0.66166,     0.66266,     0.66366,     0.66466,     0.66567,     0.66667,     0.66767,     0.66867,     0.66967,     0.67067,     0.67167,\n",
      "           0.67267,     0.67367,     0.67467,     0.67568,     0.67668,     0.67768,     0.67868,     0.67968,     0.68068,     0.68168,     0.68268,     0.68368,     0.68468,     0.68569,     0.68669,     0.68769,     0.68869,     0.68969,     0.69069,     0.69169,     0.69269,     0.69369,     0.69469,      0.6957,\n",
      "            0.6967,      0.6977,      0.6987,      0.6997,      0.7007,      0.7017,      0.7027,      0.7037,      0.7047,     0.70571,     0.70671,     0.70771,     0.70871,     0.70971,     0.71071,     0.71171,     0.71271,     0.71371,     0.71471,     0.71572,     0.71672,     0.71772,     0.71872,     0.71972,\n",
      "           0.72072,     0.72172,     0.72272,     0.72372,     0.72472,     0.72573,     0.72673,     0.72773,     0.72873,     0.72973,     0.73073,     0.73173,     0.73273,     0.73373,     0.73473,     0.73574,     0.73674,     0.73774,     0.73874,     0.73974,     0.74074,     0.74174,     0.74274,     0.74374,\n",
      "           0.74474,     0.74575,     0.74675,     0.74775,     0.74875,     0.74975,     0.75075,     0.75175,     0.75275,     0.75375,     0.75475,     0.75576,     0.75676,     0.75776,     0.75876,     0.75976,     0.76076,     0.76176,     0.76276,     0.76376,     0.76476,     0.76577,     0.76677,     0.76777,\n",
      "           0.76877,     0.76977,     0.77077,     0.77177,     0.77277,     0.77377,     0.77477,     0.77578,     0.77678,     0.77778,     0.77878,     0.77978,     0.78078,     0.78178,     0.78278,     0.78378,     0.78478,     0.78579,     0.78679,     0.78779,     0.78879,     0.78979,     0.79079,     0.79179,\n",
      "           0.79279,     0.79379,     0.79479,      0.7958,      0.7968,      0.7978,      0.7988,      0.7998,      0.8008,      0.8018,      0.8028,      0.8038,      0.8048,     0.80581,     0.80681,     0.80781,     0.80881,     0.80981,     0.81081,     0.81181,     0.81281,     0.81381,     0.81481,     0.81582,\n",
      "           0.81682,     0.81782,     0.81882,     0.81982,     0.82082,     0.82182,     0.82282,     0.82382,     0.82482,     0.82583,     0.82683,     0.82783,     0.82883,     0.82983,     0.83083,     0.83183,     0.83283,     0.83383,     0.83483,     0.83584,     0.83684,     0.83784,     0.83884,     0.83984,\n",
      "           0.84084,     0.84184,     0.84284,     0.84384,     0.84484,     0.84585,     0.84685,     0.84785,     0.84885,     0.84985,     0.85085,     0.85185,     0.85285,     0.85385,     0.85485,     0.85586,     0.85686,     0.85786,     0.85886,     0.85986,     0.86086,     0.86186,     0.86286,     0.86386,\n",
      "           0.86486,     0.86587,     0.86687,     0.86787,     0.86887,     0.86987,     0.87087,     0.87187,     0.87287,     0.87387,     0.87487,     0.87588,     0.87688,     0.87788,     0.87888,     0.87988,     0.88088,     0.88188,     0.88288,     0.88388,     0.88488,     0.88589,     0.88689,     0.88789,\n",
      "           0.88889,     0.88989,     0.89089,     0.89189,     0.89289,     0.89389,     0.89489,      0.8959,      0.8969,      0.8979,      0.8989,      0.8999,      0.9009,      0.9019,      0.9029,      0.9039,      0.9049,     0.90591,     0.90691,     0.90791,     0.90891,     0.90991,     0.91091,     0.91191,\n",
      "           0.91291,     0.91391,     0.91491,     0.91592,     0.91692,     0.91792,     0.91892,     0.91992,     0.92092,     0.92192,     0.92292,     0.92392,     0.92492,     0.92593,     0.92693,     0.92793,     0.92893,     0.92993,     0.93093,     0.93193,     0.93293,     0.93393,     0.93493,     0.93594,\n",
      "           0.93694,     0.93794,     0.93894,     0.93994,     0.94094,     0.94194,     0.94294,     0.94394,     0.94494,     0.94595,     0.94695,     0.94795,     0.94895,     0.94995,     0.95095,     0.95195,     0.95295,     0.95395,     0.95495,     0.95596,     0.95696,     0.95796,     0.95896,     0.95996,\n",
      "           0.96096,     0.96196,     0.96296,     0.96396,     0.96496,     0.96597,     0.96697,     0.96797,     0.96897,     0.96997,     0.97097,     0.97197,     0.97297,     0.97397,     0.97497,     0.97598,     0.97698,     0.97798,     0.97898,     0.97998,     0.98098,     0.98198,     0.98298,     0.98398,\n",
      "           0.98498,     0.98599,     0.98699,     0.98799,     0.98899,     0.98999,     0.99099,     0.99199,     0.99299,     0.99399,     0.99499,       0.996,       0.997,       0.998,       0.999,           1]), array([[    0.98319,     0.98319,     0.98319,     0.95798,     0.94958,     0.94958,     0.94958,     0.94958,     0.94958,     0.94958,     0.94118,     0.94118,     0.94118,     0.94118,     0.94118,     0.94118,     0.94118,     0.94118,     0.94118,     0.94118,     0.94118,     0.94118,     0.94118,\n",
      "            0.94118,     0.94118,     0.94118,     0.94118,     0.94118,     0.94118,     0.94118,     0.93277,     0.93277,     0.93277,     0.93277,     0.93277,     0.93277,     0.93277,     0.93277,     0.93277,     0.93277,     0.93277,     0.93277,     0.93277,     0.93277,     0.93277,     0.93277,\n",
      "            0.93277,     0.93277,     0.93277,     0.93277,     0.93277,     0.93277,     0.93277,     0.93277,     0.93277,     0.93277,     0.93277,     0.93277,     0.93277,     0.93277,     0.93277,     0.93277,     0.93277,     0.93277,     0.93277,     0.93277,     0.93277,     0.93277,     0.93277,\n",
      "            0.93277,     0.93277,     0.93277,     0.93277,     0.93277,     0.93277,     0.93277,     0.93277,     0.93277,     0.93277,     0.93277,     0.93277,     0.93277,     0.93061,     0.92437,     0.92437,     0.92437,     0.92437,     0.92437,     0.92437,     0.92437,     0.92437,     0.92419,\n",
      "            0.92164,     0.91908,     0.91653,     0.91597,     0.91597,     0.91597,     0.91597,     0.91597,     0.91304,     0.90822,     0.90756,     0.90756,     0.90756,     0.90756,     0.90756,     0.90756,     0.90756,     0.90756,     0.90756,     0.90756,     0.90756,     0.90756,     0.90756,\n",
      "            0.90756,     0.90756,     0.90756,     0.90756,     0.90756,     0.90756,     0.90756,     0.90756,     0.90756,     0.90756,     0.90756,     0.90756,     0.90756,     0.90756,     0.90756,     0.90756,     0.90756,     0.90756,     0.90756,     0.90756,     0.90756,     0.90756,     0.90756,\n",
      "            0.90756,     0.90756,     0.90756,     0.90756,     0.90756,     0.90756,     0.90756,     0.90756,     0.90756,     0.90756,     0.90756,     0.90756,     0.90756,     0.90756,     0.90088,     0.89916,     0.89916,     0.89916,     0.89916,     0.89916,     0.89916,     0.89916,     0.89916,\n",
      "            0.89916,     0.89859,     0.89732,     0.89605,     0.89478,     0.89351,     0.89224,     0.89098,     0.89076,     0.89076,     0.89076,     0.89076,     0.89076,     0.89076,     0.89076,     0.89076,     0.89076,     0.89076,     0.89076,     0.89076,     0.89076,     0.89076,     0.89076,\n",
      "            0.89076,     0.88526,     0.88235,     0.88235,     0.88235,     0.88235,     0.88235,     0.88235,     0.88235,     0.88235,     0.88235,     0.88235,     0.88235,     0.88235,     0.88235,     0.88235,     0.88235,     0.88235,     0.88235,     0.88235,     0.88235,     0.88235,     0.88235,\n",
      "            0.88235,     0.88235,     0.88235,     0.88235,     0.88235,     0.88235,     0.88235,     0.88235,     0.88235,     0.88235,     0.88235,     0.88235,     0.88235,     0.88235,     0.88235,     0.88235,     0.88091,     0.87683,     0.87395,     0.87395,     0.87395,     0.87395,     0.87395,\n",
      "            0.87395,     0.87395,     0.87395,     0.87395,     0.87395,     0.87395,     0.87395,     0.87395,     0.87395,     0.87395,     0.87395,     0.87395,     0.87395,     0.87395,     0.87395,     0.87395,     0.87395,     0.87395,     0.87395,     0.87395,     0.87395,     0.87395,     0.87395,\n",
      "            0.87395,     0.87395,     0.87395,     0.87395,     0.87395,     0.87395,     0.87395,     0.87395,     0.87395,     0.87395,     0.87395,     0.87395,     0.87395,     0.87395,     0.87395,     0.87395,     0.87395,     0.87395,     0.87395,     0.87395,     0.87395,     0.87395,     0.87395,\n",
      "            0.87395,     0.87395,     0.87395,     0.87395,     0.87395,     0.87395,     0.87395,     0.87395,     0.87395,     0.87395,     0.87395,     0.87395,     0.87395,     0.87372,     0.87292,     0.87213,     0.87134,     0.87054,     0.86975,     0.86896,     0.86816,     0.86737,     0.86658,\n",
      "            0.86579,     0.86555,     0.86555,     0.86555,     0.86555,     0.86555,     0.86555,     0.86555,     0.86492,     0.86419,     0.86347,     0.86274,     0.86202,     0.86129,     0.86056,     0.85984,     0.85911,     0.85839,     0.85766,     0.85714,     0.85714,     0.85714,     0.85714,\n",
      "            0.85714,     0.85714,     0.85714,     0.85714,     0.85714,     0.85714,     0.85714,     0.85714,     0.85503,     0.85093,     0.84874,     0.84874,     0.84874,     0.84874,     0.84874,     0.84874,     0.84874,     0.84874,     0.84874,     0.84874,     0.84874,     0.84874,     0.84874,\n",
      "            0.84874,     0.84743,     0.84549,     0.84355,     0.84161,     0.84034,     0.84034,     0.84034,     0.84034,     0.84034,     0.84034,     0.84034,     0.84034,     0.84034,     0.84034,     0.84034,     0.84034,     0.84034,     0.84034,     0.84034,     0.84034,     0.84034,     0.84034,\n",
      "            0.84034,     0.84034,     0.84034,     0.84034,     0.84034,     0.84034,     0.84034,     0.84034,     0.84034,     0.84034,     0.84034,     0.83969,     0.83319,     0.83193,     0.83193,     0.83193,     0.83193,     0.83193,     0.83193,     0.83193,     0.83193,     0.83193,     0.83193,\n",
      "            0.83193,     0.83193,     0.83193,     0.83193,     0.83188,     0.83124,      0.8306,     0.82996,     0.82932,     0.82868,     0.82804,      0.8274,     0.82677,     0.82613,     0.82549,     0.82485,     0.82421,     0.82357,     0.82317,     0.82279,     0.82241,     0.82203,     0.82165,\n",
      "            0.82127,     0.82089,     0.82051,     0.82013,     0.81975,     0.81937,     0.81899,      0.8186,     0.81822,     0.81784,     0.81746,     0.81708,      0.8167,     0.81632,     0.81594,     0.81556,     0.81518,     0.81489,     0.81461,     0.81433,     0.81405,     0.81377,     0.81349,\n",
      "            0.81321,     0.81293,     0.81265,     0.81237,      0.8121,     0.81182,     0.81154,     0.81126,     0.81098,      0.8107,     0.81042,     0.81014,     0.80986,     0.80958,      0.8093,     0.80903,     0.80875,     0.80847,     0.80819,     0.80791,     0.80763,     0.80735,     0.80707,\n",
      "            0.80679,     0.80636,     0.80588,     0.80539,     0.80491,     0.80443,     0.80394,     0.80346,     0.80298,      0.8025,     0.80201,     0.80153,     0.80105,     0.80056,     0.80008,      0.7996,     0.79911,     0.79863,      0.7963,     0.79064,     0.78992,     0.78992,     0.78992,\n",
      "            0.78992,     0.78912,     0.78724,     0.78537,      0.7835,     0.78163,     0.77985,     0.77809,     0.77632,     0.77456,      0.7725,     0.76906,     0.76562,     0.76471,     0.76471,     0.76471,     0.76471,     0.76471,     0.76471,     0.76471,     0.76471,     0.76471,     0.76471,\n",
      "            0.76471,     0.76471,     0.76471,     0.76471,     0.76241,      0.7572,     0.74595,     0.74221,      0.7395,      0.7395,     0.73811,     0.73349,     0.72983,     0.72722,      0.7246,     0.72236,     0.72115,     0.71993,     0.71872,      0.7175,     0.71628,     0.71507,     0.71392,\n",
      "             0.7129,     0.71188,     0.71086,     0.70984,     0.70882,      0.7078,     0.70678,     0.70505,     0.69823,     0.69204,     0.68654,     0.68161,     0.67975,     0.67861,     0.67747,     0.67633,     0.67519,     0.67405,     0.67291,     0.67184,     0.67086,     0.66988,      0.6689,\n",
      "            0.66791,     0.66693,     0.66595,     0.66497,     0.66399,       0.659,     0.65524,     0.65465,     0.65405,     0.65346,     0.65287,     0.65227,     0.65168,     0.65108,     0.65049,     0.64989,      0.6493,      0.6487,     0.64811,     0.64751,     0.63859,     0.63783,     0.63706,\n",
      "             0.6363,     0.63553,     0.63477,       0.634,     0.63324,     0.63247,     0.63171,     0.63094,     0.63005,     0.62811,     0.62616,     0.62421,     0.62226,     0.62106,     0.62006,     0.61906,     0.61805,     0.61705,     0.61605,     0.61505,     0.61405,     0.61308,     0.61215,\n",
      "            0.61123,     0.61031,     0.60938,     0.60846,     0.60754,     0.60661,     0.60569,     0.60485,     0.60341,     0.60196,     0.60052,     0.59907,     0.59763,     0.59649,     0.59603,     0.59557,     0.59511,     0.59465,     0.59419,     0.59373,     0.59327,      0.5928,     0.59234,\n",
      "            0.59188,     0.59142,     0.59096,      0.5905,     0.59004,     0.58958,     0.58911,     0.58865,     0.58805,     0.58601,     0.58398,     0.58194,     0.57991,     0.57703,     0.57411,     0.57136,      0.5705,     0.56963,     0.56877,      0.5679,     0.56704,     0.56618,     0.56531,\n",
      "            0.56445,     0.56358,     0.56024,     0.55444,     0.55379,     0.55315,      0.5525,     0.55186,     0.55121,     0.55057,     0.54992,     0.54928,     0.54863,     0.54799,     0.54734,      0.5467,     0.54554,     0.54285,     0.54017,     0.53772,     0.53694,     0.53615,     0.53537,\n",
      "            0.53459,      0.5338,     0.53302,     0.53224,     0.53145,     0.53067,     0.52989,     0.52904,      0.5281,     0.52715,      0.5262,     0.52526,     0.52431,     0.52337,     0.52242,     0.52148,     0.52035,     0.51904,     0.51773,     0.51642,     0.51511,      0.5138,     0.51221,\n",
      "             0.5077,     0.50318,     0.49861,     0.49483,     0.49232,     0.48981,     0.48739,     0.48526,     0.48273,     0.48021,     0.47715,     0.47359,      0.4705,     0.46991,     0.46933,     0.46875,     0.46816,     0.46758,     0.46699,     0.46641,     0.46583,     0.46524,     0.46466,\n",
      "            0.46408,     0.46349,     0.46291,     0.46232,     0.45958,     0.45617,     0.45368,     0.45332,     0.45297,     0.45262,     0.45227,     0.45192,     0.45156,     0.45121,     0.45086,     0.45051,     0.45016,     0.44981,     0.44945,      0.4491,     0.44875,      0.4484,     0.44805,\n",
      "             0.4477,     0.44734,     0.44699,     0.44664,     0.44629,     0.44594,     0.44558,     0.44471,      0.4431,     0.44148,     0.43987,     0.43826,      0.4368,     0.43597,     0.43514,     0.43431,     0.43349,     0.43266,     0.43183,       0.431,     0.43017,     0.42934,     0.42396,\n",
      "            0.40314,     0.40151,     0.39989,     0.39826,     0.39664,     0.39501,     0.39346,     0.39191,     0.39036,      0.3888,     0.38725,     0.38599,     0.38495,     0.38391,     0.38288,     0.38184,      0.3808,     0.37977,     0.37873,     0.37797,     0.37756,     0.37714,     0.37673,\n",
      "            0.37632,      0.3759,     0.37549,     0.37508,     0.37467,     0.37425,     0.37384,     0.37343,     0.37302,      0.3726,     0.37219,     0.37178,     0.37136,     0.37095,     0.37054,     0.37013,      0.3697,     0.36908,     0.36847,     0.36785,     0.36724,     0.36662,     0.36601,\n",
      "             0.3654,     0.36478,     0.36417,     0.36355,     0.36294,     0.36233,     0.36171,     0.36101,     0.36019,     0.35937,     0.35855,     0.35772,      0.3569,     0.35608,     0.35526,     0.35443,     0.35361,     0.35274,     0.35163,     0.35053,     0.34942,     0.34832,     0.34722,\n",
      "            0.34611,     0.34501,     0.34385,     0.34265,     0.34145,     0.34025,     0.33905,     0.33785,     0.33665,     0.32737,     0.32665,     0.32593,     0.32522,      0.3245,     0.32378,     0.32306,     0.32234,     0.32162,      0.3209,     0.32018,     0.31946,     0.31776,     0.31582,\n",
      "            0.31388,     0.31194,     0.30988,     0.30768,     0.30549,     0.30329,      0.2941,     0.28859,     0.28522,     0.28419,     0.28317,     0.28214,     0.28111,     0.28008,     0.27905,     0.27803,     0.27431,     0.26853,     0.26769,     0.26686,     0.26602,     0.26518,     0.26434,\n",
      "            0.26351,     0.26267,     0.26183,       0.261,     0.25994,     0.25856,     0.25718,      0.2558,     0.25443,     0.25305,     0.25144,      0.2493,     0.24717,     0.24504,     0.24222,     0.23825,     0.23507,     0.23419,     0.23331,     0.23243,     0.23155,     0.23067,     0.22979,\n",
      "            0.22891,     0.22803,     0.22715,     0.21984,     0.21244,     0.20711,     0.20263,     0.19817,     0.19372,     0.19276,     0.19218,     0.19161,     0.19103,     0.19045,     0.18988,      0.1893,     0.18872,     0.18815,     0.18757,       0.187,     0.18642,     0.18584,     0.18527,\n",
      "            0.17252,     0.16249,     0.15104,     0.14652,     0.14216,     0.13846,     0.13477,     0.12621,     0.12345,      0.1208,     0.11816,     0.11127,     0.10772,     0.10566,      0.1036,     0.10154,    0.099451,    0.097341,    0.095232,    0.093123,    0.083203,    0.080254,    0.077305,\n",
      "           0.074126,    0.070642,    0.067204,    0.066045,    0.064886,    0.063726,    0.062567,    0.061408,    0.060248,    0.059089,    0.056241,    0.052891,        0.05,    0.048397,    0.046794,    0.045192,    0.043589,    0.041979,    0.039977,    0.037975,    0.035973,    0.033971,    0.030426,\n",
      "           0.026544,    0.024221,    0.022715,    0.021209,    0.019703,    0.018197,    0.016686,    0.015123,     0.01356,    0.011997,    0.010434,    0.008871,           0,           0,           0,           0,           0,           0,           0,           0,           0,           0,           0,\n",
      "                  0,           0,           0,           0,           0,           0,           0,           0,           0,           0,           0]]), 'Confidence', 'Recall']]\n",
      "fitness: np.float64(0.6113909425232851)\n",
      "keys: ['metrics/precision(B)', 'metrics/recall(B)', 'metrics/mAP50(B)', 'metrics/mAP50-95(B)']\n",
      "maps: array([    0.57832])\n",
      "names: {0: 'car'}\n",
      "nt_per_class: array([119])\n",
      "nt_per_image: array([71])\n",
      "results_dict: {'metrics/precision(B)': np.float64(0.9388273846133615), 'metrics/recall(B)': np.float64(0.8319327731092437), 'metrics/mAP50(B)': np.float64(0.909016221147586), 'metrics/mAP50-95(B)': np.float64(0.578321467120585), 'fitness': np.float64(0.6113909425232851)}\n",
      "save_dir: WindowsPath('runs/detect/car_detection_modelv102')\n",
      "speed: {'preprocess': 1.7541295772542993, 'inference': 79.57979577468892, 'loss': 0.0001591551166788583, 'postprocess': 0.20330422516899105}\n",
      "stats: {'tp': [], 'conf': [], 'pred_cls': [], 'target_cls': [], 'target_img': []}\n",
      "task: 'detect'\n"
     ]
    }
   ],
   "source": [
    "# Evaluate the model on the validation set\n",
    "metrics = model.val()\n",
    "print(metrics)"
   ]
  },
  {
   "cell_type": "code",
   "execution_count": 7,
   "id": "2dccfb59-b778-44f7-b03f-06523b2b47a5",
   "metadata": {},
   "outputs": [
    {
     "name": "stdout",
     "output_type": "stream",
     "text": [
      "\n",
      "image 1/1 C:\\Users\\ervin\\Documents\\img-assignment\\kaggle\\versions\\2\\data\\testing_images\\vid_5_26620.jpg: 384x640 1 car, 189.8ms\n",
      "Speed: 5.0ms preprocess, 189.8ms inference, 1.1ms postprocess per image at shape (1, 3, 384, 640)\n"
     ]
    }
   ],
   "source": [
    "test_image_path = os.path.join(test_data, 'vid_5_26620.jpg')\n",
    "results = model(test_image_path)\n",
    "\n",
    "results[0].show()"
   ]
  },
  {
   "cell_type": "code",
   "execution_count": 8,
   "id": "16dd48be-3230-48c7-970a-f736649992cf",
   "metadata": {
    "scrolled": true
   },
   "outputs": [
    {
     "name": "stdout",
     "output_type": "stream",
     "text": [
      "\n",
      "image 1/1 C:\\Users\\ervin\\Documents\\img-assignment\\kaggle\\versions\\2\\data\\testing_images\\vid_5_26660.jpg: 384x640 2 cars, 140.6ms\n",
      "Speed: 4.4ms preprocess, 140.6ms inference, 1.0ms postprocess per image at shape (1, 3, 384, 640)\n",
      "\n",
      "image 1/1 C:\\Users\\ervin\\Documents\\img-assignment\\kaggle\\versions\\2\\data\\testing_images\\vid_5_28580.jpg: 384x640 (no detections), 187.6ms\n",
      "Speed: 5.0ms preprocess, 187.6ms inference, 0.7ms postprocess per image at shape (1, 3, 384, 640)\n",
      "\n",
      "image 1/1 C:\\Users\\ervin\\Documents\\img-assignment\\kaggle\\versions\\2\\data\\testing_images\\vid_5_31260.jpg: 384x640 (no detections), 306.1ms\n",
      "Speed: 10.1ms preprocess, 306.1ms inference, 0.8ms postprocess per image at shape (1, 3, 384, 640)\n",
      "\n",
      "image 1/1 C:\\Users\\ervin\\Documents\\img-assignment\\kaggle\\versions\\2\\data\\testing_images\\vid_5_25180.jpg: 384x640 (no detections), 501.3ms\n",
      "Speed: 23.7ms preprocess, 501.3ms inference, 0.9ms postprocess per image at shape (1, 3, 384, 640)\n",
      "\n",
      "image 1/1 C:\\Users\\ervin\\Documents\\img-assignment\\kaggle\\versions\\2\\data\\testing_images\\vid_5_27920.jpg: 384x640 1 car, 291.5ms\n",
      "Speed: 11.2ms preprocess, 291.5ms inference, 0.9ms postprocess per image at shape (1, 3, 384, 640)\n",
      "\n",
      "image 1/1 C:\\Users\\ervin\\Documents\\img-assignment\\kaggle\\versions\\2\\data\\testing_images\\vid_5_25140.jpg: 384x640 (no detections), 273.9ms\n",
      "Speed: 20.4ms preprocess, 273.9ms inference, 0.7ms postprocess per image at shape (1, 3, 384, 640)\n",
      "\n",
      "image 1/1 C:\\Users\\ervin\\Documents\\img-assignment\\kaggle\\versions\\2\\data\\testing_images\\vid_5_26640.jpg: 384x640 4 cars, 562.5ms\n",
      "Speed: 19.5ms preprocess, 562.5ms inference, 0.8ms postprocess per image at shape (1, 3, 384, 640)\n",
      "\n",
      "image 1/1 C:\\Users\\ervin\\Documents\\img-assignment\\kaggle\\versions\\2\\data\\testing_images\\vid_5_440.jpg: 384x640 (no detections), 340.2ms\n",
      "Speed: 17.4ms preprocess, 340.2ms inference, 1.0ms postprocess per image at shape (1, 3, 384, 640)\n",
      "\n",
      "image 1/1 C:\\Users\\ervin\\Documents\\img-assignment\\kaggle\\versions\\2\\data\\testing_images\\vid_5_31560.jpg: 384x640 2 cars, 304.5ms\n",
      "Speed: 7.6ms preprocess, 304.5ms inference, 0.7ms postprocess per image at shape (1, 3, 384, 640)\n",
      "\n",
      "image 1/1 C:\\Users\\ervin\\Documents\\img-assignment\\kaggle\\versions\\2\\data\\testing_images\\vid_5_27500.jpg: 384x640 2 cars, 349.1ms\n",
      "Speed: 9.7ms preprocess, 349.1ms inference, 0.8ms postprocess per image at shape (1, 3, 384, 640)\n",
      "\n",
      "image 1/1 C:\\Users\\ervin\\Documents\\img-assignment\\kaggle\\versions\\2\\data\\testing_images\\vid_5_30640.jpg: 384x640 1 car, 294.8ms\n",
      "Speed: 13.6ms preprocess, 294.8ms inference, 0.9ms postprocess per image at shape (1, 3, 384, 640)\n",
      "\n",
      "image 1/1 C:\\Users\\ervin\\Documents\\img-assignment\\kaggle\\versions\\2\\data\\testing_images\\vid_5_26700.jpg: 384x640 4 cars, 430.2ms\n",
      "Speed: 23.5ms preprocess, 430.2ms inference, 1.1ms postprocess per image at shape (1, 3, 384, 640)\n",
      "\n",
      "image 1/1 C:\\Users\\ervin\\Documents\\img-assignment\\kaggle\\versions\\2\\data\\testing_images\\vid_5_28680.jpg: 384x640 (no detections), 347.4ms\n",
      "Speed: 28.2ms preprocess, 347.4ms inference, 1.1ms postprocess per image at shape (1, 3, 384, 640)\n",
      "\n",
      "image 1/1 C:\\Users\\ervin\\Documents\\img-assignment\\kaggle\\versions\\2\\data\\testing_images\\vid_5_29100.jpg: 384x640 (no detections), 346.4ms\n",
      "Speed: 15.3ms preprocess, 346.4ms inference, 0.8ms postprocess per image at shape (1, 3, 384, 640)\n",
      "\n",
      "image 1/1 C:\\Users\\ervin\\Documents\\img-assignment\\kaggle\\versions\\2\\data\\testing_images\\vid_5_25220.jpg: 384x640 (no detections), 308.0ms\n",
      "Speed: 9.8ms preprocess, 308.0ms inference, 0.9ms postprocess per image at shape (1, 3, 384, 640)\n",
      "\n",
      "image 1/1 C:\\Users\\ervin\\Documents\\img-assignment\\kaggle\\versions\\2\\data\\testing_images\\vid_5_27780.jpg: 384x640 (no detections), 301.0ms\n",
      "Speed: 45.4ms preprocess, 301.0ms inference, 0.8ms postprocess per image at shape (1, 3, 384, 640)\n",
      "\n",
      "image 1/1 C:\\Users\\ervin\\Documents\\img-assignment\\kaggle\\versions\\2\\data\\testing_images\\vid_5_28440.jpg: 384x640 1 car, 372.7ms\n",
      "Speed: 27.4ms preprocess, 372.7ms inference, 0.7ms postprocess per image at shape (1, 3, 384, 640)\n",
      "\n",
      "image 1/1 C:\\Users\\ervin\\Documents\\img-assignment\\kaggle\\versions\\2\\data\\testing_images\\vid_5_27960.jpg: 384x640 (no detections), 336.0ms\n",
      "Speed: 35.1ms preprocess, 336.0ms inference, 0.7ms postprocess per image at shape (1, 3, 384, 640)\n",
      "\n",
      "image 1/1 C:\\Users\\ervin\\Documents\\img-assignment\\kaggle\\versions\\2\\data\\testing_images\\vid_5_26800.jpg: 384x640 5 cars, 408.2ms\n",
      "Speed: 40.0ms preprocess, 408.2ms inference, 0.8ms postprocess per image at shape (1, 3, 384, 640)\n",
      "\n",
      "image 1/1 C:\\Users\\ervin\\Documents\\img-assignment\\kaggle\\versions\\2\\data\\testing_images\\vid_5_26740.jpg: 384x640 6 cars, 335.3ms\n",
      "Speed: 29.7ms preprocess, 335.3ms inference, 1.5ms postprocess per image at shape (1, 3, 384, 640)\n",
      "\n",
      "image 1/1 C:\\Users\\ervin\\Documents\\img-assignment\\kaggle\\versions\\2\\data\\testing_images\\vid_5_27840.jpg: 384x640 2 cars, 457.4ms\n",
      "Speed: 26.5ms preprocess, 457.4ms inference, 0.8ms postprocess per image at shape (1, 3, 384, 640)\n",
      "\n",
      "image 1/1 C:\\Users\\ervin\\Documents\\img-assignment\\kaggle\\versions\\2\\data\\testing_images\\vid_5_31600.jpg: 384x640 3 cars, 477.3ms\n",
      "Speed: 27.1ms preprocess, 477.3ms inference, 0.9ms postprocess per image at shape (1, 3, 384, 640)\n",
      "\n",
      "image 1/1 C:\\Users\\ervin\\Documents\\img-assignment\\kaggle\\versions\\2\\data\\testing_images\\vid_5_28700.jpg: 384x640 (no detections), 453.6ms\n",
      "Speed: 21.2ms preprocess, 453.6ms inference, 0.7ms postprocess per image at shape (1, 3, 384, 640)\n",
      "\n",
      "image 1/1 C:\\Users\\ervin\\Documents\\img-assignment\\kaggle\\versions\\2\\data\\testing_images\\vid_5_27460.jpg: 384x640 2 cars, 475.5ms\n",
      "Speed: 55.1ms preprocess, 475.5ms inference, 1.0ms postprocess per image at shape (1, 3, 384, 640)\n",
      "\n",
      "image 1/1 C:\\Users\\ervin\\Documents\\img-assignment\\kaggle\\versions\\2\\data\\testing_images\\vid_5_29520.jpg: 384x640 (no detections), 888.9ms\n",
      "Speed: 33.2ms preprocess, 888.9ms inference, 0.8ms postprocess per image at shape (1, 3, 384, 640)\n",
      "\n",
      "image 1/1 C:\\Users\\ervin\\Documents\\img-assignment\\kaggle\\versions\\2\\data\\testing_images\\vid_5_30760.jpg: 384x640 1 car, 849.8ms\n",
      "Speed: 25.5ms preprocess, 849.8ms inference, 0.8ms postprocess per image at shape (1, 3, 384, 640)\n",
      "\n",
      "image 1/1 C:\\Users\\ervin\\Documents\\img-assignment\\kaggle\\versions\\2\\data\\testing_images\\vid_5_28500.jpg: 384x640 (no detections), 433.4ms\n",
      "Speed: 16.8ms preprocess, 433.4ms inference, 0.7ms postprocess per image at shape (1, 3, 384, 640)\n",
      "\n",
      "image 1/1 C:\\Users\\ervin\\Documents\\img-assignment\\kaggle\\versions\\2\\data\\testing_images\\vid_5_26820.jpg: 384x640 2 cars, 593.7ms\n",
      "Speed: 96.7ms preprocess, 593.7ms inference, 1.2ms postprocess per image at shape (1, 3, 384, 640)\n",
      "\n",
      "image 1/1 C:\\Users\\ervin\\Documents\\img-assignment\\kaggle\\versions\\2\\data\\testing_images\\vid_5_31120.jpg: 384x640 2 cars, 464.4ms\n",
      "Speed: 18.1ms preprocess, 464.4ms inference, 0.9ms postprocess per image at shape (1, 3, 384, 640)\n",
      "\n",
      "image 1/1 C:\\Users\\ervin\\Documents\\img-assignment\\kaggle\\versions\\2\\data\\testing_images\\vid_5_28040.jpg: 384x640 (no detections), 555.5ms\n",
      "Speed: 35.0ms preprocess, 555.5ms inference, 0.8ms postprocess per image at shape (1, 3, 384, 640)\n"
     ]
    }
   ],
   "source": [
    "# Get a list of all image filenames in the test directory\n",
    "test_images = glob(f'{test_data}/*.jpg')\n",
    "\n",
    "# Select 30 random image paths from the test data\n",
    "random_test_images = np.random.choice(test_images, size=30, replace=False)\n",
    "\n",
    "# Function to display images with predictions\n",
    "def plot_predictions(image_paths, model):\n",
    "    for img_path in image_paths:\n",
    "        # Perform inference\n",
    "        results = model(img_path)\n",
    "\n",
    "        # Display the results\n",
    "        results[0].show()\n",
    "\n",
    "# Plot predictions on the random test images\n",
    "plot_predictions(random_test_images, model)"
   ]
  },
  {
   "cell_type": "code",
   "execution_count": 9,
   "id": "3ce339b7-4265-4a40-bb87-a82be2aa46ba",
   "metadata": {},
   "outputs": [
    {
     "name": "stdout",
     "output_type": "stream",
     "text": [
      "Ultralytics 8.3.170  Python-3.12.6 torch-2.7.1+cpu CPU (Intel Core(TM) i5-10210U 1.60GHz)\n",
      "\n",
      "\u001b[34m\u001b[1mPyTorch:\u001b[0m starting from 'runs\\detect\\car_detection_modelv10\\weights\\best.pt' with input shape (1, 3, 640, 640) BCHW and output shape(s) (1, 300, 6) (5.5 MB)\n",
      "\n",
      "\u001b[34m\u001b[1mTorchScript:\u001b[0m starting export with torch 2.7.1+cpu...\n",
      "\u001b[34m\u001b[1mTorchScript:\u001b[0m export success  9.1s, saved as 'runs\\detect\\car_detection_modelv10\\weights\\best.torchscript' (9.2 MB)\n",
      "\n",
      "Export complete (10.8s)\n",
      "Results saved to \u001b[1mC:\\Users\\ervin\\Documents\\img-assignment\\runs\\detect\\car_detection_modelv10\\weights\u001b[0m\n",
      "Predict:         yolo predict task=detect model=runs\\detect\\car_detection_modelv10\\weights\\best.torchscript imgsz=640  \n",
      "Validate:        yolo val task=detect model=runs\\detect\\car_detection_modelv10\\weights\\best.torchscript imgsz=640 data=./kaggle/working/data/data.yaml  \n",
      "Visualize:       https://netron.app\n"
     ]
    },
    {
     "data": {
      "text/plain": [
       "'runs\\\\detect\\\\car_detection_modelv10\\\\weights\\\\best.torchscript'"
      ]
     },
     "execution_count": 9,
     "metadata": {},
     "output_type": "execute_result"
    }
   ],
   "source": [
    "model.export()"
   ]
  }
 ],
 "metadata": {
  "kernelspec": {
   "display_name": "Python 3 (ipykernel)",
   "language": "python",
   "name": "python3"
  },
  "language_info": {
   "codemirror_mode": {
    "name": "ipython",
    "version": 3
   },
   "file_extension": ".py",
   "mimetype": "text/x-python",
   "name": "python",
   "nbconvert_exporter": "python",
   "pygments_lexer": "ipython3",
   "version": "3.12.6"
  }
 },
 "nbformat": 4,
 "nbformat_minor": 5
}
