{
 "cells": [
  {
   "cell_type": "code",
   "execution_count": 1,
   "id": "626d91f7-86c2-44ee-82fc-469c540fd9ce",
   "metadata": {},
   "outputs": [],
   "source": [
    "import os  # For interacting with the operating system (e.g., file paths)\n",
    "import pandas as pd  # For loading and manipulating CSV data (bounding boxes and image info)\n",
    "import yaml\n",
    "import shutil\n",
    "import numpy as np  # For numerical operations and array handling\n",
    "import cv2  # For image processing and manipulation (OpenCV library)\n",
    "import matplotlib.pyplot as plt  # For visualizing data and images (plots)\n",
    "import seaborn as sns  # For advanced data visualization (especially histograms and distributions)\n",
    "from glob import glob  # For finding all image files in a directory (using wildcard patterns)\n",
    "from sklearn.model_selection import train_test_split  # For splitting the dataset into training and testing sets\n",
    "from PIL import Image\n",
    "from ultralytics import YOLO\n",
    "\n",
    "\n",
    "import warnings\n",
    "warnings.filterwarnings(\"ignore\", \"use_inf_as_na option is deprecated\")"
   ]
  },
  {
   "cell_type": "code",
   "execution_count": 2,
   "id": "b804829b-10d8-46f5-8c0f-6f5a54e40806",
   "metadata": {},
   "outputs": [],
   "source": [
    "root_dir = \"./kaggle/working/data\"\n",
    "labels_dir = \"./kaggle/working/data/labels\"\n",
    "images_dir = \"./kaggle/working/data/images\"\n",
    "\n",
    "train_data = r\"./kaggle/versions/2/data/training_images\"\n",
    "csv_data = r\"./kaggle/versions/2/data/train_solution_bounding_boxes (1).csv\"\n",
    "test_data = r\"./kaggle/versions/2/data/testing_images\""
   ]
  },
  {
   "cell_type": "code",
   "execution_count": null,
   "id": "8c2b6bbb-29b9-4af7-8aca-19a9e1cfbd0a",
   "metadata": {},
   "outputs": [],
   "source": [
    "# Loading the CSV data\n",
    "df = pd.read_csv(csv_data)\n",
    "\n",
    "# Display the first few rows of the dataframe to understand its structure\n",
    "df.head()"
   ]
  },
  {
   "cell_type": "code",
   "execution_count": null,
   "id": "975edc51-4614-4224-b1ce-d4c4f7ff41bc",
   "metadata": {},
   "outputs": [],
   "source": [
    "# Visualizing sample images with bounding boxes\n",
    "def plot_images_with_boxes(image_path, df, n=5):\n",
    "    images = glob(f'{image_path}/*.jpg')[:n]\n",
    "    for img_path in images:\n",
    "        img = cv2.imread(img_path)\n",
    "        img_name = os.path.basename(img_path)\n",
    "        boxes = df[df['image'] == img_name]  # تغيير 'filename' إلى 'image'\n",
    "\n",
    "        for _, box in boxes.iterrows():\n",
    "            cv2.rectangle(img,\n",
    "                          (int(box['xmin']), int(box['ymin'])),\n",
    "                          (int(box['xmax']), int(box['ymax'])),\n",
    "                          (0, 255, 0), 2)\n",
    "\n",
    "        plt.figure(figsize=(8, 8))\n",
    "        plt.imshow(cv2.cvtColor(img, cv2.COLOR_BGR2RGB))\n",
    "        plt.title(img_name)\n",
    "        plt.axis('off')\n",
    "        plt.show()"
   ]
  },
  {
   "cell_type": "code",
   "execution_count": null,
   "id": "9e3da045-7103-4091-be8f-9d1e326bded4",
   "metadata": {},
   "outputs": [],
   "source": [
    "plot_images_with_boxes(train_data, df)"
   ]
  },
  {
   "cell_type": "code",
   "execution_count": null,
   "id": "447b0ce8-5235-4fc2-8670-1120292578ce",
   "metadata": {},
   "outputs": [],
   "source": [
    "def voc_to_yolo(size, box):\n",
    "    img_width, img_height = size\n",
    "    xmin, ymin, xmax, ymax = box\n",
    "\n",
    "    # Calculate center coordinates\n",
    "    center_x = (xmin + xmax) / 2.0\n",
    "    center_y = (ymin + ymax) / 2.0\n",
    "\n",
    "    # Calculate box dimensions\n",
    "    box_width = xmax - xmin\n",
    "    box_height = ymax - ymin\n",
    "\n",
    "    # Normalize coordinates\n",
    "    normalized_center_x = center_x / img_width\n",
    "    normalized_center_y = center_y / img_height\n",
    "    normalized_box_width = box_width / img_width\n",
    "    normalized_box_height = box_height / img_height\n",
    "\n",
    "    # Class ID is 0 for 'car'\n",
    "    class_id = 0\n",
    "\n",
    "    return (class_id, normalized_center_x, normalized_center_y, normalized_box_width, normalized_box_height)"
   ]
  },
  {
   "cell_type": "code",
   "execution_count": null,
   "id": "06591642-5b97-4876-8009-12fd21a7c98a",
   "metadata": {},
   "outputs": [],
   "source": [
    "# Get a list of all unique image filenames\n",
    "unique_images = df['image'].unique()\n",
    "\n",
    "# Loop through each unique image filename\n",
    "for image_name in unique_images:\n",
    "    image_boxes = df[df['image'] == image_name]"
   ]
  },
  {
   "cell_type": "code",
   "execution_count": null,
   "id": "1051c5c3-a5a5-4ded-b30e-908efccd737b",
   "metadata": {},
   "outputs": [],
   "source": [
    "# Get a list of all unique image filenames\n",
    "unique_images = df['image'].unique()\n",
    "\n",
    "# Loop through each unique image filename\n",
    "for image_name in unique_images:\n",
    "    image_boxes = df[df['image'] == image_name]\n",
    "\n",
    "    image_path = os.path.normpath(os.path.join(train_data, image_name))\n",
    "\n",
    "    img = cv2.imread(image_path)\n",
    "\n",
    "    img_height, img_width, _ = img.shape\n",
    "\n",
    "    image_size = (img_width, img_height)\n",
    "\n",
    "    print(f\"Processing image: {image_name} with dimensions: {image_size}\")"
   ]
  },
  {
   "cell_type": "code",
   "execution_count": null,
   "id": "ccd9c568-e07a-4f12-9119-3594fb79db32",
   "metadata": {},
   "outputs": [],
   "source": [
    "# Get a list of all unique image filenames\n",
    "unique_images = df['image'].unique()\n",
    "\n",
    "# Loop through each unique image filename\n",
    "for image_name in unique_images:\n",
    "    image_boxes = df[df['image'] == image_name]\n",
    "\n",
    "    image_path = os.path.join(train_data, image_name)\n",
    "\n",
    "    img = cv2.imread(image_path)\n",
    "\n",
    "    img_height, img_width, _ = img.shape\n",
    "\n",
    "    annotation_filename = image_name.replace('.jpg', '.txt')\n",
    "    annotation_path = os.path.join(labels_dir, 'train', annotation_filename)\n",
    "\n",
    "    with open(annotation_path, 'w') as f:\n",
    "        for _, box in image_boxes.iterrows():\n",
    "            xmin, ymin, xmax, ymax = box[['xmin', 'ymin', 'xmax', 'ymax']]\n",
    "\n",
    "            yolo_coords = voc_to_yolo((img_width, img_height), (xmin, ymin, xmax, ymax))\n",
    "\n",
    "            yolo_string = f\"{yolo_coords[0]} {yolo_coords[1]:.6f} {yolo_coords[2]:.6f} {yolo_coords[3]:.6f} {yolo_coords[4]:.6f}\\n\"\n",
    "\n",
    "            f.write(yolo_string)\n",
    "\n",
    "    print(f\"Generated YOLO annotation for {image_name} at {annotation_path}\")"
   ]
  },
  {
   "cell_type": "code",
   "execution_count": null,
   "id": "309562b6-0da0-4fc7-b357-adcb51472b96",
   "metadata": {},
   "outputs": [],
   "source": [
    "# Get a list of all unique image filenames\n",
    "unique_images = df['image'].unique()\n",
    "\n",
    "# Split the unique image filenames into training and validation sets\n",
    "train_images, val_images = train_test_split(unique_images, test_size=0.2, random_state=42)\n",
    "\n",
    "print(f\"Number of training images: {len(train_images)}\")\n",
    "print(f\"Number of validation images: {len(val_images)}\")"
   ]
  },
  {
   "cell_type": "code",
   "execution_count": null,
   "id": "a283b8d9-1b88-4eb7-96b5-b992d0651bca",
   "metadata": {},
   "outputs": [],
   "source": [
    "# Organize training images and labels\n",
    "for image_name in train_images:\n",
    "    # Copy image\n",
    "    src_image_path = os.path.join(train_data, image_name)\n",
    "    dest_image_path = os.path.join(images_dir, 'train', image_name)\n",
    "    shutil.copyfile(src_image_path, dest_image_path)\n",
    "\n",
    "# Organize validation images and labels\n",
    "for image_name in val_images:\n",
    "    src_image_path = os.path.join(train_data, image_name)\n",
    "    dest_image_path = os.path.join(images_dir, 'val', image_name)\n",
    "    shutil.copyfile(src_image_path, dest_image_path)\n",
    "\n",
    "    # Copy label from train labels directory to val labels directory\n",
    "    annotation_filename = image_name.replace('.jpg', '.txt')\n",
    "    src_annotation_path = os.path.join(labels_dir, 'train', annotation_filename)\n",
    "    dest_annotation_path = os.path.join(labels_dir, 'val', annotation_filename)\n",
    "    shutil.copyfile(src_annotation_path, dest_annotation_path)\n",
    "\n",
    "print(\"Image and label files organized into train and validation directories.\")"
   ]
  },
  {
   "cell_type": "code",
   "execution_count": null,
   "id": "613ac491-eabe-425f-a75c-034bc8575b2e",
   "metadata": {},
   "outputs": [],
   "source": [
    "# Define the content of the data.yaml file\n",
    "data_yaml_content = {\n",
    "    'train': '../images/train',\n",
    "    'val': '../images/val',\n",
    "    'nc': 1,\n",
    "    'names': ['car']\n",
    "}\n",
    "\n",
    "# Construct the full path for the data.yaml file\n",
    "data_yaml_path = os.path.join(root_dir, 'data.yaml')\n",
    "\n",
    "# Write the dictionary to the data.yaml file\n",
    "with open(data_yaml_path, 'w') as f:\n",
    "    yaml.dump(data_yaml_content, f)\n",
    "\n",
    "print(f\"data.yaml file created at: {data_yaml_path}\")"
   ]
  },
  {
   "cell_type": "code",
   "execution_count": 3,
   "id": "aa8c17b4-98f8-4ee5-9d94-6704a2392432",
   "metadata": {},
   "outputs": [],
   "source": [
    "model = YOLO('yolo11n.pt')"
   ]
  },
  {
   "cell_type": "code",
   "execution_count": 4,
   "id": "0b9537bf-aaba-4a3b-aa63-6d19213bedd6",
   "metadata": {
    "scrolled": true
   },
   "outputs": [
    {
     "name": "stdout",
     "output_type": "stream",
     "text": [
      "New https://pypi.org/project/ultralytics/8.3.184 available  Update with 'pip install -U ultralytics'\n",
      "Ultralytics 8.3.170  Python-3.12.6 torch-2.7.1+cpu CPU (Intel Core(TM) i5-10210U 1.60GHz)\n",
      "\u001b[34m\u001b[1mengine\\trainer: \u001b[0magnostic_nms=False, amp=True, augment=False, auto_augment=randaugment, batch=16, bgr=0.0, box=7.5, cache=False, cfg=None, classes=None, close_mosaic=10, cls=0.5, conf=None, copy_paste=0.0, copy_paste_mode=flip, cos_lr=False, cutmix=0.0, data=./kaggle/working/data/data.yaml, degrees=0.0, deterministic=True, device=cpu, dfl=1.5, dnn=False, dropout=0.0, dynamic=False, embed=None, epochs=10, erasing=0.4, exist_ok=False, fliplr=0.5, flipud=0.0, format=torchscript, fraction=1.0, freeze=None, half=False, hsv_h=0.015, hsv_s=0.7, hsv_v=0.4, imgsz=640, int8=False, iou=0.7, keras=False, kobj=1.0, line_width=None, lr0=0.01, lrf=0.01, mask_ratio=4, max_det=300, mixup=0.0, mode=train, model=yolo11n.pt, momentum=0.937, mosaic=1.0, multi_scale=False, name=car_detection_modelv11, nbs=64, nms=False, opset=None, optimize=False, optimizer=auto, overlap_mask=True, patience=100, perspective=0.0, plots=True, pose=12.0, pretrained=True, profile=False, project=None, rect=False, resume=False, retina_masks=False, save=True, save_conf=False, save_crop=False, save_dir=runs\\detect\\car_detection_modelv11, save_frames=False, save_json=False, save_period=-1, save_txt=False, scale=0.5, seed=0, shear=0.0, show=False, show_boxes=True, show_conf=True, show_labels=True, simplify=True, single_cls=False, source=None, split=val, stream_buffer=False, task=detect, time=None, tracker=botsort.yaml, translate=0.1, val=True, verbose=True, vid_stride=1, visualize=False, warmup_bias_lr=0.1, warmup_epochs=3.0, warmup_momentum=0.8, weight_decay=0.0005, workers=8, workspace=None\n",
      "Overriding model.yaml nc=80 with nc=1\n",
      "\n",
      "                   from  n    params  module                                       arguments                     \n",
      "  0                  -1  1       464  ultralytics.nn.modules.conv.Conv             [3, 16, 3, 2]                 \n",
      "  1                  -1  1      4672  ultralytics.nn.modules.conv.Conv             [16, 32, 3, 2]                \n",
      "  2                  -1  1      6640  ultralytics.nn.modules.block.C3k2            [32, 64, 1, False, 0.25]      \n",
      "  3                  -1  1     36992  ultralytics.nn.modules.conv.Conv             [64, 64, 3, 2]                \n",
      "  4                  -1  1     26080  ultralytics.nn.modules.block.C3k2            [64, 128, 1, False, 0.25]     \n",
      "  5                  -1  1    147712  ultralytics.nn.modules.conv.Conv             [128, 128, 3, 2]              \n",
      "  6                  -1  1     87040  ultralytics.nn.modules.block.C3k2            [128, 128, 1, True]           \n",
      "  7                  -1  1    295424  ultralytics.nn.modules.conv.Conv             [128, 256, 3, 2]              \n",
      "  8                  -1  1    346112  ultralytics.nn.modules.block.C3k2            [256, 256, 1, True]           \n",
      "  9                  -1  1    164608  ultralytics.nn.modules.block.SPPF            [256, 256, 5]                 \n",
      " 10                  -1  1    249728  ultralytics.nn.modules.block.C2PSA           [256, 256, 1]                 \n",
      " 11                  -1  1         0  torch.nn.modules.upsampling.Upsample         [None, 2, 'nearest']          \n",
      " 12             [-1, 6]  1         0  ultralytics.nn.modules.conv.Concat           [1]                           \n",
      " 13                  -1  1    111296  ultralytics.nn.modules.block.C3k2            [384, 128, 1, False]          \n",
      " 14                  -1  1         0  torch.nn.modules.upsampling.Upsample         [None, 2, 'nearest']          \n",
      " 15             [-1, 4]  1         0  ultralytics.nn.modules.conv.Concat           [1]                           \n",
      " 16                  -1  1     32096  ultralytics.nn.modules.block.C3k2            [256, 64, 1, False]           \n",
      " 17                  -1  1     36992  ultralytics.nn.modules.conv.Conv             [64, 64, 3, 2]                \n",
      " 18            [-1, 13]  1         0  ultralytics.nn.modules.conv.Concat           [1]                           \n",
      " 19                  -1  1     86720  ultralytics.nn.modules.block.C3k2            [192, 128, 1, False]          \n",
      " 20                  -1  1    147712  ultralytics.nn.modules.conv.Conv             [128, 128, 3, 2]              \n",
      " 21            [-1, 10]  1         0  ultralytics.nn.modules.conv.Concat           [1]                           \n",
      " 22                  -1  1    378880  ultralytics.nn.modules.block.C3k2            [384, 256, 1, True]           \n",
      " 23        [16, 19, 22]  1    430867  ultralytics.nn.modules.head.Detect           [1, [64, 128, 256]]           \n",
      "YOLO11n summary: 181 layers, 2,590,035 parameters, 2,590,019 gradients, 6.4 GFLOPs\n",
      "\n",
      "Transferred 448/499 items from pretrained weights\n",
      "Freezing layer 'model.23.dfl.conv.weight'\n",
      "\u001b[34m\u001b[1mtrain: \u001b[0mFast image access  (ping: 0.10.0 ms, read: 240.6196.4 MB/s, size: 106.1 KB)\n"
     ]
    },
    {
     "name": "stderr",
     "output_type": "stream",
     "text": [
      "\u001b[34m\u001b[1mtrain: \u001b[0mScanning C:\\Users\\ervin\\Documents\\img-assignment\\kaggle\\working\\data\\labels\\train.cache... 284 images, 0 backgrounds, 0 corrupt: 100%|█████████\u001b[0m"
     ]
    },
    {
     "name": "stdout",
     "output_type": "stream",
     "text": [
      "\u001b[34m\u001b[1mval: \u001b[0mFast image access  (ping: 0.20.1 ms, read: 134.222.3 MB/s, size: 103.4 KB)\n"
     ]
    },
    {
     "name": "stderr",
     "output_type": "stream",
     "text": [
      "\n",
      "c:\\Users\\ervin\\Documents\\img-assignment\\.venv\\Lib\\site-packages\\torch\\utils\\data\\dataloader.py:665: UserWarning: 'pin_memory' argument is set as true but no accelerator is found, then device pinned memory won't be used.\n",
      "  warnings.warn(warn_msg)\n",
      "\u001b[34m\u001b[1mval: \u001b[0mScanning C:\\Users\\ervin\\Documents\\img-assignment\\kaggle\\working\\data\\labels\\val.cache... 71 images, 0 backgrounds, 0 corrupt: 100%|██████████| 71\u001b[0m"
     ]
    },
    {
     "name": "stdout",
     "output_type": "stream",
     "text": [
      "Plotting labels to runs\\detect\\car_detection_modelv11\\labels.jpg... \n"
     ]
    },
    {
     "name": "stderr",
     "output_type": "stream",
     "text": [
      "\n",
      "c:\\Users\\ervin\\Documents\\img-assignment\\.venv\\Lib\\site-packages\\torch\\utils\\data\\dataloader.py:665: UserWarning: 'pin_memory' argument is set as true but no accelerator is found, then device pinned memory won't be used.\n",
      "  warnings.warn(warn_msg)\n"
     ]
    },
    {
     "name": "stdout",
     "output_type": "stream",
     "text": [
      "\u001b[34m\u001b[1moptimizer:\u001b[0m 'optimizer=auto' found, ignoring 'lr0=0.01' and 'momentum=0.937' and determining best 'optimizer', 'lr0' and 'momentum' automatically... \n",
      "\u001b[34m\u001b[1moptimizer:\u001b[0m AdamW(lr=0.002, momentum=0.9) with parameter groups 81 weight(decay=0.0), 88 weight(decay=0.0005), 87 bias(decay=0.0)\n",
      "Image sizes 640 train, 640 val\n",
      "Using 0 dataloader workers\n",
      "Logging results to \u001b[1mruns\\detect\\car_detection_modelv11\u001b[0m\n",
      "Starting training for 10 epochs...\n",
      "Closing dataloader mosaic\n",
      "\n",
      "      Epoch    GPU_mem   box_loss   cls_loss   dfl_loss  Instances       Size\n"
     ]
    },
    {
     "name": "stderr",
     "output_type": "stream",
     "text": [
      "c:\\Users\\ervin\\Documents\\img-assignment\\.venv\\Lib\\site-packages\\torch\\utils\\data\\dataloader.py:665: UserWarning: 'pin_memory' argument is set as true but no accelerator is found, then device pinned memory won't be used.\n",
      "  warnings.warn(warn_msg)\n",
      "       1/10         0G      1.446      3.234      1.142         20        640: 100%|██████████| 18/18 [02:21<00:00,  7.87s/it]\n",
      "                 Class     Images  Instances      Box(P          R      mAP50  mAP50-95): 100%|██████████| 3/3 [00:08<00:00,  2.72s/it]"
     ]
    },
    {
     "name": "stdout",
     "output_type": "stream",
     "text": [
      "                   all         71        119    0.00535      0.958      0.703      0.348\n"
     ]
    },
    {
     "name": "stderr",
     "output_type": "stream",
     "text": [
      "\n"
     ]
    },
    {
     "name": "stdout",
     "output_type": "stream",
     "text": [
      "\n",
      "      Epoch    GPU_mem   box_loss   cls_loss   dfl_loss  Instances       Size\n"
     ]
    },
    {
     "name": "stderr",
     "output_type": "stream",
     "text": [
      "       2/10         0G      1.297      2.037      1.112         14        640: 100%|██████████| 18/18 [02:17<00:00,  7.62s/it]\n",
      "                 Class     Images  Instances      Box(P          R      mAP50  mAP50-95): 100%|██████████| 3/3 [00:07<00:00,  2.36s/it]"
     ]
    },
    {
     "name": "stdout",
     "output_type": "stream",
     "text": [
      "                   all         71        119     0.0054      0.966       0.44      0.188\n"
     ]
    },
    {
     "name": "stderr",
     "output_type": "stream",
     "text": [
      "\n"
     ]
    },
    {
     "name": "stdout",
     "output_type": "stream",
     "text": [
      "\n",
      "      Epoch    GPU_mem   box_loss   cls_loss   dfl_loss  Instances       Size\n"
     ]
    },
    {
     "name": "stderr",
     "output_type": "stream",
     "text": [
      "       3/10         0G      1.351      1.825      1.159         23        640: 100%|██████████| 18/18 [02:12<00:00,  7.38s/it]\n",
      "                 Class     Images  Instances      Box(P          R      mAP50  mAP50-95): 100%|██████████| 3/3 [00:06<00:00,  2.32s/it]"
     ]
    },
    {
     "name": "stdout",
     "output_type": "stream",
     "text": [
      "                   all         71        119    0.00535      0.958      0.105     0.0348\n"
     ]
    },
    {
     "name": "stderr",
     "output_type": "stream",
     "text": [
      "\n"
     ]
    },
    {
     "name": "stdout",
     "output_type": "stream",
     "text": [
      "\n",
      "      Epoch    GPU_mem   box_loss   cls_loss   dfl_loss  Instances       Size\n"
     ]
    },
    {
     "name": "stderr",
     "output_type": "stream",
     "text": [
      "       4/10         0G        1.3      1.709      1.163         17        640: 100%|██████████| 18/18 [02:13<00:00,  7.42s/it]\n",
      "                 Class     Images  Instances      Box(P          R      mAP50  mAP50-95): 100%|██████████| 3/3 [00:06<00:00,  2.31s/it]"
     ]
    },
    {
     "name": "stdout",
     "output_type": "stream",
     "text": [
      "                   all         71        119      0.818      0.706      0.784      0.494\n"
     ]
    },
    {
     "name": "stderr",
     "output_type": "stream",
     "text": [
      "\n"
     ]
    },
    {
     "name": "stdout",
     "output_type": "stream",
     "text": [
      "\n",
      "      Epoch    GPU_mem   box_loss   cls_loss   dfl_loss  Instances       Size\n"
     ]
    },
    {
     "name": "stderr",
     "output_type": "stream",
     "text": [
      "       5/10         0G      1.294      1.563       1.13         20        640: 100%|██████████| 18/18 [02:10<00:00,  7.27s/it]\n",
      "                 Class     Images  Instances      Box(P          R      mAP50  mAP50-95): 100%|██████████| 3/3 [00:07<00:00,  2.37s/it]"
     ]
    },
    {
     "name": "stdout",
     "output_type": "stream",
     "text": [
      "                   all         71        119      0.972      0.875      0.948      0.572\n"
     ]
    },
    {
     "name": "stderr",
     "output_type": "stream",
     "text": [
      "\n"
     ]
    },
    {
     "name": "stdout",
     "output_type": "stream",
     "text": [
      "\n",
      "      Epoch    GPU_mem   box_loss   cls_loss   dfl_loss  Instances       Size\n"
     ]
    },
    {
     "name": "stderr",
     "output_type": "stream",
     "text": [
      "       6/10         0G      1.212      1.459        1.1         14        640: 100%|██████████| 18/18 [02:12<00:00,  7.35s/it]\n",
      "                 Class     Images  Instances      Box(P          R      mAP50  mAP50-95): 100%|██████████| 3/3 [00:06<00:00,  2.33s/it]"
     ]
    },
    {
     "name": "stdout",
     "output_type": "stream",
     "text": [
      "                   all         71        119      0.981      0.885      0.959      0.595\n"
     ]
    },
    {
     "name": "stderr",
     "output_type": "stream",
     "text": [
      "\n"
     ]
    },
    {
     "name": "stdout",
     "output_type": "stream",
     "text": [
      "\n",
      "      Epoch    GPU_mem   box_loss   cls_loss   dfl_loss  Instances       Size\n"
     ]
    },
    {
     "name": "stderr",
     "output_type": "stream",
     "text": [
      "       7/10         0G      1.203      1.379       1.12         13        640: 100%|██████████| 18/18 [02:11<00:00,  7.33s/it]\n",
      "                 Class     Images  Instances      Box(P          R      mAP50  mAP50-95): 100%|██████████| 3/3 [00:06<00:00,  2.30s/it]"
     ]
    },
    {
     "name": "stdout",
     "output_type": "stream",
     "text": [
      "                   all         71        119       0.99      0.924      0.951      0.609\n"
     ]
    },
    {
     "name": "stderr",
     "output_type": "stream",
     "text": [
      "\n"
     ]
    },
    {
     "name": "stdout",
     "output_type": "stream",
     "text": [
      "\n",
      "      Epoch    GPU_mem   box_loss   cls_loss   dfl_loss  Instances       Size\n"
     ]
    },
    {
     "name": "stderr",
     "output_type": "stream",
     "text": [
      "       8/10         0G      1.226      1.313      1.123         12        640: 100%|██████████| 18/18 [02:12<00:00,  7.36s/it]\n",
      "                 Class     Images  Instances      Box(P          R      mAP50  mAP50-95): 100%|██████████| 3/3 [00:07<00:00,  2.49s/it]"
     ]
    },
    {
     "name": "stdout",
     "output_type": "stream",
     "text": [
      "                   all         71        119      0.998      0.924      0.978      0.618\n"
     ]
    },
    {
     "name": "stderr",
     "output_type": "stream",
     "text": [
      "\n"
     ]
    },
    {
     "name": "stdout",
     "output_type": "stream",
     "text": [
      "\n",
      "      Epoch    GPU_mem   box_loss   cls_loss   dfl_loss  Instances       Size\n"
     ]
    },
    {
     "name": "stderr",
     "output_type": "stream",
     "text": [
      "       9/10         0G      1.163      1.255      1.097         13        640: 100%|██████████| 18/18 [02:13<00:00,  7.41s/it]\n",
      "                 Class     Images  Instances      Box(P          R      mAP50  mAP50-95): 100%|██████████| 3/3 [00:07<00:00,  2.35s/it]"
     ]
    },
    {
     "name": "stdout",
     "output_type": "stream",
     "text": [
      "                   all         71        119      0.977      0.924      0.976      0.608\n"
     ]
    },
    {
     "name": "stderr",
     "output_type": "stream",
     "text": [
      "\n"
     ]
    },
    {
     "name": "stdout",
     "output_type": "stream",
     "text": [
      "\n",
      "      Epoch    GPU_mem   box_loss   cls_loss   dfl_loss  Instances       Size\n"
     ]
    },
    {
     "name": "stderr",
     "output_type": "stream",
     "text": [
      "      10/10         0G      1.126       1.15      1.064         16        640: 100%|██████████| 18/18 [02:12<00:00,  7.34s/it]\n",
      "                 Class     Images  Instances      Box(P          R      mAP50  mAP50-95): 100%|██████████| 3/3 [00:06<00:00,  2.32s/it]"
     ]
    },
    {
     "name": "stdout",
     "output_type": "stream",
     "text": [
      "                   all         71        119      0.983      0.933      0.976      0.648\n"
     ]
    },
    {
     "name": "stderr",
     "output_type": "stream",
     "text": [
      "\n"
     ]
    },
    {
     "name": "stdout",
     "output_type": "stream",
     "text": [
      "\n",
      "10 epochs completed in 0.394 hours.\n",
      "Optimizer stripped from runs\\detect\\car_detection_modelv11\\weights\\last.pt, 5.4MB\n",
      "Optimizer stripped from runs\\detect\\car_detection_modelv11\\weights\\best.pt, 5.4MB\n",
      "\n",
      "Validating runs\\detect\\car_detection_modelv11\\weights\\best.pt...\n",
      "Ultralytics 8.3.170  Python-3.12.6 torch-2.7.1+cpu CPU (Intel Core(TM) i5-10210U 1.60GHz)\n",
      "YOLO11n summary (fused): 100 layers, 2,582,347 parameters, 0 gradients, 6.3 GFLOPs\n"
     ]
    },
    {
     "name": "stderr",
     "output_type": "stream",
     "text": [
      "                 Class     Images  Instances      Box(P          R      mAP50  mAP50-95): 100%|██████████| 3/3 [00:05<00:00,  1.91s/it]\n"
     ]
    },
    {
     "name": "stdout",
     "output_type": "stream",
     "text": [
      "                   all         71        119      0.983      0.933      0.976      0.649\n",
      "Speed: 1.1ms preprocess, 63.9ms inference, 0.0ms loss, 6.6ms postprocess per image\n",
      "Results saved to \u001b[1mruns\\detect\\car_detection_modelv11\u001b[0m\n"
     ]
    }
   ],
   "source": [
    "results = model.train(\n",
    "    data = './kaggle/working/data/data.yaml',\n",
    "    epochs = 10,\n",
    "    imgsz = 640,\n",
    "    batch = 16,\n",
    "    name = 'car_detection_modelv11'\n",
    ")"
   ]
  },
  {
   "cell_type": "code",
   "execution_count": 5,
   "id": "89f828d3-b009-400a-b07b-9f8b180bcb04",
   "metadata": {
    "scrolled": true
   },
   "outputs": [
    {
     "name": "stdout",
     "output_type": "stream",
     "text": [
      "Ultralytics 8.3.170  Python-3.12.6 torch-2.7.1+cpu CPU (Intel Core(TM) i5-10210U 1.60GHz)\n",
      "YOLO11n summary (fused): 100 layers, 2,582,347 parameters, 0 gradients, 6.3 GFLOPs\n",
      "\u001b[34m\u001b[1mval: \u001b[0mFast image access  (ping: 0.10.0 ms, read: 338.998.6 MB/s, size: 90.7 KB)\n"
     ]
    },
    {
     "name": "stderr",
     "output_type": "stream",
     "text": [
      "\u001b[34m\u001b[1mval: \u001b[0mScanning C:\\Users\\ervin\\Documents\\img-assignment\\kaggle\\working\\data\\labels\\val.cache... 71 images, 0 backgrounds, 0 corrupt: 100%|██████████| 71\u001b[0m\n",
      "c:\\Users\\ervin\\Documents\\img-assignment\\.venv\\Lib\\site-packages\\torch\\utils\\data\\dataloader.py:665: UserWarning: 'pin_memory' argument is set as true but no accelerator is found, then device pinned memory won't be used.\n",
      "  warnings.warn(warn_msg)\n",
      "                 Class     Images  Instances      Box(P          R      mAP50  mAP50-95): 100%|██████████| 5/5 [00:05<00:00,  1.15s/it]\n"
     ]
    },
    {
     "name": "stdout",
     "output_type": "stream",
     "text": [
      "                   all         71        119      0.983      0.933      0.976      0.649\n",
      "Speed: 1.0ms preprocess, 61.5ms inference, 0.0ms loss, 6.6ms postprocess per image\n",
      "Results saved to \u001b[1mruns\\detect\\car_detection_modelv112\u001b[0m\n",
      "ultralytics.utils.metrics.DetMetrics object with attributes:\n",
      "\n",
      "ap_class_index: array([0])\n",
      "box: ultralytics.utils.metrics.Metric object\n",
      "confusion_matrix: <ultralytics.utils.metrics.ConfusionMatrix object at 0x000002184288CB00>\n",
      "curves: ['Precision-Recall(B)', 'F1-Confidence(B)', 'Precision-Confidence(B)', 'Recall-Confidence(B)']\n",
      "curves_results: [[array([          0,    0.001001,    0.002002,    0.003003,    0.004004,    0.005005,    0.006006,    0.007007,    0.008008,    0.009009,     0.01001,    0.011011,    0.012012,    0.013013,    0.014014,    0.015015,    0.016016,    0.017017,    0.018018,    0.019019,     0.02002,    0.021021,    0.022022,    0.023023,\n",
      "          0.024024,    0.025025,    0.026026,    0.027027,    0.028028,    0.029029,     0.03003,    0.031031,    0.032032,    0.033033,    0.034034,    0.035035,    0.036036,    0.037037,    0.038038,    0.039039,     0.04004,    0.041041,    0.042042,    0.043043,    0.044044,    0.045045,    0.046046,    0.047047,\n",
      "          0.048048,    0.049049,     0.05005,    0.051051,    0.052052,    0.053053,    0.054054,    0.055055,    0.056056,    0.057057,    0.058058,    0.059059,     0.06006,    0.061061,    0.062062,    0.063063,    0.064064,    0.065065,    0.066066,    0.067067,    0.068068,    0.069069,     0.07007,    0.071071,\n",
      "          0.072072,    0.073073,    0.074074,    0.075075,    0.076076,    0.077077,    0.078078,    0.079079,     0.08008,    0.081081,    0.082082,    0.083083,    0.084084,    0.085085,    0.086086,    0.087087,    0.088088,    0.089089,     0.09009,    0.091091,    0.092092,    0.093093,    0.094094,    0.095095,\n",
      "          0.096096,    0.097097,    0.098098,    0.099099,      0.1001,      0.1011,      0.1021,      0.1031,      0.1041,     0.10511,     0.10611,     0.10711,     0.10811,     0.10911,     0.11011,     0.11111,     0.11211,     0.11311,     0.11411,     0.11512,     0.11612,     0.11712,     0.11812,     0.11912,\n",
      "           0.12012,     0.12112,     0.12212,     0.12312,     0.12412,     0.12513,     0.12613,     0.12713,     0.12813,     0.12913,     0.13013,     0.13113,     0.13213,     0.13313,     0.13413,     0.13514,     0.13614,     0.13714,     0.13814,     0.13914,     0.14014,     0.14114,     0.14214,     0.14314,\n",
      "           0.14414,     0.14515,     0.14615,     0.14715,     0.14815,     0.14915,     0.15015,     0.15115,     0.15215,     0.15315,     0.15415,     0.15516,     0.15616,     0.15716,     0.15816,     0.15916,     0.16016,     0.16116,     0.16216,     0.16316,     0.16416,     0.16517,     0.16617,     0.16717,\n",
      "           0.16817,     0.16917,     0.17017,     0.17117,     0.17217,     0.17317,     0.17417,     0.17518,     0.17618,     0.17718,     0.17818,     0.17918,     0.18018,     0.18118,     0.18218,     0.18318,     0.18418,     0.18519,     0.18619,     0.18719,     0.18819,     0.18919,     0.19019,     0.19119,\n",
      "           0.19219,     0.19319,     0.19419,      0.1952,      0.1962,      0.1972,      0.1982,      0.1992,      0.2002,      0.2012,      0.2022,      0.2032,      0.2042,     0.20521,     0.20621,     0.20721,     0.20821,     0.20921,     0.21021,     0.21121,     0.21221,     0.21321,     0.21421,     0.21522,\n",
      "           0.21622,     0.21722,     0.21822,     0.21922,     0.22022,     0.22122,     0.22222,     0.22322,     0.22422,     0.22523,     0.22623,     0.22723,     0.22823,     0.22923,     0.23023,     0.23123,     0.23223,     0.23323,     0.23423,     0.23524,     0.23624,     0.23724,     0.23824,     0.23924,\n",
      "           0.24024,     0.24124,     0.24224,     0.24324,     0.24424,     0.24525,     0.24625,     0.24725,     0.24825,     0.24925,     0.25025,     0.25125,     0.25225,     0.25325,     0.25425,     0.25526,     0.25626,     0.25726,     0.25826,     0.25926,     0.26026,     0.26126,     0.26226,     0.26326,\n",
      "           0.26426,     0.26527,     0.26627,     0.26727,     0.26827,     0.26927,     0.27027,     0.27127,     0.27227,     0.27327,     0.27427,     0.27528,     0.27628,     0.27728,     0.27828,     0.27928,     0.28028,     0.28128,     0.28228,     0.28328,     0.28428,     0.28529,     0.28629,     0.28729,\n",
      "           0.28829,     0.28929,     0.29029,     0.29129,     0.29229,     0.29329,     0.29429,      0.2953,      0.2963,      0.2973,      0.2983,      0.2993,      0.3003,      0.3013,      0.3023,      0.3033,      0.3043,     0.30531,     0.30631,     0.30731,     0.30831,     0.30931,     0.31031,     0.31131,\n",
      "           0.31231,     0.31331,     0.31431,     0.31532,     0.31632,     0.31732,     0.31832,     0.31932,     0.32032,     0.32132,     0.32232,     0.32332,     0.32432,     0.32533,     0.32633,     0.32733,     0.32833,     0.32933,     0.33033,     0.33133,     0.33233,     0.33333,     0.33433,     0.33534,\n",
      "           0.33634,     0.33734,     0.33834,     0.33934,     0.34034,     0.34134,     0.34234,     0.34334,     0.34434,     0.34535,     0.34635,     0.34735,     0.34835,     0.34935,     0.35035,     0.35135,     0.35235,     0.35335,     0.35435,     0.35536,     0.35636,     0.35736,     0.35836,     0.35936,\n",
      "           0.36036,     0.36136,     0.36236,     0.36336,     0.36436,     0.36537,     0.36637,     0.36737,     0.36837,     0.36937,     0.37037,     0.37137,     0.37237,     0.37337,     0.37437,     0.37538,     0.37638,     0.37738,     0.37838,     0.37938,     0.38038,     0.38138,     0.38238,     0.38338,\n",
      "           0.38438,     0.38539,     0.38639,     0.38739,     0.38839,     0.38939,     0.39039,     0.39139,     0.39239,     0.39339,     0.39439,      0.3954,      0.3964,      0.3974,      0.3984,      0.3994,      0.4004,      0.4014,      0.4024,      0.4034,      0.4044,     0.40541,     0.40641,     0.40741,\n",
      "           0.40841,     0.40941,     0.41041,     0.41141,     0.41241,     0.41341,     0.41441,     0.41542,     0.41642,     0.41742,     0.41842,     0.41942,     0.42042,     0.42142,     0.42242,     0.42342,     0.42442,     0.42543,     0.42643,     0.42743,     0.42843,     0.42943,     0.43043,     0.43143,\n",
      "           0.43243,     0.43343,     0.43443,     0.43544,     0.43644,     0.43744,     0.43844,     0.43944,     0.44044,     0.44144,     0.44244,     0.44344,     0.44444,     0.44545,     0.44645,     0.44745,     0.44845,     0.44945,     0.45045,     0.45145,     0.45245,     0.45345,     0.45445,     0.45546,\n",
      "           0.45646,     0.45746,     0.45846,     0.45946,     0.46046,     0.46146,     0.46246,     0.46346,     0.46446,     0.46547,     0.46647,     0.46747,     0.46847,     0.46947,     0.47047,     0.47147,     0.47247,     0.47347,     0.47447,     0.47548,     0.47648,     0.47748,     0.47848,     0.47948,\n",
      "           0.48048,     0.48148,     0.48248,     0.48348,     0.48448,     0.48549,     0.48649,     0.48749,     0.48849,     0.48949,     0.49049,     0.49149,     0.49249,     0.49349,     0.49449,      0.4955,      0.4965,      0.4975,      0.4985,      0.4995,      0.5005,      0.5015,      0.5025,      0.5035,\n",
      "            0.5045,     0.50551,     0.50651,     0.50751,     0.50851,     0.50951,     0.51051,     0.51151,     0.51251,     0.51351,     0.51451,     0.51552,     0.51652,     0.51752,     0.51852,     0.51952,     0.52052,     0.52152,     0.52252,     0.52352,     0.52452,     0.52553,     0.52653,     0.52753,\n",
      "           0.52853,     0.52953,     0.53053,     0.53153,     0.53253,     0.53353,     0.53453,     0.53554,     0.53654,     0.53754,     0.53854,     0.53954,     0.54054,     0.54154,     0.54254,     0.54354,     0.54454,     0.54555,     0.54655,     0.54755,     0.54855,     0.54955,     0.55055,     0.55155,\n",
      "           0.55255,     0.55355,     0.55455,     0.55556,     0.55656,     0.55756,     0.55856,     0.55956,     0.56056,     0.56156,     0.56256,     0.56356,     0.56456,     0.56557,     0.56657,     0.56757,     0.56857,     0.56957,     0.57057,     0.57157,     0.57257,     0.57357,     0.57457,     0.57558,\n",
      "           0.57658,     0.57758,     0.57858,     0.57958,     0.58058,     0.58158,     0.58258,     0.58358,     0.58458,     0.58559,     0.58659,     0.58759,     0.58859,     0.58959,     0.59059,     0.59159,     0.59259,     0.59359,     0.59459,      0.5956,      0.5966,      0.5976,      0.5986,      0.5996,\n",
      "            0.6006,      0.6016,      0.6026,      0.6036,      0.6046,     0.60561,     0.60661,     0.60761,     0.60861,     0.60961,     0.61061,     0.61161,     0.61261,     0.61361,     0.61461,     0.61562,     0.61662,     0.61762,     0.61862,     0.61962,     0.62062,     0.62162,     0.62262,     0.62362,\n",
      "           0.62462,     0.62563,     0.62663,     0.62763,     0.62863,     0.62963,     0.63063,     0.63163,     0.63263,     0.63363,     0.63463,     0.63564,     0.63664,     0.63764,     0.63864,     0.63964,     0.64064,     0.64164,     0.64264,     0.64364,     0.64464,     0.64565,     0.64665,     0.64765,\n",
      "           0.64865,     0.64965,     0.65065,     0.65165,     0.65265,     0.65365,     0.65465,     0.65566,     0.65666,     0.65766,     0.65866,     0.65966,     0.66066,     0.66166,     0.66266,     0.66366,     0.66466,     0.66567,     0.66667,     0.66767,     0.66867,     0.66967,     0.67067,     0.67167,\n",
      "           0.67267,     0.67367,     0.67467,     0.67568,     0.67668,     0.67768,     0.67868,     0.67968,     0.68068,     0.68168,     0.68268,     0.68368,     0.68468,     0.68569,     0.68669,     0.68769,     0.68869,     0.68969,     0.69069,     0.69169,     0.69269,     0.69369,     0.69469,      0.6957,\n",
      "            0.6967,      0.6977,      0.6987,      0.6997,      0.7007,      0.7017,      0.7027,      0.7037,      0.7047,     0.70571,     0.70671,     0.70771,     0.70871,     0.70971,     0.71071,     0.71171,     0.71271,     0.71371,     0.71471,     0.71572,     0.71672,     0.71772,     0.71872,     0.71972,\n",
      "           0.72072,     0.72172,     0.72272,     0.72372,     0.72472,     0.72573,     0.72673,     0.72773,     0.72873,     0.72973,     0.73073,     0.73173,     0.73273,     0.73373,     0.73473,     0.73574,     0.73674,     0.73774,     0.73874,     0.73974,     0.74074,     0.74174,     0.74274,     0.74374,\n",
      "           0.74474,     0.74575,     0.74675,     0.74775,     0.74875,     0.74975,     0.75075,     0.75175,     0.75275,     0.75375,     0.75475,     0.75576,     0.75676,     0.75776,     0.75876,     0.75976,     0.76076,     0.76176,     0.76276,     0.76376,     0.76476,     0.76577,     0.76677,     0.76777,\n",
      "           0.76877,     0.76977,     0.77077,     0.77177,     0.77277,     0.77377,     0.77477,     0.77578,     0.77678,     0.77778,     0.77878,     0.77978,     0.78078,     0.78178,     0.78278,     0.78378,     0.78478,     0.78579,     0.78679,     0.78779,     0.78879,     0.78979,     0.79079,     0.79179,\n",
      "           0.79279,     0.79379,     0.79479,      0.7958,      0.7968,      0.7978,      0.7988,      0.7998,      0.8008,      0.8018,      0.8028,      0.8038,      0.8048,     0.80581,     0.80681,     0.80781,     0.80881,     0.80981,     0.81081,     0.81181,     0.81281,     0.81381,     0.81481,     0.81582,\n",
      "           0.81682,     0.81782,     0.81882,     0.81982,     0.82082,     0.82182,     0.82282,     0.82382,     0.82482,     0.82583,     0.82683,     0.82783,     0.82883,     0.82983,     0.83083,     0.83183,     0.83283,     0.83383,     0.83483,     0.83584,     0.83684,     0.83784,     0.83884,     0.83984,\n",
      "           0.84084,     0.84184,     0.84284,     0.84384,     0.84484,     0.84585,     0.84685,     0.84785,     0.84885,     0.84985,     0.85085,     0.85185,     0.85285,     0.85385,     0.85485,     0.85586,     0.85686,     0.85786,     0.85886,     0.85986,     0.86086,     0.86186,     0.86286,     0.86386,\n",
      "           0.86486,     0.86587,     0.86687,     0.86787,     0.86887,     0.86987,     0.87087,     0.87187,     0.87287,     0.87387,     0.87487,     0.87588,     0.87688,     0.87788,     0.87888,     0.87988,     0.88088,     0.88188,     0.88288,     0.88388,     0.88488,     0.88589,     0.88689,     0.88789,\n",
      "           0.88889,     0.88989,     0.89089,     0.89189,     0.89289,     0.89389,     0.89489,      0.8959,      0.8969,      0.8979,      0.8989,      0.8999,      0.9009,      0.9019,      0.9029,      0.9039,      0.9049,     0.90591,     0.90691,     0.90791,     0.90891,     0.90991,     0.91091,     0.91191,\n",
      "           0.91291,     0.91391,     0.91491,     0.91592,     0.91692,     0.91792,     0.91892,     0.91992,     0.92092,     0.92192,     0.92292,     0.92392,     0.92492,     0.92593,     0.92693,     0.92793,     0.92893,     0.92993,     0.93093,     0.93193,     0.93293,     0.93393,     0.93493,     0.93594,\n",
      "           0.93694,     0.93794,     0.93894,     0.93994,     0.94094,     0.94194,     0.94294,     0.94394,     0.94494,     0.94595,     0.94695,     0.94795,     0.94895,     0.94995,     0.95095,     0.95195,     0.95295,     0.95395,     0.95495,     0.95596,     0.95696,     0.95796,     0.95896,     0.95996,\n",
      "           0.96096,     0.96196,     0.96296,     0.96396,     0.96496,     0.96597,     0.96697,     0.96797,     0.96897,     0.96997,     0.97097,     0.97197,     0.97297,     0.97397,     0.97497,     0.97598,     0.97698,     0.97798,     0.97898,     0.97998,     0.98098,     0.98198,     0.98298,     0.98398,\n",
      "           0.98498,     0.98599,     0.98699,     0.98799,     0.98899,     0.98999,     0.99099,     0.99199,     0.99299,     0.99399,     0.99499,       0.996,       0.997,       0.998,       0.999,           1]), array([[          1,           1,           1,           1,           1,           1,           1,           1,           1,           1,           1,           1,           1,           1,           1,           1,           1,           1,           1,           1,           1,           1,           1,\n",
      "                  1,           1,           1,           1,           1,           1,           1,           1,           1,           1,           1,           1,           1,           1,           1,           1,           1,           1,           1,           1,           1,           1,           1,\n",
      "                  1,           1,           1,           1,           1,           1,           1,           1,           1,           1,           1,           1,           1,           1,           1,           1,           1,           1,           1,           1,           1,           1,           1,\n",
      "                  1,           1,           1,           1,           1,           1,           1,           1,           1,           1,           1,           1,           1,           1,           1,           1,           1,           1,           1,           1,           1,           1,           1,\n",
      "                  1,           1,           1,           1,           1,           1,           1,           1,           1,           1,           1,           1,           1,           1,           1,           1,           1,           1,           1,           1,           1,           1,           1,\n",
      "                  1,           1,           1,           1,           1,           1,           1,           1,           1,           1,           1,           1,           1,           1,           1,           1,           1,           1,           1,           1,           1,           1,           1,\n",
      "                  1,           1,           1,           1,           1,           1,           1,           1,           1,           1,           1,           1,           1,           1,           1,           1,           1,           1,           1,           1,           1,           1,           1,\n",
      "                  1,           1,           1,           1,           1,           1,           1,           1,           1,           1,           1,           1,           1,           1,           1,           1,           1,           1,           1,           1,           1,           1,           1,\n",
      "                  1,           1,           1,           1,           1,           1,           1,           1,           1,           1,           1,           1,           1,           1,           1,           1,           1,           1,           1,           1,           1,           1,           1,\n",
      "                  1,           1,           1,           1,           1,           1,           1,           1,           1,           1,           1,           1,           1,           1,           1,           1,           1,           1,           1,           1,           1,           1,           1,\n",
      "                  1,           1,           1,           1,           1,           1,           1,           1,           1,           1,           1,           1,           1,           1,           1,           1,           1,           1,           1,           1,           1,           1,           1,\n",
      "                  1,           1,           1,           1,           1,           1,           1,           1,           1,           1,           1,           1,           1,           1,           1,           1,           1,           1,           1,           1,           1,           1,           1,\n",
      "                  1,           1,           1,           1,           1,           1,           1,           1,           1,           1,           1,           1,           1,           1,           1,           1,           1,           1,           1,           1,           1,           1,           1,\n",
      "                  1,           1,           1,           1,           1,           1,           1,           1,           1,           1,           1,           1,           1,           1,           1,           1,           1,           1,           1,           1,           1,           1,           1,\n",
      "                  1,           1,           1,           1,           1,           1,           1,           1,           1,           1,           1,           1,           1,           1,           1,           1,           1,           1,           1,           1,           1,           1,           1,\n",
      "                  1,           1,           1,           1,           1,           1,           1,           1,           1,           1,           1,           1,           1,           1,           1,           1,           1,           1,           1,           1,           1,           1,           1,\n",
      "                  1,           1,           1,           1,           1,           1,           1,           1,           1,           1,           1,           1,           1,           1,           1,           1,           1,           1,           1,           1,           1,           1,           1,\n",
      "                  1,           1,           1,           1,           1,           1,           1,           1,           1,           1,           1,           1,           1,           1,           1,           1,           1,           1,           1,           1,           1,           1,           1,\n",
      "                  1,           1,           1,           1,           1,           1,           1,           1,           1,           1,           1,           1,           1,           1,           1,           1,           1,           1,           1,           1,           1,           1,           1,\n",
      "                  1,           1,           1,           1,           1,           1,           1,           1,           1,           1,           1,           1,           1,           1,           1,           1,           1,           1,           1,           1,           1,           1,           1,\n",
      "                  1,           1,           1,           1,           1,           1,           1,           1,           1,           1,           1,           1,           1,           1,           1,           1,           1,           1,           1,           1,           1,           1,           1,\n",
      "                  1,           1,           1,           1,           1,           1,           1,           1,           1,           1,           1,           1,           1,           1,           1,           1,           1,           1,           1,           1,           1,           1,           1,\n",
      "                  1,           1,           1,           1,           1,           1,           1,           1,           1,           1,           1,           1,           1,           1,           1,           1,           1,           1,           1,           1,           1,           1,           1,\n",
      "                  1,           1,           1,           1,           1,           1,           1,           1,           1,           1,           1,           1,           1,           1,           1,           1,           1,           1,           1,           1,           1,           1,           1,\n",
      "                  1,           1,           1,           1,           1,           1,           1,           1,           1,           1,           1,           1,           1,           1,           1,           1,           1,           1,           1,           1,           1,           1,           1,\n",
      "                  1,           1,           1,           1,           1,           1,           1,           1,           1,           1,           1,           1,           1,           1,           1,           1,           1,           1,           1,           1,           1,           1,           1,\n",
      "                  1,           1,           1,           1,           1,           1,           1,           1,           1,           1,           1,           1,           1,           1,           1,           1,           1,           1,           1,           1,           1,           1,           1,\n",
      "                  1,           1,           1,           1,           1,           1,           1,           1,           1,           1,           1,           1,           1,           1,           1,           1,           1,           1,           1,           1,           1,           1,           1,\n",
      "                  1,           1,           1,           1,           1,           1,           1,           1,           1,           1,           1,           1,           1,           1,           1,           1,           1,           1,           1,           1,           1,           1,           1,\n",
      "                  1,           1,           1,           1,           1,           1,           1,           1,           1,           1,           1,           1,           1,           1,           1,           1,           1,           1,           1,           1,           1,           1,           1,\n",
      "                  1,           1,           1,           1,           1,           1,           1,           1,           1,           1,           1,           1,           1,           1,           1,           1,           1,           1,           1,           1,           1,           1,           1,\n",
      "                  1,           1,           1,           1,           1,           1,           1,           1,           1,           1,           1,           1,           1,           1,           1,           1,           1,           1,           1,           1,           1,           1,           1,\n",
      "                  1,           1,           1,           1,           1,           1,           1,           1,           1,           1,           1,           1,           1,           1,           1,           1,           1,           1,           1,           1,           1,           1,           1,\n",
      "                  1,           1,           1,           1,           1,           1,           1,           1,           1,           1,           1,           1,           1,           1,           1,           1,           1,           1,           1,           1,           1,           1,           1,\n",
      "                  1,           1,           1,           1,           1,           1,           1,           1,           1,           1,           1,           1,           1,           1,           1,           1,           1,           1,           1,           1,           1,           1,           1,\n",
      "                  1,           1,           1,           1,           1,           1,           1,           1,           1,           1,           1,           1,           1,           1,           1,           1,           1,           1,           1,           1,           1,           1,           1,\n",
      "                  1,           1,           1,           1,           1,           1,           1,           1,           1,           1,           1,           1,           1,           1,           1,           1,           1,           1,           1,           1,           1,           1,           1,\n",
      "                  1,           1,           1,           1,           1,           1,           1,           1,           1,           1,           1,           1,           1,           1,           1,           1,           1,           1,           1,           1,           1,           1,           1,\n",
      "                  1,           1,           1,           1,           1,           1,           1,           1,           1,           1,           1,           1,           1,           1,           1,           1,           1,           1,           1,           1,           1,           1,           1,\n",
      "                  1,           1,           1,           1,           1,           1,           1,           1,           1,           1,           1,           1,           1,           1,           1,           1,           1,           1,           1,     0.99107,     0.99107,     0.99107,     0.99107,\n",
      "            0.99107,     0.99107,     0.99107,     0.99107,     0.99107,     0.99107,     0.99107,     0.99107,     0.99107,     0.99107,     0.99107,     0.99107,     0.97414,     0.97414,     0.97414,     0.97414,     0.97414,     0.97414,     0.97414,     0.97414,     0.97414,     0.97414,     0.97414,\n",
      "            0.97414,     0.97414,     0.97414,     0.97414,     0.97414,     0.97414,     0.87692,     0.87692,     0.87692,     0.87692,     0.87692,     0.87692,     0.87692,     0.87692,     0.87692,     0.87121,     0.87121,     0.87121,     0.87121,     0.87121,     0.87121,     0.87121,     0.87121,\n",
      "            0.84672,     0.84672,     0.84672,     0.84672,     0.84672,     0.84672,     0.84672,     0.84672,     0.57073,     0.57073,     0.57073,     0.57073,     0.57073,     0.57073,     0.57073,     0.57073,     0.57073,   0.0052345,   0.0049074,   0.0045802,   0.0042531,   0.0039259,   0.0035987,\n",
      "          0.0032716,   0.0029444,   0.0026173,   0.0022901,   0.0019629,   0.0016358,   0.0013086,  0.00098147,  0.00065432,  0.00032716,           0]]), 'Recall', 'Precision'], [array([          0,    0.001001,    0.002002,    0.003003,    0.004004,    0.005005,    0.006006,    0.007007,    0.008008,    0.009009,     0.01001,    0.011011,    0.012012,    0.013013,    0.014014,    0.015015,    0.016016,    0.017017,    0.018018,    0.019019,     0.02002,    0.021021,    0.022022,    0.023023,\n",
      "          0.024024,    0.025025,    0.026026,    0.027027,    0.028028,    0.029029,     0.03003,    0.031031,    0.032032,    0.033033,    0.034034,    0.035035,    0.036036,    0.037037,    0.038038,    0.039039,     0.04004,    0.041041,    0.042042,    0.043043,    0.044044,    0.045045,    0.046046,    0.047047,\n",
      "          0.048048,    0.049049,     0.05005,    0.051051,    0.052052,    0.053053,    0.054054,    0.055055,    0.056056,    0.057057,    0.058058,    0.059059,     0.06006,    0.061061,    0.062062,    0.063063,    0.064064,    0.065065,    0.066066,    0.067067,    0.068068,    0.069069,     0.07007,    0.071071,\n",
      "          0.072072,    0.073073,    0.074074,    0.075075,    0.076076,    0.077077,    0.078078,    0.079079,     0.08008,    0.081081,    0.082082,    0.083083,    0.084084,    0.085085,    0.086086,    0.087087,    0.088088,    0.089089,     0.09009,    0.091091,    0.092092,    0.093093,    0.094094,    0.095095,\n",
      "          0.096096,    0.097097,    0.098098,    0.099099,      0.1001,      0.1011,      0.1021,      0.1031,      0.1041,     0.10511,     0.10611,     0.10711,     0.10811,     0.10911,     0.11011,     0.11111,     0.11211,     0.11311,     0.11411,     0.11512,     0.11612,     0.11712,     0.11812,     0.11912,\n",
      "           0.12012,     0.12112,     0.12212,     0.12312,     0.12412,     0.12513,     0.12613,     0.12713,     0.12813,     0.12913,     0.13013,     0.13113,     0.13213,     0.13313,     0.13413,     0.13514,     0.13614,     0.13714,     0.13814,     0.13914,     0.14014,     0.14114,     0.14214,     0.14314,\n",
      "           0.14414,     0.14515,     0.14615,     0.14715,     0.14815,     0.14915,     0.15015,     0.15115,     0.15215,     0.15315,     0.15415,     0.15516,     0.15616,     0.15716,     0.15816,     0.15916,     0.16016,     0.16116,     0.16216,     0.16316,     0.16416,     0.16517,     0.16617,     0.16717,\n",
      "           0.16817,     0.16917,     0.17017,     0.17117,     0.17217,     0.17317,     0.17417,     0.17518,     0.17618,     0.17718,     0.17818,     0.17918,     0.18018,     0.18118,     0.18218,     0.18318,     0.18418,     0.18519,     0.18619,     0.18719,     0.18819,     0.18919,     0.19019,     0.19119,\n",
      "           0.19219,     0.19319,     0.19419,      0.1952,      0.1962,      0.1972,      0.1982,      0.1992,      0.2002,      0.2012,      0.2022,      0.2032,      0.2042,     0.20521,     0.20621,     0.20721,     0.20821,     0.20921,     0.21021,     0.21121,     0.21221,     0.21321,     0.21421,     0.21522,\n",
      "           0.21622,     0.21722,     0.21822,     0.21922,     0.22022,     0.22122,     0.22222,     0.22322,     0.22422,     0.22523,     0.22623,     0.22723,     0.22823,     0.22923,     0.23023,     0.23123,     0.23223,     0.23323,     0.23423,     0.23524,     0.23624,     0.23724,     0.23824,     0.23924,\n",
      "           0.24024,     0.24124,     0.24224,     0.24324,     0.24424,     0.24525,     0.24625,     0.24725,     0.24825,     0.24925,     0.25025,     0.25125,     0.25225,     0.25325,     0.25425,     0.25526,     0.25626,     0.25726,     0.25826,     0.25926,     0.26026,     0.26126,     0.26226,     0.26326,\n",
      "           0.26426,     0.26527,     0.26627,     0.26727,     0.26827,     0.26927,     0.27027,     0.27127,     0.27227,     0.27327,     0.27427,     0.27528,     0.27628,     0.27728,     0.27828,     0.27928,     0.28028,     0.28128,     0.28228,     0.28328,     0.28428,     0.28529,     0.28629,     0.28729,\n",
      "           0.28829,     0.28929,     0.29029,     0.29129,     0.29229,     0.29329,     0.29429,      0.2953,      0.2963,      0.2973,      0.2983,      0.2993,      0.3003,      0.3013,      0.3023,      0.3033,      0.3043,     0.30531,     0.30631,     0.30731,     0.30831,     0.30931,     0.31031,     0.31131,\n",
      "           0.31231,     0.31331,     0.31431,     0.31532,     0.31632,     0.31732,     0.31832,     0.31932,     0.32032,     0.32132,     0.32232,     0.32332,     0.32432,     0.32533,     0.32633,     0.32733,     0.32833,     0.32933,     0.33033,     0.33133,     0.33233,     0.33333,     0.33433,     0.33534,\n",
      "           0.33634,     0.33734,     0.33834,     0.33934,     0.34034,     0.34134,     0.34234,     0.34334,     0.34434,     0.34535,     0.34635,     0.34735,     0.34835,     0.34935,     0.35035,     0.35135,     0.35235,     0.35335,     0.35435,     0.35536,     0.35636,     0.35736,     0.35836,     0.35936,\n",
      "           0.36036,     0.36136,     0.36236,     0.36336,     0.36436,     0.36537,     0.36637,     0.36737,     0.36837,     0.36937,     0.37037,     0.37137,     0.37237,     0.37337,     0.37437,     0.37538,     0.37638,     0.37738,     0.37838,     0.37938,     0.38038,     0.38138,     0.38238,     0.38338,\n",
      "           0.38438,     0.38539,     0.38639,     0.38739,     0.38839,     0.38939,     0.39039,     0.39139,     0.39239,     0.39339,     0.39439,      0.3954,      0.3964,      0.3974,      0.3984,      0.3994,      0.4004,      0.4014,      0.4024,      0.4034,      0.4044,     0.40541,     0.40641,     0.40741,\n",
      "           0.40841,     0.40941,     0.41041,     0.41141,     0.41241,     0.41341,     0.41441,     0.41542,     0.41642,     0.41742,     0.41842,     0.41942,     0.42042,     0.42142,     0.42242,     0.42342,     0.42442,     0.42543,     0.42643,     0.42743,     0.42843,     0.42943,     0.43043,     0.43143,\n",
      "           0.43243,     0.43343,     0.43443,     0.43544,     0.43644,     0.43744,     0.43844,     0.43944,     0.44044,     0.44144,     0.44244,     0.44344,     0.44444,     0.44545,     0.44645,     0.44745,     0.44845,     0.44945,     0.45045,     0.45145,     0.45245,     0.45345,     0.45445,     0.45546,\n",
      "           0.45646,     0.45746,     0.45846,     0.45946,     0.46046,     0.46146,     0.46246,     0.46346,     0.46446,     0.46547,     0.46647,     0.46747,     0.46847,     0.46947,     0.47047,     0.47147,     0.47247,     0.47347,     0.47447,     0.47548,     0.47648,     0.47748,     0.47848,     0.47948,\n",
      "           0.48048,     0.48148,     0.48248,     0.48348,     0.48448,     0.48549,     0.48649,     0.48749,     0.48849,     0.48949,     0.49049,     0.49149,     0.49249,     0.49349,     0.49449,      0.4955,      0.4965,      0.4975,      0.4985,      0.4995,      0.5005,      0.5015,      0.5025,      0.5035,\n",
      "            0.5045,     0.50551,     0.50651,     0.50751,     0.50851,     0.50951,     0.51051,     0.51151,     0.51251,     0.51351,     0.51451,     0.51552,     0.51652,     0.51752,     0.51852,     0.51952,     0.52052,     0.52152,     0.52252,     0.52352,     0.52452,     0.52553,     0.52653,     0.52753,\n",
      "           0.52853,     0.52953,     0.53053,     0.53153,     0.53253,     0.53353,     0.53453,     0.53554,     0.53654,     0.53754,     0.53854,     0.53954,     0.54054,     0.54154,     0.54254,     0.54354,     0.54454,     0.54555,     0.54655,     0.54755,     0.54855,     0.54955,     0.55055,     0.55155,\n",
      "           0.55255,     0.55355,     0.55455,     0.55556,     0.55656,     0.55756,     0.55856,     0.55956,     0.56056,     0.56156,     0.56256,     0.56356,     0.56456,     0.56557,     0.56657,     0.56757,     0.56857,     0.56957,     0.57057,     0.57157,     0.57257,     0.57357,     0.57457,     0.57558,\n",
      "           0.57658,     0.57758,     0.57858,     0.57958,     0.58058,     0.58158,     0.58258,     0.58358,     0.58458,     0.58559,     0.58659,     0.58759,     0.58859,     0.58959,     0.59059,     0.59159,     0.59259,     0.59359,     0.59459,      0.5956,      0.5966,      0.5976,      0.5986,      0.5996,\n",
      "            0.6006,      0.6016,      0.6026,      0.6036,      0.6046,     0.60561,     0.60661,     0.60761,     0.60861,     0.60961,     0.61061,     0.61161,     0.61261,     0.61361,     0.61461,     0.61562,     0.61662,     0.61762,     0.61862,     0.61962,     0.62062,     0.62162,     0.62262,     0.62362,\n",
      "           0.62462,     0.62563,     0.62663,     0.62763,     0.62863,     0.62963,     0.63063,     0.63163,     0.63263,     0.63363,     0.63463,     0.63564,     0.63664,     0.63764,     0.63864,     0.63964,     0.64064,     0.64164,     0.64264,     0.64364,     0.64464,     0.64565,     0.64665,     0.64765,\n",
      "           0.64865,     0.64965,     0.65065,     0.65165,     0.65265,     0.65365,     0.65465,     0.65566,     0.65666,     0.65766,     0.65866,     0.65966,     0.66066,     0.66166,     0.66266,     0.66366,     0.66466,     0.66567,     0.66667,     0.66767,     0.66867,     0.66967,     0.67067,     0.67167,\n",
      "           0.67267,     0.67367,     0.67467,     0.67568,     0.67668,     0.67768,     0.67868,     0.67968,     0.68068,     0.68168,     0.68268,     0.68368,     0.68468,     0.68569,     0.68669,     0.68769,     0.68869,     0.68969,     0.69069,     0.69169,     0.69269,     0.69369,     0.69469,      0.6957,\n",
      "            0.6967,      0.6977,      0.6987,      0.6997,      0.7007,      0.7017,      0.7027,      0.7037,      0.7047,     0.70571,     0.70671,     0.70771,     0.70871,     0.70971,     0.71071,     0.71171,     0.71271,     0.71371,     0.71471,     0.71572,     0.71672,     0.71772,     0.71872,     0.71972,\n",
      "           0.72072,     0.72172,     0.72272,     0.72372,     0.72472,     0.72573,     0.72673,     0.72773,     0.72873,     0.72973,     0.73073,     0.73173,     0.73273,     0.73373,     0.73473,     0.73574,     0.73674,     0.73774,     0.73874,     0.73974,     0.74074,     0.74174,     0.74274,     0.74374,\n",
      "           0.74474,     0.74575,     0.74675,     0.74775,     0.74875,     0.74975,     0.75075,     0.75175,     0.75275,     0.75375,     0.75475,     0.75576,     0.75676,     0.75776,     0.75876,     0.75976,     0.76076,     0.76176,     0.76276,     0.76376,     0.76476,     0.76577,     0.76677,     0.76777,\n",
      "           0.76877,     0.76977,     0.77077,     0.77177,     0.77277,     0.77377,     0.77477,     0.77578,     0.77678,     0.77778,     0.77878,     0.77978,     0.78078,     0.78178,     0.78278,     0.78378,     0.78478,     0.78579,     0.78679,     0.78779,     0.78879,     0.78979,     0.79079,     0.79179,\n",
      "           0.79279,     0.79379,     0.79479,      0.7958,      0.7968,      0.7978,      0.7988,      0.7998,      0.8008,      0.8018,      0.8028,      0.8038,      0.8048,     0.80581,     0.80681,     0.80781,     0.80881,     0.80981,     0.81081,     0.81181,     0.81281,     0.81381,     0.81481,     0.81582,\n",
      "           0.81682,     0.81782,     0.81882,     0.81982,     0.82082,     0.82182,     0.82282,     0.82382,     0.82482,     0.82583,     0.82683,     0.82783,     0.82883,     0.82983,     0.83083,     0.83183,     0.83283,     0.83383,     0.83483,     0.83584,     0.83684,     0.83784,     0.83884,     0.83984,\n",
      "           0.84084,     0.84184,     0.84284,     0.84384,     0.84484,     0.84585,     0.84685,     0.84785,     0.84885,     0.84985,     0.85085,     0.85185,     0.85285,     0.85385,     0.85485,     0.85586,     0.85686,     0.85786,     0.85886,     0.85986,     0.86086,     0.86186,     0.86286,     0.86386,\n",
      "           0.86486,     0.86587,     0.86687,     0.86787,     0.86887,     0.86987,     0.87087,     0.87187,     0.87287,     0.87387,     0.87487,     0.87588,     0.87688,     0.87788,     0.87888,     0.87988,     0.88088,     0.88188,     0.88288,     0.88388,     0.88488,     0.88589,     0.88689,     0.88789,\n",
      "           0.88889,     0.88989,     0.89089,     0.89189,     0.89289,     0.89389,     0.89489,      0.8959,      0.8969,      0.8979,      0.8989,      0.8999,      0.9009,      0.9019,      0.9029,      0.9039,      0.9049,     0.90591,     0.90691,     0.90791,     0.90891,     0.90991,     0.91091,     0.91191,\n",
      "           0.91291,     0.91391,     0.91491,     0.91592,     0.91692,     0.91792,     0.91892,     0.91992,     0.92092,     0.92192,     0.92292,     0.92392,     0.92492,     0.92593,     0.92693,     0.92793,     0.92893,     0.92993,     0.93093,     0.93193,     0.93293,     0.93393,     0.93493,     0.93594,\n",
      "           0.93694,     0.93794,     0.93894,     0.93994,     0.94094,     0.94194,     0.94294,     0.94394,     0.94494,     0.94595,     0.94695,     0.94795,     0.94895,     0.94995,     0.95095,     0.95195,     0.95295,     0.95395,     0.95495,     0.95596,     0.95696,     0.95796,     0.95896,     0.95996,\n",
      "           0.96096,     0.96196,     0.96296,     0.96396,     0.96496,     0.96597,     0.96697,     0.96797,     0.96897,     0.96997,     0.97097,     0.97197,     0.97297,     0.97397,     0.97497,     0.97598,     0.97698,     0.97798,     0.97898,     0.97998,     0.98098,     0.98198,     0.98298,     0.98398,\n",
      "           0.98498,     0.98599,     0.98699,     0.98799,     0.98899,     0.98999,     0.99099,     0.99199,     0.99299,     0.99399,     0.99499,       0.996,       0.997,       0.998,       0.999,           1]), array([[   0.010925,    0.010925,    0.011228,    0.018286,    0.019474,    0.020375,    0.028596,     0.05601,     0.17119,      0.4027,     0.48317,     0.53339,     0.55986,     0.58228,      0.6105,     0.63526,     0.65177,     0.66708,     0.69145,     0.70852,     0.71968,     0.72827,     0.74211,\n",
      "            0.75195,     0.76064,     0.77852,     0.78901,      0.8057,     0.80742,     0.81118,      0.8136,     0.82028,     0.82208,      0.8246,     0.82683,     0.82946,     0.83593,     0.84114,     0.84481,     0.84781,     0.85408,     0.85837,     0.86587,     0.86852,     0.87011,     0.87152,\n",
      "            0.87292,      0.8743,     0.87581,     0.87793,     0.87937,     0.88034,     0.88131,     0.88286,     0.88589,     0.88673,     0.88756,      0.8884,     0.88976,     0.89184,      0.8931,     0.89413,     0.89515,     0.89707,      0.9011,     0.90355,      0.9047,     0.90585,     0.90497,\n",
      "            0.90302,     0.90217,     0.90262,     0.90306,     0.90351,     0.90396,      0.9044,     0.90485,     0.90529,     0.90577,     0.90628,     0.90679,      0.9073,      0.9078,     0.90831,     0.90881,     0.90957,     0.91062,     0.91166,     0.91278,     0.91599,      0.9154,     0.91482,\n",
      "            0.91423,     0.91364,     0.91306,     0.91247,     0.91266,     0.91511,     0.91157,     0.91218,      0.9128,     0.91341,     0.91402,     0.91463,     0.91612,     0.91873,     0.91995,     0.92116,     0.92238,     0.92344,     0.92448,     0.92553,     0.92747,     0.93095,     0.93373,\n",
      "            0.93402,     0.93416,      0.9343,     0.93444,     0.93459,     0.93473,     0.93487,     0.93501,     0.93515,     0.93529,     0.93544,     0.93558,     0.93572,     0.93586,       0.936,     0.93614,     0.93629,     0.93643,     0.93657,     0.93671,     0.93685,     0.93699,     0.93713,\n",
      "            0.93727,     0.93741,     0.93756,      0.9377,      0.9379,     0.93815,      0.9384,     0.93865,     0.93891,     0.93916,     0.93941,     0.93966,     0.93991,     0.94016,     0.94041,     0.94066,     0.94091,     0.94117,     0.94142,     0.94167,     0.94355,     0.94544,     0.94589,\n",
      "            0.94621,     0.94652,     0.94683,     0.94714,     0.94746,     0.94777,     0.94808,     0.94839,      0.9487,     0.94902,     0.94933,     0.94964,     0.94994,     0.95025,     0.95055,     0.95086,     0.95116,     0.95146,     0.95177,     0.95207,     0.95237,     0.95268,     0.95298,\n",
      "            0.95328,     0.95359,     0.95423,     0.95488,     0.95552,     0.95617,     0.95681,     0.95745,     0.95772,     0.95784,     0.95796,     0.95809,     0.95821,     0.95833,     0.95846,     0.95858,      0.9587,     0.95883,     0.95895,     0.95907,      0.9592,     0.95932,     0.95944,\n",
      "            0.95957,     0.95969,     0.95981,     0.95994,     0.96006,     0.96018,      0.9603,     0.96043,     0.96055,     0.96067,     0.96079,     0.96092,     0.96104,     0.96116,     0.96129,     0.96141,     0.96153,     0.96165,     0.96156,     0.96133,     0.96109,     0.96085,     0.96062,\n",
      "            0.96038,     0.96014,     0.95991,     0.95967,     0.95943,     0.95919,     0.95896,     0.95872,     0.95848,     0.95825,     0.95801,     0.95777,     0.95753,     0.95729,     0.95702,     0.95674,     0.95646,     0.95618,     0.95589,     0.95561,     0.95533,     0.95505,     0.95477,\n",
      "            0.95449,      0.9542,     0.95392,     0.95364,     0.95336,     0.95307,     0.95279,     0.95283,     0.95286,      0.9529,     0.95294,     0.95297,     0.95301,     0.95305,     0.95308,     0.95312,     0.95316,     0.95319,     0.95323,     0.95327,      0.9533,     0.95334,     0.95338,\n",
      "            0.95341,     0.95345,     0.95349,     0.95352,     0.95356,      0.9536,     0.95363,     0.95367,     0.95371,     0.95374,     0.95378,     0.95382,     0.95385,     0.95389,     0.95393,     0.95396,       0.954,     0.95404,     0.95407,     0.95411,     0.95415,     0.95418,     0.95422,\n",
      "            0.95426,     0.95429,     0.95433,     0.95437,      0.9544,     0.95444,     0.95448,     0.95451,     0.95455,     0.95459,     0.95462,     0.95466,      0.9547,     0.95473,     0.95477,     0.95481,     0.95484,     0.95488,     0.95492,     0.95495,     0.95499,     0.95503,     0.95506,\n",
      "             0.9551,     0.95514,     0.95517,     0.95521,     0.95525,     0.95528,     0.95532,     0.95536,     0.95539,     0.95543,     0.95547,      0.9555,     0.95554,     0.95558,     0.95561,     0.95565,     0.95569,     0.95572,     0.95576,      0.9558,     0.95583,     0.95587,      0.9559,\n",
      "            0.95594,     0.95598,     0.95601,     0.95605,     0.95609,     0.95612,     0.95616,      0.9562,     0.95623,     0.95627,     0.95631,     0.95634,     0.95638,     0.95642,     0.95645,     0.95649,     0.95653,     0.95656,      0.9566,     0.95663,     0.95667,     0.95671,     0.95674,\n",
      "            0.95678,     0.95682,     0.95685,     0.95689,     0.95702,     0.95718,     0.95734,     0.95749,     0.95765,      0.9578,     0.95796,     0.95812,     0.95827,     0.95843,     0.95858,     0.95874,      0.9589,     0.95905,     0.95921,     0.95936,     0.95952,     0.95967,     0.95983,\n",
      "            0.95999,     0.96014,      0.9603,     0.96045,     0.96061,     0.96076,     0.96092,     0.96098,     0.96069,      0.9604,     0.96011,     0.95982,     0.95953,     0.95924,     0.95895,     0.95866,     0.95837,     0.95808,     0.95779,      0.9575,     0.95721,     0.95692,     0.95663,\n",
      "            0.95397,     0.95281,      0.9545,     0.95614,     0.95598,     0.95582,     0.95566,      0.9555,     0.95534,     0.95518,     0.95502,     0.95486,      0.9547,     0.95454,     0.95438,     0.95422,     0.95406,      0.9539,     0.95374,     0.95358,     0.95342,     0.95326,      0.9531,\n",
      "            0.95294,     0.95278,     0.95262,     0.95246,      0.9523,     0.95214,     0.95198,     0.95182,     0.95165,      0.9515,     0.95136,     0.95123,     0.95109,     0.95095,     0.95082,     0.95068,     0.95054,     0.95041,     0.95027,     0.95013,        0.95,     0.94986,     0.94972,\n",
      "            0.94959,     0.94945,     0.94931,     0.94917,     0.94904,      0.9489,     0.94876,     0.94863,     0.94849,     0.94835,     0.94821,     0.94808,     0.94794,      0.9478,     0.94766,     0.94753,     0.94739,     0.94725,     0.94711,     0.94698,     0.94674,      0.9464,     0.94606,\n",
      "            0.94572,     0.94538,     0.94504,     0.94469,     0.94435,     0.94401,     0.94367,     0.94333,     0.94298,     0.94264,      0.9423,     0.94208,      0.9419,     0.94172,     0.94154,     0.94136,     0.94118,       0.941,     0.94081,     0.94063,     0.94045,     0.94027,     0.94009,\n",
      "            0.93991,     0.93973,     0.93954,     0.93936,     0.93918,       0.939,     0.93882,     0.93864,     0.93845,     0.93827,     0.93809,     0.93791,     0.93773,     0.93754,     0.93735,     0.93716,     0.93697,     0.93678,     0.93659,      0.9364,     0.93621,     0.93602,     0.93582,\n",
      "            0.93563,     0.93544,     0.93525,     0.93506,     0.93486,     0.93467,     0.93448,     0.93429,      0.9341,      0.9339,     0.93371,     0.93352,     0.93333,     0.93313,     0.93294,     0.93275,     0.93256,     0.93237,     0.93217,     0.93198,     0.93179,      0.9316,     0.93141,\n",
      "            0.93122,     0.93102,     0.93083,     0.93064,     0.93045,     0.93026,     0.93006,     0.92987,     0.92968,     0.92949,     0.92929,      0.9291,     0.92891,     0.92872,     0.92852,     0.92833,     0.92814,     0.92795,     0.92669,     0.92532,     0.92396,     0.92152,     0.91812,\n",
      "            0.91787,     0.91762,     0.91737,     0.91711,     0.91686,     0.91661,     0.91635,      0.9161,     0.91585,     0.91559,     0.91534,     0.91509,     0.91483,     0.91458,     0.91433,     0.91407,     0.91382,     0.91356,     0.91331,     0.91171,     0.90963,     0.90805,     0.90743,\n",
      "            0.90681,     0.90619,     0.90557,     0.90495,     0.90433,     0.90371,     0.90305,     0.90225,     0.90145,     0.90065,     0.89985,     0.89905,     0.89825,     0.89799,      0.8978,     0.89762,     0.89743,     0.89725,     0.89706,     0.89688,     0.89669,     0.89651,     0.89632,\n",
      "            0.89614,     0.89595,     0.89577,     0.89558,      0.8954,     0.89521,     0.89503,     0.89484,     0.89466,     0.89447,     0.89428,      0.8941,     0.89391,     0.89373,     0.89354,     0.89336,     0.89317,     0.89176,     0.88752,     0.88652,     0.88553,     0.88453,     0.88353,\n",
      "            0.88248,     0.88092,     0.87936,     0.87779,     0.87557,     0.87308,     0.87164,     0.87094,     0.87025,     0.86955,     0.86886,     0.86816,     0.86746,     0.86676,     0.86603,     0.86529,     0.86456,     0.86382,     0.86308,     0.86233,     0.86159,      0.8609,     0.86025,\n",
      "            0.85959,     0.85894,     0.85829,     0.85763,     0.85698,     0.85632,     0.85291,     0.84406,     0.84328,     0.84251,     0.84174,     0.84096,     0.84019,     0.83941,     0.83852,     0.83751,     0.83649,     0.83547,     0.83446,     0.83344,     0.83149,     0.82944,     0.82751,\n",
      "            0.82679,     0.82606,     0.82534,     0.82461,     0.82388,     0.82315,     0.82243,     0.82159,     0.81994,      0.8183,     0.81664,     0.81294,     0.80988,     0.80962,     0.80936,     0.80911,     0.80885,     0.80859,     0.80833,     0.80806,      0.8078,     0.80754,     0.80728,\n",
      "            0.80702,     0.80676,      0.8065,     0.80624,     0.80598,     0.80572,     0.80546,      0.8052,     0.80493,     0.80467,     0.80441,     0.80415,     0.80227,     0.79885,     0.79694,     0.79554,     0.79414,     0.79273,     0.79157,      0.7908,     0.79002,     0.78924,     0.78847,\n",
      "            0.78769,     0.78691,     0.78612,     0.78424,     0.78115,     0.77284,     0.76618,     0.76504,      0.7639,     0.76276,     0.76161,     0.76047,     0.75324,     0.75232,     0.75141,     0.75049,     0.74957,     0.74865,     0.74773,     0.74456,      0.7403,     0.73786,     0.73542,\n",
      "              0.732,     0.72732,     0.72393,     0.72053,      0.7064,     0.70255,     0.69795,      0.6918,     0.68984,     0.68787,     0.68589,     0.67692,     0.67523,     0.67353,     0.67183,     0.66932,     0.66272,     0.66063,     0.65855,     0.65645,     0.64889,     0.64163,     0.63905,\n",
      "            0.63779,     0.63653,     0.63526,       0.634,     0.63273,     0.62752,     0.61765,     0.60719,       0.601,       0.585,     0.57763,      0.5721,     0.56744,     0.56456,     0.56229,     0.56001,     0.55772,     0.54738,     0.54481,     0.54224,     0.53975,     0.53828,     0.53681,\n",
      "            0.53534,     0.53386,     0.53238,     0.53089,     0.52607,     0.51909,     0.49924,     0.48298,     0.47839,     0.47005,     0.45822,     0.45024,     0.44262,     0.43675,       0.424,     0.41891,     0.41391,     0.40212,     0.39964,     0.39714,     0.39464,     0.39214,     0.38005,\n",
      "            0.37693,     0.37379,     0.37063,     0.35493,     0.34701,     0.34563,     0.34425,     0.34287,     0.34149,      0.3401,     0.33871,     0.33732,     0.33593,     0.33259,     0.32878,     0.32495,     0.32056,     0.31594,     0.31035,     0.29993,     0.29571,     0.29147,     0.28671,\n",
      "            0.27866,     0.27159,     0.26518,      0.2614,     0.25921,     0.25701,     0.25481,      0.2526,     0.25039,     0.24425,     0.23724,     0.22816,     0.22218,     0.21899,     0.21579,     0.21258,     0.20796,     0.20083,     0.19256,     0.18303,     0.17673,     0.17037,      0.1655,\n",
      "            0.16094,     0.15635,     0.13998,     0.13883,     0.13769,     0.13653,     0.13538,     0.13423,     0.13307,     0.13191,     0.13076,      0.1296,     0.12843,     0.12727,     0.12611,     0.12228,     0.11812,     0.11394,     0.11056,     0.10886,     0.10715,     0.10544,     0.10373,\n",
      "            0.10201,      0.1003,    0.098575,     0.09685,    0.080461,    0.079411,    0.078359,    0.077307,    0.076253,    0.075198,    0.074142,    0.073085,    0.072027,    0.070968,    0.069907,    0.068845,    0.067782,    0.066718,    0.065653,    0.064527,    0.063318,    0.062109,    0.060897,\n",
      "           0.059685,     0.05847,    0.057254,    0.056037,    0.054818,    0.053598,    0.052376,    0.051152,    0.049927,    0.048705,    0.047488,    0.046269,    0.045048,    0.043827,    0.042603,    0.041378,    0.040152,    0.038924,    0.037694,    0.036463,    0.035231,    0.033996,    0.032511,\n",
      "           0.030232,    0.027948,    0.025659,    0.023364,    0.021064,    0.018759,           0,           0,           0,           0,           0,           0,           0,           0,           0,           0,           0,           0,           0,           0,           0,           0,           0,\n",
      "                  0,           0,           0,           0,           0,           0,           0,           0,           0,           0,           0,           0,           0,           0,           0,           0,           0,           0,           0,           0,           0,           0,           0,\n",
      "                  0,           0,           0,           0,           0,           0,           0,           0,           0,           0,           0]]), 'Confidence', 'F1'], [array([          0,    0.001001,    0.002002,    0.003003,    0.004004,    0.005005,    0.006006,    0.007007,    0.008008,    0.009009,     0.01001,    0.011011,    0.012012,    0.013013,    0.014014,    0.015015,    0.016016,    0.017017,    0.018018,    0.019019,     0.02002,    0.021021,    0.022022,    0.023023,\n",
      "          0.024024,    0.025025,    0.026026,    0.027027,    0.028028,    0.029029,     0.03003,    0.031031,    0.032032,    0.033033,    0.034034,    0.035035,    0.036036,    0.037037,    0.038038,    0.039039,     0.04004,    0.041041,    0.042042,    0.043043,    0.044044,    0.045045,    0.046046,    0.047047,\n",
      "          0.048048,    0.049049,     0.05005,    0.051051,    0.052052,    0.053053,    0.054054,    0.055055,    0.056056,    0.057057,    0.058058,    0.059059,     0.06006,    0.061061,    0.062062,    0.063063,    0.064064,    0.065065,    0.066066,    0.067067,    0.068068,    0.069069,     0.07007,    0.071071,\n",
      "          0.072072,    0.073073,    0.074074,    0.075075,    0.076076,    0.077077,    0.078078,    0.079079,     0.08008,    0.081081,    0.082082,    0.083083,    0.084084,    0.085085,    0.086086,    0.087087,    0.088088,    0.089089,     0.09009,    0.091091,    0.092092,    0.093093,    0.094094,    0.095095,\n",
      "          0.096096,    0.097097,    0.098098,    0.099099,      0.1001,      0.1011,      0.1021,      0.1031,      0.1041,     0.10511,     0.10611,     0.10711,     0.10811,     0.10911,     0.11011,     0.11111,     0.11211,     0.11311,     0.11411,     0.11512,     0.11612,     0.11712,     0.11812,     0.11912,\n",
      "           0.12012,     0.12112,     0.12212,     0.12312,     0.12412,     0.12513,     0.12613,     0.12713,     0.12813,     0.12913,     0.13013,     0.13113,     0.13213,     0.13313,     0.13413,     0.13514,     0.13614,     0.13714,     0.13814,     0.13914,     0.14014,     0.14114,     0.14214,     0.14314,\n",
      "           0.14414,     0.14515,     0.14615,     0.14715,     0.14815,     0.14915,     0.15015,     0.15115,     0.15215,     0.15315,     0.15415,     0.15516,     0.15616,     0.15716,     0.15816,     0.15916,     0.16016,     0.16116,     0.16216,     0.16316,     0.16416,     0.16517,     0.16617,     0.16717,\n",
      "           0.16817,     0.16917,     0.17017,     0.17117,     0.17217,     0.17317,     0.17417,     0.17518,     0.17618,     0.17718,     0.17818,     0.17918,     0.18018,     0.18118,     0.18218,     0.18318,     0.18418,     0.18519,     0.18619,     0.18719,     0.18819,     0.18919,     0.19019,     0.19119,\n",
      "           0.19219,     0.19319,     0.19419,      0.1952,      0.1962,      0.1972,      0.1982,      0.1992,      0.2002,      0.2012,      0.2022,      0.2032,      0.2042,     0.20521,     0.20621,     0.20721,     0.20821,     0.20921,     0.21021,     0.21121,     0.21221,     0.21321,     0.21421,     0.21522,\n",
      "           0.21622,     0.21722,     0.21822,     0.21922,     0.22022,     0.22122,     0.22222,     0.22322,     0.22422,     0.22523,     0.22623,     0.22723,     0.22823,     0.22923,     0.23023,     0.23123,     0.23223,     0.23323,     0.23423,     0.23524,     0.23624,     0.23724,     0.23824,     0.23924,\n",
      "           0.24024,     0.24124,     0.24224,     0.24324,     0.24424,     0.24525,     0.24625,     0.24725,     0.24825,     0.24925,     0.25025,     0.25125,     0.25225,     0.25325,     0.25425,     0.25526,     0.25626,     0.25726,     0.25826,     0.25926,     0.26026,     0.26126,     0.26226,     0.26326,\n",
      "           0.26426,     0.26527,     0.26627,     0.26727,     0.26827,     0.26927,     0.27027,     0.27127,     0.27227,     0.27327,     0.27427,     0.27528,     0.27628,     0.27728,     0.27828,     0.27928,     0.28028,     0.28128,     0.28228,     0.28328,     0.28428,     0.28529,     0.28629,     0.28729,\n",
      "           0.28829,     0.28929,     0.29029,     0.29129,     0.29229,     0.29329,     0.29429,      0.2953,      0.2963,      0.2973,      0.2983,      0.2993,      0.3003,      0.3013,      0.3023,      0.3033,      0.3043,     0.30531,     0.30631,     0.30731,     0.30831,     0.30931,     0.31031,     0.31131,\n",
      "           0.31231,     0.31331,     0.31431,     0.31532,     0.31632,     0.31732,     0.31832,     0.31932,     0.32032,     0.32132,     0.32232,     0.32332,     0.32432,     0.32533,     0.32633,     0.32733,     0.32833,     0.32933,     0.33033,     0.33133,     0.33233,     0.33333,     0.33433,     0.33534,\n",
      "           0.33634,     0.33734,     0.33834,     0.33934,     0.34034,     0.34134,     0.34234,     0.34334,     0.34434,     0.34535,     0.34635,     0.34735,     0.34835,     0.34935,     0.35035,     0.35135,     0.35235,     0.35335,     0.35435,     0.35536,     0.35636,     0.35736,     0.35836,     0.35936,\n",
      "           0.36036,     0.36136,     0.36236,     0.36336,     0.36436,     0.36537,     0.36637,     0.36737,     0.36837,     0.36937,     0.37037,     0.37137,     0.37237,     0.37337,     0.37437,     0.37538,     0.37638,     0.37738,     0.37838,     0.37938,     0.38038,     0.38138,     0.38238,     0.38338,\n",
      "           0.38438,     0.38539,     0.38639,     0.38739,     0.38839,     0.38939,     0.39039,     0.39139,     0.39239,     0.39339,     0.39439,      0.3954,      0.3964,      0.3974,      0.3984,      0.3994,      0.4004,      0.4014,      0.4024,      0.4034,      0.4044,     0.40541,     0.40641,     0.40741,\n",
      "           0.40841,     0.40941,     0.41041,     0.41141,     0.41241,     0.41341,     0.41441,     0.41542,     0.41642,     0.41742,     0.41842,     0.41942,     0.42042,     0.42142,     0.42242,     0.42342,     0.42442,     0.42543,     0.42643,     0.42743,     0.42843,     0.42943,     0.43043,     0.43143,\n",
      "           0.43243,     0.43343,     0.43443,     0.43544,     0.43644,     0.43744,     0.43844,     0.43944,     0.44044,     0.44144,     0.44244,     0.44344,     0.44444,     0.44545,     0.44645,     0.44745,     0.44845,     0.44945,     0.45045,     0.45145,     0.45245,     0.45345,     0.45445,     0.45546,\n",
      "           0.45646,     0.45746,     0.45846,     0.45946,     0.46046,     0.46146,     0.46246,     0.46346,     0.46446,     0.46547,     0.46647,     0.46747,     0.46847,     0.46947,     0.47047,     0.47147,     0.47247,     0.47347,     0.47447,     0.47548,     0.47648,     0.47748,     0.47848,     0.47948,\n",
      "           0.48048,     0.48148,     0.48248,     0.48348,     0.48448,     0.48549,     0.48649,     0.48749,     0.48849,     0.48949,     0.49049,     0.49149,     0.49249,     0.49349,     0.49449,      0.4955,      0.4965,      0.4975,      0.4985,      0.4995,      0.5005,      0.5015,      0.5025,      0.5035,\n",
      "            0.5045,     0.50551,     0.50651,     0.50751,     0.50851,     0.50951,     0.51051,     0.51151,     0.51251,     0.51351,     0.51451,     0.51552,     0.51652,     0.51752,     0.51852,     0.51952,     0.52052,     0.52152,     0.52252,     0.52352,     0.52452,     0.52553,     0.52653,     0.52753,\n",
      "           0.52853,     0.52953,     0.53053,     0.53153,     0.53253,     0.53353,     0.53453,     0.53554,     0.53654,     0.53754,     0.53854,     0.53954,     0.54054,     0.54154,     0.54254,     0.54354,     0.54454,     0.54555,     0.54655,     0.54755,     0.54855,     0.54955,     0.55055,     0.55155,\n",
      "           0.55255,     0.55355,     0.55455,     0.55556,     0.55656,     0.55756,     0.55856,     0.55956,     0.56056,     0.56156,     0.56256,     0.56356,     0.56456,     0.56557,     0.56657,     0.56757,     0.56857,     0.56957,     0.57057,     0.57157,     0.57257,     0.57357,     0.57457,     0.57558,\n",
      "           0.57658,     0.57758,     0.57858,     0.57958,     0.58058,     0.58158,     0.58258,     0.58358,     0.58458,     0.58559,     0.58659,     0.58759,     0.58859,     0.58959,     0.59059,     0.59159,     0.59259,     0.59359,     0.59459,      0.5956,      0.5966,      0.5976,      0.5986,      0.5996,\n",
      "            0.6006,      0.6016,      0.6026,      0.6036,      0.6046,     0.60561,     0.60661,     0.60761,     0.60861,     0.60961,     0.61061,     0.61161,     0.61261,     0.61361,     0.61461,     0.61562,     0.61662,     0.61762,     0.61862,     0.61962,     0.62062,     0.62162,     0.62262,     0.62362,\n",
      "           0.62462,     0.62563,     0.62663,     0.62763,     0.62863,     0.62963,     0.63063,     0.63163,     0.63263,     0.63363,     0.63463,     0.63564,     0.63664,     0.63764,     0.63864,     0.63964,     0.64064,     0.64164,     0.64264,     0.64364,     0.64464,     0.64565,     0.64665,     0.64765,\n",
      "           0.64865,     0.64965,     0.65065,     0.65165,     0.65265,     0.65365,     0.65465,     0.65566,     0.65666,     0.65766,     0.65866,     0.65966,     0.66066,     0.66166,     0.66266,     0.66366,     0.66466,     0.66567,     0.66667,     0.66767,     0.66867,     0.66967,     0.67067,     0.67167,\n",
      "           0.67267,     0.67367,     0.67467,     0.67568,     0.67668,     0.67768,     0.67868,     0.67968,     0.68068,     0.68168,     0.68268,     0.68368,     0.68468,     0.68569,     0.68669,     0.68769,     0.68869,     0.68969,     0.69069,     0.69169,     0.69269,     0.69369,     0.69469,      0.6957,\n",
      "            0.6967,      0.6977,      0.6987,      0.6997,      0.7007,      0.7017,      0.7027,      0.7037,      0.7047,     0.70571,     0.70671,     0.70771,     0.70871,     0.70971,     0.71071,     0.71171,     0.71271,     0.71371,     0.71471,     0.71572,     0.71672,     0.71772,     0.71872,     0.71972,\n",
      "           0.72072,     0.72172,     0.72272,     0.72372,     0.72472,     0.72573,     0.72673,     0.72773,     0.72873,     0.72973,     0.73073,     0.73173,     0.73273,     0.73373,     0.73473,     0.73574,     0.73674,     0.73774,     0.73874,     0.73974,     0.74074,     0.74174,     0.74274,     0.74374,\n",
      "           0.74474,     0.74575,     0.74675,     0.74775,     0.74875,     0.74975,     0.75075,     0.75175,     0.75275,     0.75375,     0.75475,     0.75576,     0.75676,     0.75776,     0.75876,     0.75976,     0.76076,     0.76176,     0.76276,     0.76376,     0.76476,     0.76577,     0.76677,     0.76777,\n",
      "           0.76877,     0.76977,     0.77077,     0.77177,     0.77277,     0.77377,     0.77477,     0.77578,     0.77678,     0.77778,     0.77878,     0.77978,     0.78078,     0.78178,     0.78278,     0.78378,     0.78478,     0.78579,     0.78679,     0.78779,     0.78879,     0.78979,     0.79079,     0.79179,\n",
      "           0.79279,     0.79379,     0.79479,      0.7958,      0.7968,      0.7978,      0.7988,      0.7998,      0.8008,      0.8018,      0.8028,      0.8038,      0.8048,     0.80581,     0.80681,     0.80781,     0.80881,     0.80981,     0.81081,     0.81181,     0.81281,     0.81381,     0.81481,     0.81582,\n",
      "           0.81682,     0.81782,     0.81882,     0.81982,     0.82082,     0.82182,     0.82282,     0.82382,     0.82482,     0.82583,     0.82683,     0.82783,     0.82883,     0.82983,     0.83083,     0.83183,     0.83283,     0.83383,     0.83483,     0.83584,     0.83684,     0.83784,     0.83884,     0.83984,\n",
      "           0.84084,     0.84184,     0.84284,     0.84384,     0.84484,     0.84585,     0.84685,     0.84785,     0.84885,     0.84985,     0.85085,     0.85185,     0.85285,     0.85385,     0.85485,     0.85586,     0.85686,     0.85786,     0.85886,     0.85986,     0.86086,     0.86186,     0.86286,     0.86386,\n",
      "           0.86486,     0.86587,     0.86687,     0.86787,     0.86887,     0.86987,     0.87087,     0.87187,     0.87287,     0.87387,     0.87487,     0.87588,     0.87688,     0.87788,     0.87888,     0.87988,     0.88088,     0.88188,     0.88288,     0.88388,     0.88488,     0.88589,     0.88689,     0.88789,\n",
      "           0.88889,     0.88989,     0.89089,     0.89189,     0.89289,     0.89389,     0.89489,      0.8959,      0.8969,      0.8979,      0.8989,      0.8999,      0.9009,      0.9019,      0.9029,      0.9039,      0.9049,     0.90591,     0.90691,     0.90791,     0.90891,     0.90991,     0.91091,     0.91191,\n",
      "           0.91291,     0.91391,     0.91491,     0.91592,     0.91692,     0.91792,     0.91892,     0.91992,     0.92092,     0.92192,     0.92292,     0.92392,     0.92492,     0.92593,     0.92693,     0.92793,     0.92893,     0.92993,     0.93093,     0.93193,     0.93293,     0.93393,     0.93493,     0.93594,\n",
      "           0.93694,     0.93794,     0.93894,     0.93994,     0.94094,     0.94194,     0.94294,     0.94394,     0.94494,     0.94595,     0.94695,     0.94795,     0.94895,     0.94995,     0.95095,     0.95195,     0.95295,     0.95395,     0.95495,     0.95596,     0.95696,     0.95796,     0.95896,     0.95996,\n",
      "           0.96096,     0.96196,     0.96296,     0.96396,     0.96496,     0.96597,     0.96697,     0.96797,     0.96897,     0.96997,     0.97097,     0.97197,     0.97297,     0.97397,     0.97497,     0.97598,     0.97698,     0.97798,     0.97898,     0.97998,     0.98098,     0.98198,     0.98298,     0.98398,\n",
      "           0.98498,     0.98599,     0.98699,     0.98799,     0.98899,     0.98999,     0.99099,     0.99199,     0.99299,     0.99399,     0.99499,       0.996,       0.997,       0.998,       0.999,           1]), array([[   0.005493,    0.005493,   0.0056462,   0.0092287,   0.0098344,    0.010294,    0.014509,    0.028826,    0.093759,     0.25321,     0.32028,     0.36596,     0.39135,     0.41362,     0.44269,     0.46921,     0.48745,     0.50479,     0.53323,     0.55381,     0.56938,     0.58126,      0.5991,\n",
      "            0.61204,     0.62364,     0.64803,      0.6627,      0.6866,     0.68911,      0.6946,     0.69815,     0.70806,     0.71074,     0.71452,     0.71787,     0.72184,     0.73169,     0.73971,     0.74541,      0.7501,     0.75996,     0.76679,     0.77885,     0.78314,     0.78573,     0.78803,\n",
      "            0.79032,      0.7926,     0.79507,     0.79858,     0.80096,     0.80257,     0.80418,     0.80678,     0.81184,     0.81326,     0.81467,     0.81608,     0.81838,      0.8219,     0.82405,     0.82579,     0.82754,     0.83083,     0.83777,     0.84202,     0.84402,     0.84603,     0.84638,\n",
      "            0.84586,     0.84595,     0.84674,     0.84753,     0.84832,      0.8491,     0.84989,     0.85068,     0.85147,     0.85231,     0.85321,     0.85411,     0.85501,     0.85592,     0.85682,     0.85772,     0.85906,     0.86093,     0.86281,     0.86481,     0.87113,       0.871,     0.87087,\n",
      "            0.87073,      0.8706,     0.87047,     0.87034,     0.87143,      0.8768,     0.87648,     0.87762,     0.87876,     0.87989,     0.88103,     0.88217,     0.88494,     0.88981,     0.89211,      0.8944,     0.89669,     0.89869,     0.90068,     0.90266,     0.90637,     0.91304,      0.9184,\n",
      "            0.91896,     0.91923,     0.91951,     0.91978,     0.92006,     0.92033,     0.92061,     0.92088,     0.92116,     0.92143,     0.92171,     0.92198,     0.92226,     0.92253,     0.92281,     0.92308,     0.92336,     0.92363,     0.92391,     0.92418,     0.92446,     0.92473,     0.92501,\n",
      "            0.92528,     0.92556,     0.92583,     0.92611,      0.9265,     0.92699,     0.92749,     0.92798,     0.92847,     0.92896,     0.92945,     0.92995,     0.93044,     0.93093,     0.93142,     0.93191,     0.93241,      0.9329,     0.93339,     0.93388,      0.9376,     0.94134,     0.94223,\n",
      "            0.94286,     0.94348,      0.9441,     0.94472,     0.94534,     0.94597,     0.94659,     0.94721,     0.94783,     0.94845,     0.94908,      0.9497,     0.95031,     0.95092,     0.95153,     0.95214,     0.95275,     0.95336,     0.95397,     0.95458,     0.95519,      0.9558,     0.95641,\n",
      "            0.95702,     0.95763,     0.95893,     0.96024,     0.96154,     0.96285,     0.96415,     0.96546,       0.966,     0.96625,      0.9665,     0.96675,       0.967,     0.96725,      0.9675,     0.96775,     0.96801,     0.96826,     0.96851,     0.96876,     0.96901,     0.96926,     0.96951,\n",
      "            0.96976,     0.97002,     0.97027,     0.97052,     0.97077,     0.97102,     0.97127,     0.97152,     0.97178,     0.97203,     0.97228,     0.97253,     0.97278,     0.97303,     0.97328,     0.97353,     0.97379,     0.97404,     0.97413,     0.97412,     0.97411,     0.97409,     0.97408,\n",
      "            0.97407,     0.97406,     0.97405,     0.97403,     0.97402,     0.97401,       0.974,     0.97399,     0.97397,     0.97396,     0.97395,     0.97394,     0.97393,     0.97391,      0.9739,     0.97389,     0.97387,     0.97386,     0.97384,     0.97383,     0.97381,      0.9738,     0.97379,\n",
      "            0.97377,     0.97376,     0.97374,     0.97373,     0.97371,      0.9737,     0.97368,     0.97376,     0.97384,     0.97391,     0.97399,     0.97407,     0.97415,     0.97422,      0.9743,     0.97438,     0.97445,     0.97453,     0.97461,     0.97468,     0.97476,     0.97484,     0.97491,\n",
      "            0.97499,     0.97507,     0.97514,     0.97522,      0.9753,     0.97537,     0.97545,     0.97553,      0.9756,     0.97568,     0.97576,     0.97583,     0.97591,     0.97599,     0.97607,     0.97614,     0.97622,      0.9763,     0.97637,     0.97645,     0.97653,      0.9766,     0.97668,\n",
      "            0.97676,     0.97683,     0.97691,     0.97699,     0.97706,     0.97714,     0.97722,     0.97729,     0.97737,     0.97745,     0.97752,      0.9776,     0.97768,     0.97775,     0.97783,     0.97791,     0.97799,     0.97806,     0.97814,     0.97822,     0.97829,     0.97837,     0.97845,\n",
      "            0.97852,      0.9786,     0.97868,     0.97875,     0.97883,     0.97891,     0.97898,     0.97906,     0.97914,     0.97921,     0.97929,     0.97937,     0.97944,     0.97952,      0.9796,     0.97967,     0.97975,     0.97983,     0.97991,     0.97998,     0.98006,     0.98014,     0.98021,\n",
      "            0.98029,     0.98037,     0.98044,     0.98052,      0.9806,     0.98067,     0.98075,     0.98083,      0.9809,     0.98098,     0.98106,     0.98113,     0.98121,     0.98129,     0.98136,     0.98144,     0.98152,     0.98159,     0.98167,     0.98175,     0.98183,      0.9819,     0.98198,\n",
      "            0.98206,     0.98213,     0.98221,     0.98229,     0.98257,      0.9829,     0.98323,     0.98356,     0.98389,     0.98422,     0.98455,     0.98488,     0.98521,     0.98554,     0.98587,      0.9862,     0.98653,     0.98686,     0.98718,     0.98751,     0.98784,     0.98817,      0.9885,\n",
      "            0.98883,     0.98916,     0.98949,     0.98982,     0.99015,     0.99048,     0.99081,     0.99107,     0.99107,     0.99106,     0.99105,     0.99105,     0.99104,     0.99104,     0.99103,     0.99103,     0.99102,     0.99102,     0.99101,     0.99101,       0.991,       0.991,     0.99099,\n",
      "            0.99095,     0.99274,     0.99641,           1,           1,           1,           1,           1,           1,           1,           1,           1,           1,           1,           1,           1,           1,           1,           1,           1,           1,           1,           1,\n",
      "                  1,           1,           1,           1,           1,           1,           1,           1,           1,           1,           1,           1,           1,           1,           1,           1,           1,           1,           1,           1,           1,           1,           1,\n",
      "                  1,           1,           1,           1,           1,           1,           1,           1,           1,           1,           1,           1,           1,           1,           1,           1,           1,           1,           1,           1,           1,           1,           1,\n",
      "                  1,           1,           1,           1,           1,           1,           1,           1,           1,           1,           1,           1,           1,           1,           1,           1,           1,           1,           1,           1,           1,           1,           1,\n",
      "                  1,           1,           1,           1,           1,           1,           1,           1,           1,           1,           1,           1,           1,           1,           1,           1,           1,           1,           1,           1,           1,           1,           1,\n",
      "                  1,           1,           1,           1,           1,           1,           1,           1,           1,           1,           1,           1,           1,           1,           1,           1,           1,           1,           1,           1,           1,           1,           1,\n",
      "                  1,           1,           1,           1,           1,           1,           1,           1,           1,           1,           1,           1,           1,           1,           1,           1,           1,           1,           1,           1,           1,           1,           1,\n",
      "                  1,           1,           1,           1,           1,           1,           1,           1,           1,           1,           1,           1,           1,           1,           1,           1,           1,           1,           1,           1,           1,           1,           1,\n",
      "                  1,           1,           1,           1,           1,           1,           1,           1,           1,           1,           1,           1,           1,           1,           1,           1,           1,           1,           1,           1,           1,           1,           1,\n",
      "                  1,           1,           1,           1,           1,           1,           1,           1,           1,           1,           1,           1,           1,           1,           1,           1,           1,           1,           1,           1,           1,           1,           1,\n",
      "                  1,           1,           1,           1,           1,           1,           1,           1,           1,           1,           1,           1,           1,           1,           1,           1,           1,           1,           1,           1,           1,           1,           1,\n",
      "                  1,           1,           1,           1,           1,           1,           1,           1,           1,           1,           1,           1,           1,           1,           1,           1,           1,           1,           1,           1,           1,           1,           1,\n",
      "                  1,           1,           1,           1,           1,           1,           1,           1,           1,           1,           1,           1,           1,           1,           1,           1,           1,           1,           1,           1,           1,           1,           1,\n",
      "                  1,           1,           1,           1,           1,           1,           1,           1,           1,           1,           1,           1,           1,           1,           1,           1,           1,           1,           1,           1,           1,           1,           1,\n",
      "                  1,           1,           1,           1,           1,           1,           1,           1,           1,           1,           1,           1,           1,           1,           1,           1,           1,           1,           1,           1,           1,           1,           1,\n",
      "                  1,           1,           1,           1,           1,           1,           1,           1,           1,           1,           1,           1,           1,           1,           1,           1,           1,           1,           1,           1,           1,           1,           1,\n",
      "                  1,           1,           1,           1,           1,           1,           1,           1,           1,           1,           1,           1,           1,           1,           1,           1,           1,           1,           1,           1,           1,           1,           1,\n",
      "                  1,           1,           1,           1,           1,           1,           1,           1,           1,           1,           1,           1,           1,           1,           1,           1,           1,           1,           1,           1,           1,           1,           1,\n",
      "                  1,           1,           1,           1,           1,           1,           1,           1,           1,           1,           1,           1,           1,           1,           1,           1,           1,           1,           1,           1,           1,           1,           1,\n",
      "                  1,           1,           1,           1,           1,           1,           1,           1,           1,           1,           1,           1,           1,           1,           1,           1,           1,           1,           1,           1,           1,           1,           1,\n",
      "                  1,           1,           1,           1,           1,           1,           1,           1,           1,           1,           1,           1,           1,           1,           1,           1,           1,           1,           1,           1,           1,           1,           1,\n",
      "                  1,           1,           1,           1,           1,           1,           1,           1,           1,           1,           1,           1,           1,           1,           1,           1,           1,           1,           1,           1,           1,           1,           1,\n",
      "                  1,           1,           1,           1,           1,           1,           1,           1,           1,           1,           1,           1,           1,           1,           1,           1,           1,           1,           1,           1,           1,           1,           1,\n",
      "                  1,           1,           1,           1,           1,           1,           1,           1,           1,           1,           1,           1,           1,           1,           1,           1,           1,           1,           1,           1,           1,           1,           1,\n",
      "                  1,           1,           1,           1,           1,           1,           1,           1,           1,           1,           1,           1,           1,           1,           1,           1,           1,           1,           1,           1,           1,           1,           1,\n",
      "                  1,           1,           1,           1,           1,           1,           1,           1,           1,           1,           1]]), 'Confidence', 'Precision'], [array([          0,    0.001001,    0.002002,    0.003003,    0.004004,    0.005005,    0.006006,    0.007007,    0.008008,    0.009009,     0.01001,    0.011011,    0.012012,    0.013013,    0.014014,    0.015015,    0.016016,    0.017017,    0.018018,    0.019019,     0.02002,    0.021021,    0.022022,    0.023023,\n",
      "          0.024024,    0.025025,    0.026026,    0.027027,    0.028028,    0.029029,     0.03003,    0.031031,    0.032032,    0.033033,    0.034034,    0.035035,    0.036036,    0.037037,    0.038038,    0.039039,     0.04004,    0.041041,    0.042042,    0.043043,    0.044044,    0.045045,    0.046046,    0.047047,\n",
      "          0.048048,    0.049049,     0.05005,    0.051051,    0.052052,    0.053053,    0.054054,    0.055055,    0.056056,    0.057057,    0.058058,    0.059059,     0.06006,    0.061061,    0.062062,    0.063063,    0.064064,    0.065065,    0.066066,    0.067067,    0.068068,    0.069069,     0.07007,    0.071071,\n",
      "          0.072072,    0.073073,    0.074074,    0.075075,    0.076076,    0.077077,    0.078078,    0.079079,     0.08008,    0.081081,    0.082082,    0.083083,    0.084084,    0.085085,    0.086086,    0.087087,    0.088088,    0.089089,     0.09009,    0.091091,    0.092092,    0.093093,    0.094094,    0.095095,\n",
      "          0.096096,    0.097097,    0.098098,    0.099099,      0.1001,      0.1011,      0.1021,      0.1031,      0.1041,     0.10511,     0.10611,     0.10711,     0.10811,     0.10911,     0.11011,     0.11111,     0.11211,     0.11311,     0.11411,     0.11512,     0.11612,     0.11712,     0.11812,     0.11912,\n",
      "           0.12012,     0.12112,     0.12212,     0.12312,     0.12412,     0.12513,     0.12613,     0.12713,     0.12813,     0.12913,     0.13013,     0.13113,     0.13213,     0.13313,     0.13413,     0.13514,     0.13614,     0.13714,     0.13814,     0.13914,     0.14014,     0.14114,     0.14214,     0.14314,\n",
      "           0.14414,     0.14515,     0.14615,     0.14715,     0.14815,     0.14915,     0.15015,     0.15115,     0.15215,     0.15315,     0.15415,     0.15516,     0.15616,     0.15716,     0.15816,     0.15916,     0.16016,     0.16116,     0.16216,     0.16316,     0.16416,     0.16517,     0.16617,     0.16717,\n",
      "           0.16817,     0.16917,     0.17017,     0.17117,     0.17217,     0.17317,     0.17417,     0.17518,     0.17618,     0.17718,     0.17818,     0.17918,     0.18018,     0.18118,     0.18218,     0.18318,     0.18418,     0.18519,     0.18619,     0.18719,     0.18819,     0.18919,     0.19019,     0.19119,\n",
      "           0.19219,     0.19319,     0.19419,      0.1952,      0.1962,      0.1972,      0.1982,      0.1992,      0.2002,      0.2012,      0.2022,      0.2032,      0.2042,     0.20521,     0.20621,     0.20721,     0.20821,     0.20921,     0.21021,     0.21121,     0.21221,     0.21321,     0.21421,     0.21522,\n",
      "           0.21622,     0.21722,     0.21822,     0.21922,     0.22022,     0.22122,     0.22222,     0.22322,     0.22422,     0.22523,     0.22623,     0.22723,     0.22823,     0.22923,     0.23023,     0.23123,     0.23223,     0.23323,     0.23423,     0.23524,     0.23624,     0.23724,     0.23824,     0.23924,\n",
      "           0.24024,     0.24124,     0.24224,     0.24324,     0.24424,     0.24525,     0.24625,     0.24725,     0.24825,     0.24925,     0.25025,     0.25125,     0.25225,     0.25325,     0.25425,     0.25526,     0.25626,     0.25726,     0.25826,     0.25926,     0.26026,     0.26126,     0.26226,     0.26326,\n",
      "           0.26426,     0.26527,     0.26627,     0.26727,     0.26827,     0.26927,     0.27027,     0.27127,     0.27227,     0.27327,     0.27427,     0.27528,     0.27628,     0.27728,     0.27828,     0.27928,     0.28028,     0.28128,     0.28228,     0.28328,     0.28428,     0.28529,     0.28629,     0.28729,\n",
      "           0.28829,     0.28929,     0.29029,     0.29129,     0.29229,     0.29329,     0.29429,      0.2953,      0.2963,      0.2973,      0.2983,      0.2993,      0.3003,      0.3013,      0.3023,      0.3033,      0.3043,     0.30531,     0.30631,     0.30731,     0.30831,     0.30931,     0.31031,     0.31131,\n",
      "           0.31231,     0.31331,     0.31431,     0.31532,     0.31632,     0.31732,     0.31832,     0.31932,     0.32032,     0.32132,     0.32232,     0.32332,     0.32432,     0.32533,     0.32633,     0.32733,     0.32833,     0.32933,     0.33033,     0.33133,     0.33233,     0.33333,     0.33433,     0.33534,\n",
      "           0.33634,     0.33734,     0.33834,     0.33934,     0.34034,     0.34134,     0.34234,     0.34334,     0.34434,     0.34535,     0.34635,     0.34735,     0.34835,     0.34935,     0.35035,     0.35135,     0.35235,     0.35335,     0.35435,     0.35536,     0.35636,     0.35736,     0.35836,     0.35936,\n",
      "           0.36036,     0.36136,     0.36236,     0.36336,     0.36436,     0.36537,     0.36637,     0.36737,     0.36837,     0.36937,     0.37037,     0.37137,     0.37237,     0.37337,     0.37437,     0.37538,     0.37638,     0.37738,     0.37838,     0.37938,     0.38038,     0.38138,     0.38238,     0.38338,\n",
      "           0.38438,     0.38539,     0.38639,     0.38739,     0.38839,     0.38939,     0.39039,     0.39139,     0.39239,     0.39339,     0.39439,      0.3954,      0.3964,      0.3974,      0.3984,      0.3994,      0.4004,      0.4014,      0.4024,      0.4034,      0.4044,     0.40541,     0.40641,     0.40741,\n",
      "           0.40841,     0.40941,     0.41041,     0.41141,     0.41241,     0.41341,     0.41441,     0.41542,     0.41642,     0.41742,     0.41842,     0.41942,     0.42042,     0.42142,     0.42242,     0.42342,     0.42442,     0.42543,     0.42643,     0.42743,     0.42843,     0.42943,     0.43043,     0.43143,\n",
      "           0.43243,     0.43343,     0.43443,     0.43544,     0.43644,     0.43744,     0.43844,     0.43944,     0.44044,     0.44144,     0.44244,     0.44344,     0.44444,     0.44545,     0.44645,     0.44745,     0.44845,     0.44945,     0.45045,     0.45145,     0.45245,     0.45345,     0.45445,     0.45546,\n",
      "           0.45646,     0.45746,     0.45846,     0.45946,     0.46046,     0.46146,     0.46246,     0.46346,     0.46446,     0.46547,     0.46647,     0.46747,     0.46847,     0.46947,     0.47047,     0.47147,     0.47247,     0.47347,     0.47447,     0.47548,     0.47648,     0.47748,     0.47848,     0.47948,\n",
      "           0.48048,     0.48148,     0.48248,     0.48348,     0.48448,     0.48549,     0.48649,     0.48749,     0.48849,     0.48949,     0.49049,     0.49149,     0.49249,     0.49349,     0.49449,      0.4955,      0.4965,      0.4975,      0.4985,      0.4995,      0.5005,      0.5015,      0.5025,      0.5035,\n",
      "            0.5045,     0.50551,     0.50651,     0.50751,     0.50851,     0.50951,     0.51051,     0.51151,     0.51251,     0.51351,     0.51451,     0.51552,     0.51652,     0.51752,     0.51852,     0.51952,     0.52052,     0.52152,     0.52252,     0.52352,     0.52452,     0.52553,     0.52653,     0.52753,\n",
      "           0.52853,     0.52953,     0.53053,     0.53153,     0.53253,     0.53353,     0.53453,     0.53554,     0.53654,     0.53754,     0.53854,     0.53954,     0.54054,     0.54154,     0.54254,     0.54354,     0.54454,     0.54555,     0.54655,     0.54755,     0.54855,     0.54955,     0.55055,     0.55155,\n",
      "           0.55255,     0.55355,     0.55455,     0.55556,     0.55656,     0.55756,     0.55856,     0.55956,     0.56056,     0.56156,     0.56256,     0.56356,     0.56456,     0.56557,     0.56657,     0.56757,     0.56857,     0.56957,     0.57057,     0.57157,     0.57257,     0.57357,     0.57457,     0.57558,\n",
      "           0.57658,     0.57758,     0.57858,     0.57958,     0.58058,     0.58158,     0.58258,     0.58358,     0.58458,     0.58559,     0.58659,     0.58759,     0.58859,     0.58959,     0.59059,     0.59159,     0.59259,     0.59359,     0.59459,      0.5956,      0.5966,      0.5976,      0.5986,      0.5996,\n",
      "            0.6006,      0.6016,      0.6026,      0.6036,      0.6046,     0.60561,     0.60661,     0.60761,     0.60861,     0.60961,     0.61061,     0.61161,     0.61261,     0.61361,     0.61461,     0.61562,     0.61662,     0.61762,     0.61862,     0.61962,     0.62062,     0.62162,     0.62262,     0.62362,\n",
      "           0.62462,     0.62563,     0.62663,     0.62763,     0.62863,     0.62963,     0.63063,     0.63163,     0.63263,     0.63363,     0.63463,     0.63564,     0.63664,     0.63764,     0.63864,     0.63964,     0.64064,     0.64164,     0.64264,     0.64364,     0.64464,     0.64565,     0.64665,     0.64765,\n",
      "           0.64865,     0.64965,     0.65065,     0.65165,     0.65265,     0.65365,     0.65465,     0.65566,     0.65666,     0.65766,     0.65866,     0.65966,     0.66066,     0.66166,     0.66266,     0.66366,     0.66466,     0.66567,     0.66667,     0.66767,     0.66867,     0.66967,     0.67067,     0.67167,\n",
      "           0.67267,     0.67367,     0.67467,     0.67568,     0.67668,     0.67768,     0.67868,     0.67968,     0.68068,     0.68168,     0.68268,     0.68368,     0.68468,     0.68569,     0.68669,     0.68769,     0.68869,     0.68969,     0.69069,     0.69169,     0.69269,     0.69369,     0.69469,      0.6957,\n",
      "            0.6967,      0.6977,      0.6987,      0.6997,      0.7007,      0.7017,      0.7027,      0.7037,      0.7047,     0.70571,     0.70671,     0.70771,     0.70871,     0.70971,     0.71071,     0.71171,     0.71271,     0.71371,     0.71471,     0.71572,     0.71672,     0.71772,     0.71872,     0.71972,\n",
      "           0.72072,     0.72172,     0.72272,     0.72372,     0.72472,     0.72573,     0.72673,     0.72773,     0.72873,     0.72973,     0.73073,     0.73173,     0.73273,     0.73373,     0.73473,     0.73574,     0.73674,     0.73774,     0.73874,     0.73974,     0.74074,     0.74174,     0.74274,     0.74374,\n",
      "           0.74474,     0.74575,     0.74675,     0.74775,     0.74875,     0.74975,     0.75075,     0.75175,     0.75275,     0.75375,     0.75475,     0.75576,     0.75676,     0.75776,     0.75876,     0.75976,     0.76076,     0.76176,     0.76276,     0.76376,     0.76476,     0.76577,     0.76677,     0.76777,\n",
      "           0.76877,     0.76977,     0.77077,     0.77177,     0.77277,     0.77377,     0.77477,     0.77578,     0.77678,     0.77778,     0.77878,     0.77978,     0.78078,     0.78178,     0.78278,     0.78378,     0.78478,     0.78579,     0.78679,     0.78779,     0.78879,     0.78979,     0.79079,     0.79179,\n",
      "           0.79279,     0.79379,     0.79479,      0.7958,      0.7968,      0.7978,      0.7988,      0.7998,      0.8008,      0.8018,      0.8028,      0.8038,      0.8048,     0.80581,     0.80681,     0.80781,     0.80881,     0.80981,     0.81081,     0.81181,     0.81281,     0.81381,     0.81481,     0.81582,\n",
      "           0.81682,     0.81782,     0.81882,     0.81982,     0.82082,     0.82182,     0.82282,     0.82382,     0.82482,     0.82583,     0.82683,     0.82783,     0.82883,     0.82983,     0.83083,     0.83183,     0.83283,     0.83383,     0.83483,     0.83584,     0.83684,     0.83784,     0.83884,     0.83984,\n",
      "           0.84084,     0.84184,     0.84284,     0.84384,     0.84484,     0.84585,     0.84685,     0.84785,     0.84885,     0.84985,     0.85085,     0.85185,     0.85285,     0.85385,     0.85485,     0.85586,     0.85686,     0.85786,     0.85886,     0.85986,     0.86086,     0.86186,     0.86286,     0.86386,\n",
      "           0.86486,     0.86587,     0.86687,     0.86787,     0.86887,     0.86987,     0.87087,     0.87187,     0.87287,     0.87387,     0.87487,     0.87588,     0.87688,     0.87788,     0.87888,     0.87988,     0.88088,     0.88188,     0.88288,     0.88388,     0.88488,     0.88589,     0.88689,     0.88789,\n",
      "           0.88889,     0.88989,     0.89089,     0.89189,     0.89289,     0.89389,     0.89489,      0.8959,      0.8969,      0.8979,      0.8989,      0.8999,      0.9009,      0.9019,      0.9029,      0.9039,      0.9049,     0.90591,     0.90691,     0.90791,     0.90891,     0.90991,     0.91091,     0.91191,\n",
      "           0.91291,     0.91391,     0.91491,     0.91592,     0.91692,     0.91792,     0.91892,     0.91992,     0.92092,     0.92192,     0.92292,     0.92392,     0.92492,     0.92593,     0.92693,     0.92793,     0.92893,     0.92993,     0.93093,     0.93193,     0.93293,     0.93393,     0.93493,     0.93594,\n",
      "           0.93694,     0.93794,     0.93894,     0.93994,     0.94094,     0.94194,     0.94294,     0.94394,     0.94494,     0.94595,     0.94695,     0.94795,     0.94895,     0.94995,     0.95095,     0.95195,     0.95295,     0.95395,     0.95495,     0.95596,     0.95696,     0.95796,     0.95896,     0.95996,\n",
      "           0.96096,     0.96196,     0.96296,     0.96396,     0.96496,     0.96597,     0.96697,     0.96797,     0.96897,     0.96997,     0.97097,     0.97197,     0.97297,     0.97397,     0.97497,     0.97598,     0.97698,     0.97798,     0.97898,     0.97998,     0.98098,     0.98198,     0.98298,     0.98398,\n",
      "           0.98498,     0.98599,     0.98699,     0.98799,     0.98899,     0.98999,     0.99099,     0.99199,     0.99299,     0.99399,     0.99499,       0.996,       0.997,       0.998,       0.999,           1]), array([[    0.98319,     0.98319,     0.98319,     0.98319,     0.98319,     0.98319,     0.98319,     0.98319,     0.98319,     0.98319,     0.98319,     0.98319,     0.98319,     0.98319,     0.98319,     0.98319,     0.98319,     0.98319,     0.98319,     0.98319,     0.97778,     0.97479,     0.97479,\n",
      "            0.97479,     0.97479,     0.97479,     0.97479,     0.97479,     0.97479,     0.97479,     0.97479,     0.97479,     0.97479,     0.97479,     0.97479,     0.97479,     0.97479,     0.97479,     0.97479,     0.97479,     0.97479,     0.97479,     0.97479,     0.97479,     0.97479,     0.97479,\n",
      "            0.97479,     0.97479,     0.97479,     0.97479,     0.97479,     0.97479,     0.97479,     0.97479,     0.97479,     0.97479,     0.97479,     0.97479,     0.97479,     0.97479,     0.97479,     0.97479,     0.97479,     0.97479,     0.97479,     0.97479,     0.97479,     0.97479,     0.97228,\n",
      "            0.96845,     0.96639,     0.96639,     0.96639,     0.96639,     0.96639,     0.96639,     0.96639,     0.96639,     0.96639,     0.96639,     0.96639,     0.96639,     0.96639,     0.96639,     0.96639,     0.96639,     0.96639,     0.96639,     0.96639,     0.96571,     0.96457,     0.96344,\n",
      "             0.9623,     0.96116,     0.96003,     0.95889,     0.95798,     0.95692,     0.94958,     0.94958,     0.94958,     0.94958,     0.94958,     0.94958,     0.94958,     0.94958,     0.94958,     0.94958,     0.94958,     0.94958,     0.94958,     0.94958,     0.94958,     0.94958,     0.94958,\n",
      "            0.94958,     0.94958,     0.94958,     0.94958,     0.94958,     0.94958,     0.94958,     0.94958,     0.94958,     0.94958,     0.94958,     0.94958,     0.94958,     0.94958,     0.94958,     0.94958,     0.94958,     0.94958,     0.94958,     0.94958,     0.94958,     0.94958,     0.94958,\n",
      "            0.94958,     0.94958,     0.94958,     0.94958,     0.94958,     0.94958,     0.94958,     0.94958,     0.94958,     0.94958,     0.94958,     0.94958,     0.94958,     0.94958,     0.94958,     0.94958,     0.94958,     0.94958,     0.94958,     0.94958,     0.94958,     0.94958,     0.94958,\n",
      "            0.94958,     0.94958,     0.94958,     0.94958,     0.94958,     0.94958,     0.94958,     0.94958,     0.94958,     0.94958,     0.94958,     0.94958,     0.94958,     0.94958,     0.94958,     0.94958,     0.94958,     0.94958,     0.94958,     0.94958,     0.94958,     0.94958,     0.94958,\n",
      "            0.94958,     0.94958,     0.94958,     0.94958,     0.94958,     0.94958,     0.94958,     0.94958,     0.94958,     0.94958,     0.94958,     0.94958,     0.94958,     0.94958,     0.94958,     0.94958,     0.94958,     0.94958,     0.94958,     0.94958,     0.94958,     0.94958,     0.94958,\n",
      "            0.94958,     0.94958,     0.94958,     0.94958,     0.94958,     0.94958,     0.94958,     0.94958,     0.94958,     0.94958,     0.94958,     0.94958,     0.94958,     0.94958,     0.94958,     0.94958,     0.94958,     0.94958,     0.94931,     0.94886,     0.94841,     0.94797,     0.94752,\n",
      "            0.94707,     0.94662,     0.94617,     0.94572,     0.94527,     0.94482,     0.94437,     0.94393,     0.94348,     0.94303,     0.94258,     0.94213,     0.94168,     0.94123,     0.94071,     0.94018,     0.93965,     0.93912,      0.9386,     0.93807,     0.93754,     0.93701,     0.93648,\n",
      "            0.93595,     0.93542,     0.93489,     0.93436,     0.93383,      0.9333,     0.93277,     0.93277,     0.93277,     0.93277,     0.93277,     0.93277,     0.93277,     0.93277,     0.93277,     0.93277,     0.93277,     0.93277,     0.93277,     0.93277,     0.93277,     0.93277,     0.93277,\n",
      "            0.93277,     0.93277,     0.93277,     0.93277,     0.93277,     0.93277,     0.93277,     0.93277,     0.93277,     0.93277,     0.93277,     0.93277,     0.93277,     0.93277,     0.93277,     0.93277,     0.93277,     0.93277,     0.93277,     0.93277,     0.93277,     0.93277,     0.93277,\n",
      "            0.93277,     0.93277,     0.93277,     0.93277,     0.93277,     0.93277,     0.93277,     0.93277,     0.93277,     0.93277,     0.93277,     0.93277,     0.93277,     0.93277,     0.93277,     0.93277,     0.93277,     0.93277,     0.93277,     0.93277,     0.93277,     0.93277,     0.93277,\n",
      "            0.93277,     0.93277,     0.93277,     0.93277,     0.93277,     0.93277,     0.93277,     0.93277,     0.93277,     0.93277,     0.93277,     0.93277,     0.93277,     0.93277,     0.93277,     0.93277,     0.93277,     0.93277,     0.93277,     0.93277,     0.93277,     0.93277,     0.93277,\n",
      "            0.93277,     0.93277,     0.93277,     0.93277,     0.93277,     0.93277,     0.93277,     0.93277,     0.93277,     0.93277,     0.93277,     0.93277,     0.93277,     0.93277,     0.93277,     0.93277,     0.93277,     0.93277,     0.93277,     0.93277,     0.93277,     0.93277,     0.93277,\n",
      "            0.93277,     0.93277,     0.93277,     0.93277,     0.93277,     0.93277,     0.93277,     0.93277,     0.93277,     0.93277,     0.93277,     0.93277,     0.93277,     0.93277,     0.93277,     0.93277,     0.93277,     0.93277,     0.93277,     0.93277,     0.93277,     0.93277,     0.93277,\n",
      "            0.93277,     0.93277,     0.93277,     0.93277,     0.93277,     0.93277,     0.93277,     0.93266,     0.93212,     0.93158,     0.93104,      0.9305,     0.92996,     0.92942,     0.92888,     0.92834,      0.9278,     0.92726,     0.92672,     0.92618,     0.92564,      0.9251,     0.92456,\n",
      "            0.91966,     0.91597,     0.91597,     0.91596,     0.91567,     0.91537,     0.91508,     0.91479,      0.9145,      0.9142,     0.91391,     0.91362,     0.91333,     0.91303,     0.91274,     0.91245,     0.91216,     0.91186,     0.91157,     0.91128,     0.91099,     0.91069,      0.9104,\n",
      "            0.91011,     0.90982,     0.90952,     0.90923,     0.90894,     0.90865,     0.90835,     0.90806,     0.90777,     0.90749,     0.90724,     0.90699,     0.90674,      0.9065,     0.90625,       0.906,     0.90575,      0.9055,     0.90525,       0.905,     0.90476,     0.90451,     0.90426,\n",
      "            0.90401,     0.90376,     0.90351,     0.90327,     0.90302,     0.90277,     0.90252,     0.90227,     0.90202,     0.90177,     0.90153,     0.90128,     0.90103,     0.90078,     0.90053,     0.90028,     0.90004,     0.89979,     0.89954,     0.89929,     0.89887,     0.89825,     0.89764,\n",
      "            0.89703,     0.89641,      0.8958,     0.89519,     0.89457,     0.89396,     0.89334,     0.89273,     0.89212,      0.8915,     0.89089,      0.8905,     0.89018,     0.88986,     0.88953,     0.88921,     0.88889,     0.88857,     0.88824,     0.88792,      0.8876,     0.88727,     0.88695,\n",
      "            0.88663,     0.88631,     0.88598,     0.88566,     0.88534,     0.88501,     0.88469,     0.88437,     0.88405,     0.88372,      0.8834,     0.88308,     0.88275,     0.88243,      0.8821,     0.88176,     0.88142,     0.88108,     0.88074,      0.8804,     0.88007,     0.87973,     0.87939,\n",
      "            0.87905,     0.87871,     0.87837,     0.87803,      0.8777,     0.87736,     0.87702,     0.87668,     0.87634,       0.876,     0.87567,     0.87533,     0.87499,     0.87465,     0.87431,     0.87397,     0.87364,      0.8733,     0.87297,     0.87263,     0.87229,     0.87196,     0.87162,\n",
      "            0.87129,     0.87095,     0.87061,     0.87028,     0.86994,     0.86961,     0.86927,     0.86894,      0.8686,     0.86826,     0.86793,     0.86759,     0.86726,     0.86692,     0.86658,     0.86625,     0.86591,     0.86558,     0.86339,     0.86103,     0.85866,     0.85447,     0.84864,\n",
      "            0.84821,     0.84778,     0.84735,     0.84692,     0.84648,     0.84605,     0.84562,     0.84519,     0.84476,     0.84433,      0.8439,     0.84347,     0.84303,      0.8426,     0.84217,     0.84174,     0.84131,     0.84088,     0.84045,     0.83774,     0.83424,     0.83158,     0.83054,\n",
      "            0.82951,     0.82847,     0.82744,      0.8264,     0.82537,     0.82433,     0.82323,     0.82191,     0.82059,     0.81926,     0.81794,     0.81662,     0.81529,     0.81486,     0.81456,     0.81425,     0.81395,     0.81365,     0.81334,     0.81304,     0.81273,     0.81243,     0.81213,\n",
      "            0.81182,     0.81152,     0.81121,     0.81091,     0.81061,      0.8103,        0.81,      0.8097,     0.80939,     0.80909,     0.80878,     0.80848,     0.80818,     0.80787,     0.80757,     0.80727,     0.80696,     0.80467,     0.79778,     0.79617,     0.79457,     0.79297,     0.79136,\n",
      "            0.78967,     0.78718,     0.78469,      0.7822,     0.77868,     0.77476,     0.77248,     0.77139,      0.7703,     0.76921,     0.76812,     0.76703,     0.76594,     0.76485,     0.76372,     0.76257,     0.76142,     0.76028,     0.75913,     0.75799,     0.75684,     0.75577,     0.75477,\n",
      "            0.75376,     0.75276,     0.75175,     0.75075,     0.74975,     0.74874,     0.74354,     0.73019,     0.72903,     0.72788,     0.72673,     0.72557,     0.72442,     0.72327,     0.72194,     0.72044,     0.71894,     0.71744,     0.71594,     0.71444,     0.71159,     0.70858,     0.70578,\n",
      "            0.70472,     0.70367,     0.70262,     0.70156,     0.70051,     0.69946,     0.69841,      0.6972,     0.69483,     0.69247,     0.69011,     0.68484,     0.68051,     0.68014,     0.67978,     0.67941,     0.67904,     0.67868,     0.67831,     0.67794,     0.67758,     0.67721,     0.67684,\n",
      "            0.67648,     0.67611,     0.67575,     0.67538,     0.67501,     0.67465,     0.67428,     0.67391,     0.67355,     0.67318,     0.67281,     0.67245,     0.66983,     0.66507,     0.66242,     0.66049,     0.65856,     0.65663,     0.65504,     0.65398,     0.65292,     0.65186,      0.6508,\n",
      "            0.64974,     0.64868,     0.64761,     0.64507,     0.64089,     0.62977,     0.62099,     0.61949,       0.618,      0.6165,     0.61501,     0.61351,     0.60415,     0.60298,      0.6018,     0.60063,     0.59945,     0.59828,      0.5971,     0.59306,     0.58768,     0.58461,     0.58155,\n",
      "            0.57728,     0.57149,     0.56731,     0.56314,     0.54607,     0.54149,     0.53603,     0.52882,     0.52653,     0.52424,     0.52195,     0.51162,     0.50969,     0.50776,     0.50584,     0.50299,     0.49557,     0.49324,     0.49092,      0.4886,     0.48026,     0.47236,     0.46956,\n",
      "             0.4682,     0.46684,     0.46549,     0.46413,     0.46277,     0.45721,     0.44681,     0.43594,     0.42959,     0.41343,      0.4061,     0.40066,      0.3961,      0.3933,      0.3911,      0.3889,     0.38669,     0.37682,     0.37439,     0.37197,     0.36963,     0.36825,     0.36688,\n",
      "             0.3655,     0.36412,     0.36275,     0.36137,     0.35692,     0.35052,     0.33266,     0.31837,      0.3144,     0.30723,      0.2972,     0.29052,     0.28421,     0.27939,     0.26904,     0.26495,     0.26096,     0.25166,     0.24972,     0.24777,     0.24583,     0.24389,     0.23461,\n",
      "            0.23223,     0.22985,     0.22747,     0.21575,     0.20993,     0.20892,     0.20792,     0.20691,      0.2059,     0.20489,     0.20389,     0.20288,     0.20187,     0.19947,     0.19673,       0.194,     0.19087,     0.18761,     0.18368,     0.17642,     0.17351,     0.17059,     0.16734,\n",
      "            0.16189,     0.15713,     0.15286,     0.15035,      0.1489,     0.14746,     0.14601,     0.14456,     0.14311,     0.13912,     0.13458,     0.12877,     0.12497,     0.12296,     0.12095,     0.11893,     0.11605,     0.11162,     0.10654,     0.10074,    0.096928,     0.09312,    0.090217,\n",
      "           0.087512,    0.084808,    0.075259,    0.074596,    0.073932,    0.073269,    0.072605,    0.071942,    0.071278,    0.070615,    0.069951,    0.069288,    0.068624,    0.067961,    0.067297,    0.065123,    0.062768,    0.060414,    0.058514,    0.057561,    0.056608,    0.055655,    0.054702,\n",
      "           0.053749,    0.052796,    0.051843,    0.050889,    0.041917,    0.041347,    0.040777,    0.040208,    0.039638,    0.039068,    0.038498,    0.037929,    0.037359,    0.036789,    0.036219,     0.03565,     0.03508,     0.03451,    0.033941,    0.033339,    0.032694,     0.03205,    0.031405,\n",
      "            0.03076,    0.030116,    0.029471,    0.028826,    0.028181,    0.027537,    0.026892,    0.026247,    0.025603,     0.02496,    0.024321,    0.023682,    0.023043,    0.022404,    0.021765,    0.021126,    0.020487,    0.019848,    0.019209,     0.01857,    0.017931,    0.017292,    0.016524,\n",
      "           0.015348,    0.014172,    0.012996,     0.01182,    0.010644,   0.0094683,           0,           0,           0,           0,           0,           0,           0,           0,           0,           0,           0,           0,           0,           0,           0,           0,           0,\n",
      "                  0,           0,           0,           0,           0,           0,           0,           0,           0,           0,           0,           0,           0,           0,           0,           0,           0,           0,           0,           0,           0,           0,           0,\n",
      "                  0,           0,           0,           0,           0,           0,           0,           0,           0,           0,           0]]), 'Confidence', 'Recall']]\n",
      "fitness: np.float64(0.6819250660469478)\n",
      "keys: ['metrics/precision(B)', 'metrics/recall(B)', 'metrics/mAP50(B)', 'metrics/mAP50-95(B)']\n",
      "maps: array([    0.64922])\n",
      "names: {0: 'car'}\n",
      "nt_per_class: array([119])\n",
      "nt_per_image: array([71])\n",
      "results_dict: {'metrics/precision(B)': np.float64(0.9828974980472991), 'metrics/recall(B)': np.float64(0.9327731092436975), 'metrics/mAP50(B)': np.float64(0.9762513133195592), 'metrics/mAP50-95(B)': np.float64(0.6492221496833243), 'fitness': np.float64(0.6819250660469478)}\n",
      "save_dir: WindowsPath('runs/detect/car_detection_modelv112')\n",
      "speed: {'preprocess': 0.9541197181482549, 'inference': 61.473700000033844, 'loss': 9.436609590767134e-05, 'postprocess': 6.5715661976227375}\n",
      "stats: {'tp': [], 'conf': [], 'pred_cls': [], 'target_cls': [], 'target_img': []}\n",
      "task: 'detect'\n"
     ]
    }
   ],
   "source": [
    "# Evaluate the model on the validation set\n",
    "metrics = model.val()\n",
    "print(metrics)"
   ]
  },
  {
   "cell_type": "code",
   "execution_count": 6,
   "id": "39490c4e-45d3-4701-99d5-2f63d5f5f7e8",
   "metadata": {},
   "outputs": [
    {
     "name": "stdout",
     "output_type": "stream",
     "text": [
      "\n",
      "image 1/1 C:\\Users\\ervin\\Documents\\img-assignment\\kaggle\\versions\\2\\data\\testing_images\\vid_5_26620.jpg: 384x640 1 car, 227.2ms\n",
      "Speed: 2.5ms preprocess, 227.2ms inference, 2.2ms postprocess per image at shape (1, 3, 384, 640)\n"
     ]
    }
   ],
   "source": [
    "test_image_path = os.path.join(test_data, 'vid_5_26620.jpg')\n",
    "results = model(test_image_path)\n",
    "\n",
    "results[0].show()"
   ]
  },
  {
   "cell_type": "code",
   "execution_count": 7,
   "id": "fcdc3427-1922-4305-b693-ff20d75fb8c5",
   "metadata": {},
   "outputs": [
    {
     "name": "stdout",
     "output_type": "stream",
     "text": [
      "\n",
      "image 1/1 C:\\Users\\ervin\\Documents\\img-assignment\\kaggle\\versions\\2\\data\\testing_images\\vid_5_26660.jpg: 384x640 1 car, 123.4ms\n",
      "Speed: 3.8ms preprocess, 123.4ms inference, 1.8ms postprocess per image at shape (1, 3, 384, 640)\n",
      "\n",
      "image 1/1 C:\\Users\\ervin\\Documents\\img-assignment\\kaggle\\versions\\2\\data\\testing_images\\vid_5_28580.jpg: 384x640 (no detections), 159.0ms\n",
      "Speed: 6.4ms preprocess, 159.0ms inference, 1.3ms postprocess per image at shape (1, 3, 384, 640)\n",
      "\n",
      "image 1/1 C:\\Users\\ervin\\Documents\\img-assignment\\kaggle\\versions\\2\\data\\testing_images\\vid_5_31260.jpg: 384x640 (no detections), 273.0ms\n",
      "Speed: 5.9ms preprocess, 273.0ms inference, 1.1ms postprocess per image at shape (1, 3, 384, 640)\n",
      "\n",
      "image 1/1 C:\\Users\\ervin\\Documents\\img-assignment\\kaggle\\versions\\2\\data\\testing_images\\vid_5_25180.jpg: 384x640 (no detections), 495.4ms\n",
      "Speed: 4.7ms preprocess, 495.4ms inference, 1.6ms postprocess per image at shape (1, 3, 384, 640)\n",
      "\n",
      "image 1/1 C:\\Users\\ervin\\Documents\\img-assignment\\kaggle\\versions\\2\\data\\testing_images\\vid_5_27920.jpg: 384x640 1 car, 226.2ms\n",
      "Speed: 13.6ms preprocess, 226.2ms inference, 2.0ms postprocess per image at shape (1, 3, 384, 640)\n",
      "\n",
      "image 1/1 C:\\Users\\ervin\\Documents\\img-assignment\\kaggle\\versions\\2\\data\\testing_images\\vid_5_25140.jpg: 384x640 (no detections), 236.1ms\n",
      "Speed: 14.8ms preprocess, 236.1ms inference, 1.1ms postprocess per image at shape (1, 3, 384, 640)\n",
      "\n",
      "image 1/1 C:\\Users\\ervin\\Documents\\img-assignment\\kaggle\\versions\\2\\data\\testing_images\\vid_5_26640.jpg: 384x640 3 cars, 258.5ms\n",
      "Speed: 11.1ms preprocess, 258.5ms inference, 5.6ms postprocess per image at shape (1, 3, 384, 640)\n",
      "\n",
      "image 1/1 C:\\Users\\ervin\\Documents\\img-assignment\\kaggle\\versions\\2\\data\\testing_images\\vid_5_440.jpg: 384x640 1 car, 218.4ms\n",
      "Speed: 5.2ms preprocess, 218.4ms inference, 2.2ms postprocess per image at shape (1, 3, 384, 640)\n",
      "\n",
      "image 1/1 C:\\Users\\ervin\\Documents\\img-assignment\\kaggle\\versions\\2\\data\\testing_images\\vid_5_31560.jpg: 384x640 1 car, 331.2ms\n",
      "Speed: 11.0ms preprocess, 331.2ms inference, 1.8ms postprocess per image at shape (1, 3, 384, 640)\n",
      "\n",
      "image 1/1 C:\\Users\\ervin\\Documents\\img-assignment\\kaggle\\versions\\2\\data\\testing_images\\vid_5_27500.jpg: 384x640 1 car, 233.8ms\n",
      "Speed: 4.6ms preprocess, 233.8ms inference, 3.3ms postprocess per image at shape (1, 3, 384, 640)\n",
      "\n",
      "image 1/1 C:\\Users\\ervin\\Documents\\img-assignment\\kaggle\\versions\\2\\data\\testing_images\\vid_5_30640.jpg: 384x640 1 car, 251.3ms\n",
      "Speed: 6.7ms preprocess, 251.3ms inference, 1.8ms postprocess per image at shape (1, 3, 384, 640)\n",
      "\n",
      "image 1/1 C:\\Users\\ervin\\Documents\\img-assignment\\kaggle\\versions\\2\\data\\testing_images\\vid_5_26700.jpg: 384x640 2 cars, 286.7ms\n",
      "Speed: 7.2ms preprocess, 286.7ms inference, 2.1ms postprocess per image at shape (1, 3, 384, 640)\n",
      "\n",
      "image 1/1 C:\\Users\\ervin\\Documents\\img-assignment\\kaggle\\versions\\2\\data\\testing_images\\vid_5_28680.jpg: 384x640 (no detections), 234.5ms\n",
      "Speed: 7.9ms preprocess, 234.5ms inference, 1.1ms postprocess per image at shape (1, 3, 384, 640)\n",
      "\n",
      "image 1/1 C:\\Users\\ervin\\Documents\\img-assignment\\kaggle\\versions\\2\\data\\testing_images\\vid_5_29100.jpg: 384x640 (no detections), 373.9ms\n",
      "Speed: 10.7ms preprocess, 373.9ms inference, 1.3ms postprocess per image at shape (1, 3, 384, 640)\n",
      "\n",
      "image 1/1 C:\\Users\\ervin\\Documents\\img-assignment\\kaggle\\versions\\2\\data\\testing_images\\vid_5_25220.jpg: 384x640 (no detections), 257.8ms\n",
      "Speed: 4.3ms preprocess, 257.8ms inference, 2.4ms postprocess per image at shape (1, 3, 384, 640)\n",
      "\n",
      "image 1/1 C:\\Users\\ervin\\Documents\\img-assignment\\kaggle\\versions\\2\\data\\testing_images\\vid_5_27780.jpg: 384x640 (no detections), 470.9ms\n",
      "Speed: 4.4ms preprocess, 470.9ms inference, 1.1ms postprocess per image at shape (1, 3, 384, 640)\n",
      "\n",
      "image 1/1 C:\\Users\\ervin\\Documents\\img-assignment\\kaggle\\versions\\2\\data\\testing_images\\vid_5_28440.jpg: 384x640 1 car, 299.4ms\n",
      "Speed: 11.8ms preprocess, 299.4ms inference, 2.5ms postprocess per image at shape (1, 3, 384, 640)\n",
      "\n",
      "image 1/1 C:\\Users\\ervin\\Documents\\img-assignment\\kaggle\\versions\\2\\data\\testing_images\\vid_5_27960.jpg: 384x640 (no detections), 299.9ms\n",
      "Speed: 21.7ms preprocess, 299.9ms inference, 1.1ms postprocess per image at shape (1, 3, 384, 640)\n",
      "\n",
      "image 1/1 C:\\Users\\ervin\\Documents\\img-assignment\\kaggle\\versions\\2\\data\\testing_images\\vid_5_26800.jpg: 384x640 3 cars, 235.2ms\n",
      "Speed: 9.6ms preprocess, 235.2ms inference, 2.9ms postprocess per image at shape (1, 3, 384, 640)\n",
      "\n",
      "image 1/1 C:\\Users\\ervin\\Documents\\img-assignment\\kaggle\\versions\\2\\data\\testing_images\\vid_5_26740.jpg: 384x640 3 cars, 287.5ms\n",
      "Speed: 9.4ms preprocess, 287.5ms inference, 1.8ms postprocess per image at shape (1, 3, 384, 640)\n",
      "\n",
      "image 1/1 C:\\Users\\ervin\\Documents\\img-assignment\\kaggle\\versions\\2\\data\\testing_images\\vid_5_27840.jpg: 384x640 1 car, 348.4ms\n",
      "Speed: 22.0ms preprocess, 348.4ms inference, 2.2ms postprocess per image at shape (1, 3, 384, 640)\n",
      "\n",
      "image 1/1 C:\\Users\\ervin\\Documents\\img-assignment\\kaggle\\versions\\2\\data\\testing_images\\vid_5_31600.jpg: 384x640 2 cars, 310.3ms\n",
      "Speed: 6.7ms preprocess, 310.3ms inference, 2.4ms postprocess per image at shape (1, 3, 384, 640)\n",
      "\n",
      "image 1/1 C:\\Users\\ervin\\Documents\\img-assignment\\kaggle\\versions\\2\\data\\testing_images\\vid_5_28700.jpg: 384x640 (no detections), 492.5ms\n",
      "Speed: 12.1ms preprocess, 492.5ms inference, 1.0ms postprocess per image at shape (1, 3, 384, 640)\n",
      "\n",
      "image 1/1 C:\\Users\\ervin\\Documents\\img-assignment\\kaggle\\versions\\2\\data\\testing_images\\vid_5_27460.jpg: 384x640 2 cars, 276.5ms\n",
      "Speed: 12.3ms preprocess, 276.5ms inference, 5.6ms postprocess per image at shape (1, 3, 384, 640)\n",
      "\n",
      "image 1/1 C:\\Users\\ervin\\Documents\\img-assignment\\kaggle\\versions\\2\\data\\testing_images\\vid_5_29520.jpg: 384x640 (no detections), 360.8ms\n",
      "Speed: 15.2ms preprocess, 360.8ms inference, 1.0ms postprocess per image at shape (1, 3, 384, 640)\n",
      "\n",
      "image 1/1 C:\\Users\\ervin\\Documents\\img-assignment\\kaggle\\versions\\2\\data\\testing_images\\vid_5_30760.jpg: 384x640 1 car, 378.3ms\n",
      "Speed: 5.2ms preprocess, 378.3ms inference, 1.7ms postprocess per image at shape (1, 3, 384, 640)\n",
      "\n",
      "image 1/1 C:\\Users\\ervin\\Documents\\img-assignment\\kaggle\\versions\\2\\data\\testing_images\\vid_5_28500.jpg: 384x640 1 car, 606.2ms\n",
      "Speed: 26.7ms preprocess, 606.2ms inference, 1.9ms postprocess per image at shape (1, 3, 384, 640)\n",
      "\n",
      "image 1/1 C:\\Users\\ervin\\Documents\\img-assignment\\kaggle\\versions\\2\\data\\testing_images\\vid_5_26820.jpg: 384x640 2 cars, 380.7ms\n",
      "Speed: 8.1ms preprocess, 380.7ms inference, 2.6ms postprocess per image at shape (1, 3, 384, 640)\n",
      "\n",
      "image 1/1 C:\\Users\\ervin\\Documents\\img-assignment\\kaggle\\versions\\2\\data\\testing_images\\vid_5_31120.jpg: 384x640 2 cars, 283.9ms\n",
      "Speed: 19.9ms preprocess, 283.9ms inference, 2.8ms postprocess per image at shape (1, 3, 384, 640)\n",
      "\n",
      "image 1/1 C:\\Users\\ervin\\Documents\\img-assignment\\kaggle\\versions\\2\\data\\testing_images\\vid_5_28040.jpg: 384x640 (no detections), 403.3ms\n",
      "Speed: 14.3ms preprocess, 403.3ms inference, 1.7ms postprocess per image at shape (1, 3, 384, 640)\n"
     ]
    }
   ],
   "source": [
    "# Get a list of all image filenames in the test directory\n",
    "test_images = glob(f'{test_data}/*.jpg')\n",
    "\n",
    "# Select 30 random image paths from the test data\n",
    "random_test_images = np.random.choice(test_images, size=30, replace=False)\n",
    "\n",
    "# Function to display images with predictions\n",
    "def plot_predictions(image_paths, model):\n",
    "    for img_path in image_paths:\n",
    "        # Perform inference\n",
    "        results = model(img_path)\n",
    "\n",
    "        # Display the results\n",
    "        results[0].show()\n",
    "\n",
    "# Plot predictions on the random test images\n",
    "plot_predictions(random_test_images, model)"
   ]
  },
  {
   "cell_type": "code",
   "execution_count": 8,
   "id": "6c5431b4-e7d9-4704-be18-da2cfba1bb62",
   "metadata": {},
   "outputs": [
    {
     "name": "stdout",
     "output_type": "stream",
     "text": [
      "Ultralytics 8.3.170  Python-3.12.6 torch-2.7.1+cpu CPU (Intel Core(TM) i5-10210U 1.60GHz)\n",
      "\n",
      "\u001b[34m\u001b[1mPyTorch:\u001b[0m starting from 'runs\\detect\\car_detection_modelv11\\weights\\best.pt' with input shape (1, 3, 640, 640) BCHW and output shape(s) (1, 5, 8400) (5.2 MB)\n",
      "\n",
      "\u001b[34m\u001b[1mTorchScript:\u001b[0m starting export with torch 2.7.1+cpu...\n",
      "\u001b[34m\u001b[1mTorchScript:\u001b[0m export success  5.4s, saved as 'runs\\detect\\car_detection_modelv11\\weights\\best.torchscript' (10.4 MB)\n",
      "\n",
      "Export complete (6.4s)\n",
      "Results saved to \u001b[1mC:\\Users\\ervin\\Documents\\img-assignment\\runs\\detect\\car_detection_modelv11\\weights\u001b[0m\n",
      "Predict:         yolo predict task=detect model=runs\\detect\\car_detection_modelv11\\weights\\best.torchscript imgsz=640  \n",
      "Validate:        yolo val task=detect model=runs\\detect\\car_detection_modelv11\\weights\\best.torchscript imgsz=640 data=./kaggle/working/data/data.yaml  \n",
      "Visualize:       https://netron.app\n"
     ]
    },
    {
     "data": {
      "text/plain": [
       "'runs\\\\detect\\\\car_detection_modelv11\\\\weights\\\\best.torchscript'"
      ]
     },
     "execution_count": 8,
     "metadata": {},
     "output_type": "execute_result"
    }
   ],
   "source": [
    "model.export()"
   ]
  }
 ],
 "metadata": {
  "kernelspec": {
   "display_name": "Python 3 (ipykernel)",
   "language": "python",
   "name": "python3"
  },
  "language_info": {
   "codemirror_mode": {
    "name": "ipython",
    "version": 3
   },
   "file_extension": ".py",
   "mimetype": "text/x-python",
   "name": "python",
   "nbconvert_exporter": "python",
   "pygments_lexer": "ipython3",
   "version": "3.12.6"
  }
 },
 "nbformat": 4,
 "nbformat_minor": 5
}
